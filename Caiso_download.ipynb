{
 "cells": [
  {
   "cell_type": "code",
   "execution_count": 2,
   "id": "149bec88-0f27-444b-a243-b65230e5ffd7",
   "metadata": {},
   "outputs": [
    {
     "name": "stderr",
     "output_type": "stream",
     "text": [
      "CAISO Parallel:   0%|                          | 4/1201 [00:00<03:05,  6.47it/s]"
     ]
    },
    {
     "name": "stdout",
     "output_type": "stream",
     "text": [
      "❌ Download error for 20220104: 429 Client Error: Too Many Requests for url: https://oasis.caiso.com/oasisapi/SingleZip?resultformat=6&queryname=PRC_LMP&version=12&market_run_id=DAM&startdatetime=20220104T08%3A00-0000&enddatetime=20220104T08%3A00-0000&grp_type=ALL❌ Download error for 20220106: 429 Client Error: Too Many Requests for url: https://oasis.caiso.com/oasisapi/SingleZip?resultformat=6&queryname=PRC_LMP&version=12&market_run_id=DAM&startdatetime=20220106T08%3A00-0000&enddatetime=20220106T08%3A00-0000&grp_type=ALL\n",
      "\n",
      "❌ Download error for 20220105: 429 Client Error: Too Many Requests for url: https://oasis.caiso.com/oasisapi/SingleZip?resultformat=6&queryname=PRC_LMP&version=12&market_run_id=DAM&startdatetime=20220105T08%3A00-0000&enddatetime=20220105T08%3A00-0000&grp_type=ALL\n",
      "❌ Download error for 20220102: 429 Client Error: Too Many Requests for url: https://oasis.caiso.com/oasisapi/GroupZip?groupid=DAM_LMP_GRP&startdatetime=20220102T08:00-0000&resultformat=6&version=12\n"
     ]
    },
    {
     "name": "stderr",
     "output_type": "stream",
     "text": [
      "CAISO Parallel:   1%|▏                         | 8/1201 [00:01<02:54,  6.83it/s]"
     ]
    },
    {
     "name": "stdout",
     "output_type": "stream",
     "text": [
      "❌ Download error for 20220108: 429 Client Error: Too Many Requests for url: https://oasis.caiso.com/oasisapi/SingleZip?resultformat=6&queryname=PRC_LMP&version=12&market_run_id=DAM&startdatetime=20220108T08%3A00-0000&enddatetime=20220108T08%3A00-0000&grp_type=ALL❌ Download error for 20220107: 429 Client Error: Too Many Requests for url: https://oasis.caiso.com/oasisapi/SingleZip?resultformat=6&queryname=PRC_LMP&version=12&market_run_id=DAM&startdatetime=20220107T08%3A00-0000&enddatetime=20220107T08%3A00-0000&grp_type=ALL\n",
      "❌ Download error for 20220109: 429 Client Error: Too Many Requests for url: https://oasis.caiso.com/oasisapi/SingleZip?resultformat=6&queryname=PRC_LMP&version=12&market_run_id=DAM&startdatetime=20220109T08%3A00-0000&enddatetime=20220109T08%3A00-0000&grp_type=ALL\n",
      "\n",
      "❌ Download error for 20220110: 429 Client Error: Too Many Requests for url: https://oasis.caiso.com/oasisapi/SingleZip?resultformat=6&queryname=PRC_LMP&version=12&market_run_id=DAM&startdatetime=20220110T08%3A00-0000&enddatetime=20220110T08%3A00-0000&grp_type=ALL\n"
     ]
    },
    {
     "name": "stderr",
     "output_type": "stream",
     "text": [
      "CAISO Parallel:   1%|▏                        | 12/1201 [00:02<02:50,  6.97it/s]"
     ]
    },
    {
     "name": "stdout",
     "output_type": "stream",
     "text": [
      "❌ Download error for 20220113: 429 Client Error: Too Many Requests for url: https://oasis.caiso.com/oasisapi/SingleZip?resultformat=6&queryname=PRC_LMP&version=12&market_run_id=DAM&startdatetime=20220113T08%3A00-0000&enddatetime=20220113T08%3A00-0000&grp_type=ALL\n",
      "❌ Download error for 20220111: 429 Client Error: Too Many Requests for url: https://oasis.caiso.com/oasisapi/SingleZip?resultformat=6&queryname=PRC_LMP&version=12&market_run_id=DAM&startdatetime=20220111T08%3A00-0000&enddatetime=20220111T08%3A00-0000&grp_type=ALL\n",
      "❌ Download error for 20220112: 429 Client Error: Too Many Requests for url: https://oasis.caiso.com/oasisapi/SingleZip?resultformat=6&queryname=PRC_LMP&version=12&market_run_id=DAM&startdatetime=20220112T08%3A00-0000&enddatetime=20220112T08%3A00-0000&grp_type=ALL\n",
      "❌ Download error for 20220114: 429 Client Error: Too Many Requests for url: https://oasis.caiso.com/oasisapi/SingleZip?resultformat=6&queryname=PRC_LMP&version=12&market_run_id=DAM&startdatetime=20220114T08%3A00-0000&enddatetime=20220114T08%3A00-0000&grp_type=ALL\n"
     ]
    },
    {
     "name": "stderr",
     "output_type": "stream",
     "text": [
      "CAISO Parallel:   1%|▎                        | 16/1201 [00:02<02:49,  7.00it/s]"
     ]
    },
    {
     "name": "stdout",
     "output_type": "stream",
     "text": [
      "❌ Download error for 20220116: 429 Client Error: Too Many Requests for url: https://oasis.caiso.com/oasisapi/SingleZip?resultformat=6&queryname=PRC_LMP&version=12&market_run_id=DAM&startdatetime=20220116T08%3A00-0000&enddatetime=20220116T08%3A00-0000&grp_type=ALL❌ Download error for 20220115: 429 Client Error: Too Many Requests for url: https://oasis.caiso.com/oasisapi/SingleZip?resultformat=6&queryname=PRC_LMP&version=12&market_run_id=DAM&startdatetime=20220115T08%3A00-0000&enddatetime=20220115T08%3A00-0000&grp_type=ALL\n",
      "\n",
      "❌ Download error for 20220117: 429 Client Error: Too Many Requests for url: https://oasis.caiso.com/oasisapi/SingleZip?resultformat=6&queryname=PRC_LMP&version=12&market_run_id=DAM&startdatetime=20220117T08%3A00-0000&enddatetime=20220117T08%3A00-0000&grp_type=ALL\n",
      "❌ Download error for 20220118: 429 Client Error: Too Many Requests for url: https://oasis.caiso.com/oasisapi/SingleZip?resultformat=6&queryname=PRC_LMP&version=12&market_run_id=DAM&startdatetime=20220118T08%3A00-0000&enddatetime=20220118T08%3A00-0000&grp_type=ALL\n"
     ]
    },
    {
     "name": "stderr",
     "output_type": "stream",
     "text": [
      "CAISO Parallel:   2%|▍                        | 20/1201 [00:03<02:46,  7.09it/s]"
     ]
    },
    {
     "name": "stdout",
     "output_type": "stream",
     "text": [
      "❌ Download error for 20220120: 429 Client Error: Too Many Requests for url: https://oasis.caiso.com/oasisapi/SingleZip?resultformat=6&queryname=PRC_LMP&version=12&market_run_id=DAM&startdatetime=20220120T08%3A00-0000&enddatetime=20220120T08%3A00-0000&grp_type=ALL\n",
      "❌ Download error for 20220121: 429 Client Error: Too Many Requests for url: https://oasis.caiso.com/oasisapi/SingleZip?resultformat=6&queryname=PRC_LMP&version=12&market_run_id=DAM&startdatetime=20220121T08%3A00-0000&enddatetime=20220121T08%3A00-0000&grp_type=ALL\n",
      "❌ Download error for 20220119: 429 Client Error: Too Many Requests for url: https://oasis.caiso.com/oasisapi/SingleZip?resultformat=6&queryname=PRC_LMP&version=12&market_run_id=DAM&startdatetime=20220119T08%3A00-0000&enddatetime=20220119T08%3A00-0000&grp_type=ALL\n",
      "❌ Download error for 20220122: 429 Client Error: Too Many Requests for url: https://oasis.caiso.com/oasisapi/SingleZip?resultformat=6&queryname=PRC_LMP&version=12&market_run_id=DAM&startdatetime=20220122T08%3A00-0000&enddatetime=20220122T08%3A00-0000&grp_type=ALL\n"
     ]
    },
    {
     "name": "stderr",
     "output_type": "stream",
     "text": [
      "CAISO Parallel:   2%|▍                        | 24/1201 [00:03<02:44,  7.14it/s]"
     ]
    },
    {
     "name": "stdout",
     "output_type": "stream",
     "text": [
      "❌ Download error for 20220124: 429 Client Error: Too Many Requests for url: https://oasis.caiso.com/oasisapi/SingleZip?resultformat=6&queryname=PRC_LMP&version=12&market_run_id=DAM&startdatetime=20220124T08%3A00-0000&enddatetime=20220124T08%3A00-0000&grp_type=ALL\n",
      "❌ Download error for 20220123: 429 Client Error: Too Many Requests for url: https://oasis.caiso.com/oasisapi/SingleZip?resultformat=6&queryname=PRC_LMP&version=12&market_run_id=DAM&startdatetime=20220123T08%3A00-0000&enddatetime=20220123T08%3A00-0000&grp_type=ALL\n",
      "❌ Download error for 20220125: 429 Client Error: Too Many Requests for url: https://oasis.caiso.com/oasisapi/SingleZip?resultformat=6&queryname=PRC_LMP&version=12&market_run_id=DAM&startdatetime=20220125T08%3A00-0000&enddatetime=20220125T08%3A00-0000&grp_type=ALL\n",
      "❌ Download error for 20220126: 429 Client Error: Too Many Requests for url: https://oasis.caiso.com/oasisapi/SingleZip?resultformat=6&queryname=PRC_LMP&version=12&market_run_id=DAM&startdatetime=20220126T08%3A00-0000&enddatetime=20220126T08%3A00-0000&grp_type=ALL\n"
     ]
    },
    {
     "name": "stderr",
     "output_type": "stream",
     "text": [
      "CAISO Parallel:   2%|▌                        | 28/1201 [00:04<02:44,  7.14it/s]"
     ]
    },
    {
     "name": "stdout",
     "output_type": "stream",
     "text": [
      "❌ Download error for 20220127: 429 Client Error: Too Many Requests for url: https://oasis.caiso.com/oasisapi/SingleZip?resultformat=6&queryname=PRC_LMP&version=12&market_run_id=DAM&startdatetime=20220127T08%3A00-0000&enddatetime=20220127T08%3A00-0000&grp_type=ALL❌ Download error for 20220129: 429 Client Error: Too Many Requests for url: https://oasis.caiso.com/oasisapi/SingleZip?resultformat=6&queryname=PRC_LMP&version=12&market_run_id=DAM&startdatetime=20220129T08%3A00-0000&enddatetime=20220129T08%3A00-0000&grp_type=ALL\n",
      "\n",
      "❌ Download error for 20220128: 429 Client Error: Too Many Requests for url: https://oasis.caiso.com/oasisapi/SingleZip?resultformat=6&queryname=PRC_LMP&version=12&market_run_id=DAM&startdatetime=20220128T08%3A00-0000&enddatetime=20220128T08%3A00-0000&grp_type=ALL\n",
      "❌ Download error for 20220130: 429 Client Error: Too Many Requests for url: https://oasis.caiso.com/oasisapi/SingleZip?resultformat=6&queryname=PRC_LMP&version=12&market_run_id=DAM&startdatetime=20220130T08%3A00-0000&enddatetime=20220130T08%3A00-0000&grp_type=ALL\n"
     ]
    },
    {
     "name": "stderr",
     "output_type": "stream",
     "text": [
      "CAISO Parallel:   2%|▌                        | 30/1201 [00:05<03:29,  5.59it/s]"
     ]
    },
    {
     "name": "stdout",
     "output_type": "stream",
     "text": [
      "❌ Download error for 20220131: 429 Client Error: Too Many Requests for url: https://oasis.caiso.com/oasisapi/SingleZip?resultformat=6&queryname=PRC_LMP&version=12&market_run_id=DAM&startdatetime=20220131T08%3A00-0000&enddatetime=20220131T08%3A00-0000&grp_type=ALL❌ Download error for 20220201: 429 Client Error: Too Many Requests for url: https://oasis.caiso.com/oasisapi/SingleZip?resultformat=6&queryname=PRC_LMP&version=12&market_run_id=DAM&startdatetime=20220201T08%3A00-0000&enddatetime=20220201T08%3A00-0000&grp_type=ALL\n",
      "\n",
      "❌ Download error for 20220202: 429 Client Error: Too Many Requests for url: https://oasis.caiso.com/oasisapi/SingleZip?resultformat=6&queryname=PRC_LMP&version=12&market_run_id=DAM&startdatetime=20220202T08%3A00-0000&enddatetime=20220202T08%3A00-0000&grp_type=ALL\n",
      "❌ Download error for 20220203: 429 Client Error: Too Many Requests for url: https://oasis.caiso.com/oasisapi/SingleZip?resultformat=6&queryname=PRC_LMP&version=12&market_run_id=DAM&startdatetime=20220203T08%3A00-0000&enddatetime=20220203T08%3A00-0000&grp_type=ALL\n"
     ]
    },
    {
     "name": "stderr",
     "output_type": "stream",
     "text": [
      "CAISO Parallel:   3%|▋                        | 33/1201 [00:05<03:45,  5.18it/s]"
     ]
    },
    {
     "name": "stdout",
     "output_type": "stream",
     "text": [
      "❌ Download error for 20220204: 429 Client Error: Too Many Requests for url: https://oasis.caiso.com/oasisapi/SingleZip?resultformat=6&queryname=PRC_LMP&version=12&market_run_id=DAM&startdatetime=20220204T08%3A00-0000&enddatetime=20220204T08%3A00-0000&grp_type=ALL❌ Download error for 20220206: 429 Client Error: Too Many Requests for url: https://oasis.caiso.com/oasisapi/SingleZip?resultformat=6&queryname=PRC_LMP&version=12&market_run_id=DAM&startdatetime=20220206T08%3A00-0000&enddatetime=20220206T08%3A00-0000&grp_type=ALL\n",
      "\n",
      "❌ Download error for 20220205: 429 Client Error: Too Many Requests for url: https://oasis.caiso.com/oasisapi/SingleZip?resultformat=6&queryname=PRC_LMP&version=12&market_run_id=DAM&startdatetime=20220205T08%3A00-0000&enddatetime=20220205T08%3A00-0000&grp_type=ALL\n",
      "❌ Download error for 20220207: 429 Client Error: Too Many Requests for url: https://oasis.caiso.com/oasisapi/SingleZip?resultformat=6&queryname=PRC_LMP&version=12&market_run_id=DAM&startdatetime=20220207T08%3A00-0000&enddatetime=20220207T08%3A00-0000&grp_type=ALL\n"
     ]
    },
    {
     "name": "stderr",
     "output_type": "stream",
     "text": [
      "CAISO Parallel:   3%|▊                        | 39/1201 [00:06<02:54,  6.64it/s]"
     ]
    },
    {
     "name": "stdout",
     "output_type": "stream",
     "text": [
      "❌ Download error for 20220208: 429 Client Error: Too Many Requests for url: https://oasis.caiso.com/oasisapi/SingleZip?resultformat=6&queryname=PRC_LMP&version=12&market_run_id=DAM&startdatetime=20220208T08%3A00-0000&enddatetime=20220208T08%3A00-0000&grp_type=ALL\n",
      "❌ Download error for 20220211: 429 Client Error: Too Many Requests for url: https://oasis.caiso.com/oasisapi/SingleZip?resultformat=6&queryname=PRC_LMP&version=12&market_run_id=DAM&startdatetime=20220211T08%3A00-0000&enddatetime=20220211T08%3A00-0000&grp_type=ALL\n",
      "❌ Download error for 20220209: 429 Client Error: Too Many Requests for url: https://oasis.caiso.com/oasisapi/GroupZip?groupid=DAM_LMP_GRP&startdatetime=20220209T08:00-0000&resultformat=6&version=12\n"
     ]
    },
    {
     "name": "stderr",
     "output_type": "stream",
     "text": [
      "CAISO Parallel:   3%|▊                        | 41/1201 [00:07<03:37,  5.34it/s]"
     ]
    },
    {
     "name": "stdout",
     "output_type": "stream",
     "text": [
      "❌ Download error for 20220212: 429 Client Error: Too Many Requests for url: https://oasis.caiso.com/oasisapi/SingleZip?resultformat=6&queryname=PRC_LMP&version=12&market_run_id=DAM&startdatetime=20220212T08%3A00-0000&enddatetime=20220212T08%3A00-0000&grp_type=ALL\n",
      "❌ Download error for 20220213: 429 Client Error: Too Many Requests for url: https://oasis.caiso.com/oasisapi/SingleZip?resultformat=6&queryname=PRC_LMP&version=12&market_run_id=DAM&startdatetime=20220213T08%3A00-0000&enddatetime=20220213T08%3A00-0000&grp_type=ALL\n",
      "❌ Download error for 20220214: 429 Client Error: Too Many Requests for url: https://oasis.caiso.com/oasisapi/SingleZip?resultformat=6&queryname=PRC_LMP&version=12&market_run_id=DAM&startdatetime=20220214T08%3A00-0000&enddatetime=20220214T08%3A00-0000&grp_type=ALL\n"
     ]
    },
    {
     "name": "stderr",
     "output_type": "stream",
     "text": [
      "CAISO Parallel:   4%|▉                        | 46/1201 [00:07<02:59,  6.42it/s]"
     ]
    },
    {
     "name": "stdout",
     "output_type": "stream",
     "text": [
      "❌ Download error for 20220215: 429 Client Error: Too Many Requests for url: https://oasis.caiso.com/oasisapi/SingleZip?resultformat=6&queryname=PRC_LMP&version=12&market_run_id=DAM&startdatetime=20220215T08%3A00-0000&enddatetime=20220215T08%3A00-0000&grp_type=ALL\n",
      "❌ Download error for 20220216: 429 Client Error: Too Many Requests for url: https://oasis.caiso.com/oasisapi/SingleZip?resultformat=6&queryname=PRC_LMP&version=12&market_run_id=DAM&startdatetime=20220216T08%3A00-0000&enddatetime=20220216T08%3A00-0000&grp_type=ALL\n",
      "❌ Download error for 20220218: 429 Client Error: Too Many Requests for url: https://oasis.caiso.com/oasisapi/SingleZip?resultformat=6&queryname=PRC_LMP&version=12&market_run_id=DAM&startdatetime=20220218T08%3A00-0000&enddatetime=20220218T08%3A00-0000&grp_type=ALL\n",
      "❌ Download error for 20220217: 429 Client Error: Too Many Requests for url: https://oasis.caiso.com/oasisapi/SingleZip?resultformat=6&queryname=PRC_LMP&version=12&market_run_id=DAM&startdatetime=20220217T08%3A00-0000&enddatetime=20220217T08%3A00-0000&grp_type=ALL\n"
     ]
    },
    {
     "name": "stderr",
     "output_type": "stream",
     "text": [
      "CAISO Parallel:   4%|█                        | 51/1201 [00:08<02:30,  7.66it/s]"
     ]
    },
    {
     "name": "stdout",
     "output_type": "stream",
     "text": [
      "❌ Download error for 20220219: 429 Client Error: Too Many Requests for url: https://oasis.caiso.com/oasisapi/SingleZip?resultformat=6&queryname=PRC_LMP&version=12&market_run_id=DAM&startdatetime=20220219T08%3A00-0000&enddatetime=20220219T08%3A00-0000&grp_type=ALL\n",
      "❌ Download error for 20220220: 429 Client Error: Too Many Requests for url: https://oasis.caiso.com/oasisapi/SingleZip?resultformat=6&queryname=PRC_LMP&version=12&market_run_id=DAM&startdatetime=20220220T08%3A00-0000&enddatetime=20220220T08%3A00-0000&grp_type=ALL\n",
      "❌ Download error for 20220221: 429 Client Error: Too Many Requests for url: https://oasis.caiso.com/oasisapi/SingleZip?resultformat=6&queryname=PRC_LMP&version=12&market_run_id=DAM&startdatetime=20220221T08%3A00-0000&enddatetime=20220221T08%3A00-0000&grp_type=ALL\n",
      "❌ Download error for 20220222: 429 Client Error: Too Many Requests for url: https://oasis.caiso.com/oasisapi/SingleZip?resultformat=6&queryname=PRC_LMP&version=12&market_run_id=DAM&startdatetime=20220222T08%3A00-0000&enddatetime=20220222T08%3A00-0000&grp_type=ALL\n"
     ]
    },
    {
     "name": "stderr",
     "output_type": "stream",
     "text": [
      "CAISO Parallel:   4%|█                        | 54/1201 [00:08<02:48,  6.81it/s]"
     ]
    },
    {
     "name": "stdout",
     "output_type": "stream",
     "text": [
      "❌ Download error for 20220223: 429 Client Error: Too Many Requests for url: https://oasis.caiso.com/oasisapi/SingleZip?resultformat=6&queryname=PRC_LMP&version=12&market_run_id=DAM&startdatetime=20220223T08%3A00-0000&enddatetime=20220223T08%3A00-0000&grp_type=ALL\n",
      "❌ Download error for 20220224: 429 Client Error: Too Many Requests for url: https://oasis.caiso.com/oasisapi/SingleZip?resultformat=6&queryname=PRC_LMP&version=12&market_run_id=DAM&startdatetime=20220224T08%3A00-0000&enddatetime=20220224T08%3A00-0000&grp_type=ALL\n"
     ]
    },
    {
     "name": "stderr",
     "output_type": "stream",
     "text": [
      "CAISO Parallel:   5%|█▏                       | 56/1201 [00:09<02:15,  8.44it/s]"
     ]
    },
    {
     "name": "stdout",
     "output_type": "stream",
     "text": [
      "❌ Download error for 20220225: 429 Client Error: Too Many Requests for url: https://oasis.caiso.com/oasisapi/SingleZip?resultformat=6&queryname=PRC_LMP&version=12&market_run_id=DAM&startdatetime=20220225T08%3A00-0000&enddatetime=20220225T08%3A00-0000&grp_type=ALL\n",
      "❌ Download error for 20220227: 429 Client Error: Too Many Requests for url: https://oasis.caiso.com/oasisapi/SingleZip?resultformat=6&queryname=PRC_LMP&version=12&market_run_id=DAM&startdatetime=20220227T08%3A00-0000&enddatetime=20220227T08%3A00-0000&grp_type=ALL\n",
      "❌ Download error for 20220226: 429 Client Error: Too Many Requests for url: https://oasis.caiso.com/oasisapi/SingleZip?resultformat=6&queryname=PRC_LMP&version=12&market_run_id=DAM&startdatetime=20220226T08%3A00-0000&enddatetime=20220226T08%3A00-0000&grp_type=ALL\n"
     ]
    },
    {
     "name": "stderr",
     "output_type": "stream",
     "text": [
      "CAISO Parallel:   5%|█▏                       | 59/1201 [00:09<02:39,  7.17it/s]"
     ]
    },
    {
     "name": "stdout",
     "output_type": "stream",
     "text": [
      "❌ Download error for 20220228: 429 Client Error: Too Many Requests for url: https://oasis.caiso.com/oasisapi/SingleZip?resultformat=6&queryname=PRC_LMP&version=12&market_run_id=DAM&startdatetime=20220228T08%3A00-0000&enddatetime=20220228T08%3A00-0000&grp_type=ALL\n",
      "❌ Download error for 20220301: 429 Client Error: Too Many Requests for url: https://oasis.caiso.com/oasisapi/SingleZip?resultformat=6&queryname=PRC_LMP&version=12&market_run_id=DAM&startdatetime=20220301T08%3A00-0000&enddatetime=20220301T08%3A00-0000&grp_type=ALL\n"
     ]
    },
    {
     "name": "stderr",
     "output_type": "stream",
     "text": [
      "CAISO Parallel:   5%|█▎                       | 61/1201 [00:09<02:10,  8.72it/s]"
     ]
    },
    {
     "name": "stdout",
     "output_type": "stream",
     "text": [
      "❌ Download error for 20220302: 429 Client Error: Too Many Requests for url: https://oasis.caiso.com/oasisapi/SingleZip?resultformat=6&queryname=PRC_LMP&version=12&market_run_id=DAM&startdatetime=20220302T08%3A00-0000&enddatetime=20220302T08%3A00-0000&grp_type=ALL\n",
      "❌ Download error for 20220303: 429 Client Error: Too Many Requests for url: https://oasis.caiso.com/oasisapi/SingleZip?resultformat=6&queryname=PRC_LMP&version=12&market_run_id=DAM&startdatetime=20220303T08%3A00-0000&enddatetime=20220303T08%3A00-0000&grp_type=ALL\n",
      "❌ Download error for 20220304: 429 Client Error: Too Many Requests for url: https://oasis.caiso.com/oasisapi/SingleZip?resultformat=6&queryname=PRC_LMP&version=12&market_run_id=DAM&startdatetime=20220304T08%3A00-0000&enddatetime=20220304T08%3A00-0000&grp_type=ALL\n"
     ]
    },
    {
     "name": "stderr",
     "output_type": "stream",
     "text": [
      "CAISO Parallel:   5%|█▎                       | 64/1201 [00:10<02:36,  7.26it/s]"
     ]
    },
    {
     "name": "stdout",
     "output_type": "stream",
     "text": [
      "❌ Download error for 20220305: 429 Client Error: Too Many Requests for url: https://oasis.caiso.com/oasisapi/SingleZip?resultformat=6&queryname=PRC_LMP&version=12&market_run_id=DAM&startdatetime=20220305T08%3A00-0000&enddatetime=20220305T08%3A00-0000&grp_type=ALL\n",
      "❌ Download error for 20220306: 429 Client Error: Too Many Requests for url: https://oasis.caiso.com/oasisapi/SingleZip?resultformat=6&queryname=PRC_LMP&version=12&market_run_id=DAM&startdatetime=20220306T08%3A00-0000&enddatetime=20220306T08%3A00-0000&grp_type=ALL\n"
     ]
    },
    {
     "name": "stderr",
     "output_type": "stream",
     "text": [
      "CAISO Parallel:   5%|█▎                       | 66/1201 [00:10<02:07,  8.89it/s]"
     ]
    },
    {
     "name": "stdout",
     "output_type": "stream",
     "text": [
      "❌ Download error for 20220307: 429 Client Error: Too Many Requests for url: https://oasis.caiso.com/oasisapi/SingleZip?resultformat=6&queryname=PRC_LMP&version=12&market_run_id=DAM&startdatetime=20220307T08%3A00-0000&enddatetime=20220307T08%3A00-0000&grp_type=ALL\n",
      "❌ Download error for 20220309: 429 Client Error: Too Many Requests for url: https://oasis.caiso.com/oasisapi/SingleZip?resultformat=6&queryname=PRC_LMP&version=12&market_run_id=DAM&startdatetime=20220309T08%3A00-0000&enddatetime=20220309T08%3A00-0000&grp_type=ALL\n",
      "❌ Download error for 20220308: 429 Client Error: Too Many Requests for url: https://oasis.caiso.com/oasisapi/SingleZip?resultformat=6&queryname=PRC_LMP&version=12&market_run_id=DAM&startdatetime=20220308T08%3A00-0000&enddatetime=20220308T08%3A00-0000&grp_type=ALL\n"
     ]
    },
    {
     "name": "stderr",
     "output_type": "stream",
     "text": [
      "CAISO Parallel:   6%|█▍                       | 69/1201 [00:10<02:35,  7.29it/s]"
     ]
    },
    {
     "name": "stdout",
     "output_type": "stream",
     "text": [
      "❌ Download error for 20220310: 429 Client Error: Too Many Requests for url: https://oasis.caiso.com/oasisapi/SingleZip?resultformat=6&queryname=PRC_LMP&version=12&market_run_id=DAM&startdatetime=20220310T08%3A00-0000&enddatetime=20220310T08%3A00-0000&grp_type=ALL\n",
      "❌ Download error for 20220311: 429 Client Error: Too Many Requests for url: https://oasis.caiso.com/oasisapi/SingleZip?resultformat=6&queryname=PRC_LMP&version=12&market_run_id=DAM&startdatetime=20220311T08%3A00-0000&enddatetime=20220311T08%3A00-0000&grp_type=ALL\n"
     ]
    },
    {
     "name": "stderr",
     "output_type": "stream",
     "text": [
      "CAISO Parallel:   6%|█▍                       | 71/1201 [00:10<02:08,  8.79it/s]"
     ]
    },
    {
     "name": "stdout",
     "output_type": "stream",
     "text": [
      "❌ Download error for 20220312: 429 Client Error: Too Many Requests for url: https://oasis.caiso.com/oasisapi/SingleZip?resultformat=6&queryname=PRC_LMP&version=12&market_run_id=DAM&startdatetime=20220312T08%3A00-0000&enddatetime=20220312T08%3A00-0000&grp_type=ALL\n",
      "❌ Download error for 20220313: 429 Client Error: Too Many Requests for url: https://oasis.caiso.com/oasisapi/SingleZip?resultformat=6&queryname=PRC_LMP&version=12&market_run_id=DAM&startdatetime=20220313T08%3A00-0000&enddatetime=20220313T08%3A00-0000&grp_type=ALL\n",
      "❌ Download error for 20220314: 429 Client Error: Too Many Requests for url: https://oasis.caiso.com/oasisapi/SingleZip?resultformat=6&queryname=PRC_LMP&version=12&market_run_id=DAM&startdatetime=20220314T08%3A00-0000&enddatetime=20220314T08%3A00-0000&grp_type=ALL\n"
     ]
    },
    {
     "name": "stderr",
     "output_type": "stream",
     "text": [
      "CAISO Parallel:   6%|█▌                       | 74/1201 [00:11<02:34,  7.28it/s]"
     ]
    },
    {
     "name": "stdout",
     "output_type": "stream",
     "text": [
      "❌ Download error for 20220315: 429 Client Error: Too Many Requests for url: https://oasis.caiso.com/oasisapi/SingleZip?resultformat=6&queryname=PRC_LMP&version=12&market_run_id=DAM&startdatetime=20220315T08%3A00-0000&enddatetime=20220315T08%3A00-0000&grp_type=ALL\n",
      "❌ Download error for 20220316: 429 Client Error: Too Many Requests for url: https://oasis.caiso.com/oasisapi/SingleZip?resultformat=6&queryname=PRC_LMP&version=12&market_run_id=DAM&startdatetime=20220316T08%3A00-0000&enddatetime=20220316T08%3A00-0000&grp_type=ALL\n"
     ]
    },
    {
     "name": "stderr",
     "output_type": "stream",
     "text": [
      "CAISO Parallel:   6%|█▌                       | 76/1201 [00:11<02:07,  8.83it/s]"
     ]
    },
    {
     "name": "stdout",
     "output_type": "stream",
     "text": [
      "❌ Download error for 20220317: 429 Client Error: Too Many Requests for url: https://oasis.caiso.com/oasisapi/SingleZip?resultformat=6&queryname=PRC_LMP&version=12&market_run_id=DAM&startdatetime=20220317T08%3A00-0000&enddatetime=20220317T08%3A00-0000&grp_type=ALL\n",
      "❌ Download error for 20220319: 429 Client Error: Too Many Requests for url: https://oasis.caiso.com/oasisapi/SingleZip?resultformat=6&queryname=PRC_LMP&version=12&market_run_id=DAM&startdatetime=20220319T08%3A00-0000&enddatetime=20220319T08%3A00-0000&grp_type=ALL\n",
      "❌ Download error for 20220318: 429 Client Error: Too Many Requests for url: https://oasis.caiso.com/oasisapi/SingleZip?resultformat=6&queryname=PRC_LMP&version=12&market_run_id=DAM&startdatetime=20220318T08%3A00-0000&enddatetime=20220318T08%3A00-0000&grp_type=ALL\n"
     ]
    },
    {
     "name": "stderr",
     "output_type": "stream",
     "text": [
      "CAISO Parallel:   6%|█▌                       | 78/1201 [00:11<02:25,  7.70it/s]"
     ]
    },
    {
     "name": "stdout",
     "output_type": "stream",
     "text": [
      "❌ Download error for 20220320: 429 Client Error: Too Many Requests for url: https://oasis.caiso.com/oasisapi/SingleZip?resultformat=6&queryname=PRC_LMP&version=12&market_run_id=DAM&startdatetime=20220320T08%3A00-0000&enddatetime=20220320T08%3A00-0000&grp_type=ALL\n"
     ]
    },
    {
     "name": "stderr",
     "output_type": "stream",
     "text": [
      "CAISO Parallel:   7%|█▋                       | 79/1201 [00:12<02:47,  6.68it/s]"
     ]
    },
    {
     "name": "stdout",
     "output_type": "stream",
     "text": [
      "❌ Download error for 20220322: 429 Client Error: Too Many Requests for url: https://oasis.caiso.com/oasisapi/SingleZip?resultformat=6&queryname=PRC_LMP&version=12&market_run_id=DAM&startdatetime=20220322T08%3A00-0000&enddatetime=20220322T08%3A00-0000&grp_type=ALL\n",
      "❌ Download error for 20220323: 429 Client Error: Too Many Requests for url: https://oasis.caiso.com/oasisapi/SingleZip?resultformat=6&queryname=PRC_LMP&version=12&market_run_id=DAM&startdatetime=20220323T08%3A00-0000&enddatetime=20220323T08%3A00-0000&grp_type=ALL\n",
      "❌ Download error for 20220324: 429 Client Error: Too Many Requests for url: https://oasis.caiso.com/oasisapi/SingleZip?resultformat=6&queryname=PRC_LMP&version=12&market_run_id=DAM&startdatetime=20220324T08%3A00-0000&enddatetime=20220324T08%3A00-0000&grp_type=ALL\n"
     ]
    },
    {
     "name": "stderr",
     "output_type": "stream",
     "text": [
      "CAISO Parallel:   7%|█▋                       | 82/1201 [00:12<02:38,  7.04it/s]"
     ]
    },
    {
     "name": "stdout",
     "output_type": "stream",
     "text": [
      "❌ Download error for 20220325: 429 Client Error: Too Many Requests for url: https://oasis.caiso.com/oasisapi/SingleZip?resultformat=6&queryname=PRC_LMP&version=12&market_run_id=DAM&startdatetime=20220325T08%3A00-0000&enddatetime=20220325T08%3A00-0000&grp_type=ALL\n"
     ]
    },
    {
     "name": "stderr",
     "output_type": "stream",
     "text": [
      "CAISO Parallel:   7%|█▋                       | 84/1201 [00:12<02:43,  6.81it/s]"
     ]
    },
    {
     "name": "stdout",
     "output_type": "stream",
     "text": [
      "❌ Download error for 20220326: 429 Client Error: Too Many Requests for url: https://oasis.caiso.com/oasisapi/SingleZip?resultformat=6&queryname=PRC_LMP&version=12&market_run_id=DAM&startdatetime=20220326T08%3A00-0000&enddatetime=20220326T08%3A00-0000&grp_type=ALL\n",
      "❌ Download error for 20220328: 429 Client Error: Too Many Requests for url: https://oasis.caiso.com/oasisapi/SingleZip?resultformat=6&queryname=PRC_LMP&version=12&market_run_id=DAM&startdatetime=20220328T08%3A00-0000&enddatetime=20220328T08%3A00-0000&grp_type=ALL\n",
      "❌ Download error for 20220327: 429 Client Error: Too Many Requests for url: https://oasis.caiso.com/oasisapi/SingleZip?resultformat=6&queryname=PRC_LMP&version=12&market_run_id=DAM&startdatetime=20220327T08%3A00-0000&enddatetime=20220327T08%3A00-0000&grp_type=ALL\n"
     ]
    },
    {
     "name": "stderr",
     "output_type": "stream",
     "text": [
      "CAISO Parallel:   7%|█▊                       | 86/1201 [00:13<02:46,  6.68it/s]"
     ]
    },
    {
     "name": "stdout",
     "output_type": "stream",
     "text": [
      "❌ Download error for 20220329: 429 Client Error: Too Many Requests for url: https://oasis.caiso.com/oasisapi/SingleZip?resultformat=6&queryname=PRC_LMP&version=12&market_run_id=DAM&startdatetime=20220329T08%3A00-0000&enddatetime=20220329T08%3A00-0000&grp_type=ALL\n"
     ]
    },
    {
     "name": "stderr",
     "output_type": "stream",
     "text": [
      "CAISO Parallel:   7%|█▊                       | 88/1201 [00:13<02:49,  6.55it/s]"
     ]
    },
    {
     "name": "stdout",
     "output_type": "stream",
     "text": [
      "❌ Download error for 20220330: 429 Client Error: Too Many Requests for url: https://oasis.caiso.com/oasisapi/SingleZip?resultformat=6&queryname=PRC_LMP&version=12&market_run_id=DAM&startdatetime=20220330T08%3A00-0000&enddatetime=20220330T08%3A00-0000&grp_type=ALL\n",
      "❌ Download error for 20220401: 429 Client Error: Too Many Requests for url: https://oasis.caiso.com/oasisapi/SingleZip?resultformat=6&queryname=PRC_LMP&version=12&market_run_id=DAM&startdatetime=20220401T08%3A00-0000&enddatetime=20220401T08%3A00-0000&grp_type=ALL\n",
      "❌ Download error for 20220331: 429 Client Error: Too Many Requests for url: https://oasis.caiso.com/oasisapi/SingleZip?resultformat=6&queryname=PRC_LMP&version=12&market_run_id=DAM&startdatetime=20220331T08%3A00-0000&enddatetime=20220331T08%3A00-0000&grp_type=ALL\n"
     ]
    },
    {
     "name": "stderr",
     "output_type": "stream",
     "text": [
      "CAISO Parallel:   7%|█▊                       | 90/1201 [00:13<02:50,  6.53it/s]"
     ]
    },
    {
     "name": "stdout",
     "output_type": "stream",
     "text": [
      "❌ Download error for 20220402: 429 Client Error: Too Many Requests for url: https://oasis.caiso.com/oasisapi/SingleZip?resultformat=6&queryname=PRC_LMP&version=12&market_run_id=DAM&startdatetime=20220402T08%3A00-0000&enddatetime=20220402T08%3A00-0000&grp_type=ALL\n"
     ]
    },
    {
     "name": "stderr",
     "output_type": "stream",
     "text": [
      "CAISO Parallel:   8%|█▉                       | 92/1201 [00:14<02:51,  6.47it/s]"
     ]
    },
    {
     "name": "stdout",
     "output_type": "stream",
     "text": [
      "❌ Download error for 20220403: 429 Client Error: Too Many Requests for url: https://oasis.caiso.com/oasisapi/SingleZip?resultformat=6&queryname=PRC_LMP&version=12&market_run_id=DAM&startdatetime=20220403T08%3A00-0000&enddatetime=20220403T08%3A00-0000&grp_type=ALL\n",
      "❌ Download error for 20220404: 429 Client Error: Too Many Requests for url: https://oasis.caiso.com/oasisapi/SingleZip?resultformat=6&queryname=PRC_LMP&version=12&market_run_id=DAM&startdatetime=20220404T08%3A00-0000&enddatetime=20220404T08%3A00-0000&grp_type=ALL\n",
      "❌ Download error for 20220405: 429 Client Error: Too Many Requests for url: https://oasis.caiso.com/oasisapi/SingleZip?resultformat=6&queryname=PRC_LMP&version=12&market_run_id=DAM&startdatetime=20220405T08%3A00-0000&enddatetime=20220405T08%3A00-0000&grp_type=ALL\n"
     ]
    },
    {
     "name": "stderr",
     "output_type": "stream",
     "text": [
      "CAISO Parallel:   8%|█▉                       | 94/1201 [00:14<02:51,  6.47it/s]"
     ]
    },
    {
     "name": "stdout",
     "output_type": "stream",
     "text": [
      "❌ Download error for 20220406: 429 Client Error: Too Many Requests for url: https://oasis.caiso.com/oasisapi/SingleZip?resultformat=6&queryname=PRC_LMP&version=12&market_run_id=DAM&startdatetime=20220406T08%3A00-0000&enddatetime=20220406T08%3A00-0000&grp_type=ALL\n"
     ]
    },
    {
     "name": "stderr",
     "output_type": "stream",
     "text": [
      "CAISO Parallel:   8%|██                       | 97/1201 [00:14<02:16,  8.08it/s]"
     ]
    },
    {
     "name": "stdout",
     "output_type": "stream",
     "text": [
      "❌ Download error for 20220407: 429 Client Error: Too Many Requests for url: https://oasis.caiso.com/oasisapi/SingleZip?resultformat=6&queryname=PRC_LMP&version=12&market_run_id=DAM&startdatetime=20220407T08%3A00-0000&enddatetime=20220407T08%3A00-0000&grp_type=ALL\n",
      "❌ Download error for 20220408: 429 Client Error: Too Many Requests for url: https://oasis.caiso.com/oasisapi/SingleZip?resultformat=6&queryname=PRC_LMP&version=12&market_run_id=DAM&startdatetime=20220408T08%3A00-0000&enddatetime=20220408T08%3A00-0000&grp_type=ALL\n",
      "❌ Download error for 20220409: 429 Client Error: Too Many Requests for url: https://oasis.caiso.com/oasisapi/SingleZip?resultformat=6&queryname=PRC_LMP&version=12&market_run_id=DAM&startdatetime=20220409T08%3A00-0000&enddatetime=20220409T08%3A00-0000&grp_type=ALL\n"
     ]
    },
    {
     "name": "stderr",
     "output_type": "stream",
     "text": [
      "CAISO Parallel:   8%|██                       | 99/1201 [00:15<02:30,  7.34it/s]"
     ]
    },
    {
     "name": "stdout",
     "output_type": "stream",
     "text": [
      "❌ Download error for 20220410: 429 Client Error: Too Many Requests for url: https://oasis.caiso.com/oasisapi/SingleZip?resultformat=6&queryname=PRC_LMP&version=12&market_run_id=DAM&startdatetime=20220410T08%3A00-0000&enddatetime=20220410T08%3A00-0000&grp_type=ALL\n"
     ]
    },
    {
     "name": "stderr",
     "output_type": "stream",
     "text": [
      "CAISO Parallel:   8%|██                      | 102/1201 [00:15<02:04,  8.79it/s]"
     ]
    },
    {
     "name": "stdout",
     "output_type": "stream",
     "text": [
      "❌ Download error for 20220412: 429 Client Error: Too Many Requests for url: https://oasis.caiso.com/oasisapi/SingleZip?resultformat=6&queryname=PRC_LMP&version=12&market_run_id=DAM&startdatetime=20220412T08%3A00-0000&enddatetime=20220412T08%3A00-0000&grp_type=ALL\n",
      "❌ Download error for 20220411: 429 Client Error: Too Many Requests for url: https://oasis.caiso.com/oasisapi/SingleZip?resultformat=6&queryname=PRC_LMP&version=12&market_run_id=DAM&startdatetime=20220411T08%3A00-0000&enddatetime=20220411T08%3A00-0000&grp_type=ALL\n",
      "❌ Download error for 20220413: 429 Client Error: Too Many Requests for url: https://oasis.caiso.com/oasisapi/SingleZip?resultformat=6&queryname=PRC_LMP&version=12&market_run_id=DAM&startdatetime=20220413T08%3A00-0000&enddatetime=20220413T08%3A00-0000&grp_type=ALL\n",
      "❌ Download error for 20220414: 429 Client Error: Too Many Requests for url: https://oasis.caiso.com/oasisapi/SingleZip?resultformat=6&queryname=PRC_LMP&version=12&market_run_id=DAM&startdatetime=20220414T08%3A00-0000&enddatetime=20220414T08%3A00-0000&grp_type=ALL\n"
     ]
    },
    {
     "name": "stderr",
     "output_type": "stream",
     "text": [
      "CAISO Parallel:   9%|██                      | 104/1201 [00:15<02:25,  7.53it/s]"
     ]
    },
    {
     "name": "stdout",
     "output_type": "stream",
     "text": [
      "❌ Download error for 20220415: 429 Client Error: Too Many Requests for url: https://oasis.caiso.com/oasisapi/SingleZip?resultformat=6&queryname=PRC_LMP&version=12&market_run_id=DAM&startdatetime=20220415T08%3A00-0000&enddatetime=20220415T08%3A00-0000&grp_type=ALL\n"
     ]
    },
    {
     "name": "stderr",
     "output_type": "stream",
     "text": [
      "CAISO Parallel:   9%|██▏                     | 108/1201 [00:16<01:50,  9.85it/s]"
     ]
    },
    {
     "name": "stdout",
     "output_type": "stream",
     "text": [
      "❌ Download error for 20220417: 429 Client Error: Too Many Requests for url: https://oasis.caiso.com/oasisapi/SingleZip?resultformat=6&queryname=PRC_LMP&version=12&market_run_id=DAM&startdatetime=20220417T08%3A00-0000&enddatetime=20220417T08%3A00-0000&grp_type=ALL❌ Download error for 20220416: 429 Client Error: Too Many Requests for url: https://oasis.caiso.com/oasisapi/SingleZip?resultformat=6&queryname=PRC_LMP&version=12&market_run_id=DAM&startdatetime=20220416T08%3A00-0000&enddatetime=20220416T08%3A00-0000&grp_type=ALL\n",
      "\n",
      "❌ Download error for 20220418: 429 Client Error: Too Many Requests for url: https://oasis.caiso.com/oasisapi/SingleZip?resultformat=6&queryname=PRC_LMP&version=12&market_run_id=DAM&startdatetime=20220418T08%3A00-0000&enddatetime=20220418T08%3A00-0000&grp_type=ALL\n",
      "❌ Download error for 20220419: 429 Client Error: Too Many Requests for url: https://oasis.caiso.com/oasisapi/SingleZip?resultformat=6&queryname=PRC_LMP&version=12&market_run_id=DAM&startdatetime=20220419T08%3A00-0000&enddatetime=20220419T08%3A00-0000&grp_type=ALL\n",
      "❌ Download error for 20220420: 429 Client Error: Too Many Requests for url: https://oasis.caiso.com/oasisapi/SingleZip?resultformat=6&queryname=PRC_LMP&version=12&market_run_id=DAM&startdatetime=20220420T08%3A00-0000&enddatetime=20220420T08%3A00-0000&grp_type=ALL\n"
     ]
    },
    {
     "name": "stderr",
     "output_type": "stream",
     "text": [
      "CAISO Parallel:   9%|██▎                     | 113/1201 [00:16<01:55,  9.43it/s]"
     ]
    },
    {
     "name": "stdout",
     "output_type": "stream",
     "text": [
      "❌ Download error for 20220422: 429 Client Error: Too Many Requests for url: https://oasis.caiso.com/oasisapi/SingleZip?resultformat=6&queryname=PRC_LMP&version=12&market_run_id=DAM&startdatetime=20220422T08%3A00-0000&enddatetime=20220422T08%3A00-0000&grp_type=ALL\n",
      "❌ Download error for 20220421: 429 Client Error: Too Many Requests for url: https://oasis.caiso.com/oasisapi/SingleZip?resultformat=6&queryname=PRC_LMP&version=12&market_run_id=DAM&startdatetime=20220421T08%3A00-0000&enddatetime=20220421T08%3A00-0000&grp_type=ALL\n",
      "❌ Download error for 20220423: 429 Client Error: Too Many Requests for url: https://oasis.caiso.com/oasisapi/SingleZip?resultformat=6&queryname=PRC_LMP&version=12&market_run_id=DAM&startdatetime=20220423T08%3A00-0000&enddatetime=20220423T08%3A00-0000&grp_type=ALL\n",
      "❌ Download error for 20220424: 429 Client Error: Too Many Requests for url: https://oasis.caiso.com/oasisapi/SingleZip?resultformat=6&queryname=PRC_LMP&version=12&market_run_id=DAM&startdatetime=20220424T08%3A00-0000&enddatetime=20220424T08%3A00-0000&grp_type=ALL\n",
      "❌ Download error for 20220425: 429 Client Error: Too Many Requests for url: https://oasis.caiso.com/oasisapi/SingleZip?resultformat=6&queryname=PRC_LMP&version=12&market_run_id=DAM&startdatetime=20220425T08%3A00-0000&enddatetime=20220425T08%3A00-0000&grp_type=ALL\n"
     ]
    },
    {
     "name": "stderr",
     "output_type": "stream",
     "text": [
      "CAISO Parallel:  10%|██▎                     | 118/1201 [00:17<01:58,  9.18it/s]"
     ]
    },
    {
     "name": "stdout",
     "output_type": "stream",
     "text": [
      "❌ Download error for 20220426: 429 Client Error: Too Many Requests for url: https://oasis.caiso.com/oasisapi/SingleZip?resultformat=6&queryname=PRC_LMP&version=12&market_run_id=DAM&startdatetime=20220426T08%3A00-0000&enddatetime=20220426T08%3A00-0000&grp_type=ALL❌ Download error for 20220427: 429 Client Error: Too Many Requests for url: https://oasis.caiso.com/oasisapi/SingleZip?resultformat=6&queryname=PRC_LMP&version=12&market_run_id=DAM&startdatetime=20220427T08%3A00-0000&enddatetime=20220427T08%3A00-0000&grp_type=ALL\n",
      "\n",
      "❌ Download error for 20220428: 429 Client Error: Too Many Requests for url: https://oasis.caiso.com/oasisapi/SingleZip?resultformat=6&queryname=PRC_LMP&version=12&market_run_id=DAM&startdatetime=20220428T08%3A00-0000&enddatetime=20220428T08%3A00-0000&grp_type=ALL\n",
      "❌ Download error for 20220429: 429 Client Error: Too Many Requests for url: https://oasis.caiso.com/oasisapi/SingleZip?resultformat=6&queryname=PRC_LMP&version=12&market_run_id=DAM&startdatetime=20220429T08%3A00-0000&enddatetime=20220429T08%3A00-0000&grp_type=ALL\n",
      "❌ Download error for 20220430: 429 Client Error: Too Many Requests for url: https://oasis.caiso.com/oasisapi/SingleZip?resultformat=6&queryname=PRC_LMP&version=12&market_run_id=DAM&startdatetime=20220430T08%3A00-0000&enddatetime=20220430T08%3A00-0000&grp_type=ALL\n"
     ]
    },
    {
     "name": "stderr",
     "output_type": "stream",
     "text": [
      "CAISO Parallel:  10%|██▍                     | 120/1201 [00:17<02:34,  6.98it/s]"
     ]
    },
    {
     "name": "stdout",
     "output_type": "stream",
     "text": [
      "❌ Download error for 20220501: 429 Client Error: Too Many Requests for url: https://oasis.caiso.com/oasisapi/SingleZip?resultformat=6&queryname=PRC_LMP&version=12&market_run_id=DAM&startdatetime=20220501T08%3A00-0000&enddatetime=20220501T08%3A00-0000&grp_type=ALL\n",
      "❌ Download error for 20220502: 429 Client Error: Too Many Requests for url: https://oasis.caiso.com/oasisapi/SingleZip?resultformat=6&queryname=PRC_LMP&version=12&market_run_id=DAM&startdatetime=20220502T08%3A00-0000&enddatetime=20220502T08%3A00-0000&grp_type=ALL\n",
      "❌ Download error for 20220503: 429 Client Error: Too Many Requests for url: https://oasis.caiso.com/oasisapi/SingleZip?resultformat=6&queryname=PRC_LMP&version=12&market_run_id=DAM&startdatetime=20220503T08%3A00-0000&enddatetime=20220503T08%3A00-0000&grp_type=ALL\n"
     ]
    },
    {
     "name": "stderr",
     "output_type": "stream",
     "text": [
      "CAISO Parallel:  10%|██▍                     | 123/1201 [00:18<02:33,  7.00it/s]"
     ]
    },
    {
     "name": "stdout",
     "output_type": "stream",
     "text": [
      "❌ Download error for 20220505: 429 Client Error: Too Many Requests for url: https://oasis.caiso.com/oasisapi/SingleZip?resultformat=6&queryname=PRC_LMP&version=12&market_run_id=DAM&startdatetime=20220505T08%3A00-0000&enddatetime=20220505T08%3A00-0000&grp_type=ALL\n"
     ]
    },
    {
     "name": "stderr",
     "output_type": "stream",
     "text": [
      "CAISO Parallel:  10%|██▍                     | 124/1201 [00:18<02:44,  6.55it/s]"
     ]
    },
    {
     "name": "stdout",
     "output_type": "stream",
     "text": [
      "❌ Download error for 20220507: 429 Client Error: Too Many Requests for url: https://oasis.caiso.com/oasisapi/SingleZip?resultformat=6&queryname=PRC_LMP&version=12&market_run_id=DAM&startdatetime=20220507T08%3A00-0000&enddatetime=20220507T08%3A00-0000&grp_type=ALL\n",
      "❌ Download error for 20220506: 429 Client Error: Too Many Requests for url: https://oasis.caiso.com/oasisapi/SingleZip?resultformat=6&queryname=PRC_LMP&version=12&market_run_id=DAM&startdatetime=20220506T08%3A00-0000&enddatetime=20220506T08%3A00-0000&grp_type=ALL\n",
      "❌ Download error for 20220508: 429 Client Error: Too Many Requests for url: https://oasis.caiso.com/oasisapi/SingleZip?resultformat=6&queryname=PRC_LMP&version=12&market_run_id=DAM&startdatetime=20220508T08%3A00-0000&enddatetime=20220508T08%3A00-0000&grp_type=ALL\n"
     ]
    },
    {
     "name": "stderr",
     "output_type": "stream",
     "text": [
      "CAISO Parallel:  11%|██▌                     | 127/1201 [00:18<02:39,  6.73it/s]"
     ]
    },
    {
     "name": "stdout",
     "output_type": "stream",
     "text": [
      "❌ Download error for 20220509: 429 Client Error: Too Many Requests for url: https://oasis.caiso.com/oasisapi/SingleZip?resultformat=6&queryname=PRC_LMP&version=12&market_run_id=DAM&startdatetime=20220509T08%3A00-0000&enddatetime=20220509T08%3A00-0000&grp_type=ALL\n"
     ]
    },
    {
     "name": "stderr",
     "output_type": "stream",
     "text": [
      "CAISO Parallel:  11%|██▌                     | 128/1201 [00:19<02:49,  6.35it/s]"
     ]
    },
    {
     "name": "stdout",
     "output_type": "stream",
     "text": [
      "❌ Download error for 20220510: 429 Client Error: Too Many Requests for url: https://oasis.caiso.com/oasisapi/SingleZip?resultformat=6&queryname=PRC_LMP&version=12&market_run_id=DAM&startdatetime=20220510T08%3A00-0000&enddatetime=20220510T08%3A00-0000&grp_type=ALL\n",
      "❌ Download error for 20220511: 429 Client Error: Too Many Requests for url: https://oasis.caiso.com/oasisapi/SingleZip?resultformat=6&queryname=PRC_LMP&version=12&market_run_id=DAM&startdatetime=20220511T08%3A00-0000&enddatetime=20220511T08%3A00-0000&grp_type=ALL\n",
      "❌ Download error for 20220512: 429 Client Error: Too Many Requests for url: https://oasis.caiso.com/oasisapi/SingleZip?resultformat=6&queryname=PRC_LMP&version=12&market_run_id=DAM&startdatetime=20220512T08%3A00-0000&enddatetime=20220512T08%3A00-0000&grp_type=ALL\n"
     ]
    },
    {
     "name": "stderr",
     "output_type": "stream",
     "text": [
      "CAISO Parallel:  11%|██▌                     | 131/1201 [00:19<02:42,  6.59it/s]"
     ]
    },
    {
     "name": "stdout",
     "output_type": "stream",
     "text": [
      "❌ Download error for 20220513: 429 Client Error: Too Many Requests for url: https://oasis.caiso.com/oasisapi/SingleZip?resultformat=6&queryname=PRC_LMP&version=12&market_run_id=DAM&startdatetime=20220513T08%3A00-0000&enddatetime=20220513T08%3A00-0000&grp_type=ALL\n"
     ]
    },
    {
     "name": "stderr",
     "output_type": "stream",
     "text": [
      "CAISO Parallel:  11%|██▋                     | 133/1201 [00:19<02:27,  7.24it/s]"
     ]
    },
    {
     "name": "stdout",
     "output_type": "stream",
     "text": [
      "❌ Download error for 20220514: 429 Client Error: Too Many Requests for url: https://oasis.caiso.com/oasisapi/SingleZip?resultformat=6&queryname=PRC_LMP&version=12&market_run_id=DAM&startdatetime=20220514T08%3A00-0000&enddatetime=20220514T08%3A00-0000&grp_type=ALL❌ Download error for 20220515: 429 Client Error: Too Many Requests for url: https://oasis.caiso.com/oasisapi/SingleZip?resultformat=6&queryname=PRC_LMP&version=12&market_run_id=DAM&startdatetime=20220515T08%3A00-0000&enddatetime=20220515T08%3A00-0000&grp_type=ALL\n",
      "\n",
      "❌ Download error for 20220516: 429 Client Error: Too Many Requests for url: https://oasis.caiso.com/oasisapi/SingleZip?resultformat=6&queryname=PRC_LMP&version=12&market_run_id=DAM&startdatetime=20220516T08%3A00-0000&enddatetime=20220516T08%3A00-0000&grp_type=ALL\n"
     ]
    },
    {
     "name": "stderr",
     "output_type": "stream",
     "text": [
      "CAISO Parallel:  11%|██▋                     | 136/1201 [00:20<02:27,  7.20it/s]"
     ]
    },
    {
     "name": "stdout",
     "output_type": "stream",
     "text": [
      "❌ Download error for 20220517: 429 Client Error: Too Many Requests for url: https://oasis.caiso.com/oasisapi/SingleZip?resultformat=6&queryname=PRC_LMP&version=12&market_run_id=DAM&startdatetime=20220517T08%3A00-0000&enddatetime=20220517T08%3A00-0000&grp_type=ALL\n",
      "❌ Download error for 20220518: 429 Client Error: Too Many Requests for url: https://oasis.caiso.com/oasisapi/SingleZip?resultformat=6&queryname=PRC_LMP&version=12&market_run_id=DAM&startdatetime=20220518T08%3A00-0000&enddatetime=20220518T08%3A00-0000&grp_type=ALL\n"
     ]
    },
    {
     "name": "stderr",
     "output_type": "stream",
     "text": [
      "CAISO Parallel:  11%|██▊                     | 138/1201 [00:20<02:17,  7.71it/s]"
     ]
    },
    {
     "name": "stdout",
     "output_type": "stream",
     "text": [
      "❌ Download error for 20220520: 429 Client Error: Too Many Requests for url: https://oasis.caiso.com/oasisapi/SingleZip?resultformat=6&queryname=PRC_LMP&version=12&market_run_id=DAM&startdatetime=20220520T08%3A00-0000&enddatetime=20220520T08%3A00-0000&grp_type=ALL❌ Download error for 20220519: 429 Client Error: Too Many Requests for url: https://oasis.caiso.com/oasisapi/SingleZip?resultformat=6&queryname=PRC_LMP&version=12&market_run_id=DAM&startdatetime=20220519T08%3A00-0000&enddatetime=20220519T08%3A00-0000&grp_type=ALL\n",
      "\n",
      "❌ Download error for 20220521: 429 Client Error: Too Many Requests for url: https://oasis.caiso.com/oasisapi/SingleZip?resultformat=6&queryname=PRC_LMP&version=12&market_run_id=DAM&startdatetime=20220521T08%3A00-0000&enddatetime=20220521T08%3A00-0000&grp_type=ALL\n"
     ]
    },
    {
     "name": "stderr",
     "output_type": "stream",
     "text": [
      "CAISO Parallel:  12%|██▊                     | 141/1201 [00:20<02:21,  7.47it/s]"
     ]
    },
    {
     "name": "stdout",
     "output_type": "stream",
     "text": [
      "❌ Download error for 20220522: 429 Client Error: Too Many Requests for url: https://oasis.caiso.com/oasisapi/SingleZip?resultformat=6&queryname=PRC_LMP&version=12&market_run_id=DAM&startdatetime=20220522T08%3A00-0000&enddatetime=20220522T08%3A00-0000&grp_type=ALL\n",
      "❌ Download error for 20220523: 429 Client Error: Too Many Requests for url: https://oasis.caiso.com/oasisapi/SingleZip?resultformat=6&queryname=PRC_LMP&version=12&market_run_id=DAM&startdatetime=20220523T08%3A00-0000&enddatetime=20220523T08%3A00-0000&grp_type=ALL\n"
     ]
    },
    {
     "name": "stderr",
     "output_type": "stream",
     "text": [
      "CAISO Parallel:  12%|██▊                     | 143/1201 [00:21<02:14,  7.84it/s]"
     ]
    },
    {
     "name": "stdout",
     "output_type": "stream",
     "text": [
      "❌ Download error for 20220524: 429 Client Error: Too Many Requests for url: https://oasis.caiso.com/oasisapi/SingleZip?resultformat=6&queryname=PRC_LMP&version=12&market_run_id=DAM&startdatetime=20220524T08%3A00-0000&enddatetime=20220524T08%3A00-0000&grp_type=ALL❌ Download error for 20220525: 429 Client Error: Too Many Requests for url: https://oasis.caiso.com/oasisapi/SingleZip?resultformat=6&queryname=PRC_LMP&version=12&market_run_id=DAM&startdatetime=20220525T08%3A00-0000&enddatetime=20220525T08%3A00-0000&grp_type=ALL\n",
      "\n",
      "❌ Download error for 20220526: 429 Client Error: Too Many Requests for url: https://oasis.caiso.com/oasisapi/SingleZip?resultformat=6&queryname=PRC_LMP&version=12&market_run_id=DAM&startdatetime=20220526T08%3A00-0000&enddatetime=20220526T08%3A00-0000&grp_type=ALL\n"
     ]
    },
    {
     "name": "stderr",
     "output_type": "stream",
     "text": [
      "CAISO Parallel:  12%|██▉                     | 148/1201 [00:21<02:11,  7.99it/s]"
     ]
    },
    {
     "name": "stdout",
     "output_type": "stream",
     "text": [
      "❌ Download error for 20220527: 429 Client Error: Too Many Requests for url: https://oasis.caiso.com/oasisapi/SingleZip?resultformat=6&queryname=PRC_LMP&version=12&market_run_id=DAM&startdatetime=20220527T08%3A00-0000&enddatetime=20220527T08%3A00-0000&grp_type=ALL\n",
      "❌ Download error for 20220528: 429 Client Error: Too Many Requests for url: https://oasis.caiso.com/oasisapi/SingleZip?resultformat=6&queryname=PRC_LMP&version=12&market_run_id=DAM&startdatetime=20220528T08%3A00-0000&enddatetime=20220528T08%3A00-0000&grp_type=ALL\n",
      "❌ Download error for 20220530: 429 Client Error: Too Many Requests for url: https://oasis.caiso.com/oasisapi/SingleZip?resultformat=6&queryname=PRC_LMP&version=12&market_run_id=DAM&startdatetime=20220530T08%3A00-0000&enddatetime=20220530T08%3A00-0000&grp_type=ALL\n",
      "❌ Download error for 20220529: 429 Client Error: Too Many Requests for url: https://oasis.caiso.com/oasisapi/SingleZip?resultformat=6&queryname=PRC_LMP&version=12&market_run_id=DAM&startdatetime=20220529T08%3A00-0000&enddatetime=20220529T08%3A00-0000&grp_type=ALL\n",
      "❌ Download error for 20220531: 429 Client Error: Too Many Requests for url: https://oasis.caiso.com/oasisapi/SingleZip?resultformat=6&queryname=PRC_LMP&version=12&market_run_id=DAM&startdatetime=20220531T08%3A00-0000&enddatetime=20220531T08%3A00-0000&grp_type=ALL\n"
     ]
    },
    {
     "name": "stderr",
     "output_type": "stream",
     "text": [
      "CAISO Parallel:  13%|███                     | 151/1201 [00:22<02:19,  7.52it/s]"
     ]
    },
    {
     "name": "stdout",
     "output_type": "stream",
     "text": [
      "❌ Download error for 20220601: 429 Client Error: Too Many Requests for url: https://oasis.caiso.com/oasisapi/SingleZip?resultformat=6&queryname=PRC_LMP&version=12&market_run_id=DAM&startdatetime=20220601T08%3A00-0000&enddatetime=20220601T08%3A00-0000&grp_type=ALL\n",
      "❌ Download error for 20220602: 429 Client Error: Too Many Requests for url: https://oasis.caiso.com/oasisapi/SingleZip?resultformat=6&queryname=PRC_LMP&version=12&market_run_id=DAM&startdatetime=20220602T08%3A00-0000&enddatetime=20220602T08%3A00-0000&grp_type=ALL\n",
      "❌ Download error for 20220603: 429 Client Error: Too Many Requests for url: https://oasis.caiso.com/oasisapi/SingleZip?resultformat=6&queryname=PRC_LMP&version=12&market_run_id=DAM&startdatetime=20220603T08%3A00-0000&enddatetime=20220603T08%3A00-0000&grp_type=ALL\n",
      "❌ Download error for 20220604: 429 Client Error: Too Many Requests for url: https://oasis.caiso.com/oasisapi/SingleZip?resultformat=6&queryname=PRC_LMP&version=12&market_run_id=DAM&startdatetime=20220604T08%3A00-0000&enddatetime=20220604T08%3A00-0000&grp_type=ALL\n"
     ]
    },
    {
     "name": "stderr",
     "output_type": "stream",
     "text": [
      "CAISO Parallel:  13%|███                     | 153/1201 [00:22<02:10,  8.02it/s]"
     ]
    },
    {
     "name": "stdout",
     "output_type": "stream",
     "text": [
      "❌ Download error for 20220605: 429 Client Error: Too Many Requests for url: https://oasis.caiso.com/oasisapi/SingleZip?resultformat=6&queryname=PRC_LMP&version=12&market_run_id=DAM&startdatetime=20220605T08%3A00-0000&enddatetime=20220605T08%3A00-0000&grp_type=ALL\n"
     ]
    },
    {
     "name": "stderr",
     "output_type": "stream",
     "text": [
      "CAISO Parallel:  13%|███                     | 156/1201 [00:22<02:18,  7.57it/s]"
     ]
    },
    {
     "name": "stdout",
     "output_type": "stream",
     "text": [
      "❌ Download error for 20220606: 429 Client Error: Too Many Requests for url: https://oasis.caiso.com/oasisapi/SingleZip?resultformat=6&queryname=PRC_LMP&version=12&market_run_id=DAM&startdatetime=20220606T08%3A00-0000&enddatetime=20220606T08%3A00-0000&grp_type=ALL\n",
      "❌ Download error for 20220607: 429 Client Error: Too Many Requests for url: https://oasis.caiso.com/oasisapi/SingleZip?resultformat=6&queryname=PRC_LMP&version=12&market_run_id=DAM&startdatetime=20220607T08%3A00-0000&enddatetime=20220607T08%3A00-0000&grp_type=ALL\n"
     ]
    },
    {
     "name": "stderr",
     "output_type": "stream",
     "text": [
      "CAISO Parallel:  13%|███▏                    | 158/1201 [00:22<02:11,  7.96it/s]"
     ]
    },
    {
     "name": "stdout",
     "output_type": "stream",
     "text": [
      "❌ Download error for 20220608: 429 Client Error: Too Many Requests for url: https://oasis.caiso.com/oasisapi/SingleZip?resultformat=6&queryname=PRC_LMP&version=12&market_run_id=DAM&startdatetime=20220608T08%3A00-0000&enddatetime=20220608T08%3A00-0000&grp_type=ALL\n",
      "❌ Download error for 20220609: 429 Client Error: Too Many Requests for url: https://oasis.caiso.com/oasisapi/SingleZip?resultformat=6&queryname=PRC_LMP&version=12&market_run_id=DAM&startdatetime=20220609T08%3A00-0000&enddatetime=20220609T08%3A00-0000&grp_type=ALL\n",
      "❌ Download error for 20220610: 429 Client Error: Too Many Requests for url: https://oasis.caiso.com/oasisapi/SingleZip?resultformat=6&queryname=PRC_LMP&version=12&market_run_id=DAM&startdatetime=20220610T08%3A00-0000&enddatetime=20220610T08%3A00-0000&grp_type=ALL\n"
     ]
    },
    {
     "name": "stderr",
     "output_type": "stream",
     "text": [
      "CAISO Parallel:  13%|███▏                    | 161/1201 [00:23<02:17,  7.58it/s]"
     ]
    },
    {
     "name": "stdout",
     "output_type": "stream",
     "text": [
      "❌ Download error for 20220611: 429 Client Error: Too Many Requests for url: https://oasis.caiso.com/oasisapi/SingleZip?resultformat=6&queryname=PRC_LMP&version=12&market_run_id=DAM&startdatetime=20220611T08%3A00-0000&enddatetime=20220611T08%3A00-0000&grp_type=ALL❌ Download error for 20220612: 429 Client Error: Too Many Requests for url: https://oasis.caiso.com/oasisapi/SingleZip?resultformat=6&queryname=PRC_LMP&version=12&market_run_id=DAM&startdatetime=20220612T08%3A00-0000&enddatetime=20220612T08%3A00-0000&grp_type=ALL\n",
      "\n"
     ]
    },
    {
     "name": "stderr",
     "output_type": "stream",
     "text": [
      "CAISO Parallel:  14%|███▎                    | 163/1201 [00:23<02:09,  7.99it/s]"
     ]
    },
    {
     "name": "stdout",
     "output_type": "stream",
     "text": [
      "❌ Download error for 20220613: 429 Client Error: Too Many Requests for url: https://oasis.caiso.com/oasisapi/SingleZip?resultformat=6&queryname=PRC_LMP&version=12&market_run_id=DAM&startdatetime=20220613T08%3A00-0000&enddatetime=20220613T08%3A00-0000&grp_type=ALL❌ Download error for 20220614: 429 Client Error: Too Many Requests for url: https://oasis.caiso.com/oasisapi/SingleZip?resultformat=6&queryname=PRC_LMP&version=12&market_run_id=DAM&startdatetime=20220614T08%3A00-0000&enddatetime=20220614T08%3A00-0000&grp_type=ALL\n",
      "\n",
      "❌ Download error for 20220615: 429 Client Error: Too Many Requests for url: https://oasis.caiso.com/oasisapi/SingleZip?resultformat=6&queryname=PRC_LMP&version=12&market_run_id=DAM&startdatetime=20220615T08%3A00-0000&enddatetime=20220615T08%3A00-0000&grp_type=ALL\n"
     ]
    },
    {
     "name": "stderr",
     "output_type": "stream",
     "text": [
      "CAISO Parallel:  14%|███▎                    | 166/1201 [00:24<02:17,  7.54it/s]"
     ]
    },
    {
     "name": "stdout",
     "output_type": "stream",
     "text": [
      "❌ Download error for 20220617: 429 Client Error: Too Many Requests for url: https://oasis.caiso.com/oasisapi/SingleZip?resultformat=6&queryname=PRC_LMP&version=12&market_run_id=DAM&startdatetime=20220617T08%3A00-0000&enddatetime=20220617T08%3A00-0000&grp_type=ALL\n"
     ]
    },
    {
     "name": "stderr",
     "output_type": "stream",
     "text": [
      "CAISO Parallel:  14%|███▎                    | 167/1201 [00:24<02:28,  6.98it/s]"
     ]
    },
    {
     "name": "stdout",
     "output_type": "stream",
     "text": [
      "❌ Download error for 20220619: 429 Client Error: Too Many Requests for url: https://oasis.caiso.com/oasisapi/SingleZip?resultformat=6&queryname=PRC_LMP&version=12&market_run_id=DAM&startdatetime=20220619T08%3A00-0000&enddatetime=20220619T08%3A00-0000&grp_type=ALL❌ Download error for 20220620: 429 Client Error: Too Many Requests for url: https://oasis.caiso.com/oasisapi/SingleZip?resultformat=6&queryname=PRC_LMP&version=12&market_run_id=DAM&startdatetime=20220620T08%3A00-0000&enddatetime=20220620T08%3A00-0000&grp_type=ALL\n",
      "\n",
      "❌ Download error for 20220618: 429 Client Error: Too Many Requests for url: https://oasis.caiso.com/oasisapi/SingleZip?resultformat=6&queryname=PRC_LMP&version=12&market_run_id=DAM&startdatetime=20220618T08%3A00-0000&enddatetime=20220618T08%3A00-0000&grp_type=ALL\n"
     ]
    },
    {
     "name": "stderr",
     "output_type": "stream",
     "text": [
      "CAISO Parallel:  14%|███▍                    | 170/1201 [00:24<02:27,  6.98it/s]"
     ]
    },
    {
     "name": "stdout",
     "output_type": "stream",
     "text": [
      "❌ Download error for 20220621: 429 Client Error: Too Many Requests for url: https://oasis.caiso.com/oasisapi/SingleZip?resultformat=6&queryname=PRC_LMP&version=12&market_run_id=DAM&startdatetime=20220621T08%3A00-0000&enddatetime=20220621T08%3A00-0000&grp_type=ALL\n"
     ]
    },
    {
     "name": "stderr",
     "output_type": "stream",
     "text": [
      "CAISO Parallel:  14%|███▍                    | 171/1201 [00:24<02:37,  6.55it/s]"
     ]
    },
    {
     "name": "stdout",
     "output_type": "stream",
     "text": [
      "❌ Download error for 20220623: 429 Client Error: Too Many Requests for url: https://oasis.caiso.com/oasisapi/SingleZip?resultformat=6&queryname=PRC_LMP&version=12&market_run_id=DAM&startdatetime=20220623T08%3A00-0000&enddatetime=20220623T08%3A00-0000&grp_type=ALL\n",
      "❌ Download error for 20220622: 429 Client Error: Too Many Requests for url: https://oasis.caiso.com/oasisapi/SingleZip?resultformat=6&queryname=PRC_LMP&version=12&market_run_id=DAM&startdatetime=20220622T08%3A00-0000&enddatetime=20220622T08%3A00-0000&grp_type=ALL\n",
      "❌ Download error for 20220624: 429 Client Error: Too Many Requests for url: https://oasis.caiso.com/oasisapi/SingleZip?resultformat=6&queryname=PRC_LMP&version=12&market_run_id=DAM&startdatetime=20220624T08%3A00-0000&enddatetime=20220624T08%3A00-0000&grp_type=ALL\n"
     ]
    },
    {
     "name": "stderr",
     "output_type": "stream",
     "text": [
      "CAISO Parallel:  14%|███▍                    | 174/1201 [00:25<02:46,  6.16it/s]"
     ]
    },
    {
     "name": "stdout",
     "output_type": "stream",
     "text": [
      "❌ Download error for 20220625: 429 Client Error: Too Many Requests for url: https://oasis.caiso.com/oasisapi/SingleZip?resultformat=6&queryname=PRC_LMP&version=12&market_run_id=DAM&startdatetime=20220625T08%3A00-0000&enddatetime=20220625T08%3A00-0000&grp_type=ALL\n"
     ]
    },
    {
     "name": "stderr",
     "output_type": "stream",
     "text": [
      "CAISO Parallel:  15%|███▍                    | 175/1201 [00:25<02:54,  5.89it/s]"
     ]
    },
    {
     "name": "stdout",
     "output_type": "stream",
     "text": [
      "❌ Download error for 20220627: 429 Client Error: Too Many Requests for url: https://oasis.caiso.com/oasisapi/SingleZip?resultformat=6&queryname=PRC_LMP&version=12&market_run_id=DAM&startdatetime=20220627T08%3A00-0000&enddatetime=20220627T08%3A00-0000&grp_type=ALL❌ Download error for 20220626: 429 Client Error: Too Many Requests for url: https://oasis.caiso.com/oasisapi/SingleZip?resultformat=6&queryname=PRC_LMP&version=12&market_run_id=DAM&startdatetime=20220626T08%3A00-0000&enddatetime=20220626T08%3A00-0000&grp_type=ALL\n",
      "\n",
      "❌ Download error for 20220628: 429 Client Error: Too Many Requests for url: https://oasis.caiso.com/oasisapi/SingleZip?resultformat=6&queryname=PRC_LMP&version=12&market_run_id=DAM&startdatetime=20220628T08%3A00-0000&enddatetime=20220628T08%3A00-0000&grp_type=ALL\n"
     ]
    },
    {
     "name": "stderr",
     "output_type": "stream",
     "text": [
      "CAISO Parallel:  15%|███▌                    | 178/1201 [00:26<02:57,  5.78it/s]"
     ]
    },
    {
     "name": "stdout",
     "output_type": "stream",
     "text": [
      "❌ Download error for 20220629: 429 Client Error: Too Many Requests for url: https://oasis.caiso.com/oasisapi/SingleZip?resultformat=6&queryname=PRC_LMP&version=12&market_run_id=DAM&startdatetime=20220629T08%3A00-0000&enddatetime=20220629T08%3A00-0000&grp_type=ALL\n"
     ]
    },
    {
     "name": "stderr",
     "output_type": "stream",
     "text": [
      "CAISO Parallel:  15%|███▌                    | 179/1201 [00:26<03:18,  5.15it/s]"
     ]
    },
    {
     "name": "stdout",
     "output_type": "stream",
     "text": [
      "❌ Download error for 20220630: 429 Client Error: Too Many Requests for url: https://oasis.caiso.com/oasisapi/SingleZip?resultformat=6&queryname=PRC_LMP&version=12&market_run_id=DAM&startdatetime=20220630T08%3A00-0000&enddatetime=20220630T08%3A00-0000&grp_type=ALL\n",
      "❌ Download error for 20220701: 429 Client Error: Too Many Requests for url: https://oasis.caiso.com/oasisapi/SingleZip?resultformat=6&queryname=PRC_LMP&version=12&market_run_id=DAM&startdatetime=20220701T08%3A00-0000&enddatetime=20220701T08%3A00-0000&grp_type=ALL\n",
      "❌ Download error for 20220702: 429 Client Error: Too Many Requests for url: https://oasis.caiso.com/oasisapi/SingleZip?resultformat=6&queryname=PRC_LMP&version=12&market_run_id=DAM&startdatetime=20220702T08%3A00-0000&enddatetime=20220702T08%3A00-0000&grp_type=ALL\n"
     ]
    },
    {
     "name": "stderr",
     "output_type": "stream",
     "text": [
      "CAISO Parallel:  15%|███▋                    | 182/1201 [00:26<03:10,  5.35it/s]"
     ]
    },
    {
     "name": "stdout",
     "output_type": "stream",
     "text": [
      "❌ Download error for 20220703: 429 Client Error: Too Many Requests for url: https://oasis.caiso.com/oasisapi/SingleZip?resultformat=6&queryname=PRC_LMP&version=12&market_run_id=DAM&startdatetime=20220703T08%3A00-0000&enddatetime=20220703T08%3A00-0000&grp_type=ALL\n"
     ]
    },
    {
     "name": "stderr",
     "output_type": "stream",
     "text": [
      "CAISO Parallel:  15%|███▋                    | 183/1201 [00:27<03:14,  5.23it/s]"
     ]
    },
    {
     "name": "stdout",
     "output_type": "stream",
     "text": [
      "❌ Download error for 20220706: 429 Client Error: Too Many Requests for url: https://oasis.caiso.com/oasisapi/SingleZip?resultformat=6&queryname=PRC_LMP&version=12&market_run_id=DAM&startdatetime=20220706T08%3A00-0000&enddatetime=20220706T08%3A00-0000&grp_type=ALL\n",
      "❌ Download error for 20220705: 429 Client Error: Too Many Requests for url: https://oasis.caiso.com/oasisapi/SingleZip?resultformat=6&queryname=PRC_LMP&version=12&market_run_id=DAM&startdatetime=20220705T08%3A00-0000&enddatetime=20220705T08%3A00-0000&grp_type=ALL\n",
      "❌ Download error for 20220704: 429 Client Error: Too Many Requests for url: https://oasis.caiso.com/oasisapi/SingleZip?resultformat=6&queryname=PRC_LMP&version=12&market_run_id=DAM&startdatetime=20220704T08%3A00-0000&enddatetime=20220704T08%3A00-0000&grp_type=ALL\n"
     ]
    },
    {
     "name": "stderr",
     "output_type": "stream",
     "text": [
      "CAISO Parallel:  15%|███▋                    | 186/1201 [00:27<03:06,  5.43it/s]"
     ]
    },
    {
     "name": "stdout",
     "output_type": "stream",
     "text": [
      "❌ Download error for 20220707: 429 Client Error: Too Many Requests for url: https://oasis.caiso.com/oasisapi/SingleZip?resultformat=6&queryname=PRC_LMP&version=12&market_run_id=DAM&startdatetime=20220707T08%3A00-0000&enddatetime=20220707T08%3A00-0000&grp_type=ALL\n"
     ]
    },
    {
     "name": "stderr",
     "output_type": "stream",
     "text": [
      "CAISO Parallel:  16%|███▋                    | 187/1201 [00:28<03:28,  4.85it/s]"
     ]
    },
    {
     "name": "stdout",
     "output_type": "stream",
     "text": [
      "❌ Download error for 20220708: 429 Client Error: Too Many Requests for url: https://oasis.caiso.com/oasisapi/SingleZip?resultformat=6&queryname=PRC_LMP&version=12&market_run_id=DAM&startdatetime=20220708T08%3A00-0000&enddatetime=20220708T08%3A00-0000&grp_type=ALL\n",
      "❌ Download error for 20220710: 429 Client Error: Too Many Requests for url: https://oasis.caiso.com/oasisapi/SingleZip?resultformat=6&queryname=PRC_LMP&version=12&market_run_id=DAM&startdatetime=20220710T08%3A00-0000&enddatetime=20220710T08%3A00-0000&grp_type=ALL\n",
      "❌ Download error for 20220709: 429 Client Error: Too Many Requests for url: https://oasis.caiso.com/oasisapi/SingleZip?resultformat=6&queryname=PRC_LMP&version=12&market_run_id=DAM&startdatetime=20220709T08%3A00-0000&enddatetime=20220709T08%3A00-0000&grp_type=ALL\n"
     ]
    },
    {
     "name": "stderr",
     "output_type": "stream",
     "text": [
      "CAISO Parallel:  16%|███▊                    | 190/1201 [00:28<03:14,  5.20it/s]"
     ]
    },
    {
     "name": "stdout",
     "output_type": "stream",
     "text": [
      "❌ Download error for 20220711: 429 Client Error: Too Many Requests for url: https://oasis.caiso.com/oasisapi/SingleZip?resultformat=6&queryname=PRC_LMP&version=12&market_run_id=DAM&startdatetime=20220711T08%3A00-0000&enddatetime=20220711T08%3A00-0000&grp_type=ALL\n"
     ]
    },
    {
     "name": "stderr",
     "output_type": "stream",
     "text": [
      "CAISO Parallel:  16%|███▊                    | 191/1201 [00:28<03:17,  5.12it/s]"
     ]
    },
    {
     "name": "stdout",
     "output_type": "stream",
     "text": [
      "❌ Download error for 20220712: 429 Client Error: Too Many Requests for url: https://oasis.caiso.com/oasisapi/SingleZip?resultformat=6&queryname=PRC_LMP&version=12&market_run_id=DAM&startdatetime=20220712T08%3A00-0000&enddatetime=20220712T08%3A00-0000&grp_type=ALL\n",
      "❌ Download error for 20220714: 429 Client Error: Too Many Requests for url: https://oasis.caiso.com/oasisapi/SingleZip?resultformat=6&queryname=PRC_LMP&version=12&market_run_id=DAM&startdatetime=20220714T08%3A00-0000&enddatetime=20220714T08%3A00-0000&grp_type=ALL\n",
      "❌ Download error for 20220713: 429 Client Error: Too Many Requests for url: https://oasis.caiso.com/oasisapi/SingleZip?resultformat=6&queryname=PRC_LMP&version=12&market_run_id=DAM&startdatetime=20220713T08%3A00-0000&enddatetime=20220713T08%3A00-0000&grp_type=ALL\n"
     ]
    },
    {
     "name": "stderr",
     "output_type": "stream",
     "text": [
      "CAISO Parallel:  16%|███▉                    | 194/1201 [00:29<03:08,  5.35it/s]"
     ]
    },
    {
     "name": "stdout",
     "output_type": "stream",
     "text": [
      "❌ Download error for 20220715: 429 Client Error: Too Many Requests for url: https://oasis.caiso.com/oasisapi/SingleZip?resultformat=6&queryname=PRC_LMP&version=12&market_run_id=DAM&startdatetime=20220715T08%3A00-0000&enddatetime=20220715T08%3A00-0000&grp_type=ALL\n"
     ]
    },
    {
     "name": "stderr",
     "output_type": "stream",
     "text": [
      "CAISO Parallel:  16%|███▉                    | 195/1201 [00:29<03:27,  4.85it/s]"
     ]
    },
    {
     "name": "stdout",
     "output_type": "stream",
     "text": [
      "❌ Download error for 20220717: 429 Client Error: Too Many Requests for url: https://oasis.caiso.com/oasisapi/SingleZip?resultformat=6&queryname=PRC_LMP&version=12&market_run_id=DAM&startdatetime=20220717T08%3A00-0000&enddatetime=20220717T08%3A00-0000&grp_type=ALL❌ Download error for 20220716: 429 Client Error: Too Many Requests for url: https://oasis.caiso.com/oasisapi/SingleZip?resultformat=6&queryname=PRC_LMP&version=12&market_run_id=DAM&startdatetime=20220716T08%3A00-0000&enddatetime=20220716T08%3A00-0000&grp_type=ALL\n",
      "\n",
      "❌ Download error for 20220718: 429 Client Error: Too Many Requests for url: https://oasis.caiso.com/oasisapi/SingleZip?resultformat=6&queryname=PRC_LMP&version=12&market_run_id=DAM&startdatetime=20220718T08%3A00-0000&enddatetime=20220718T08%3A00-0000&grp_type=ALL\n"
     ]
    },
    {
     "name": "stderr",
     "output_type": "stream",
     "text": [
      "CAISO Parallel:  17%|███▉                    | 199/1201 [00:30<03:18,  5.04it/s]"
     ]
    },
    {
     "name": "stdout",
     "output_type": "stream",
     "text": [
      "❌ Download error for 20220721: 429 Client Error: Too Many Requests for url: https://oasis.caiso.com/oasisapi/SingleZip?resultformat=6&queryname=PRC_LMP&version=12&market_run_id=DAM&startdatetime=20220721T08%3A00-0000&enddatetime=20220721T08%3A00-0000&grp_type=ALL\n",
      "❌ Download error for 20220720: 429 Client Error: Too Many Requests for url: https://oasis.caiso.com/oasisapi/SingleZip?resultformat=6&queryname=PRC_LMP&version=12&market_run_id=DAM&startdatetime=20220720T08%3A00-0000&enddatetime=20220720T08%3A00-0000&grp_type=ALL\n",
      "❌ Download error for 20220722: 429 Client Error: Too Many Requests for url: https://oasis.caiso.com/oasisapi/SingleZip?resultformat=6&queryname=PRC_LMP&version=12&market_run_id=DAM&startdatetime=20220722T08%3A00-0000&enddatetime=20220722T08%3A00-0000&grp_type=ALL\n"
     ]
    },
    {
     "name": "stderr",
     "output_type": "stream",
     "text": [
      "CAISO Parallel:  17%|████                    | 202/1201 [00:30<02:55,  5.70it/s]"
     ]
    },
    {
     "name": "stdout",
     "output_type": "stream",
     "text": [
      "❌ Download error for 20220723: 429 Client Error: Too Many Requests for url: https://oasis.caiso.com/oasisapi/SingleZip?resultformat=6&queryname=PRC_LMP&version=12&market_run_id=DAM&startdatetime=20220723T08%3A00-0000&enddatetime=20220723T08%3A00-0000&grp_type=ALL\n"
     ]
    },
    {
     "name": "stderr",
     "output_type": "stream",
     "text": [
      "CAISO Parallel:  17%|████                    | 203/1201 [00:31<03:19,  5.01it/s]"
     ]
    },
    {
     "name": "stdout",
     "output_type": "stream",
     "text": [
      "❌ Download error for 20220726: 429 Client Error: Too Many Requests for url: https://oasis.caiso.com/oasisapi/SingleZip?resultformat=6&queryname=PRC_LMP&version=12&market_run_id=DAM&startdatetime=20220726T08%3A00-0000&enddatetime=20220726T08%3A00-0000&grp_type=ALL❌ Download error for 20220724: 429 Client Error: Too Many Requests for url: https://oasis.caiso.com/oasisapi/SingleZip?resultformat=6&queryname=PRC_LMP&version=12&market_run_id=DAM&startdatetime=20220724T08%3A00-0000&enddatetime=20220724T08%3A00-0000&grp_type=ALL\n",
      "❌ Download error for 20220725: 429 Client Error: Too Many Requests for url: https://oasis.caiso.com/oasisapi/SingleZip?resultformat=6&queryname=PRC_LMP&version=12&market_run_id=DAM&startdatetime=20220725T08%3A00-0000&enddatetime=20220725T08%3A00-0000&grp_type=ALL\n",
      "\n"
     ]
    },
    {
     "name": "stderr",
     "output_type": "stream",
     "text": [
      "CAISO Parallel:  17%|████                    | 206/1201 [00:31<02:40,  6.21it/s]"
     ]
    },
    {
     "name": "stdout",
     "output_type": "stream",
     "text": [
      "❌ Download error for 20220727: 429 Client Error: Too Many Requests for url: https://oasis.caiso.com/oasisapi/SingleZip?resultformat=6&queryname=PRC_LMP&version=12&market_run_id=DAM&startdatetime=20220727T08%3A00-0000&enddatetime=20220727T08%3A00-0000&grp_type=ALL\n"
     ]
    },
    {
     "name": "stderr",
     "output_type": "stream",
     "text": [
      "CAISO Parallel:  17%|████▏                   | 207/1201 [00:31<03:20,  4.95it/s]"
     ]
    },
    {
     "name": "stdout",
     "output_type": "stream",
     "text": [
      "❌ Download error for 20220728: 429 Client Error: Too Many Requests for url: https://oasis.caiso.com/oasisapi/SingleZip?resultformat=6&queryname=PRC_LMP&version=12&market_run_id=DAM&startdatetime=20220728T08%3A00-0000&enddatetime=20220728T08%3A00-0000&grp_type=ALL❌ Download error for 20220730: 429 Client Error: Too Many Requests for url: https://oasis.caiso.com/oasisapi/SingleZip?resultformat=6&queryname=PRC_LMP&version=12&market_run_id=DAM&startdatetime=20220730T08%3A00-0000&enddatetime=20220730T08%3A00-0000&grp_type=ALL\n",
      "\n",
      "❌ Download error for 20220729: 429 Client Error: Too Many Requests for url: https://oasis.caiso.com/oasisapi/SingleZip?resultformat=6&queryname=PRC_LMP&version=12&market_run_id=DAM&startdatetime=20220729T08%3A00-0000&enddatetime=20220729T08%3A00-0000&grp_type=ALL\n"
     ]
    },
    {
     "name": "stderr",
     "output_type": "stream",
     "text": [
      "CAISO Parallel:  17%|████▏                   | 210/1201 [00:32<02:56,  5.63it/s]"
     ]
    },
    {
     "name": "stdout",
     "output_type": "stream",
     "text": [
      "❌ Download error for 20220731: 429 Client Error: Too Many Requests for url: https://oasis.caiso.com/oasisapi/SingleZip?resultformat=6&queryname=PRC_LMP&version=12&market_run_id=DAM&startdatetime=20220731T08%3A00-0000&enddatetime=20220731T08%3A00-0000&grp_type=ALL\n"
     ]
    },
    {
     "name": "stderr",
     "output_type": "stream",
     "text": [
      "CAISO Parallel:  18%|████▏                   | 211/1201 [00:32<03:02,  5.41it/s]"
     ]
    },
    {
     "name": "stdout",
     "output_type": "stream",
     "text": [
      "❌ Download error for 20220801: 429 Client Error: Too Many Requests for url: https://oasis.caiso.com/oasisapi/SingleZip?resultformat=6&queryname=PRC_LMP&version=12&market_run_id=DAM&startdatetime=20220801T08%3A00-0000&enddatetime=20220801T08%3A00-0000&grp_type=ALL❌ Download error for 20220802: 429 Client Error: Too Many Requests for url: https://oasis.caiso.com/oasisapi/SingleZip?resultformat=6&queryname=PRC_LMP&version=12&market_run_id=DAM&startdatetime=20220802T08%3A00-0000&enddatetime=20220802T08%3A00-0000&grp_type=ALL\n",
      "❌ Download error for 20220803: 429 Client Error: Too Many Requests for url: https://oasis.caiso.com/oasisapi/SingleZip?resultformat=6&queryname=PRC_LMP&version=12&market_run_id=DAM&startdatetime=20220803T08%3A00-0000&enddatetime=20220803T08%3A00-0000&grp_type=ALL\n",
      "\n"
     ]
    },
    {
     "name": "stderr",
     "output_type": "stream",
     "text": [
      "CAISO Parallel:  18%|████▎                   | 215/1201 [00:32<02:35,  6.35it/s]"
     ]
    },
    {
     "name": "stdout",
     "output_type": "stream",
     "text": [
      "❌ Download error for 20220804: 429 Client Error: Too Many Requests for url: https://oasis.caiso.com/oasisapi/SingleZip?resultformat=6&queryname=PRC_LMP&version=12&market_run_id=DAM&startdatetime=20220804T08%3A00-0000&enddatetime=20220804T08%3A00-0000&grp_type=ALL\n"
     ]
    },
    {
     "name": "stderr",
     "output_type": "stream",
     "text": [
      "CAISO Parallel:  18%|████▎                   | 216/1201 [00:33<02:42,  6.07it/s]"
     ]
    },
    {
     "name": "stdout",
     "output_type": "stream",
     "text": [
      "❌ Download error for 20220807: 429 Client Error: Too Many Requests for url: https://oasis.caiso.com/oasisapi/SingleZip?resultformat=6&queryname=PRC_LMP&version=12&market_run_id=DAM&startdatetime=20220807T08%3A00-0000&enddatetime=20220807T08%3A00-0000&grp_type=ALL❌ Download error for 20220805: 429 Client Error: Too Many Requests for url: https://oasis.caiso.com/oasisapi/SingleZip?resultformat=6&queryname=PRC_LMP&version=12&market_run_id=DAM&startdatetime=20220805T08%3A00-0000&enddatetime=20220805T08%3A00-0000&grp_type=ALL\n",
      "❌ Download error for 20220806: 429 Client Error: Too Many Requests for url: https://oasis.caiso.com/oasisapi/SingleZip?resultformat=6&queryname=PRC_LMP&version=12&market_run_id=DAM&startdatetime=20220806T08%3A00-0000&enddatetime=20220806T08%3A00-0000&grp_type=ALL\n",
      "❌ Download error for 20220808: 429 Client Error: Too Many Requests for url: https://oasis.caiso.com/oasisapi/SingleZip?resultformat=6&queryname=PRC_LMP&version=12&market_run_id=DAM&startdatetime=20220808T08%3A00-0000&enddatetime=20220808T08%3A00-0000&grp_type=ALL\n",
      "\n"
     ]
    },
    {
     "name": "stderr",
     "output_type": "stream",
     "text": [
      "CAISO Parallel:  18%|████▍                   | 220/1201 [00:33<02:36,  6.25it/s]"
     ]
    },
    {
     "name": "stdout",
     "output_type": "stream",
     "text": [
      "❌ Download error for 20220809: 429 Client Error: Too Many Requests for url: https://oasis.caiso.com/oasisapi/SingleZip?resultformat=6&queryname=PRC_LMP&version=12&market_run_id=DAM&startdatetime=20220809T08%3A00-0000&enddatetime=20220809T08%3A00-0000&grp_type=ALL\n"
     ]
    },
    {
     "name": "stderr",
     "output_type": "stream",
     "text": [
      "CAISO Parallel:  18%|████▍                   | 221/1201 [00:33<02:42,  6.02it/s]"
     ]
    },
    {
     "name": "stdout",
     "output_type": "stream",
     "text": [
      "❌ Download error for 20220810: 429 Client Error: Too Many Requests for url: https://oasis.caiso.com/oasisapi/SingleZip?resultformat=6&queryname=PRC_LMP&version=12&market_run_id=DAM&startdatetime=20220810T08%3A00-0000&enddatetime=20220810T08%3A00-0000&grp_type=ALL\n",
      "❌ Download error for 20220812: 429 Client Error: Too Many Requests for url: https://oasis.caiso.com/oasisapi/SingleZip?resultformat=6&queryname=PRC_LMP&version=12&market_run_id=DAM&startdatetime=20220812T08%3A00-0000&enddatetime=20220812T08%3A00-0000&grp_type=ALL\n",
      "❌ Download error for 20220813: 429 Client Error: Too Many Requests for url: https://oasis.caiso.com/oasisapi/SingleZip?resultformat=6&queryname=PRC_LMP&version=12&market_run_id=DAM&startdatetime=20220813T08%3A00-0000&enddatetime=20220813T08%3A00-0000&grp_type=ALL\n",
      "❌ Download error for 20220811: 429 Client Error: Too Many Requests for url: https://oasis.caiso.com/oasisapi/SingleZip?resultformat=6&queryname=PRC_LMP&version=12&market_run_id=DAM&startdatetime=20220811T08%3A00-0000&enddatetime=20220811T08%3A00-0000&grp_type=ALL\n"
     ]
    },
    {
     "name": "stderr",
     "output_type": "stream",
     "text": [
      "CAISO Parallel:  19%|████▍                   | 225/1201 [00:34<02:28,  6.56it/s]"
     ]
    },
    {
     "name": "stdout",
     "output_type": "stream",
     "text": [
      "❌ Download error for 20220814: 429 Client Error: Too Many Requests for url: https://oasis.caiso.com/oasisapi/SingleZip?resultformat=6&queryname=PRC_LMP&version=12&market_run_id=DAM&startdatetime=20220814T08%3A00-0000&enddatetime=20220814T08%3A00-0000&grp_type=ALL\n"
     ]
    },
    {
     "name": "stderr",
     "output_type": "stream",
     "text": [
      "CAISO Parallel:  19%|████▌                   | 226/1201 [00:34<02:49,  5.75it/s]"
     ]
    },
    {
     "name": "stdout",
     "output_type": "stream",
     "text": [
      "❌ Download error for 20220816: 429 Client Error: Too Many Requests for url: https://oasis.caiso.com/oasisapi/SingleZip?resultformat=6&queryname=PRC_LMP&version=12&market_run_id=DAM&startdatetime=20220816T08%3A00-0000&enddatetime=20220816T08%3A00-0000&grp_type=ALL❌ Download error for 20220818: 429 Client Error: Too Many Requests for url: https://oasis.caiso.com/oasisapi/SingleZip?resultformat=6&queryname=PRC_LMP&version=12&market_run_id=DAM&startdatetime=20220818T08%3A00-0000&enddatetime=20220818T08%3A00-0000&grp_type=ALL\n",
      "❌ Download error for 20220817: 429 Client Error: Too Many Requests for url: https://oasis.caiso.com/oasisapi/SingleZip?resultformat=6&queryname=PRC_LMP&version=12&market_run_id=DAM&startdatetime=20220817T08%3A00-0000&enddatetime=20220817T08%3A00-0000&grp_type=ALL\n",
      "\n",
      "❌ Download error for 20220815: 429 Client Error: Too Many Requests for url: https://oasis.caiso.com/oasisapi/SingleZip?resultformat=6&queryname=PRC_LMP&version=12&market_run_id=DAM&startdatetime=20220815T08%3A00-0000&enddatetime=20220815T08%3A00-0000&grp_type=ALL\n"
     ]
    },
    {
     "name": "stderr",
     "output_type": "stream",
     "text": [
      "CAISO Parallel:  19%|████▌                   | 230/1201 [00:35<02:30,  6.45it/s]"
     ]
    },
    {
     "name": "stdout",
     "output_type": "stream",
     "text": [
      "❌ Download error for 20220819: 429 Client Error: Too Many Requests for url: https://oasis.caiso.com/oasisapi/SingleZip?resultformat=6&queryname=PRC_LMP&version=12&market_run_id=DAM&startdatetime=20220819T08%3A00-0000&enddatetime=20220819T08%3A00-0000&grp_type=ALL\n"
     ]
    },
    {
     "name": "stderr",
     "output_type": "stream",
     "text": [
      "CAISO Parallel:  19%|████▌                   | 231/1201 [00:35<02:37,  6.14it/s]"
     ]
    },
    {
     "name": "stdout",
     "output_type": "stream",
     "text": [
      "❌ Download error for 20220823: 429 Client Error: Too Many Requests for url: https://oasis.caiso.com/oasisapi/SingleZip?resultformat=6&queryname=PRC_LMP&version=12&market_run_id=DAM&startdatetime=20220823T08%3A00-0000&enddatetime=20220823T08%3A00-0000&grp_type=ALL❌ Download error for 20220822: 429 Client Error: Too Many Requests for url: https://oasis.caiso.com/oasisapi/SingleZip?resultformat=6&queryname=PRC_LMP&version=12&market_run_id=DAM&startdatetime=20220822T08%3A00-0000&enddatetime=20220822T08%3A00-0000&grp_type=ALL\n",
      "❌ Download error for 20220821: 429 Client Error: Too Many Requests for url: https://oasis.caiso.com/oasisapi/SingleZip?resultformat=6&queryname=PRC_LMP&version=12&market_run_id=DAM&startdatetime=20220821T08%3A00-0000&enddatetime=20220821T08%3A00-0000&grp_type=ALL\n",
      "\n",
      "❌ Download error for 20220820: 429 Client Error: Too Many Requests for url: https://oasis.caiso.com/oasisapi/SingleZip?resultformat=6&queryname=PRC_LMP&version=12&market_run_id=DAM&startdatetime=20220820T08%3A00-0000&enddatetime=20220820T08%3A00-0000&grp_type=ALL\n"
     ]
    },
    {
     "name": "stderr",
     "output_type": "stream",
     "text": [
      "CAISO Parallel:  20%|████▋                   | 235/1201 [00:36<02:56,  5.48it/s]"
     ]
    },
    {
     "name": "stdout",
     "output_type": "stream",
     "text": [
      "❌ Download error for 20220827: 429 Client Error: Too Many Requests for url: https://oasis.caiso.com/oasisapi/SingleZip?resultformat=6&queryname=PRC_LMP&version=12&market_run_id=DAM&startdatetime=20220827T08%3A00-0000&enddatetime=20220827T08%3A00-0000&grp_type=ALL❌ Download error for 20220825: 429 Client Error: Too Many Requests for url: https://oasis.caiso.com/oasisapi/SingleZip?resultformat=6&queryname=PRC_LMP&version=12&market_run_id=DAM&startdatetime=20220825T08%3A00-0000&enddatetime=20220825T08%3A00-0000&grp_type=ALL\n",
      "❌ Download error for 20220828: 429 Client Error: Too Many Requests for url: https://oasis.caiso.com/oasisapi/SingleZip?resultformat=6&queryname=PRC_LMP&version=12&market_run_id=DAM&startdatetime=20220828T08%3A00-0000&enddatetime=20220828T08%3A00-0000&grp_type=ALL\n",
      "\n",
      "❌ Download error for 20220826: 429 Client Error: Too Many Requests for url: https://oasis.caiso.com/oasisapi/SingleZip?resultformat=6&queryname=PRC_LMP&version=12&market_run_id=DAM&startdatetime=20220826T08%3A00-0000&enddatetime=20220826T08%3A00-0000&grp_type=ALL\n"
     ]
    },
    {
     "name": "stderr",
     "output_type": "stream",
     "text": [
      "CAISO Parallel:  20%|████▊                   | 239/1201 [00:37<02:57,  5.43it/s]"
     ]
    },
    {
     "name": "stdout",
     "output_type": "stream",
     "text": [
      "❌ Download error for 20220901: 429 Client Error: Too Many Requests for url: https://oasis.caiso.com/oasisapi/SingleZip?resultformat=6&queryname=PRC_LMP&version=12&market_run_id=DAM&startdatetime=20220901T08%3A00-0000&enddatetime=20220901T08%3A00-0000&grp_type=ALL❌ Download error for 20220829: 429 Client Error: Too Many Requests for url: https://oasis.caiso.com/oasisapi/SingleZip?resultformat=6&queryname=PRC_LMP&version=12&market_run_id=DAM&startdatetime=20220829T08%3A00-0000&enddatetime=20220829T08%3A00-0000&grp_type=ALL\n",
      "❌ Download error for 20220831: 429 Client Error: Too Many Requests for url: https://oasis.caiso.com/oasisapi/SingleZip?resultformat=6&queryname=PRC_LMP&version=12&market_run_id=DAM&startdatetime=20220831T08%3A00-0000&enddatetime=20220831T08%3A00-0000&grp_type=ALL\n",
      "\n",
      "❌ Download error for 20220830: 429 Client Error: Too Many Requests for url: https://oasis.caiso.com/oasisapi/SingleZip?resultformat=6&queryname=PRC_LMP&version=12&market_run_id=DAM&startdatetime=20220830T08%3A00-0000&enddatetime=20220830T08%3A00-0000&grp_type=ALL\n"
     ]
    },
    {
     "name": "stderr",
     "output_type": "stream",
     "text": [
      "CAISO Parallel:  20%|████▊                   | 243/1201 [00:37<02:56,  5.44it/s]"
     ]
    },
    {
     "name": "stdout",
     "output_type": "stream",
     "text": [
      "❌ Download error for 20220904: 429 Client Error: Too Many Requests for url: https://oasis.caiso.com/oasisapi/SingleZip?resultformat=6&queryname=PRC_LMP&version=12&market_run_id=DAM&startdatetime=20220904T08%3A00-0000&enddatetime=20220904T08%3A00-0000&grp_type=ALL❌ Download error for 20220905: 429 Client Error: Too Many Requests for url: https://oasis.caiso.com/oasisapi/SingleZip?resultformat=6&queryname=PRC_LMP&version=12&market_run_id=DAM&startdatetime=20220905T08%3A00-0000&enddatetime=20220905T08%3A00-0000&grp_type=ALL\n",
      "\n",
      "❌ Download error for 20220903: 429 Client Error: Too Many Requests for url: https://oasis.caiso.com/oasisapi/SingleZip?resultformat=6&queryname=PRC_LMP&version=12&market_run_id=DAM&startdatetime=20220903T08%3A00-0000&enddatetime=20220903T08%3A00-0000&grp_type=ALL\n",
      "❌ Download error for 20220902: 429 Client Error: Too Many Requests for url: https://oasis.caiso.com/oasisapi/SingleZip?resultformat=6&queryname=PRC_LMP&version=12&market_run_id=DAM&startdatetime=20220902T08%3A00-0000&enddatetime=20220902T08%3A00-0000&grp_type=ALL\n"
     ]
    },
    {
     "name": "stderr",
     "output_type": "stream",
     "text": [
      "CAISO Parallel:  21%|████▉                   | 247/1201 [00:38<02:54,  5.46it/s]"
     ]
    },
    {
     "name": "stdout",
     "output_type": "stream",
     "text": [
      "❌ Download error for 20220907: 429 Client Error: Too Many Requests for url: https://oasis.caiso.com/oasisapi/SingleZip?resultformat=6&queryname=PRC_LMP&version=12&market_run_id=DAM&startdatetime=20220907T08%3A00-0000&enddatetime=20220907T08%3A00-0000&grp_type=ALL❌ Download error for 20220906: 429 Client Error: Too Many Requests for url: https://oasis.caiso.com/oasisapi/SingleZip?resultformat=6&queryname=PRC_LMP&version=12&market_run_id=DAM&startdatetime=20220906T08%3A00-0000&enddatetime=20220906T08%3A00-0000&grp_type=ALL\n",
      "\n",
      "❌ Download error for 20220909: 429 Client Error: Too Many Requests for url: https://oasis.caiso.com/oasisapi/SingleZip?resultformat=6&queryname=PRC_LMP&version=12&market_run_id=DAM&startdatetime=20220909T08%3A00-0000&enddatetime=20220909T08%3A00-0000&grp_type=ALL\n",
      "❌ Download error for 20220908: 429 Client Error: Too Many Requests for url: https://oasis.caiso.com/oasisapi/SingleZip?resultformat=6&queryname=PRC_LMP&version=12&market_run_id=DAM&startdatetime=20220908T08%3A00-0000&enddatetime=20220908T08%3A00-0000&grp_type=ALL\n"
     ]
    },
    {
     "name": "stderr",
     "output_type": "stream",
     "text": [
      "CAISO Parallel:  21%|█████                   | 251/1201 [00:39<02:47,  5.67it/s]"
     ]
    },
    {
     "name": "stdout",
     "output_type": "stream",
     "text": [
      "❌ Download error for 20220910: 429 Client Error: Too Many Requests for url: https://oasis.caiso.com/oasisapi/SingleZip?resultformat=6&queryname=PRC_LMP&version=12&market_run_id=DAM&startdatetime=20220910T08%3A00-0000&enddatetime=20220910T08%3A00-0000&grp_type=ALL\n",
      "❌ Download error for 20220911: 429 Client Error: Too Many Requests for url: https://oasis.caiso.com/oasisapi/SingleZip?resultformat=6&queryname=PRC_LMP&version=12&market_run_id=DAM&startdatetime=20220911T08%3A00-0000&enddatetime=20220911T08%3A00-0000&grp_type=ALL\n"
     ]
    },
    {
     "name": "stderr",
     "output_type": "stream",
     "text": [
      "CAISO Parallel:  21%|█████                   | 253/1201 [00:39<02:41,  5.86it/s]"
     ]
    },
    {
     "name": "stdout",
     "output_type": "stream",
     "text": [
      "❌ Download error for 20220913: 429 Client Error: Too Many Requests for url: https://oasis.caiso.com/oasisapi/SingleZip?resultformat=6&queryname=PRC_LMP&version=12&market_run_id=DAM&startdatetime=20220913T08%3A00-0000&enddatetime=20220913T08%3A00-0000&grp_type=ALL❌ Download error for 20220912: 429 Client Error: Too Many Requests for url: https://oasis.caiso.com/oasisapi/SingleZip?resultformat=6&queryname=PRC_LMP&version=12&market_run_id=DAM&startdatetime=20220912T08%3A00-0000&enddatetime=20220912T08%3A00-0000&grp_type=ALL\n",
      "\n"
     ]
    },
    {
     "name": "stderr",
     "output_type": "stream",
     "text": [
      "CAISO Parallel:  21%|█████                   | 255/1201 [00:39<02:49,  5.57it/s]"
     ]
    },
    {
     "name": "stdout",
     "output_type": "stream",
     "text": [
      "❌ Download error for 20220914: 429 Client Error: Too Many Requests for url: https://oasis.caiso.com/oasisapi/SingleZip?resultformat=6&queryname=PRC_LMP&version=12&market_run_id=DAM&startdatetime=20220914T08%3A00-0000&enddatetime=20220914T08%3A00-0000&grp_type=ALL\n",
      "❌ Download error for 20220915: 429 Client Error: Too Many Requests for url: https://oasis.caiso.com/oasisapi/SingleZip?resultformat=6&queryname=PRC_LMP&version=12&market_run_id=DAM&startdatetime=20220915T08%3A00-0000&enddatetime=20220915T08%3A00-0000&grp_type=ALL\n"
     ]
    },
    {
     "name": "stderr",
     "output_type": "stream",
     "text": [
      "CAISO Parallel:  21%|█████▏                  | 257/1201 [00:40<02:43,  5.78it/s]"
     ]
    },
    {
     "name": "stdout",
     "output_type": "stream",
     "text": [
      "❌ Download error for 20220917: 429 Client Error: Too Many Requests for url: https://oasis.caiso.com/oasisapi/SingleZip?resultformat=6&queryname=PRC_LMP&version=12&market_run_id=DAM&startdatetime=20220917T08%3A00-0000&enddatetime=20220917T08%3A00-0000&grp_type=ALL\n",
      "❌ Download error for 20220916: 429 Client Error: Too Many Requests for url: https://oasis.caiso.com/oasisapi/SingleZip?resultformat=6&queryname=PRC_LMP&version=12&market_run_id=DAM&startdatetime=20220916T08%3A00-0000&enddatetime=20220916T08%3A00-0000&grp_type=ALL\n"
     ]
    },
    {
     "name": "stderr",
     "output_type": "stream",
     "text": [
      "CAISO Parallel:  22%|█████▏                  | 260/1201 [00:40<02:40,  5.85it/s]"
     ]
    },
    {
     "name": "stdout",
     "output_type": "stream",
     "text": [
      "❌ Download error for 20220918: 429 Client Error: Too Many Requests for url: https://oasis.caiso.com/oasisapi/SingleZip?resultformat=6&queryname=PRC_LMP&version=12&market_run_id=DAM&startdatetime=20220918T08%3A00-0000&enddatetime=20220918T08%3A00-0000&grp_type=ALL\n",
      "❌ Download error for 20220919: 429 Client Error: Too Many Requests for url: https://oasis.caiso.com/oasisapi/SingleZip?resultformat=6&queryname=PRC_LMP&version=12&market_run_id=DAM&startdatetime=20220919T08%3A00-0000&enddatetime=20220919T08%3A00-0000&grp_type=ALL\n"
     ]
    },
    {
     "name": "stderr",
     "output_type": "stream",
     "text": [
      "CAISO Parallel:  22%|█████▏                  | 261/1201 [00:41<03:03,  5.12it/s]"
     ]
    },
    {
     "name": "stdout",
     "output_type": "stream",
     "text": [
      "❌ Download error for 20220921: 429 Client Error: Too Many Requests for url: https://oasis.caiso.com/oasisapi/SingleZip?resultformat=6&queryname=PRC_LMP&version=12&market_run_id=DAM&startdatetime=20220921T08%3A00-0000&enddatetime=20220921T08%3A00-0000&grp_type=ALL❌ Download error for 20220920: 429 Client Error: Too Many Requests for url: https://oasis.caiso.com/oasisapi/SingleZip?resultformat=6&queryname=PRC_LMP&version=12&market_run_id=DAM&startdatetime=20220920T08%3A00-0000&enddatetime=20220920T08%3A00-0000&grp_type=ALL\n",
      "\n"
     ]
    },
    {
     "name": "stderr",
     "output_type": "stream",
     "text": [
      "CAISO Parallel:  22%|█████▎                  | 263/1201 [00:41<02:37,  5.96it/s]"
     ]
    },
    {
     "name": "stdout",
     "output_type": "stream",
     "text": [
      "❌ Download error for 20220922: 429 Client Error: Too Many Requests for url: https://oasis.caiso.com/oasisapi/SingleZip?resultformat=6&queryname=PRC_LMP&version=12&market_run_id=DAM&startdatetime=20220922T08%3A00-0000&enddatetime=20220922T08%3A00-0000&grp_type=ALL\n"
     ]
    },
    {
     "name": "stderr",
     "output_type": "stream",
     "text": [
      "CAISO Parallel:  22%|█████▎                  | 264/1201 [00:41<02:44,  5.71it/s]"
     ]
    },
    {
     "name": "stdout",
     "output_type": "stream",
     "text": [
      "❌ Download error for 20220923: 429 Client Error: Too Many Requests for url: https://oasis.caiso.com/oasisapi/SingleZip?resultformat=6&queryname=PRC_LMP&version=12&market_run_id=DAM&startdatetime=20220923T08%3A00-0000&enddatetime=20220923T08%3A00-0000&grp_type=ALL\n"
     ]
    },
    {
     "name": "stderr",
     "output_type": "stream",
     "text": [
      "CAISO Parallel:  22%|█████▎                  | 265/1201 [00:41<03:14,  4.80it/s]"
     ]
    },
    {
     "name": "stdout",
     "output_type": "stream",
     "text": [
      "❌ Download error for 20220924: 429 Client Error: Too Many Requests for url: https://oasis.caiso.com/oasisapi/SingleZip?resultformat=6&queryname=PRC_LMP&version=12&market_run_id=DAM&startdatetime=20220924T08%3A00-0000&enddatetime=20220924T08%3A00-0000&grp_type=ALL❌ Download error for 20220925: 429 Client Error: Too Many Requests for url: https://oasis.caiso.com/oasisapi/SingleZip?resultformat=6&queryname=PRC_LMP&version=12&market_run_id=DAM&startdatetime=20220925T08%3A00-0000&enddatetime=20220925T08%3A00-0000&grp_type=ALL\n",
      "\n"
     ]
    },
    {
     "name": "stderr",
     "output_type": "stream",
     "text": [
      "CAISO Parallel:  22%|█████▎                  | 268/1201 [00:42<02:57,  5.27it/s]"
     ]
    },
    {
     "name": "stdout",
     "output_type": "stream",
     "text": [
      "❌ Download error for 20220927: 429 Client Error: Too Many Requests for url: https://oasis.caiso.com/oasisapi/SingleZip?resultformat=6&queryname=PRC_LMP&version=12&market_run_id=DAM&startdatetime=20220927T08%3A00-0000&enddatetime=20220927T08%3A00-0000&grp_type=ALL\n"
     ]
    },
    {
     "name": "stderr",
     "output_type": "stream",
     "text": [
      "CAISO Parallel:  22%|█████▍                  | 269/1201 [00:42<03:16,  4.74it/s]"
     ]
    },
    {
     "name": "stdout",
     "output_type": "stream",
     "text": [
      "❌ Download error for 20220929: 429 Client Error: Too Many Requests for url: https://oasis.caiso.com/oasisapi/SingleZip?resultformat=6&queryname=PRC_LMP&version=12&market_run_id=DAM&startdatetime=20220929T08%3A00-0000&enddatetime=20220929T08%3A00-0000&grp_type=ALL❌ Download error for 20220928: 429 Client Error: Too Many Requests for url: https://oasis.caiso.com/oasisapi/SingleZip?resultformat=6&queryname=PRC_LMP&version=12&market_run_id=DAM&startdatetime=20220928T08%3A00-0000&enddatetime=20220928T08%3A00-0000&grp_type=ALL\n",
      "❌ Download error for 20220930: 429 Client Error: Too Many Requests for url: https://oasis.caiso.com/oasisapi/SingleZip?resultformat=6&queryname=PRC_LMP&version=12&market_run_id=DAM&startdatetime=20220930T08%3A00-0000&enddatetime=20220930T08%3A00-0000&grp_type=ALL\n",
      "\n"
     ]
    },
    {
     "name": "stderr",
     "output_type": "stream",
     "text": [
      "CAISO Parallel:  23%|█████▍                  | 272/1201 [00:43<02:48,  5.51it/s]"
     ]
    },
    {
     "name": "stdout",
     "output_type": "stream",
     "text": [
      "❌ Download error for 20221001: 429 Client Error: Too Many Requests for url: https://oasis.caiso.com/oasisapi/SingleZip?resultformat=6&queryname=PRC_LMP&version=12&market_run_id=DAM&startdatetime=20221001T08%3A00-0000&enddatetime=20221001T08%3A00-0000&grp_type=ALL\n"
     ]
    },
    {
     "name": "stderr",
     "output_type": "stream",
     "text": [
      "CAISO Parallel:  23%|█████▍                  | 273/1201 [00:43<03:08,  4.93it/s]"
     ]
    },
    {
     "name": "stdout",
     "output_type": "stream",
     "text": [
      "❌ Download error for 20221002: 429 Client Error: Too Many Requests for url: https://oasis.caiso.com/oasisapi/SingleZip?resultformat=6&queryname=PRC_LMP&version=12&market_run_id=DAM&startdatetime=20221002T08%3A00-0000&enddatetime=20221002T08%3A00-0000&grp_type=ALL❌ Download error for 20221003: 429 Client Error: Too Many Requests for url: https://oasis.caiso.com/oasisapi/SingleZip?resultformat=6&queryname=PRC_LMP&version=12&market_run_id=DAM&startdatetime=20221003T08%3A00-0000&enddatetime=20221003T08%3A00-0000&grp_type=ALL\n",
      "\n",
      "❌ Download error for 20221004: 429 Client Error: Too Many Requests for url: https://oasis.caiso.com/oasisapi/SingleZip?resultformat=6&queryname=PRC_LMP&version=12&market_run_id=DAM&startdatetime=20221004T08%3A00-0000&enddatetime=20221004T08%3A00-0000&grp_type=ALL\n"
     ]
    },
    {
     "name": "stderr",
     "output_type": "stream",
     "text": [
      "CAISO Parallel:  23%|█████▌                  | 276/1201 [00:43<02:42,  5.70it/s]"
     ]
    },
    {
     "name": "stdout",
     "output_type": "stream",
     "text": [
      "❌ Download error for 20221005: 429 Client Error: Too Many Requests for url: https://oasis.caiso.com/oasisapi/SingleZip?resultformat=6&queryname=PRC_LMP&version=12&market_run_id=DAM&startdatetime=20221005T08%3A00-0000&enddatetime=20221005T08%3A00-0000&grp_type=ALL\n"
     ]
    },
    {
     "name": "stderr",
     "output_type": "stream",
     "text": [
      "CAISO Parallel:  23%|█████▌                  | 277/1201 [00:44<03:20,  4.60it/s]"
     ]
    },
    {
     "name": "stdout",
     "output_type": "stream",
     "text": [
      "❌ Download error for 20221007: 429 Client Error: Too Many Requests for url: https://oasis.caiso.com/oasisapi/SingleZip?resultformat=6&queryname=PRC_LMP&version=12&market_run_id=DAM&startdatetime=20221007T08%3A00-0000&enddatetime=20221007T08%3A00-0000&grp_type=ALL❌ Download error for 20221008: 429 Client Error: Too Many Requests for url: https://oasis.caiso.com/oasisapi/SingleZip?resultformat=6&queryname=PRC_LMP&version=12&market_run_id=DAM&startdatetime=20221008T08%3A00-0000&enddatetime=20221008T08%3A00-0000&grp_type=ALL\n",
      "❌ Download error for 20221006: 429 Client Error: Too Many Requests for url: https://oasis.caiso.com/oasisapi/SingleZip?resultformat=6&queryname=PRC_LMP&version=12&market_run_id=DAM&startdatetime=20221006T08%3A00-0000&enddatetime=20221006T08%3A00-0000&grp_type=ALL\n",
      "\n"
     ]
    },
    {
     "name": "stderr",
     "output_type": "stream",
     "text": [
      "CAISO Parallel:  23%|█████▌                  | 280/1201 [00:44<02:26,  6.30it/s]"
     ]
    },
    {
     "name": "stdout",
     "output_type": "stream",
     "text": [
      "❌ Download error for 20221009: 429 Client Error: Too Many Requests for url: https://oasis.caiso.com/oasisapi/SingleZip?resultformat=6&queryname=PRC_LMP&version=12&market_run_id=DAM&startdatetime=20221009T08%3A00-0000&enddatetime=20221009T08%3A00-0000&grp_type=ALL\n"
     ]
    },
    {
     "name": "stderr",
     "output_type": "stream",
     "text": [
      "CAISO Parallel:  23%|█████▌                  | 281/1201 [00:45<03:19,  4.61it/s]"
     ]
    },
    {
     "name": "stdout",
     "output_type": "stream",
     "text": [
      "❌ Download error for 20221010: 429 Client Error: Too Many Requests for url: https://oasis.caiso.com/oasisapi/SingleZip?resultformat=6&queryname=PRC_LMP&version=12&market_run_id=DAM&startdatetime=20221010T08%3A00-0000&enddatetime=20221010T08%3A00-0000&grp_type=ALL❌ Download error for 20221011: 429 Client Error: Too Many Requests for url: https://oasis.caiso.com/oasisapi/SingleZip?resultformat=6&queryname=PRC_LMP&version=12&market_run_id=DAM&startdatetime=20221011T08%3A00-0000&enddatetime=20221011T08%3A00-0000&grp_type=ALL\n",
      "❌ Download error for 20221012: 429 Client Error: Too Many Requests for url: https://oasis.caiso.com/oasisapi/SingleZip?resultformat=6&queryname=PRC_LMP&version=12&market_run_id=DAM&startdatetime=20221012T08%3A00-0000&enddatetime=20221012T08%3A00-0000&grp_type=ALL\n",
      "\n"
     ]
    },
    {
     "name": "stderr",
     "output_type": "stream",
     "text": [
      "CAISO Parallel:  24%|█████▋                  | 284/1201 [00:45<02:35,  5.89it/s]"
     ]
    },
    {
     "name": "stdout",
     "output_type": "stream",
     "text": [
      "❌ Download error for 20221013: 429 Client Error: Too Many Requests for url: https://oasis.caiso.com/oasisapi/SingleZip?resultformat=6&queryname=PRC_LMP&version=12&market_run_id=DAM&startdatetime=20221013T08%3A00-0000&enddatetime=20221013T08%3A00-0000&grp_type=ALL\n"
     ]
    },
    {
     "name": "stderr",
     "output_type": "stream",
     "text": [
      "CAISO Parallel:  24%|█████▋                  | 285/1201 [00:45<03:28,  4.40it/s]"
     ]
    },
    {
     "name": "stdout",
     "output_type": "stream",
     "text": [
      "❌ Download error for 20221014: 429 Client Error: Too Many Requests for url: https://oasis.caiso.com/oasisapi/SingleZip?resultformat=6&queryname=PRC_LMP&version=12&market_run_id=DAM&startdatetime=20221014T08%3A00-0000&enddatetime=20221014T08%3A00-0000&grp_type=ALL\n",
      "❌ Download error for 20221015: 429 Client Error: Too Many Requests for url: https://oasis.caiso.com/oasisapi/SingleZip?resultformat=6&queryname=PRC_LMP&version=12&market_run_id=DAM&startdatetime=20221015T08%3A00-0000&enddatetime=20221015T08%3A00-0000&grp_type=ALL\n",
      "❌ Download error for 20221016: 429 Client Error: Too Many Requests for url: https://oasis.caiso.com/oasisapi/SingleZip?resultformat=6&queryname=PRC_LMP&version=12&market_run_id=DAM&startdatetime=20221016T08%3A00-0000&enddatetime=20221016T08%3A00-0000&grp_type=ALL\n"
     ]
    },
    {
     "name": "stderr",
     "output_type": "stream",
     "text": [
      "CAISO Parallel:  24%|█████▊                  | 288/1201 [00:46<02:28,  6.17it/s]"
     ]
    },
    {
     "name": "stdout",
     "output_type": "stream",
     "text": [
      "❌ Download error for 20221017: 429 Client Error: Too Many Requests for url: https://oasis.caiso.com/oasisapi/SingleZip?resultformat=6&queryname=PRC_LMP&version=12&market_run_id=DAM&startdatetime=20221017T08%3A00-0000&enddatetime=20221017T08%3A00-0000&grp_type=ALL\n"
     ]
    },
    {
     "name": "stderr",
     "output_type": "stream",
     "text": [
      "CAISO Parallel:  24%|█████▊                  | 289/1201 [00:46<03:20,  4.54it/s]"
     ]
    },
    {
     "name": "stdout",
     "output_type": "stream",
     "text": [
      "❌ Download error for 20221018: 429 Client Error: Too Many Requests for url: https://oasis.caiso.com/oasisapi/SingleZip?resultformat=6&queryname=PRC_LMP&version=12&market_run_id=DAM&startdatetime=20221018T08%3A00-0000&enddatetime=20221018T08%3A00-0000&grp_type=ALL\n",
      "❌ Download error for 20221019: 429 Client Error: Too Many Requests for url: https://oasis.caiso.com/oasisapi/SingleZip?resultformat=6&queryname=PRC_LMP&version=12&market_run_id=DAM&startdatetime=20221019T08%3A00-0000&enddatetime=20221019T08%3A00-0000&grp_type=ALL\n",
      "❌ Download error for 20221020: 429 Client Error: Too Many Requests for url: https://oasis.caiso.com/oasisapi/SingleZip?resultformat=6&queryname=PRC_LMP&version=12&market_run_id=DAM&startdatetime=20221020T08%3A00-0000&enddatetime=20221020T08%3A00-0000&grp_type=ALL\n"
     ]
    },
    {
     "name": "stderr",
     "output_type": "stream",
     "text": [
      "CAISO Parallel:  24%|█████▊                  | 292/1201 [00:46<02:39,  5.70it/s]"
     ]
    },
    {
     "name": "stdout",
     "output_type": "stream",
     "text": [
      "❌ Download error for 20221021: 429 Client Error: Too Many Requests for url: https://oasis.caiso.com/oasisapi/SingleZip?resultformat=6&queryname=PRC_LMP&version=12&market_run_id=DAM&startdatetime=20221021T08%3A00-0000&enddatetime=20221021T08%3A00-0000&grp_type=ALL\n"
     ]
    },
    {
     "name": "stderr",
     "output_type": "stream",
     "text": [
      "CAISO Parallel:  24%|█████▊                  | 293/1201 [00:47<03:15,  4.64it/s]"
     ]
    },
    {
     "name": "stdout",
     "output_type": "stream",
     "text": [
      "❌ Download error for 20221022: 429 Client Error: Too Many Requests for url: https://oasis.caiso.com/oasisapi/SingleZip?resultformat=6&queryname=PRC_LMP&version=12&market_run_id=DAM&startdatetime=20221022T08%3A00-0000&enddatetime=20221022T08%3A00-0000&grp_type=ALL\n",
      "❌ Download error for 20221023: 429 Client Error: Too Many Requests for url: https://oasis.caiso.com/oasisapi/SingleZip?resultformat=6&queryname=PRC_LMP&version=12&market_run_id=DAM&startdatetime=20221023T08%3A00-0000&enddatetime=20221023T08%3A00-0000&grp_type=ALL\n",
      "❌ Download error for 20221024: 429 Client Error: Too Many Requests for url: https://oasis.caiso.com/oasisapi/SingleZip?resultformat=6&queryname=PRC_LMP&version=12&market_run_id=DAM&startdatetime=20221024T08%3A00-0000&enddatetime=20221024T08%3A00-0000&grp_type=ALL\n"
     ]
    },
    {
     "name": "stderr",
     "output_type": "stream",
     "text": [
      "CAISO Parallel:  25%|█████▉                  | 296/1201 [00:47<02:37,  5.76it/s]"
     ]
    },
    {
     "name": "stdout",
     "output_type": "stream",
     "text": [
      "❌ Download error for 20221025: 429 Client Error: Too Many Requests for url: https://oasis.caiso.com/oasisapi/SingleZip?resultformat=6&queryname=PRC_LMP&version=12&market_run_id=DAM&startdatetime=20221025T08%3A00-0000&enddatetime=20221025T08%3A00-0000&grp_type=ALL\n"
     ]
    },
    {
     "name": "stderr",
     "output_type": "stream",
     "text": [
      "CAISO Parallel:  25%|█████▉                  | 298/1201 [00:48<02:56,  5.13it/s]"
     ]
    },
    {
     "name": "stdout",
     "output_type": "stream",
     "text": [
      "❌ Download error for 20221027: 429 Client Error: Too Many Requests for url: https://oasis.caiso.com/oasisapi/SingleZip?resultformat=6&queryname=PRC_LMP&version=12&market_run_id=DAM&startdatetime=20221027T08%3A00-0000&enddatetime=20221027T08%3A00-0000&grp_type=ALL❌ Download error for 20221028: 429 Client Error: Too Many Requests for url: https://oasis.caiso.com/oasisapi/SingleZip?resultformat=6&queryname=PRC_LMP&version=12&market_run_id=DAM&startdatetime=20221028T08%3A00-0000&enddatetime=20221028T08%3A00-0000&grp_type=ALL\n",
      "\n"
     ]
    },
    {
     "name": "stderr",
     "output_type": "stream",
     "text": [
      "CAISO Parallel:  25%|█████▉                  | 300/1201 [00:48<02:44,  5.48it/s]"
     ]
    },
    {
     "name": "stdout",
     "output_type": "stream",
     "text": [
      "❌ Download error for 20221029: 429 Client Error: Too Many Requests for url: https://oasis.caiso.com/oasisapi/SingleZip?resultformat=6&queryname=PRC_LMP&version=12&market_run_id=DAM&startdatetime=20221029T08%3A00-0000&enddatetime=20221029T08%3A00-0000&grp_type=ALL❌ Download error for 20221030: 429 Client Error: Too Many Requests for url: https://oasis.caiso.com/oasisapi/SingleZip?resultformat=6&queryname=PRC_LMP&version=12&market_run_id=DAM&startdatetime=20221030T08%3A00-0000&enddatetime=20221030T08%3A00-0000&grp_type=ALL\n",
      "\n"
     ]
    },
    {
     "name": "stderr",
     "output_type": "stream",
     "text": [
      "CAISO Parallel:  25%|██████                  | 302/1201 [00:48<02:52,  5.21it/s]"
     ]
    },
    {
     "name": "stdout",
     "output_type": "stream",
     "text": [
      "❌ Download error for 20221031: 429 Client Error: Too Many Requests for url: https://oasis.caiso.com/oasisapi/SingleZip?resultformat=6&queryname=PRC_LMP&version=12&market_run_id=DAM&startdatetime=20221031T08%3A00-0000&enddatetime=20221031T08%3A00-0000&grp_type=ALL❌ Download error for 20221101: 429 Client Error: Too Many Requests for url: https://oasis.caiso.com/oasisapi/SingleZip?resultformat=6&queryname=PRC_LMP&version=12&market_run_id=DAM&startdatetime=20221101T08%3A00-0000&enddatetime=20221101T08%3A00-0000&grp_type=ALL\n",
      "\n"
     ]
    },
    {
     "name": "stderr",
     "output_type": "stream",
     "text": [
      "CAISO Parallel:  25%|██████                  | 304/1201 [00:49<02:40,  5.57it/s]"
     ]
    },
    {
     "name": "stdout",
     "output_type": "stream",
     "text": [
      "❌ Download error for 20221103: 429 Client Error: Too Many Requests for url: https://oasis.caiso.com/oasisapi/SingleZip?resultformat=6&queryname=PRC_LMP&version=12&market_run_id=DAM&startdatetime=20221103T08%3A00-0000&enddatetime=20221103T08%3A00-0000&grp_type=ALL❌ Download error for 20221102: 429 Client Error: Too Many Requests for url: https://oasis.caiso.com/oasisapi/SingleZip?resultformat=6&queryname=PRC_LMP&version=12&market_run_id=DAM&startdatetime=20221102T08%3A00-0000&enddatetime=20221102T08%3A00-0000&grp_type=ALL\n",
      "\n"
     ]
    },
    {
     "name": "stderr",
     "output_type": "stream",
     "text": [
      "CAISO Parallel:  25%|██████                  | 306/1201 [00:49<02:48,  5.31it/s]"
     ]
    },
    {
     "name": "stdout",
     "output_type": "stream",
     "text": [
      "❌ Download error for 20221104: 429 Client Error: Too Many Requests for url: https://oasis.caiso.com/oasisapi/SingleZip?resultformat=6&queryname=PRC_LMP&version=12&market_run_id=DAM&startdatetime=20221104T08%3A00-0000&enddatetime=20221104T08%3A00-0000&grp_type=ALL\n",
      "❌ Download error for 20221105: 429 Client Error: Too Many Requests for url: https://oasis.caiso.com/oasisapi/SingleZip?resultformat=6&queryname=PRC_LMP&version=12&market_run_id=DAM&startdatetime=20221105T08%3A00-0000&enddatetime=20221105T08%3A00-0000&grp_type=ALL\n"
     ]
    },
    {
     "name": "stderr",
     "output_type": "stream",
     "text": [
      "CAISO Parallel:  26%|██████▏                 | 308/1201 [00:49<02:41,  5.52it/s]"
     ]
    },
    {
     "name": "stdout",
     "output_type": "stream",
     "text": [
      "❌ Download error for 20221107: 429 Client Error: Too Many Requests for url: https://oasis.caiso.com/oasisapi/SingleZip?resultformat=6&queryname=PRC_LMP&version=12&market_run_id=DAM&startdatetime=20221107T08%3A00-0000&enddatetime=20221107T08%3A00-0000&grp_type=ALL❌ Download error for 20221106: 429 Client Error: Too Many Requests for url: https://oasis.caiso.com/oasisapi/SingleZip?resultformat=6&queryname=PRC_LMP&version=12&market_run_id=DAM&startdatetime=20221106T08%3A00-0000&enddatetime=20221106T08%3A00-0000&grp_type=ALL\n",
      "\n"
     ]
    },
    {
     "name": "stderr",
     "output_type": "stream",
     "text": [
      "CAISO Parallel:  26%|██████▏                 | 310/1201 [00:50<02:35,  5.74it/s]"
     ]
    },
    {
     "name": "stdout",
     "output_type": "stream",
     "text": [
      "❌ Download error for 20221109: 429 Client Error: Too Many Requests for url: https://oasis.caiso.com/oasisapi/SingleZip?resultformat=6&queryname=PRC_LMP&version=12&market_run_id=DAM&startdatetime=20221109T08%3A00-0000&enddatetime=20221109T08%3A00-0000&grp_type=ALL\n",
      "❌ Download error for 20221108: 429 Client Error: Too Many Requests for url: https://oasis.caiso.com/oasisapi/SingleZip?resultformat=6&queryname=PRC_LMP&version=12&market_run_id=DAM&startdatetime=20221108T08%3A00-0000&enddatetime=20221108T08%3A00-0000&grp_type=ALL\n"
     ]
    },
    {
     "name": "stderr",
     "output_type": "stream",
     "text": [
      "CAISO Parallel:  26%|██████▏                 | 312/1201 [00:50<02:46,  5.35it/s]"
     ]
    },
    {
     "name": "stdout",
     "output_type": "stream",
     "text": [
      "❌ Download error for 20221111: 429 Client Error: Too Many Requests for url: https://oasis.caiso.com/oasisapi/SingleZip?resultformat=6&queryname=PRC_LMP&version=12&market_run_id=DAM&startdatetime=20221111T08%3A00-0000&enddatetime=20221111T08%3A00-0000&grp_type=ALL\n",
      "❌ Download error for 20221110: 429 Client Error: Too Many Requests for url: https://oasis.caiso.com/oasisapi/SingleZip?resultformat=6&queryname=PRC_LMP&version=12&market_run_id=DAM&startdatetime=20221110T08%3A00-0000&enddatetime=20221110T08%3A00-0000&grp_type=ALL\n"
     ]
    },
    {
     "name": "stderr",
     "output_type": "stream",
     "text": [
      "CAISO Parallel:  26%|██████▎                 | 314/1201 [00:51<03:02,  4.87it/s]"
     ]
    },
    {
     "name": "stdout",
     "output_type": "stream",
     "text": [
      "❌ Download error for 20221112: 429 Client Error: Too Many Requests for url: https://oasis.caiso.com/oasisapi/SingleZip?resultformat=6&queryname=PRC_LMP&version=12&market_run_id=DAM&startdatetime=20221112T08%3A00-0000&enddatetime=20221112T08%3A00-0000&grp_type=ALL❌ Download error for 20221113: 429 Client Error: Too Many Requests for url: https://oasis.caiso.com/oasisapi/SingleZip?resultformat=6&queryname=PRC_LMP&version=12&market_run_id=DAM&startdatetime=20221113T08%3A00-0000&enddatetime=20221113T08%3A00-0000&grp_type=ALL\n",
      "\n"
     ]
    },
    {
     "name": "stderr",
     "output_type": "stream",
     "text": [
      "CAISO Parallel:  26%|██████▎                 | 316/1201 [00:51<02:37,  5.63it/s]"
     ]
    },
    {
     "name": "stdout",
     "output_type": "stream",
     "text": [
      "❌ Download error for 20221114: 429 Client Error: Too Many Requests for url: https://oasis.caiso.com/oasisapi/SingleZip?resultformat=6&queryname=PRC_LMP&version=12&market_run_id=DAM&startdatetime=20221114T08%3A00-0000&enddatetime=20221114T08%3A00-0000&grp_type=ALL❌ Download error for 20221115: 429 Client Error: Too Many Requests for url: https://oasis.caiso.com/oasisapi/SingleZip?resultformat=6&queryname=PRC_LMP&version=12&market_run_id=DAM&startdatetime=20221115T08%3A00-0000&enddatetime=20221115T08%3A00-0000&grp_type=ALL\n",
      "\n"
     ]
    },
    {
     "name": "stderr",
     "output_type": "stream",
     "text": [
      "CAISO Parallel:  26%|██████▎                 | 318/1201 [00:51<02:58,  4.94it/s]"
     ]
    },
    {
     "name": "stdout",
     "output_type": "stream",
     "text": [
      "❌ Download error for 20221116: 429 Client Error: Too Many Requests for url: https://oasis.caiso.com/oasisapi/SingleZip?resultformat=6&queryname=PRC_LMP&version=12&market_run_id=DAM&startdatetime=20221116T08%3A00-0000&enddatetime=20221116T08%3A00-0000&grp_type=ALL❌ Download error for 20221117: 429 Client Error: Too Many Requests for url: https://oasis.caiso.com/oasisapi/SingleZip?resultformat=6&queryname=PRC_LMP&version=12&market_run_id=DAM&startdatetime=20221117T08%3A00-0000&enddatetime=20221117T08%3A00-0000&grp_type=ALL\n",
      "\n"
     ]
    },
    {
     "name": "stderr",
     "output_type": "stream",
     "text": [
      "CAISO Parallel:  27%|██████▍                 | 322/1201 [00:52<01:59,  7.36it/s]"
     ]
    },
    {
     "name": "stdout",
     "output_type": "stream",
     "text": [
      "❌ Download error for 20221119: 429 Client Error: Too Many Requests for url: https://oasis.caiso.com/oasisapi/SingleZip?resultformat=6&queryname=PRC_LMP&version=12&market_run_id=DAM&startdatetime=20221119T08%3A00-0000&enddatetime=20221119T08%3A00-0000&grp_type=ALL❌ Download error for 20221118: 429 Client Error: Too Many Requests for url: https://oasis.caiso.com/oasisapi/SingleZip?resultformat=6&queryname=PRC_LMP&version=12&market_run_id=DAM&startdatetime=20221118T08%3A00-0000&enddatetime=20221118T08%3A00-0000&grp_type=ALL\n",
      "\n"
     ]
    },
    {
     "name": "stderr",
     "output_type": "stream",
     "text": [
      "CAISO Parallel:  27%|██████▍                 | 324/1201 [00:52<02:18,  6.32it/s]"
     ]
    },
    {
     "name": "stdout",
     "output_type": "stream",
     "text": [
      "❌ Download error for 20221121: 429 Client Error: Too Many Requests for url: https://oasis.caiso.com/oasisapi/SingleZip?resultformat=6&queryname=PRC_LMP&version=12&market_run_id=DAM&startdatetime=20221121T08%3A00-0000&enddatetime=20221121T08%3A00-0000&grp_type=ALL❌ Download error for 20221120: 429 Client Error: Too Many Requests for url: https://oasis.caiso.com/oasisapi/SingleZip?resultformat=6&queryname=PRC_LMP&version=12&market_run_id=DAM&startdatetime=20221120T08%3A00-0000&enddatetime=20221120T08%3A00-0000&grp_type=ALL\n",
      "\n"
     ]
    },
    {
     "name": "stderr",
     "output_type": "stream",
     "text": [
      "CAISO Parallel:  27%|██████▍                 | 325/1201 [00:52<02:26,  5.97it/s]"
     ]
    },
    {
     "name": "stdout",
     "output_type": "stream",
     "text": [
      "❌ Download error for 20221123: 429 Client Error: Too Many Requests for url: https://oasis.caiso.com/oasisapi/SingleZip?resultformat=6&queryname=PRC_LMP&version=12&market_run_id=DAM&startdatetime=20221123T08%3A00-0000&enddatetime=20221123T08%3A00-0000&grp_type=ALL❌ Download error for 20221122: 429 Client Error: Too Many Requests for url: https://oasis.caiso.com/oasisapi/SingleZip?resultformat=6&queryname=PRC_LMP&version=12&market_run_id=DAM&startdatetime=20221122T08%3A00-0000&enddatetime=20221122T08%3A00-0000&grp_type=ALL\n",
      "\n",
      "❌ Download error for 20221124: 429 Client Error: Too Many Requests for url: https://oasis.caiso.com/oasisapi/SingleZip?resultformat=6&queryname=PRC_LMP&version=12&market_run_id=DAM&startdatetime=20221124T08%3A00-0000&enddatetime=20221124T08%3A00-0000&grp_type=ALL\n"
     ]
    },
    {
     "name": "stderr",
     "output_type": "stream",
     "text": [
      "CAISO Parallel:  27%|██████▌                 | 328/1201 [00:53<02:29,  5.85it/s]"
     ]
    },
    {
     "name": "stdout",
     "output_type": "stream",
     "text": [
      "❌ Download error for 20221125: 429 Client Error: Too Many Requests for url: https://oasis.caiso.com/oasisapi/SingleZip?resultformat=6&queryname=PRC_LMP&version=12&market_run_id=DAM&startdatetime=20221125T08%3A00-0000&enddatetime=20221125T08%3A00-0000&grp_type=ALL❌ Download error for 20221126: 429 Client Error: Too Many Requests for url: https://oasis.caiso.com/oasisapi/SingleZip?resultformat=6&queryname=PRC_LMP&version=12&market_run_id=DAM&startdatetime=20221126T08%3A00-0000&enddatetime=20221126T08%3A00-0000&grp_type=ALL\n",
      "\n"
     ]
    },
    {
     "name": "stderr",
     "output_type": "stream",
     "text": [
      "CAISO Parallel:  27%|██████▌                 | 330/1201 [00:53<02:12,  6.55it/s]"
     ]
    },
    {
     "name": "stdout",
     "output_type": "stream",
     "text": [
      "❌ Download error for 20221127: 429 Client Error: Too Many Requests for url: https://oasis.caiso.com/oasisapi/SingleZip?resultformat=6&queryname=PRC_LMP&version=12&market_run_id=DAM&startdatetime=20221127T08%3A00-0000&enddatetime=20221127T08%3A00-0000&grp_type=ALL❌ Download error for 20221129: 429 Client Error: Too Many Requests for url: https://oasis.caiso.com/oasisapi/SingleZip?resultformat=6&queryname=PRC_LMP&version=12&market_run_id=DAM&startdatetime=20221129T08%3A00-0000&enddatetime=20221129T08%3A00-0000&grp_type=ALL\n",
      "\n",
      "❌ Download error for 20221128: 429 Client Error: Too Many Requests for url: https://oasis.caiso.com/oasisapi/SingleZip?resultformat=6&queryname=PRC_LMP&version=12&market_run_id=DAM&startdatetime=20221128T08%3A00-0000&enddatetime=20221128T08%3A00-0000&grp_type=ALL\n"
     ]
    },
    {
     "name": "stderr",
     "output_type": "stream",
     "text": [
      "CAISO Parallel:  28%|██████▋                 | 334/1201 [00:54<02:22,  6.10it/s]"
     ]
    },
    {
     "name": "stdout",
     "output_type": "stream",
     "text": [
      "❌ Download error for 20221201: 429 Client Error: Too Many Requests for url: https://oasis.caiso.com/oasisapi/SingleZip?resultformat=6&queryname=PRC_LMP&version=12&market_run_id=DAM&startdatetime=20221201T08%3A00-0000&enddatetime=20221201T08%3A00-0000&grp_type=ALL\n",
      "❌ Download error for 20221202: 429 Client Error: Too Many Requests for url: https://oasis.caiso.com/oasisapi/SingleZip?resultformat=6&queryname=PRC_LMP&version=12&market_run_id=DAM&startdatetime=20221202T08%3A00-0000&enddatetime=20221202T08%3A00-0000&grp_type=ALL\n",
      "❌ Download error for 20221203: 429 Client Error: Too Many Requests for url: https://oasis.caiso.com/oasisapi/SingleZip?resultformat=6&queryname=PRC_LMP&version=12&market_run_id=DAM&startdatetime=20221203T08%3A00-0000&enddatetime=20221203T08%3A00-0000&grp_type=ALL\n",
      "❌ Download error for 20221204: 429 Client Error: Too Many Requests for url: https://oasis.caiso.com/oasisapi/SingleZip?resultformat=6&queryname=PRC_LMP&version=12&market_run_id=DAM&startdatetime=20221204T08%3A00-0000&enddatetime=20221204T08%3A00-0000&grp_type=ALL\n"
     ]
    },
    {
     "name": "stderr",
     "output_type": "stream",
     "text": [
      "CAISO Parallel:  28%|██████▋                 | 337/1201 [00:54<02:37,  5.50it/s]"
     ]
    },
    {
     "name": "stdout",
     "output_type": "stream",
     "text": [
      "❌ Download error for 20221205: 429 Client Error: Too Many Requests for url: https://oasis.caiso.com/oasisapi/SingleZip?resultformat=6&queryname=PRC_LMP&version=12&market_run_id=DAM&startdatetime=20221205T08%3A00-0000&enddatetime=20221205T08%3A00-0000&grp_type=ALL\n",
      "❌ Download error for 20221207: 429 Client Error: Too Many Requests for url: https://oasis.caiso.com/oasisapi/SingleZip?resultformat=6&queryname=PRC_LMP&version=12&market_run_id=DAM&startdatetime=20221207T08%3A00-0000&enddatetime=20221207T08%3A00-0000&grp_type=ALL\n",
      "❌ Download error for 20221206: 429 Client Error: Too Many Requests for url: https://oasis.caiso.com/oasisapi/SingleZip?resultformat=6&queryname=PRC_LMP&version=12&market_run_id=DAM&startdatetime=20221206T08%3A00-0000&enddatetime=20221206T08%3A00-0000&grp_type=ALL\n"
     ]
    },
    {
     "name": "stderr",
     "output_type": "stream",
     "text": [
      "CAISO Parallel:  28%|██████▊                 | 340/1201 [00:55<02:12,  6.51it/s]"
     ]
    },
    {
     "name": "stdout",
     "output_type": "stream",
     "text": [
      "❌ Download error for 20221208: 429 Client Error: Too Many Requests for url: https://oasis.caiso.com/oasisapi/SingleZip?resultformat=6&queryname=PRC_LMP&version=12&market_run_id=DAM&startdatetime=20221208T08%3A00-0000&enddatetime=20221208T08%3A00-0000&grp_type=ALL\n"
     ]
    },
    {
     "name": "stderr",
     "output_type": "stream",
     "text": [
      "CAISO Parallel:  28%|██████▊                 | 341/1201 [00:55<02:46,  5.15it/s]"
     ]
    },
    {
     "name": "stdout",
     "output_type": "stream",
     "text": [
      "❌ Download error for 20221210: 429 Client Error: Too Many Requests for url: https://oasis.caiso.com/oasisapi/SingleZip?resultformat=6&queryname=PRC_LMP&version=12&market_run_id=DAM&startdatetime=20221210T08%3A00-0000&enddatetime=20221210T08%3A00-0000&grp_type=ALL❌ Download error for 20221211: 429 Client Error: Too Many Requests for url: https://oasis.caiso.com/oasisapi/SingleZip?resultformat=6&queryname=PRC_LMP&version=12&market_run_id=DAM&startdatetime=20221211T08%3A00-0000&enddatetime=20221211T08%3A00-0000&grp_type=ALL\n",
      "\n",
      "❌ Download error for 20221209: 429 Client Error: Too Many Requests for url: https://oasis.caiso.com/oasisapi/SingleZip?resultformat=6&queryname=PRC_LMP&version=12&market_run_id=DAM&startdatetime=20221209T08%3A00-0000&enddatetime=20221209T08%3A00-0000&grp_type=ALL\n"
     ]
    },
    {
     "name": "stderr",
     "output_type": "stream",
     "text": [
      "CAISO Parallel:  29%|██████▊                 | 344/1201 [00:56<02:15,  6.33it/s]"
     ]
    },
    {
     "name": "stdout",
     "output_type": "stream",
     "text": [
      "❌ Download error for 20221212: 429 Client Error: Too Many Requests for url: https://oasis.caiso.com/oasisapi/SingleZip?resultformat=6&queryname=PRC_LMP&version=12&market_run_id=DAM&startdatetime=20221212T08%3A00-0000&enddatetime=20221212T08%3A00-0000&grp_type=ALL\n"
     ]
    },
    {
     "name": "stderr",
     "output_type": "stream",
     "text": [
      "CAISO Parallel:  29%|██████▉                 | 345/1201 [00:56<03:02,  4.68it/s]"
     ]
    },
    {
     "name": "stdout",
     "output_type": "stream",
     "text": [
      "❌ Download error for 20221213: 429 Client Error: Too Many Requests for url: https://oasis.caiso.com/oasisapi/SingleZip?resultformat=6&queryname=PRC_LMP&version=12&market_run_id=DAM&startdatetime=20221213T08%3A00-0000&enddatetime=20221213T08%3A00-0000&grp_type=ALL❌ Download error for 20221214: 429 Client Error: Too Many Requests for url: https://oasis.caiso.com/oasisapi/SingleZip?resultformat=6&queryname=PRC_LMP&version=12&market_run_id=DAM&startdatetime=20221214T08%3A00-0000&enddatetime=20221214T08%3A00-0000&grp_type=ALL\n",
      "\n",
      "❌ Download error for 20221215: 429 Client Error: Too Many Requests for url: https://oasis.caiso.com/oasisapi/SingleZip?resultformat=6&queryname=PRC_LMP&version=12&market_run_id=DAM&startdatetime=20221215T08%3A00-0000&enddatetime=20221215T08%3A00-0000&grp_type=ALL\n"
     ]
    },
    {
     "name": "stderr",
     "output_type": "stream",
     "text": [
      "CAISO Parallel:  29%|██████▉                 | 348/1201 [00:56<02:25,  5.85it/s]"
     ]
    },
    {
     "name": "stdout",
     "output_type": "stream",
     "text": [
      "❌ Download error for 20221216: 429 Client Error: Too Many Requests for url: https://oasis.caiso.com/oasisapi/SingleZip?resultformat=6&queryname=PRC_LMP&version=12&market_run_id=DAM&startdatetime=20221216T08%3A00-0000&enddatetime=20221216T08%3A00-0000&grp_type=ALL\n"
     ]
    },
    {
     "name": "stderr",
     "output_type": "stream",
     "text": [
      "CAISO Parallel:  29%|██████▉                 | 349/1201 [00:57<03:02,  4.67it/s]"
     ]
    },
    {
     "name": "stdout",
     "output_type": "stream",
     "text": [
      "❌ Download error for 20221219: 429 Client Error: Too Many Requests for url: https://oasis.caiso.com/oasisapi/SingleZip?resultformat=6&queryname=PRC_LMP&version=12&market_run_id=DAM&startdatetime=20221219T08%3A00-0000&enddatetime=20221219T08%3A00-0000&grp_type=ALL❌ Download error for 20221218: 429 Client Error: Too Many Requests for url: https://oasis.caiso.com/oasisapi/SingleZip?resultformat=6&queryname=PRC_LMP&version=12&market_run_id=DAM&startdatetime=20221218T08%3A00-0000&enddatetime=20221218T08%3A00-0000&grp_type=ALL\n",
      "\n",
      "❌ Download error for 20221217: 429 Client Error: Too Many Requests for url: https://oasis.caiso.com/oasisapi/SingleZip?resultformat=6&queryname=PRC_LMP&version=12&market_run_id=DAM&startdatetime=20221217T08%3A00-0000&enddatetime=20221217T08%3A00-0000&grp_type=ALL\n"
     ]
    },
    {
     "name": "stderr",
     "output_type": "stream",
     "text": [
      "CAISO Parallel:  29%|███████                 | 352/1201 [00:57<02:23,  5.93it/s]"
     ]
    },
    {
     "name": "stdout",
     "output_type": "stream",
     "text": [
      "❌ Download error for 20221220: 429 Client Error: Too Many Requests for url: https://oasis.caiso.com/oasisapi/SingleZip?resultformat=6&queryname=PRC_LMP&version=12&market_run_id=DAM&startdatetime=20221220T08%3A00-0000&enddatetime=20221220T08%3A00-0000&grp_type=ALL\n"
     ]
    },
    {
     "name": "stderr",
     "output_type": "stream",
     "text": [
      "CAISO Parallel:  29%|███████                 | 354/1201 [00:58<03:32,  3.99it/s]"
     ]
    },
    {
     "name": "stdout",
     "output_type": "stream",
     "text": [
      "❌ Download error for 20221221: 429 Client Error: Too Many Requests for url: https://oasis.caiso.com/oasisapi/SingleZip?resultformat=6&queryname=PRC_LMP&version=12&market_run_id=DAM&startdatetime=20221221T08%3A00-0000&enddatetime=20221221T08%3A00-0000&grp_type=ALL❌ Download error for 20221222: 429 Client Error: Too Many Requests for url: https://oasis.caiso.com/oasisapi/SingleZip?resultformat=6&queryname=PRC_LMP&version=12&market_run_id=DAM&startdatetime=20221222T08%3A00-0000&enddatetime=20221222T08%3A00-0000&grp_type=ALL\n",
      "\n"
     ]
    },
    {
     "name": "stderr",
     "output_type": "stream",
     "text": [
      "CAISO Parallel:  30%|███████                 | 356/1201 [00:58<03:20,  4.21it/s]"
     ]
    },
    {
     "name": "stdout",
     "output_type": "stream",
     "text": [
      "❌ Download error for 20221223: 429 Client Error: Too Many Requests for url: https://oasis.caiso.com/oasisapi/SingleZip?resultformat=6&queryname=PRC_LMP&version=12&market_run_id=DAM&startdatetime=20221223T08%3A00-0000&enddatetime=20221223T08%3A00-0000&grp_type=ALL\n"
     ]
    },
    {
     "name": "stderr",
     "output_type": "stream",
     "text": [
      "CAISO Parallel:  30%|███████▏                | 357/1201 [00:59<04:27,  3.15it/s]"
     ]
    },
    {
     "name": "stdout",
     "output_type": "stream",
     "text": [
      "❌ Download error for 20221224: 429 Client Error: Too Many Requests for url: https://oasis.caiso.com/oasisapi/SingleZip?resultformat=6&queryname=PRC_LMP&version=12&market_run_id=DAM&startdatetime=20221224T08%3A00-0000&enddatetime=20221224T08%3A00-0000&grp_type=ALL\n"
     ]
    },
    {
     "name": "stderr",
     "output_type": "stream",
     "text": [
      "CAISO Parallel:  30%|███████▏                | 358/1201 [01:00<04:47,  2.93it/s]"
     ]
    },
    {
     "name": "stdout",
     "output_type": "stream",
     "text": [
      "❌ Download error for 20221227: 429 Client Error: Too Many Requests for url: https://oasis.caiso.com/oasisapi/SingleZip?resultformat=6&queryname=PRC_LMP&version=12&market_run_id=DAM&startdatetime=20221227T08%3A00-0000&enddatetime=20221227T08%3A00-0000&grp_type=ALL❌ Download error for 20221226: 429 Client Error: Too Many Requests for url: https://oasis.caiso.com/oasisapi/SingleZip?resultformat=6&queryname=PRC_LMP&version=12&market_run_id=DAM&startdatetime=20221226T08%3A00-0000&enddatetime=20221226T08%3A00-0000&grp_type=ALL\n",
      "\n",
      "❌ Download error for 20221225: 429 Client Error: Too Many Requests for url: https://oasis.caiso.com/oasisapi/SingleZip?resultformat=6&queryname=PRC_LMP&version=12&market_run_id=DAM&startdatetime=20221225T08%3A00-0000&enddatetime=20221225T08%3A00-0000&grp_type=ALL\n"
     ]
    },
    {
     "name": "stderr",
     "output_type": "stream",
     "text": [
      "CAISO Parallel:  30%|███████▏                | 361/1201 [01:01<04:48,  2.91it/s]"
     ]
    },
    {
     "name": "stdout",
     "output_type": "stream",
     "text": [
      "❌ Download error for 20221229: 429 Client Error: Too Many Requests for url: https://oasis.caiso.com/oasisapi/SingleZip?resultformat=6&queryname=PRC_LMP&version=12&market_run_id=DAM&startdatetime=20221229T08%3A00-0000&enddatetime=20221229T08%3A00-0000&grp_type=ALL\n"
     ]
    },
    {
     "name": "stderr",
     "output_type": "stream",
     "text": [
      "CAISO Parallel:  30%|███████▏                | 362/1201 [01:01<05:31,  2.53it/s]"
     ]
    },
    {
     "name": "stdout",
     "output_type": "stream",
     "text": [
      "❌ Download error for 20221231: 429 Client Error: Too Many Requests for url: https://oasis.caiso.com/oasisapi/SingleZip?resultformat=6&queryname=PRC_LMP&version=12&market_run_id=DAM&startdatetime=20221231T08%3A00-0000&enddatetime=20221231T08%3A00-0000&grp_type=ALL\n",
      "❌ Download error for 20230101: 429 Client Error: Too Many Requests for url: https://oasis.caiso.com/oasisapi/SingleZip?resultformat=6&queryname=PRC_LMP&version=12&market_run_id=DAM&startdatetime=20230101T08%3A00-0000&enddatetime=20230101T08%3A00-0000&grp_type=ALL\n",
      "❌ Download error for 20221230: 429 Client Error: Too Many Requests for url: https://oasis.caiso.com/oasisapi/SingleZip?resultformat=6&queryname=PRC_LMP&version=12&market_run_id=DAM&startdatetime=20221230T08%3A00-0000&enddatetime=20221230T08%3A00-0000&grp_type=ALL\n"
     ]
    },
    {
     "name": "stderr",
     "output_type": "stream",
     "text": [
      "CAISO Parallel:  30%|███████▎                | 365/1201 [01:02<05:13,  2.67it/s]"
     ]
    },
    {
     "name": "stdout",
     "output_type": "stream",
     "text": [
      "❌ Download error for 20230102: 429 Client Error: Too Many Requests for url: https://oasis.caiso.com/oasisapi/SingleZip?resultformat=6&queryname=PRC_LMP&version=12&market_run_id=DAM&startdatetime=20230102T08%3A00-0000&enddatetime=20230102T08%3A00-0000&grp_type=ALL\n"
     ]
    },
    {
     "name": "stderr",
     "output_type": "stream",
     "text": [
      "CAISO Parallel:  30%|███████▎                | 366/1201 [01:02<04:50,  2.88it/s]"
     ]
    },
    {
     "name": "stdout",
     "output_type": "stream",
     "text": [
      "❌ Download error for 20230103: 429 Client Error: Too Many Requests for url: https://oasis.caiso.com/oasisapi/SingleZip?resultformat=6&queryname=PRC_LMP&version=12&market_run_id=DAM&startdatetime=20230103T08%3A00-0000&enddatetime=20230103T08%3A00-0000&grp_type=ALL❌ Download error for 20230105: 429 Client Error: Too Many Requests for url: https://oasis.caiso.com/oasisapi/SingleZip?resultformat=6&queryname=PRC_LMP&version=12&market_run_id=DAM&startdatetime=20230105T08%3A00-0000&enddatetime=20230105T08%3A00-0000&grp_type=ALL\n",
      "❌ Download error for 20230104: 429 Client Error: Too Many Requests for url: https://oasis.caiso.com/oasisapi/SingleZip?resultformat=6&queryname=PRC_LMP&version=12&market_run_id=DAM&startdatetime=20230104T08%3A00-0000&enddatetime=20230104T08%3A00-0000&grp_type=ALL\n",
      "\n"
     ]
    },
    {
     "name": "stderr",
     "output_type": "stream",
     "text": [
      "CAISO Parallel:  31%|███████▍                | 370/1201 [01:03<03:20,  4.14it/s]"
     ]
    },
    {
     "name": "stdout",
     "output_type": "stream",
     "text": [
      "❌ Download error for 20230106: 429 Client Error: Too Many Requests for url: https://oasis.caiso.com/oasisapi/SingleZip?resultformat=6&queryname=PRC_LMP&version=12&market_run_id=DAM&startdatetime=20230106T08%3A00-0000&enddatetime=20230106T08%3A00-0000&grp_type=ALL\n"
     ]
    },
    {
     "name": "stderr",
     "output_type": "stream",
     "text": [
      "CAISO Parallel:  31%|███████▍                | 374/1201 [01:03<02:10,  6.34it/s]"
     ]
    },
    {
     "name": "stdout",
     "output_type": "stream",
     "text": [
      "❌ Download error for 20230108: 429 Client Error: Too Many Requests for url: https://oasis.caiso.com/oasisapi/SingleZip?resultformat=6&queryname=PRC_LMP&version=12&market_run_id=DAM&startdatetime=20230108T08%3A00-0000&enddatetime=20230108T08%3A00-0000&grp_type=ALL❌ Download error for 20230107: 429 Client Error: Too Many Requests for url: https://oasis.caiso.com/oasisapi/SingleZip?resultformat=6&queryname=PRC_LMP&version=12&market_run_id=DAM&startdatetime=20230107T08%3A00-0000&enddatetime=20230107T08%3A00-0000&grp_type=ALL\n",
      "\n",
      "❌ Download error for 20230109: 429 Client Error: Too Many Requests for url: https://oasis.caiso.com/oasisapi/SingleZip?resultformat=6&queryname=PRC_LMP&version=12&market_run_id=DAM&startdatetime=20230109T08%3A00-0000&enddatetime=20230109T08%3A00-0000&grp_type=ALL\n",
      "❌ Download error for 20230110: 429 Client Error: Too Many Requests for url: https://oasis.caiso.com/oasisapi/SingleZip?resultformat=6&queryname=PRC_LMP&version=12&market_run_id=DAM&startdatetime=20230110T08%3A00-0000&enddatetime=20230110T08%3A00-0000&grp_type=ALL\n",
      "❌ Download error for 20230111: 429 Client Error: Too Many Requests for url: https://oasis.caiso.com/oasisapi/SingleZip?resultformat=6&queryname=PRC_LMP&version=12&market_run_id=DAM&startdatetime=20230111T08%3A00-0000&enddatetime=20230111T08%3A00-0000&grp_type=ALL\n"
     ]
    },
    {
     "name": "stderr",
     "output_type": "stream",
     "text": [
      "CAISO Parallel:  31%|███████▌                | 376/1201 [01:04<02:34,  5.33it/s]"
     ]
    },
    {
     "name": "stdout",
     "output_type": "stream",
     "text": [
      "❌ Download error for 20230114: 429 Client Error: Too Many Requests for url: https://oasis.caiso.com/oasisapi/SingleZip?resultformat=6&queryname=PRC_LMP&version=12&market_run_id=DAM&startdatetime=20230114T08%3A00-0000&enddatetime=20230114T08%3A00-0000&grp_type=ALL❌ Download error for 20230113: 429 Client Error: Too Many Requests for url: https://oasis.caiso.com/oasisapi/SingleZip?resultformat=6&queryname=PRC_LMP&version=12&market_run_id=DAM&startdatetime=20230113T08%3A00-0000&enddatetime=20230113T08%3A00-0000&grp_type=ALL\n",
      "\n",
      "❌ Download error for 20230112: 429 Client Error: Too Many Requests for url: https://oasis.caiso.com/oasisapi/SingleZip?resultformat=6&queryname=PRC_LMP&version=12&market_run_id=DAM&startdatetime=20230112T08%3A00-0000&enddatetime=20230112T08%3A00-0000&grp_type=ALL\n"
     ]
    },
    {
     "name": "stderr",
     "output_type": "stream",
     "text": [
      "CAISO Parallel:  32%|███████▌                | 379/1201 [01:04<01:55,  7.10it/s]"
     ]
    },
    {
     "name": "stdout",
     "output_type": "stream",
     "text": [
      "❌ Download error for 20230115: 429 Client Error: Too Many Requests for url: https://oasis.caiso.com/oasisapi/SingleZip?resultformat=6&queryname=PRC_LMP&version=12&market_run_id=DAM&startdatetime=20230115T08%3A00-0000&enddatetime=20230115T08%3A00-0000&grp_type=ALL\n",
      "❌ Download error for 20230116: 429 Client Error: Too Many Requests for url: https://oasis.caiso.com/oasisapi/SingleZip?resultformat=6&queryname=PRC_LMP&version=12&market_run_id=DAM&startdatetime=20230116T08%3A00-0000&enddatetime=20230116T08%3A00-0000&grp_type=ALL\n"
     ]
    },
    {
     "name": "stderr",
     "output_type": "stream",
     "text": [
      "CAISO Parallel:  32%|███████▋                | 384/1201 [01:05<01:49,  7.45it/s]"
     ]
    },
    {
     "name": "stdout",
     "output_type": "stream",
     "text": [
      "❌ Download error for 20230117: 429 Client Error: Too Many Requests for url: https://oasis.caiso.com/oasisapi/SingleZip?resultformat=6&queryname=PRC_LMP&version=12&market_run_id=DAM&startdatetime=20230117T08%3A00-0000&enddatetime=20230117T08%3A00-0000&grp_type=ALL\n",
      "❌ Download error for 20230118: 429 Client Error: Too Many Requests for url: https://oasis.caiso.com/oasisapi/SingleZip?resultformat=6&queryname=PRC_LMP&version=12&market_run_id=DAM&startdatetime=20230118T08%3A00-0000&enddatetime=20230118T08%3A00-0000&grp_type=ALL\n",
      "❌ Download error for 20230119: 429 Client Error: Too Many Requests for url: https://oasis.caiso.com/oasisapi/SingleZip?resultformat=6&queryname=PRC_LMP&version=12&market_run_id=DAM&startdatetime=20230119T08%3A00-0000&enddatetime=20230119T08%3A00-0000&grp_type=ALL\n",
      "❌ Download error for 20230120: 429 Client Error: Too Many Requests for url: https://oasis.caiso.com/oasisapi/SingleZip?resultformat=6&queryname=PRC_LMP&version=12&market_run_id=DAM&startdatetime=20230120T08%3A00-0000&enddatetime=20230120T08%3A00-0000&grp_type=ALL\n"
     ]
    },
    {
     "name": "stderr",
     "output_type": "stream",
     "text": [
      "CAISO Parallel:  32%|███████▋                | 386/1201 [01:05<02:15,  6.00it/s]"
     ]
    },
    {
     "name": "stdout",
     "output_type": "stream",
     "text": [
      "❌ Download error for 20230121: 429 Client Error: Too Many Requests for url: https://oasis.caiso.com/oasisapi/SingleZip?resultformat=6&queryname=PRC_LMP&version=12&market_run_id=DAM&startdatetime=20230121T08%3A00-0000&enddatetime=20230121T08%3A00-0000&grp_type=ALL\n",
      "❌ Download error for 20230122: 429 Client Error: Too Many Requests for url: https://oasis.caiso.com/oasisapi/SingleZip?resultformat=6&queryname=PRC_LMP&version=12&market_run_id=DAM&startdatetime=20230122T08%3A00-0000&enddatetime=20230122T08%3A00-0000&grp_type=ALL\n"
     ]
    },
    {
     "name": "stderr",
     "output_type": "stream",
     "text": [
      "CAISO Parallel:  32%|███████▋                | 387/1201 [01:05<02:07,  6.36it/s]"
     ]
    },
    {
     "name": "stdout",
     "output_type": "stream",
     "text": [
      "❌ Download error for 20230124: 429 Client Error: Too Many Requests for url: https://oasis.caiso.com/oasisapi/SingleZip?resultformat=6&queryname=PRC_LMP&version=12&market_run_id=DAM&startdatetime=20230124T08%3A00-0000&enddatetime=20230124T08%3A00-0000&grp_type=ALL\n",
      "❌ Download error for 20230125: 429 Client Error: Too Many Requests for url: https://oasis.caiso.com/oasisapi/SingleZip?resultformat=6&queryname=PRC_LMP&version=12&market_run_id=DAM&startdatetime=20230125T08%3A00-0000&enddatetime=20230125T08%3A00-0000&grp_type=ALL\n"
     ]
    },
    {
     "name": "stderr",
     "output_type": "stream",
     "text": [
      "CAISO Parallel:  32%|███████▊                | 389/1201 [01:06<02:38,  5.12it/s]"
     ]
    },
    {
     "name": "stdout",
     "output_type": "stream",
     "text": [
      "❌ Download error for 20230126: 429 Client Error: Too Many Requests for url: https://oasis.caiso.com/oasisapi/SingleZip?resultformat=6&queryname=PRC_LMP&version=12&market_run_id=DAM&startdatetime=20230126T08%3A00-0000&enddatetime=20230126T08%3A00-0000&grp_type=ALL\n",
      "❌ Download error for 20230127: 429 Client Error: Too Many Requests for url: https://oasis.caiso.com/oasisapi/SingleZip?resultformat=6&queryname=PRC_LMP&version=12&market_run_id=DAM&startdatetime=20230127T08%3A00-0000&enddatetime=20230127T08%3A00-0000&grp_type=ALL\n"
     ]
    },
    {
     "name": "stderr",
     "output_type": "stream",
     "text": [
      "CAISO Parallel:  33%|███████▊                | 391/1201 [01:06<02:25,  5.58it/s]"
     ]
    },
    {
     "name": "stdout",
     "output_type": "stream",
     "text": [
      "❌ Download error for 20230128: 429 Client Error: Too Many Requests for url: https://oasis.caiso.com/oasisapi/SingleZip?resultformat=6&queryname=PRC_LMP&version=12&market_run_id=DAM&startdatetime=20230128T08%3A00-0000&enddatetime=20230128T08%3A00-0000&grp_type=ALL\n",
      "❌ Download error for 20230129: 429 Client Error: Too Many Requests for url: https://oasis.caiso.com/oasisapi/SingleZip?resultformat=6&queryname=PRC_LMP&version=12&market_run_id=DAM&startdatetime=20230129T08%3A00-0000&enddatetime=20230129T08%3A00-0000&grp_type=ALL\n"
     ]
    },
    {
     "name": "stderr",
     "output_type": "stream",
     "text": [
      "CAISO Parallel:  33%|███████▉                | 395/1201 [01:07<02:19,  5.77it/s]"
     ]
    },
    {
     "name": "stdout",
     "output_type": "stream",
     "text": [
      "❌ Download error for 20230130: 429 Client Error: Too Many Requests for url: https://oasis.caiso.com/oasisapi/SingleZip?resultformat=6&queryname=PRC_LMP&version=12&market_run_id=DAM&startdatetime=20230130T08%3A00-0000&enddatetime=20230130T08%3A00-0000&grp_type=ALL\n",
      "❌ Download error for 20230131: 429 Client Error: Too Many Requests for url: https://oasis.caiso.com/oasisapi/SingleZip?resultformat=6&queryname=PRC_LMP&version=12&market_run_id=DAM&startdatetime=20230131T08%3A00-0000&enddatetime=20230131T08%3A00-0000&grp_type=ALL\n",
      "❌ Download error for 20230202: 429 Client Error: Too Many Requests for url: https://oasis.caiso.com/oasisapi/SingleZip?resultformat=6&queryname=PRC_LMP&version=12&market_run_id=DAM&startdatetime=20230202T08%3A00-0000&enddatetime=20230202T08%3A00-0000&grp_type=ALL\n",
      "❌ Download error for 20230201: 429 Client Error: Too Many Requests for url: https://oasis.caiso.com/oasisapi/SingleZip?resultformat=6&queryname=PRC_LMP&version=12&market_run_id=DAM&startdatetime=20230201T08%3A00-0000&enddatetime=20230201T08%3A00-0000&grp_type=ALL\n"
     ]
    },
    {
     "name": "stderr",
     "output_type": "stream",
     "text": [
      "CAISO Parallel:  33%|███████▉                | 397/1201 [01:08<02:52,  4.65it/s]"
     ]
    },
    {
     "name": "stdout",
     "output_type": "stream",
     "text": [
      "❌ Download error for 20230204: 429 Client Error: Too Many Requests for url: https://oasis.caiso.com/oasisapi/SingleZip?resultformat=6&queryname=PRC_LMP&version=12&market_run_id=DAM&startdatetime=20230204T08%3A00-0000&enddatetime=20230204T08%3A00-0000&grp_type=ALL❌ Download error for 20230203: 429 Client Error: Too Many Requests for url: https://oasis.caiso.com/oasisapi/SingleZip?resultformat=6&queryname=PRC_LMP&version=12&market_run_id=DAM&startdatetime=20230203T08%3A00-0000&enddatetime=20230203T08%3A00-0000&grp_type=ALL\n",
      "\n",
      "❌ Download error for 20230205: 429 Client Error: Too Many Requests for url: https://oasis.caiso.com/oasisapi/SingleZip?resultformat=6&queryname=PRC_LMP&version=12&market_run_id=DAM&startdatetime=20230205T08%3A00-0000&enddatetime=20230205T08%3A00-0000&grp_type=ALL\n",
      "❌ Download error for 20230206: 429 Client Error: Too Many Requests for url: https://oasis.caiso.com/oasisapi/SingleZip?resultformat=6&queryname=PRC_LMP&version=12&market_run_id=DAM&startdatetime=20230206T08%3A00-0000&enddatetime=20230206T08%3A00-0000&grp_type=ALL\n"
     ]
    },
    {
     "name": "stderr",
     "output_type": "stream",
     "text": [
      "CAISO Parallel:  34%|████████                | 403/1201 [01:09<02:16,  5.86it/s]"
     ]
    },
    {
     "name": "stdout",
     "output_type": "stream",
     "text": [
      "❌ Download error for 20230207: 429 Client Error: Too Many Requests for url: https://oasis.caiso.com/oasisapi/SingleZip?resultformat=6&queryname=PRC_LMP&version=12&market_run_id=DAM&startdatetime=20230207T08%3A00-0000&enddatetime=20230207T08%3A00-0000&grp_type=ALL❌ Download error for 20230208: 429 Client Error: Too Many Requests for url: https://oasis.caiso.com/oasisapi/SingleZip?resultformat=6&queryname=PRC_LMP&version=12&market_run_id=DAM&startdatetime=20230208T08%3A00-0000&enddatetime=20230208T08%3A00-0000&grp_type=ALL\n",
      "\n",
      "❌ Download error for 20230210: 429 Client Error: Too Many Requests for url: https://oasis.caiso.com/oasisapi/SingleZip?resultformat=6&queryname=PRC_LMP&version=12&market_run_id=DAM&startdatetime=20230210T08%3A00-0000&enddatetime=20230210T08%3A00-0000&grp_type=ALL\n",
      "❌ Download error for 20230209: 429 Client Error: Too Many Requests for url: https://oasis.caiso.com/oasisapi/SingleZip?resultformat=6&queryname=PRC_LMP&version=12&market_run_id=DAM&startdatetime=20230209T08%3A00-0000&enddatetime=20230209T08%3A00-0000&grp_type=ALL\n"
     ]
    },
    {
     "name": "stderr",
     "output_type": "stream",
     "text": [
      "CAISO Parallel:  34%|████████                | 405/1201 [01:09<02:38,  5.01it/s]"
     ]
    },
    {
     "name": "stdout",
     "output_type": "stream",
     "text": [
      "❌ Download error for 20230212: 429 Client Error: Too Many Requests for url: https://oasis.caiso.com/oasisapi/SingleZip?resultformat=6&queryname=PRC_LMP&version=12&market_run_id=DAM&startdatetime=20230212T08%3A00-0000&enddatetime=20230212T08%3A00-0000&grp_type=ALL❌ Download error for 20230211: 429 Client Error: Too Many Requests for url: https://oasis.caiso.com/oasisapi/SingleZip?resultformat=6&queryname=PRC_LMP&version=12&market_run_id=DAM&startdatetime=20230211T08%3A00-0000&enddatetime=20230211T08%3A00-0000&grp_type=ALL\n",
      "\n"
     ]
    },
    {
     "name": "stderr",
     "output_type": "stream",
     "text": [
      "CAISO Parallel:  34%|████████▏               | 407/1201 [01:09<02:25,  5.45it/s]"
     ]
    },
    {
     "name": "stdout",
     "output_type": "stream",
     "text": [
      "❌ Download error for 20230214: 429 Client Error: Too Many Requests for url: https://oasis.caiso.com/oasisapi/SingleZip?resultformat=6&queryname=PRC_LMP&version=12&market_run_id=DAM&startdatetime=20230214T08%3A00-0000&enddatetime=20230214T08%3A00-0000&grp_type=ALL\n",
      "❌ Download error for 20230213: 429 Client Error: Too Many Requests for url: https://oasis.caiso.com/oasisapi/SingleZip?resultformat=6&queryname=PRC_LMP&version=12&market_run_id=DAM&startdatetime=20230213T08%3A00-0000&enddatetime=20230213T08%3A00-0000&grp_type=ALL\n"
     ]
    },
    {
     "name": "stderr",
     "output_type": "stream",
     "text": [
      "CAISO Parallel:  34%|████████▏               | 409/1201 [01:10<02:47,  4.73it/s]"
     ]
    },
    {
     "name": "stdout",
     "output_type": "stream",
     "text": [
      "❌ Download error for 20230215: 429 Client Error: Too Many Requests for url: https://oasis.caiso.com/oasisapi/SingleZip?resultformat=6&queryname=PRC_LMP&version=12&market_run_id=DAM&startdatetime=20230215T08%3A00-0000&enddatetime=20230215T08%3A00-0000&grp_type=ALL❌ Download error for 20230216: 429 Client Error: Too Many Requests for url: https://oasis.caiso.com/oasisapi/SingleZip?resultformat=6&queryname=PRC_LMP&version=12&market_run_id=DAM&startdatetime=20230216T08%3A00-0000&enddatetime=20230216T08%3A00-0000&grp_type=ALL\n",
      "\n"
     ]
    },
    {
     "name": "stderr",
     "output_type": "stream",
     "text": [
      "CAISO Parallel:  34%|████████▏               | 411/1201 [01:10<02:21,  5.59it/s]"
     ]
    },
    {
     "name": "stdout",
     "output_type": "stream",
     "text": [
      "❌ Download error for 20230218: 429 Client Error: Too Many Requests for url: https://oasis.caiso.com/oasisapi/SingleZip?resultformat=6&queryname=PRC_LMP&version=12&market_run_id=DAM&startdatetime=20230218T08%3A00-0000&enddatetime=20230218T08%3A00-0000&grp_type=ALL\n",
      "❌ Download error for 20230217: 429 Client Error: Too Many Requests for url: https://oasis.caiso.com/oasisapi/SingleZip?resultformat=6&queryname=PRC_LMP&version=12&market_run_id=DAM&startdatetime=20230217T08%3A00-0000&enddatetime=20230217T08%3A00-0000&grp_type=ALL\n"
     ]
    },
    {
     "name": "stderr",
     "output_type": "stream",
     "text": [
      "CAISO Parallel:  34%|████████▎               | 413/1201 [01:11<02:40,  4.92it/s]"
     ]
    },
    {
     "name": "stdout",
     "output_type": "stream",
     "text": [
      "❌ Download error for 20230220: 429 Client Error: Too Many Requests for url: https://oasis.caiso.com/oasisapi/SingleZip?resultformat=6&queryname=PRC_LMP&version=12&market_run_id=DAM&startdatetime=20230220T08%3A00-0000&enddatetime=20230220T08%3A00-0000&grp_type=ALL❌ Download error for 20230219: 429 Client Error: Too Many Requests for url: https://oasis.caiso.com/oasisapi/SingleZip?resultformat=6&queryname=PRC_LMP&version=12&market_run_id=DAM&startdatetime=20230219T08%3A00-0000&enddatetime=20230219T08%3A00-0000&grp_type=ALL\n",
      "\n"
     ]
    },
    {
     "name": "stderr",
     "output_type": "stream",
     "text": [
      "CAISO Parallel:  35%|████████▎               | 415/1201 [01:11<02:39,  4.94it/s]"
     ]
    },
    {
     "name": "stdout",
     "output_type": "stream",
     "text": [
      "❌ Download error for 20230221: 429 Client Error: Too Many Requests for url: https://oasis.caiso.com/oasisapi/SingleZip?resultformat=6&queryname=PRC_LMP&version=12&market_run_id=DAM&startdatetime=20230221T08%3A00-0000&enddatetime=20230221T08%3A00-0000&grp_type=ALL❌ Download error for 20230222: 429 Client Error: Too Many Requests for url: https://oasis.caiso.com/oasisapi/SingleZip?resultformat=6&queryname=PRC_LMP&version=12&market_run_id=DAM&startdatetime=20230222T08%3A00-0000&enddatetime=20230222T08%3A00-0000&grp_type=ALL\n",
      "\n"
     ]
    },
    {
     "name": "stderr",
     "output_type": "stream",
     "text": [
      "CAISO Parallel:  35%|████████▎               | 417/1201 [01:11<02:32,  5.12it/s]"
     ]
    },
    {
     "name": "stdout",
     "output_type": "stream",
     "text": [
      "❌ Download error for 20230223: 429 Client Error: Too Many Requests for url: https://oasis.caiso.com/oasisapi/SingleZip?resultformat=6&queryname=PRC_LMP&version=12&market_run_id=DAM&startdatetime=20230223T08%3A00-0000&enddatetime=20230223T08%3A00-0000&grp_type=ALL\n"
     ]
    },
    {
     "name": "stderr",
     "output_type": "stream",
     "text": [
      "CAISO Parallel:  35%|████████▎               | 419/1201 [01:12<02:20,  5.56it/s]"
     ]
    },
    {
     "name": "stdout",
     "output_type": "stream",
     "text": [
      "❌ Download error for 20230226: 429 Client Error: Too Many Requests for url: https://oasis.caiso.com/oasisapi/SingleZip?resultformat=6&queryname=PRC_LMP&version=12&market_run_id=DAM&startdatetime=20230226T08%3A00-0000&enddatetime=20230226T08%3A00-0000&grp_type=ALL\n",
      "❌ Download error for 20230225: 429 Client Error: Too Many Requests for url: https://oasis.caiso.com/oasisapi/SingleZip?resultformat=6&queryname=PRC_LMP&version=12&market_run_id=DAM&startdatetime=20230225T08%3A00-0000&enddatetime=20230225T08%3A00-0000&grp_type=ALL\n"
     ]
    },
    {
     "name": "stderr",
     "output_type": "stream",
     "text": [
      "CAISO Parallel:  35%|████████▍               | 421/1201 [01:12<02:26,  5.34it/s]"
     ]
    },
    {
     "name": "stdout",
     "output_type": "stream",
     "text": [
      "❌ Download error for 20230228: 429 Client Error: Too Many Requests for url: https://oasis.caiso.com/oasisapi/SingleZip?resultformat=6&queryname=PRC_LMP&version=12&market_run_id=DAM&startdatetime=20230228T08%3A00-0000&enddatetime=20230228T08%3A00-0000&grp_type=ALL❌ Download error for 20230227: 429 Client Error: Too Many Requests for url: https://oasis.caiso.com/oasisapi/SingleZip?resultformat=6&queryname=PRC_LMP&version=12&market_run_id=DAM&startdatetime=20230227T08%3A00-0000&enddatetime=20230227T08%3A00-0000&grp_type=ALL\n",
      "\n"
     ]
    },
    {
     "name": "stderr",
     "output_type": "stream",
     "text": [
      "CAISO Parallel:  35%|████████▍               | 423/1201 [01:13<02:19,  5.57it/s]"
     ]
    },
    {
     "name": "stdout",
     "output_type": "stream",
     "text": [
      "❌ Download error for 20230301: 429 Client Error: Too Many Requests for url: https://oasis.caiso.com/oasisapi/SingleZip?resultformat=6&queryname=PRC_LMP&version=12&market_run_id=DAM&startdatetime=20230301T08%3A00-0000&enddatetime=20230301T08%3A00-0000&grp_type=ALL❌ Download error for 20230302: 429 Client Error: Too Many Requests for url: https://oasis.caiso.com/oasisapi/SingleZip?resultformat=6&queryname=PRC_LMP&version=12&market_run_id=DAM&startdatetime=20230302T08%3A00-0000&enddatetime=20230302T08%3A00-0000&grp_type=ALL\n",
      "\n"
     ]
    },
    {
     "name": "stderr",
     "output_type": "stream",
     "text": [
      "CAISO Parallel:  35%|████████▍               | 425/1201 [01:13<02:26,  5.29it/s]"
     ]
    },
    {
     "name": "stdout",
     "output_type": "stream",
     "text": [
      "❌ Download error for 20230304: 429 Client Error: Too Many Requests for url: https://oasis.caiso.com/oasisapi/SingleZip?resultformat=6&queryname=PRC_LMP&version=12&market_run_id=DAM&startdatetime=20230304T08%3A00-0000&enddatetime=20230304T08%3A00-0000&grp_type=ALL❌ Download error for 20230303: 429 Client Error: Too Many Requests for url: https://oasis.caiso.com/oasisapi/SingleZip?resultformat=6&queryname=PRC_LMP&version=12&market_run_id=DAM&startdatetime=20230303T08%3A00-0000&enddatetime=20230303T08%3A00-0000&grp_type=ALL\n",
      "\n"
     ]
    },
    {
     "name": "stderr",
     "output_type": "stream",
     "text": [
      "CAISO Parallel:  36%|████████▌               | 427/1201 [01:13<02:16,  5.65it/s]"
     ]
    },
    {
     "name": "stdout",
     "output_type": "stream",
     "text": [
      "❌ Download error for 20230305: 429 Client Error: Too Many Requests for url: https://oasis.caiso.com/oasisapi/SingleZip?resultformat=6&queryname=PRC_LMP&version=12&market_run_id=DAM&startdatetime=20230305T08%3A00-0000&enddatetime=20230305T08%3A00-0000&grp_type=ALL\n",
      "❌ Download error for 20230306: 429 Client Error: Too Many Requests for url: https://oasis.caiso.com/oasisapi/SingleZip?resultformat=6&queryname=PRC_LMP&version=12&market_run_id=DAM&startdatetime=20230306T08%3A00-0000&enddatetime=20230306T08%3A00-0000&grp_type=ALL\n"
     ]
    },
    {
     "name": "stderr",
     "output_type": "stream",
     "text": [
      "CAISO Parallel:  36%|████████▌               | 429/1201 [01:14<02:25,  5.32it/s]"
     ]
    },
    {
     "name": "stdout",
     "output_type": "stream",
     "text": [
      "❌ Download error for 20230307: 429 Client Error: Too Many Requests for url: https://oasis.caiso.com/oasisapi/SingleZip?resultformat=6&queryname=PRC_LMP&version=12&market_run_id=DAM&startdatetime=20230307T08%3A00-0000&enddatetime=20230307T08%3A00-0000&grp_type=ALL❌ Download error for 20230308: 429 Client Error: Too Many Requests for url: https://oasis.caiso.com/oasisapi/SingleZip?resultformat=6&queryname=PRC_LMP&version=12&market_run_id=DAM&startdatetime=20230308T08%3A00-0000&enddatetime=20230308T08%3A00-0000&grp_type=ALL\n",
      "\n"
     ]
    },
    {
     "name": "stderr",
     "output_type": "stream",
     "text": [
      "CAISO Parallel:  36%|████████▌               | 431/1201 [01:14<02:07,  6.06it/s]"
     ]
    },
    {
     "name": "stdout",
     "output_type": "stream",
     "text": [
      "❌ Download error for 20230309: 429 Client Error: Too Many Requests for url: https://oasis.caiso.com/oasisapi/SingleZip?resultformat=6&queryname=PRC_LMP&version=12&market_run_id=DAM&startdatetime=20230309T08%3A00-0000&enddatetime=20230309T08%3A00-0000&grp_type=ALL❌ Download error for 20230310: 429 Client Error: Too Many Requests for url: https://oasis.caiso.com/oasisapi/SingleZip?resultformat=6&queryname=PRC_LMP&version=12&market_run_id=DAM&startdatetime=20230310T08%3A00-0000&enddatetime=20230310T08%3A00-0000&grp_type=ALL\n",
      "\n"
     ]
    },
    {
     "name": "stderr",
     "output_type": "stream",
     "text": [
      "CAISO Parallel:  36%|████████▋               | 433/1201 [01:14<02:27,  5.19it/s]"
     ]
    },
    {
     "name": "stdout",
     "output_type": "stream",
     "text": [
      "❌ Download error for 20230312: 429 Client Error: Too Many Requests for url: https://oasis.caiso.com/oasisapi/SingleZip?resultformat=6&queryname=PRC_LMP&version=12&market_run_id=DAM&startdatetime=20230312T08%3A00-0000&enddatetime=20230312T08%3A00-0000&grp_type=ALL\n",
      "❌ Download error for 20230311: 429 Client Error: Too Many Requests for url: https://oasis.caiso.com/oasisapi/SingleZip?resultformat=6&queryname=PRC_LMP&version=12&market_run_id=DAM&startdatetime=20230311T08%3A00-0000&enddatetime=20230311T08%3A00-0000&grp_type=ALL\n"
     ]
    },
    {
     "name": "stderr",
     "output_type": "stream",
     "text": [
      "CAISO Parallel:  36%|████████▋               | 435/1201 [01:15<02:19,  5.47it/s]"
     ]
    },
    {
     "name": "stdout",
     "output_type": "stream",
     "text": [
      "❌ Download error for 20230313: 429 Client Error: Too Many Requests for url: https://oasis.caiso.com/oasisapi/SingleZip?resultformat=6&queryname=PRC_LMP&version=12&market_run_id=DAM&startdatetime=20230313T08%3A00-0000&enddatetime=20230313T08%3A00-0000&grp_type=ALL❌ Download error for 20230314: 429 Client Error: Too Many Requests for url: https://oasis.caiso.com/oasisapi/SingleZip?resultformat=6&queryname=PRC_LMP&version=12&market_run_id=DAM&startdatetime=20230314T08%3A00-0000&enddatetime=20230314T08%3A00-0000&grp_type=ALL\n",
      "\n"
     ]
    },
    {
     "name": "stderr",
     "output_type": "stream",
     "text": [
      "CAISO Parallel:  36%|████████▋               | 437/1201 [01:15<02:38,  4.82it/s]"
     ]
    },
    {
     "name": "stdout",
     "output_type": "stream",
     "text": [
      "❌ Download error for 20230316: 429 Client Error: Too Many Requests for url: https://oasis.caiso.com/oasisapi/SingleZip?resultformat=6&queryname=PRC_LMP&version=12&market_run_id=DAM&startdatetime=20230316T08%3A00-0000&enddatetime=20230316T08%3A00-0000&grp_type=ALL❌ Download error for 20230315: 429 Client Error: Too Many Requests for url: https://oasis.caiso.com/oasisapi/SingleZip?resultformat=6&queryname=PRC_LMP&version=12&market_run_id=DAM&startdatetime=20230315T08%3A00-0000&enddatetime=20230315T08%3A00-0000&grp_type=ALL\n",
      "\n"
     ]
    },
    {
     "name": "stderr",
     "output_type": "stream",
     "text": [
      "CAISO Parallel:  37%|████████▊               | 439/1201 [01:15<02:15,  5.64it/s]"
     ]
    },
    {
     "name": "stdout",
     "output_type": "stream",
     "text": [
      "❌ Download error for 20230318: 429 Client Error: Too Many Requests for url: https://oasis.caiso.com/oasisapi/SingleZip?resultformat=6&queryname=PRC_LMP&version=12&market_run_id=DAM&startdatetime=20230318T08%3A00-0000&enddatetime=20230318T08%3A00-0000&grp_type=ALL\n",
      "❌ Download error for 20230317: 429 Client Error: Too Many Requests for url: https://oasis.caiso.com/oasisapi/SingleZip?resultformat=6&queryname=PRC_LMP&version=12&market_run_id=DAM&startdatetime=20230317T08%3A00-0000&enddatetime=20230317T08%3A00-0000&grp_type=ALL\n"
     ]
    },
    {
     "name": "stderr",
     "output_type": "stream",
     "text": [
      "CAISO Parallel:  37%|████████▊               | 441/1201 [01:16<02:33,  4.96it/s]"
     ]
    },
    {
     "name": "stdout",
     "output_type": "stream",
     "text": [
      "❌ Download error for 20230319: 429 Client Error: Too Many Requests for url: https://oasis.caiso.com/oasisapi/SingleZip?resultformat=6&queryname=PRC_LMP&version=12&market_run_id=DAM&startdatetime=20230319T08%3A00-0000&enddatetime=20230319T08%3A00-0000&grp_type=ALL❌ Download error for 20230320: 429 Client Error: Too Many Requests for url: https://oasis.caiso.com/oasisapi/SingleZip?resultformat=6&queryname=PRC_LMP&version=12&market_run_id=DAM&startdatetime=20230320T08%3A00-0000&enddatetime=20230320T08%3A00-0000&grp_type=ALL\n",
      "\n"
     ]
    },
    {
     "name": "stderr",
     "output_type": "stream",
     "text": [
      "CAISO Parallel:  37%|████████▊               | 443/1201 [01:16<02:22,  5.33it/s]"
     ]
    },
    {
     "name": "stdout",
     "output_type": "stream",
     "text": [
      "❌ Download error for 20230322: 429 Client Error: Too Many Requests for url: https://oasis.caiso.com/oasisapi/SingleZip?resultformat=6&queryname=PRC_LMP&version=12&market_run_id=DAM&startdatetime=20230322T08%3A00-0000&enddatetime=20230322T08%3A00-0000&grp_type=ALL\n",
      "❌ Download error for 20230321: 429 Client Error: Too Many Requests for url: https://oasis.caiso.com/oasisapi/SingleZip?resultformat=6&queryname=PRC_LMP&version=12&market_run_id=DAM&startdatetime=20230321T08%3A00-0000&enddatetime=20230321T08%3A00-0000&grp_type=ALL\n"
     ]
    },
    {
     "name": "stderr",
     "output_type": "stream",
     "text": [
      "CAISO Parallel:  37%|████████▉               | 445/1201 [01:17<02:26,  5.14it/s]"
     ]
    },
    {
     "name": "stdout",
     "output_type": "stream",
     "text": [
      "❌ Download error for 20230323: 429 Client Error: Too Many Requests for url: https://oasis.caiso.com/oasisapi/SingleZip?resultformat=6&queryname=PRC_LMP&version=12&market_run_id=DAM&startdatetime=20230323T08%3A00-0000&enddatetime=20230323T08%3A00-0000&grp_type=ALL\n",
      "❌ Download error for 20230324: 429 Client Error: Too Many Requests for url: https://oasis.caiso.com/oasisapi/SingleZip?resultformat=6&queryname=PRC_LMP&version=12&market_run_id=DAM&startdatetime=20230324T08%3A00-0000&enddatetime=20230324T08%3A00-0000&grp_type=ALL\n"
     ]
    },
    {
     "name": "stderr",
     "output_type": "stream",
     "text": [
      "CAISO Parallel:  37%|████████▉               | 448/1201 [01:17<01:58,  6.34it/s]"
     ]
    },
    {
     "name": "stdout",
     "output_type": "stream",
     "text": [
      "❌ Download error for 20230326: 429 Client Error: Too Many Requests for url: https://oasis.caiso.com/oasisapi/SingleZip?resultformat=6&queryname=PRC_LMP&version=12&market_run_id=DAM&startdatetime=20230326T08%3A00-0000&enddatetime=20230326T08%3A00-0000&grp_type=ALL❌ Download error for 20230325: 429 Client Error: Too Many Requests for url: https://oasis.caiso.com/oasisapi/SingleZip?resultformat=6&queryname=PRC_LMP&version=12&market_run_id=DAM&startdatetime=20230325T08%3A00-0000&enddatetime=20230325T08%3A00-0000&grp_type=ALL\n",
      "\n"
     ]
    },
    {
     "name": "stderr",
     "output_type": "stream",
     "text": [
      "CAISO Parallel:  37%|████████▉               | 450/1201 [01:17<02:09,  5.81it/s]"
     ]
    },
    {
     "name": "stdout",
     "output_type": "stream",
     "text": [
      "❌ Download error for 20230329: 429 Client Error: Too Many Requests for url: https://oasis.caiso.com/oasisapi/SingleZip?resultformat=6&queryname=PRC_LMP&version=12&market_run_id=DAM&startdatetime=20230329T08%3A00-0000&enddatetime=20230329T08%3A00-0000&grp_type=ALL\n",
      "❌ Download error for 20230327: 429 Client Error: Too Many Requests for url: https://oasis.caiso.com/oasisapi/SingleZip?resultformat=6&queryname=PRC_LMP&version=12&market_run_id=DAM&startdatetime=20230327T08%3A00-0000&enddatetime=20230327T08%3A00-0000&grp_type=ALL\n",
      "❌ Download error for 20230328: 429 Client Error: Too Many Requests for url: https://oasis.caiso.com/oasisapi/SingleZip?resultformat=6&queryname=PRC_LMP&version=12&market_run_id=DAM&startdatetime=20230328T08%3A00-0000&enddatetime=20230328T08%3A00-0000&grp_type=ALL\n"
     ]
    },
    {
     "name": "stderr",
     "output_type": "stream",
     "text": [
      "CAISO Parallel:  38%|█████████               | 453/1201 [01:18<02:00,  6.21it/s]"
     ]
    },
    {
     "name": "stdout",
     "output_type": "stream",
     "text": [
      "❌ Download error for 20230330: 429 Client Error: Too Many Requests for url: https://oasis.caiso.com/oasisapi/SingleZip?resultformat=6&queryname=PRC_LMP&version=12&market_run_id=DAM&startdatetime=20230330T08%3A00-0000&enddatetime=20230330T08%3A00-0000&grp_type=ALL\n"
     ]
    },
    {
     "name": "stderr",
     "output_type": "stream",
     "text": [
      "CAISO Parallel:  38%|█████████               | 454/1201 [01:18<02:07,  5.87it/s]"
     ]
    },
    {
     "name": "stdout",
     "output_type": "stream",
     "text": [
      "❌ Download error for 20230402: 429 Client Error: Too Many Requests for url: https://oasis.caiso.com/oasisapi/SingleZip?resultformat=6&queryname=PRC_LMP&version=12&market_run_id=DAM&startdatetime=20230402T08%3A00-0000&enddatetime=20230402T08%3A00-0000&grp_type=ALL❌ Download error for 20230403: 429 Client Error: Too Many Requests for url: https://oasis.caiso.com/oasisapi/SingleZip?resultformat=6&queryname=PRC_LMP&version=12&market_run_id=DAM&startdatetime=20230403T08%3A00-0000&enddatetime=20230403T08%3A00-0000&grp_type=ALL\n",
      "❌ Download error for 20230401: 429 Client Error: Too Many Requests for url: https://oasis.caiso.com/oasisapi/SingleZip?resultformat=6&queryname=PRC_LMP&version=12&market_run_id=DAM&startdatetime=20230401T08%3A00-0000&enddatetime=20230401T08%3A00-0000&grp_type=ALL\n",
      "\n"
     ]
    },
    {
     "name": "stderr",
     "output_type": "stream",
     "text": [
      "CAISO Parallel:  38%|█████████▏              | 457/1201 [01:19<02:06,  5.88it/s]"
     ]
    },
    {
     "name": "stdout",
     "output_type": "stream",
     "text": [
      "❌ Download error for 20230404: 429 Client Error: Too Many Requests for url: https://oasis.caiso.com/oasisapi/SingleZip?resultformat=6&queryname=PRC_LMP&version=12&market_run_id=DAM&startdatetime=20230404T08%3A00-0000&enddatetime=20230404T08%3A00-0000&grp_type=ALL\n"
     ]
    },
    {
     "name": "stderr",
     "output_type": "stream",
     "text": [
      "CAISO Parallel:  38%|█████████▏              | 458/1201 [01:19<02:11,  5.65it/s]"
     ]
    },
    {
     "name": "stdout",
     "output_type": "stream",
     "text": [
      "❌ Download error for 20230405: 429 Client Error: Too Many Requests for url: https://oasis.caiso.com/oasisapi/SingleZip?resultformat=6&queryname=PRC_LMP&version=12&market_run_id=DAM&startdatetime=20230405T08%3A00-0000&enddatetime=20230405T08%3A00-0000&grp_type=ALL\n",
      "❌ Download error for 20230406: 429 Client Error: Too Many Requests for url: https://oasis.caiso.com/oasisapi/SingleZip?resultformat=6&queryname=PRC_LMP&version=12&market_run_id=DAM&startdatetime=20230406T08%3A00-0000&enddatetime=20230406T08%3A00-0000&grp_type=ALL\n",
      "❌ Download error for 20230407: 429 Client Error: Too Many Requests for url: https://oasis.caiso.com/oasisapi/SingleZip?resultformat=6&queryname=PRC_LMP&version=12&market_run_id=DAM&startdatetime=20230407T08%3A00-0000&enddatetime=20230407T08%3A00-0000&grp_type=ALL\n"
     ]
    },
    {
     "name": "stderr",
     "output_type": "stream",
     "text": [
      "CAISO Parallel:  38%|█████████▏              | 462/1201 [01:20<02:12,  5.57it/s]"
     ]
    },
    {
     "name": "stdout",
     "output_type": "stream",
     "text": [
      "❌ Download error for 20230408: 429 Client Error: Too Many Requests for url: https://oasis.caiso.com/oasisapi/SingleZip?resultformat=6&queryname=PRC_LMP&version=12&market_run_id=DAM&startdatetime=20230408T08%3A00-0000&enddatetime=20230408T08%3A00-0000&grp_type=ALL\n",
      "❌ Download error for 20230409: 429 Client Error: Too Many Requests for url: https://oasis.caiso.com/oasisapi/SingleZip?resultformat=6&queryname=PRC_LMP&version=12&market_run_id=DAM&startdatetime=20230409T08%3A00-0000&enddatetime=20230409T08%3A00-0000&grp_type=ALL\n"
     ]
    },
    {
     "name": "stderr",
     "output_type": "stream",
     "text": [
      "CAISO Parallel:  39%|█████████▎              | 463/1201 [01:20<02:01,  6.07it/s]"
     ]
    },
    {
     "name": "stdout",
     "output_type": "stream",
     "text": [
      "❌ Download error for 20230410: 429 Client Error: Too Many Requests for url: https://oasis.caiso.com/oasisapi/SingleZip?resultformat=6&queryname=PRC_LMP&version=12&market_run_id=DAM&startdatetime=20230410T08%3A00-0000&enddatetime=20230410T08%3A00-0000&grp_type=ALL\n",
      "❌ Download error for 20230411: 429 Client Error: Too Many Requests for url: https://oasis.caiso.com/oasisapi/SingleZip?resultformat=6&queryname=PRC_LMP&version=12&market_run_id=DAM&startdatetime=20230411T08%3A00-0000&enddatetime=20230411T08%3A00-0000&grp_type=ALL\n"
     ]
    },
    {
     "name": "stderr",
     "output_type": "stream",
     "text": [
      "CAISO Parallel:  39%|█████████▎              | 465/1201 [01:20<02:13,  5.50it/s]"
     ]
    },
    {
     "name": "stdout",
     "output_type": "stream",
     "text": [
      "❌ Download error for 20230412: 429 Client Error: Too Many Requests for url: https://oasis.caiso.com/oasisapi/SingleZip?resultformat=6&queryname=PRC_LMP&version=12&market_run_id=DAM&startdatetime=20230412T08%3A00-0000&enddatetime=20230412T08%3A00-0000&grp_type=ALL\n"
     ]
    },
    {
     "name": "stderr",
     "output_type": "stream",
     "text": [
      "CAISO Parallel:  39%|█████████▎              | 467/1201 [01:20<02:20,  5.24it/s]"
     ]
    },
    {
     "name": "stdout",
     "output_type": "stream",
     "text": [
      "❌ Download error for 20230413: 429 Client Error: Too Many Requests for url: https://oasis.caiso.com/oasisapi/SingleZip?resultformat=6&queryname=PRC_LMP&version=12&market_run_id=DAM&startdatetime=20230413T08%3A00-0000&enddatetime=20230413T08%3A00-0000&grp_type=ALL\n",
      "❌ Download error for 20230414: 429 Client Error: Too Many Requests for url: https://oasis.caiso.com/oasisapi/SingleZip?resultformat=6&queryname=PRC_LMP&version=12&market_run_id=DAM&startdatetime=20230414T08%3A00-0000&enddatetime=20230414T08%3A00-0000&grp_type=ALL\n",
      "❌ Download error for 20230415: 429 Client Error: Too Many Requests for url: https://oasis.caiso.com/oasisapi/SingleZip?resultformat=6&queryname=PRC_LMP&version=12&market_run_id=DAM&startdatetime=20230415T08%3A00-0000&enddatetime=20230415T08%3A00-0000&grp_type=ALL\n"
     ]
    },
    {
     "name": "stderr",
     "output_type": "stream",
     "text": [
      "CAISO Parallel:  39%|█████████▎              | 469/1201 [01:21<01:57,  6.23it/s]"
     ]
    },
    {
     "name": "stdout",
     "output_type": "stream",
     "text": [
      "❌ Download error for 20230416: 429 Client Error: Too Many Requests for url: https://oasis.caiso.com/oasisapi/SingleZip?resultformat=6&queryname=PRC_LMP&version=12&market_run_id=DAM&startdatetime=20230416T08%3A00-0000&enddatetime=20230416T08%3A00-0000&grp_type=ALL\n"
     ]
    },
    {
     "name": "stderr",
     "output_type": "stream",
     "text": [
      "CAISO Parallel:  39%|█████████▍              | 470/1201 [01:21<02:08,  5.70it/s]"
     ]
    },
    {
     "name": "stdout",
     "output_type": "stream",
     "text": [
      "❌ Download error for 20230417: 429 Client Error: Too Many Requests for url: https://oasis.caiso.com/oasisapi/SingleZip?resultformat=6&queryname=PRC_LMP&version=12&market_run_id=DAM&startdatetime=20230417T08%3A00-0000&enddatetime=20230417T08%3A00-0000&grp_type=ALL\n"
     ]
    },
    {
     "name": "stderr",
     "output_type": "stream",
     "text": [
      "CAISO Parallel:  39%|█████████▍              | 472/1201 [01:21<01:57,  6.20it/s]"
     ]
    },
    {
     "name": "stdout",
     "output_type": "stream",
     "text": [
      "❌ Download error for 20230418: 429 Client Error: Too Many Requests for url: https://oasis.caiso.com/oasisapi/SingleZip?resultformat=6&queryname=PRC_LMP&version=12&market_run_id=DAM&startdatetime=20230418T08%3A00-0000&enddatetime=20230418T08%3A00-0000&grp_type=ALL❌ Download error for 20230419: 429 Client Error: Too Many Requests for url: https://oasis.caiso.com/oasisapi/SingleZip?resultformat=6&queryname=PRC_LMP&version=12&market_run_id=DAM&startdatetime=20230419T08%3A00-0000&enddatetime=20230419T08%3A00-0000&grp_type=ALL\n",
      "\n"
     ]
    },
    {
     "name": "stderr",
     "output_type": "stream",
     "text": [
      "CAISO Parallel:  40%|█████████▍              | 475/1201 [01:22<01:51,  6.49it/s]"
     ]
    },
    {
     "name": "stdout",
     "output_type": "stream",
     "text": [
      "❌ Download error for 20230420: 429 Client Error: Too Many Requests for url: https://oasis.caiso.com/oasisapi/SingleZip?resultformat=6&queryname=PRC_LMP&version=12&market_run_id=DAM&startdatetime=20230420T08%3A00-0000&enddatetime=20230420T08%3A00-0000&grp_type=ALL\n",
      "❌ Download error for 20230422: 429 Client Error: Too Many Requests for url: https://oasis.caiso.com/oasisapi/SingleZip?resultformat=6&queryname=PRC_LMP&version=12&market_run_id=DAM&startdatetime=20230422T08%3A00-0000&enddatetime=20230422T08%3A00-0000&grp_type=ALL\n",
      "❌ Download error for 20230421: 429 Client Error: Too Many Requests for url: https://oasis.caiso.com/oasisapi/SingleZip?resultformat=6&queryname=PRC_LMP&version=12&market_run_id=DAM&startdatetime=20230421T08%3A00-0000&enddatetime=20230421T08%3A00-0000&grp_type=ALL\n"
     ]
    },
    {
     "name": "stderr",
     "output_type": "stream",
     "text": [
      "CAISO Parallel:  40%|█████████▌              | 479/1201 [01:22<01:39,  7.25it/s]"
     ]
    },
    {
     "name": "stdout",
     "output_type": "stream",
     "text": [
      "❌ Download error for 20230424: 429 Client Error: Too Many Requests for url: https://oasis.caiso.com/oasisapi/SingleZip?resultformat=6&queryname=PRC_LMP&version=12&market_run_id=DAM&startdatetime=20230424T08%3A00-0000&enddatetime=20230424T08%3A00-0000&grp_type=ALL❌ Download error for 20230423: 429 Client Error: Too Many Requests for url: https://oasis.caiso.com/oasisapi/SingleZip?resultformat=6&queryname=PRC_LMP&version=12&market_run_id=DAM&startdatetime=20230423T08%3A00-0000&enddatetime=20230423T08%3A00-0000&grp_type=ALL\n",
      "\n",
      "❌ Download error for 20230425: 429 Client Error: Too Many Requests for url: https://oasis.caiso.com/oasisapi/SingleZip?resultformat=6&queryname=PRC_LMP&version=12&market_run_id=DAM&startdatetime=20230425T08%3A00-0000&enddatetime=20230425T08%3A00-0000&grp_type=ALL\n"
     ]
    },
    {
     "name": "stderr",
     "output_type": "stream",
     "text": [
      "CAISO Parallel:  40%|█████████▌              | 480/1201 [01:22<01:51,  6.48it/s]"
     ]
    },
    {
     "name": "stdout",
     "output_type": "stream",
     "text": [
      "❌ Download error for 20230427: 429 Client Error: Too Many Requests for url: https://oasis.caiso.com/oasisapi/SingleZip?resultformat=6&queryname=PRC_LMP&version=12&market_run_id=DAM&startdatetime=20230427T08%3A00-0000&enddatetime=20230427T08%3A00-0000&grp_type=ALL❌ Download error for 20230426: 429 Client Error: Too Many Requests for url: https://oasis.caiso.com/oasisapi/SingleZip?resultformat=6&queryname=PRC_LMP&version=12&market_run_id=DAM&startdatetime=20230426T08%3A00-0000&enddatetime=20230426T08%3A00-0000&grp_type=ALL\n",
      "\n"
     ]
    },
    {
     "name": "stderr",
     "output_type": "stream",
     "text": [
      "CAISO Parallel:  40%|█████████▋              | 484/1201 [01:23<01:27,  8.18it/s]"
     ]
    },
    {
     "name": "stdout",
     "output_type": "stream",
     "text": [
      "❌ Download error for 20230428: 429 Client Error: Too Many Requests for url: https://oasis.caiso.com/oasisapi/SingleZip?resultformat=6&queryname=PRC_LMP&version=12&market_run_id=DAM&startdatetime=20230428T08%3A00-0000&enddatetime=20230428T08%3A00-0000&grp_type=ALL❌ Download error for 20230429: 429 Client Error: Too Many Requests for url: https://oasis.caiso.com/oasisapi/SingleZip?resultformat=6&queryname=PRC_LMP&version=12&market_run_id=DAM&startdatetime=20230429T08%3A00-0000&enddatetime=20230429T08%3A00-0000&grp_type=ALL\n",
      "\n",
      "❌ Download error for 20230430: 429 Client Error: Too Many Requests for url: https://oasis.caiso.com/oasisapi/SingleZip?resultformat=6&queryname=PRC_LMP&version=12&market_run_id=DAM&startdatetime=20230430T08%3A00-0000&enddatetime=20230430T08%3A00-0000&grp_type=ALL\n"
     ]
    },
    {
     "name": "stderr",
     "output_type": "stream",
     "text": [
      "CAISO Parallel:  40%|█████████▋              | 485/1201 [01:23<01:38,  7.24it/s]"
     ]
    },
    {
     "name": "stdout",
     "output_type": "stream",
     "text": [
      "❌ Download error for 20230501: 429 Client Error: Too Many Requests for url: https://oasis.caiso.com/oasisapi/SingleZip?resultformat=6&queryname=PRC_LMP&version=12&market_run_id=DAM&startdatetime=20230501T08%3A00-0000&enddatetime=20230501T08%3A00-0000&grp_type=ALL\n",
      "❌ Download error for 20230502: 429 Client Error: Too Many Requests for url: https://oasis.caiso.com/oasisapi/SingleZip?resultformat=6&queryname=PRC_LMP&version=12&market_run_id=DAM&startdatetime=20230502T08%3A00-0000&enddatetime=20230502T08%3A00-0000&grp_type=ALL\n"
     ]
    },
    {
     "name": "stderr",
     "output_type": "stream",
     "text": [
      "CAISO Parallel:  41%|█████████▋              | 487/1201 [01:23<01:43,  6.90it/s]"
     ]
    },
    {
     "name": "stdout",
     "output_type": "stream",
     "text": [
      "❌ Download error for 20230504: 429 Client Error: Too Many Requests for url: https://oasis.caiso.com/oasisapi/SingleZip?resultformat=6&queryname=PRC_LMP&version=12&market_run_id=DAM&startdatetime=20230504T08%3A00-0000&enddatetime=20230504T08%3A00-0000&grp_type=ALL❌ Download error for 20230503: 429 Client Error: Too Many Requests for url: https://oasis.caiso.com/oasisapi/SingleZip?resultformat=6&queryname=PRC_LMP&version=12&market_run_id=DAM&startdatetime=20230503T08%3A00-0000&enddatetime=20230503T08%3A00-0000&grp_type=ALL\n",
      "\n"
     ]
    },
    {
     "name": "stderr",
     "output_type": "stream",
     "text": [
      "CAISO Parallel:  41%|█████████▊              | 489/1201 [01:24<01:57,  6.06it/s]"
     ]
    },
    {
     "name": "stdout",
     "output_type": "stream",
     "text": [
      "❌ Download error for 20230506: 429 Client Error: Too Many Requests for url: https://oasis.caiso.com/oasisapi/SingleZip?resultformat=6&queryname=PRC_LMP&version=12&market_run_id=DAM&startdatetime=20230506T08%3A00-0000&enddatetime=20230506T08%3A00-0000&grp_type=ALL\n",
      "❌ Download error for 20230507: 429 Client Error: Too Many Requests for url: https://oasis.caiso.com/oasisapi/SingleZip?resultformat=6&queryname=PRC_LMP&version=12&market_run_id=DAM&startdatetime=20230507T08%3A00-0000&enddatetime=20230507T08%3A00-0000&grp_type=ALL\n"
     ]
    },
    {
     "name": "stderr",
     "output_type": "stream",
     "text": [
      "CAISO Parallel:  41%|█████████▊              | 491/1201 [01:24<02:07,  5.57it/s]"
     ]
    },
    {
     "name": "stdout",
     "output_type": "stream",
     "text": [
      "❌ Download error for 20230508: 429 Client Error: Too Many Requests for url: https://oasis.caiso.com/oasisapi/SingleZip?resultformat=6&queryname=PRC_LMP&version=12&market_run_id=DAM&startdatetime=20230508T08%3A00-0000&enddatetime=20230508T08%3A00-0000&grp_type=ALL❌ Download error for 20230509: 429 Client Error: Too Many Requests for url: https://oasis.caiso.com/oasisapi/SingleZip?resultformat=6&queryname=PRC_LMP&version=12&market_run_id=DAM&startdatetime=20230509T08%3A00-0000&enddatetime=20230509T08%3A00-0000&grp_type=ALL\n",
      "\n"
     ]
    },
    {
     "name": "stderr",
     "output_type": "stream",
     "text": [
      "CAISO Parallel:  41%|█████████▊              | 493/1201 [01:24<01:52,  6.32it/s]"
     ]
    },
    {
     "name": "stdout",
     "output_type": "stream",
     "text": [
      "❌ Download error for 20230510: 429 Client Error: Too Many Requests for url: https://oasis.caiso.com/oasisapi/SingleZip?resultformat=6&queryname=PRC_LMP&version=12&market_run_id=DAM&startdatetime=20230510T08%3A00-0000&enddatetime=20230510T08%3A00-0000&grp_type=ALL\n"
     ]
    },
    {
     "name": "stderr",
     "output_type": "stream",
     "text": [
      "CAISO Parallel:  41%|█████████▊              | 494/1201 [01:25<01:57,  5.99it/s]"
     ]
    },
    {
     "name": "stdout",
     "output_type": "stream",
     "text": [
      "❌ Download error for 20230511: 429 Client Error: Too Many Requests for url: https://oasis.caiso.com/oasisapi/SingleZip?resultformat=6&queryname=PRC_LMP&version=12&market_run_id=DAM&startdatetime=20230511T08%3A00-0000&enddatetime=20230511T08%3A00-0000&grp_type=ALL\n"
     ]
    },
    {
     "name": "stderr",
     "output_type": "stream",
     "text": [
      "CAISO Parallel:  41%|█████████▉              | 495/1201 [01:25<02:17,  5.14it/s]"
     ]
    },
    {
     "name": "stdout",
     "output_type": "stream",
     "text": [
      "❌ Download error for 20230512: 429 Client Error: Too Many Requests for url: https://oasis.caiso.com/oasisapi/SingleZip?resultformat=6&queryname=PRC_LMP&version=12&market_run_id=DAM&startdatetime=20230512T08%3A00-0000&enddatetime=20230512T08%3A00-0000&grp_type=ALL❌ Download error for 20230513: 429 Client Error: Too Many Requests for url: https://oasis.caiso.com/oasisapi/SingleZip?resultformat=6&queryname=PRC_LMP&version=12&market_run_id=DAM&startdatetime=20230513T08%3A00-0000&enddatetime=20230513T08%3A00-0000&grp_type=ALL\n",
      "\n"
     ]
    },
    {
     "name": "stderr",
     "output_type": "stream",
     "text": [
      "CAISO Parallel:  41%|█████████▉              | 498/1201 [01:25<01:48,  6.49it/s]"
     ]
    },
    {
     "name": "stdout",
     "output_type": "stream",
     "text": [
      "❌ Download error for 20230514: 429 Client Error: Too Many Requests for url: https://oasis.caiso.com/oasisapi/SingleZip?resultformat=6&queryname=PRC_LMP&version=12&market_run_id=DAM&startdatetime=20230514T08%3A00-0000&enddatetime=20230514T08%3A00-0000&grp_type=ALL\n",
      "❌ Download error for 20230515: 429 Client Error: Too Many Requests for url: https://oasis.caiso.com/oasisapi/SingleZip?resultformat=6&queryname=PRC_LMP&version=12&market_run_id=DAM&startdatetime=20230515T08%3A00-0000&enddatetime=20230515T08%3A00-0000&grp_type=ALL\n"
     ]
    },
    {
     "name": "stderr",
     "output_type": "stream",
     "text": [
      "CAISO Parallel:  42%|██████████              | 501/1201 [01:26<01:45,  6.64it/s]"
     ]
    },
    {
     "name": "stdout",
     "output_type": "stream",
     "text": [
      "❌ Download error for 20230516: 429 Client Error: Too Many Requests for url: https://oasis.caiso.com/oasisapi/SingleZip?resultformat=6&queryname=PRC_LMP&version=12&market_run_id=DAM&startdatetime=20230516T08%3A00-0000&enddatetime=20230516T08%3A00-0000&grp_type=ALL❌ Download error for 20230517: 429 Client Error: Too Many Requests for url: https://oasis.caiso.com/oasisapi/SingleZip?resultformat=6&queryname=PRC_LMP&version=12&market_run_id=DAM&startdatetime=20230517T08%3A00-0000&enddatetime=20230517T08%3A00-0000&grp_type=ALL\n",
      "\n",
      "❌ Download error for 20230518: 429 Client Error: Too Many Requests for url: https://oasis.caiso.com/oasisapi/SingleZip?resultformat=6&queryname=PRC_LMP&version=12&market_run_id=DAM&startdatetime=20230518T08%3A00-0000&enddatetime=20230518T08%3A00-0000&grp_type=ALL\n"
     ]
    },
    {
     "name": "stderr",
     "output_type": "stream",
     "text": [
      "CAISO Parallel:  42%|██████████              | 502/1201 [01:26<01:51,  6.24it/s]"
     ]
    },
    {
     "name": "stdout",
     "output_type": "stream",
     "text": [
      "❌ Download error for 20230519: 429 Client Error: Too Many Requests for url: https://oasis.caiso.com/oasisapi/SingleZip?resultformat=6&queryname=PRC_LMP&version=12&market_run_id=DAM&startdatetime=20230519T08%3A00-0000&enddatetime=20230519T08%3A00-0000&grp_type=ALL\n"
     ]
    },
    {
     "name": "stderr",
     "output_type": "stream",
     "text": [
      "CAISO Parallel:  42%|██████████              | 505/1201 [01:26<01:51,  6.27it/s]"
     ]
    },
    {
     "name": "stdout",
     "output_type": "stream",
     "text": [
      "❌ Download error for 20230520: 429 Client Error: Too Many Requests for url: https://oasis.caiso.com/oasisapi/SingleZip?resultformat=6&queryname=PRC_LMP&version=12&market_run_id=DAM&startdatetime=20230520T08%3A00-0000&enddatetime=20230520T08%3A00-0000&grp_type=ALL\n",
      "❌ Download error for 20230521: 429 Client Error: Too Many Requests for url: https://oasis.caiso.com/oasisapi/SingleZip?resultformat=6&queryname=PRC_LMP&version=12&market_run_id=DAM&startdatetime=20230521T08%3A00-0000&enddatetime=20230521T08%3A00-0000&grp_type=ALL\n",
      "❌ Download error for 20230522: 429 Client Error: Too Many Requests for url: https://oasis.caiso.com/oasisapi/SingleZip?resultformat=6&queryname=PRC_LMP&version=12&market_run_id=DAM&startdatetime=20230522T08%3A00-0000&enddatetime=20230522T08%3A00-0000&grp_type=ALL\n"
     ]
    },
    {
     "name": "stderr",
     "output_type": "stream",
     "text": [
      "CAISO Parallel:  42%|██████████              | 506/1201 [01:27<01:58,  5.87it/s]"
     ]
    },
    {
     "name": "stdout",
     "output_type": "stream",
     "text": [
      "❌ Download error for 20230523: 429 Client Error: Too Many Requests for url: https://oasis.caiso.com/oasisapi/SingleZip?resultformat=6&queryname=PRC_LMP&version=12&market_run_id=DAM&startdatetime=20230523T08%3A00-0000&enddatetime=20230523T08%3A00-0000&grp_type=ALL\n"
     ]
    },
    {
     "name": "stderr",
     "output_type": "stream",
     "text": [
      "CAISO Parallel:  42%|██████████▏             | 507/1201 [01:27<02:39,  4.35it/s]"
     ]
    },
    {
     "name": "stdout",
     "output_type": "stream",
     "text": [
      "❌ Download error for 20230524: 429 Client Error: Too Many Requests for url: https://oasis.caiso.com/oasisapi/SingleZip?resultformat=6&queryname=PRC_LMP&version=12&market_run_id=DAM&startdatetime=20230524T08%3A00-0000&enddatetime=20230524T08%3A00-0000&grp_type=ALL❌ Download error for 20230525: 429 Client Error: Too Many Requests for url: https://oasis.caiso.com/oasisapi/SingleZip?resultformat=6&queryname=PRC_LMP&version=12&market_run_id=DAM&startdatetime=20230525T08%3A00-0000&enddatetime=20230525T08%3A00-0000&grp_type=ALL\n",
      "\n"
     ]
    },
    {
     "name": "stderr",
     "output_type": "stream",
     "text": [
      "CAISO Parallel:  42%|██████████▏             | 509/1201 [01:27<02:02,  5.63it/s]"
     ]
    },
    {
     "name": "stdout",
     "output_type": "stream",
     "text": [
      "❌ Download error for 20230526: 429 Client Error: Too Many Requests for url: https://oasis.caiso.com/oasisapi/SingleZip?resultformat=6&queryname=PRC_LMP&version=12&market_run_id=DAM&startdatetime=20230526T08%3A00-0000&enddatetime=20230526T08%3A00-0000&grp_type=ALL\n",
      "❌ Download error for 20230527: 429 Client Error: Too Many Requests for url: https://oasis.caiso.com/oasisapi/SingleZip?resultformat=6&queryname=PRC_LMP&version=12&market_run_id=DAM&startdatetime=20230527T08%3A00-0000&enddatetime=20230527T08%3A00-0000&grp_type=ALL\n"
     ]
    },
    {
     "name": "stderr",
     "output_type": "stream",
     "text": [
      "CAISO Parallel:  43%|██████████▎             | 513/1201 [01:28<01:56,  5.88it/s]"
     ]
    },
    {
     "name": "stdout",
     "output_type": "stream",
     "text": [
      "❌ Download error for 20230529: 429 Client Error: Too Many Requests for url: https://oasis.caiso.com/oasisapi/SingleZip?resultformat=6&queryname=PRC_LMP&version=12&market_run_id=DAM&startdatetime=20230529T08%3A00-0000&enddatetime=20230529T08%3A00-0000&grp_type=ALL\n",
      "❌ Download error for 20230528: 429 Client Error: Too Many Requests for url: https://oasis.caiso.com/oasisapi/SingleZip?resultformat=6&queryname=PRC_LMP&version=12&market_run_id=DAM&startdatetime=20230528T08%3A00-0000&enddatetime=20230528T08%3A00-0000&grp_type=ALL\n",
      "❌ Download error for 20230530: 429 Client Error: Too Many Requests for url: https://oasis.caiso.com/oasisapi/SingleZip?resultformat=6&queryname=PRC_LMP&version=12&market_run_id=DAM&startdatetime=20230530T08%3A00-0000&enddatetime=20230530T08%3A00-0000&grp_type=ALL\n"
     ]
    },
    {
     "name": "stderr",
     "output_type": "stream",
     "text": [
      "CAISO Parallel:  43%|██████████▎             | 514/1201 [01:28<01:50,  6.21it/s]"
     ]
    },
    {
     "name": "stdout",
     "output_type": "stream",
     "text": [
      "❌ Download error for 20230531: 429 Client Error: Too Many Requests for url: https://oasis.caiso.com/oasisapi/SingleZip?resultformat=6&queryname=PRC_LMP&version=12&market_run_id=DAM&startdatetime=20230531T08%3A00-0000&enddatetime=20230531T08%3A00-0000&grp_type=ALL\n"
     ]
    },
    {
     "name": "stderr",
     "output_type": "stream",
     "text": [
      "CAISO Parallel:  43%|██████████▎             | 515/1201 [01:29<02:31,  4.54it/s]"
     ]
    },
    {
     "name": "stdout",
     "output_type": "stream",
     "text": [
      "❌ Download error for 20230601: 429 Client Error: Too Many Requests for url: https://oasis.caiso.com/oasisapi/SingleZip?resultformat=6&queryname=PRC_LMP&version=12&market_run_id=DAM&startdatetime=20230601T08%3A00-0000&enddatetime=20230601T08%3A00-0000&grp_type=ALL❌ Download error for 20230602: 429 Client Error: Too Many Requests for url: https://oasis.caiso.com/oasisapi/SingleZip?resultformat=6&queryname=PRC_LMP&version=12&market_run_id=DAM&startdatetime=20230602T08%3A00-0000&enddatetime=20230602T08%3A00-0000&grp_type=ALL\n",
      "\n",
      "❌ Download error for 20230603: 429 Client Error: Too Many Requests for url: https://oasis.caiso.com/oasisapi/SingleZip?resultformat=6&queryname=PRC_LMP&version=12&market_run_id=DAM&startdatetime=20230603T08%3A00-0000&enddatetime=20230603T08%3A00-0000&grp_type=ALL\n"
     ]
    },
    {
     "name": "stderr",
     "output_type": "stream",
     "text": [
      "CAISO Parallel:  43%|██████████▎             | 517/1201 [01:29<01:59,  5.74it/s]"
     ]
    },
    {
     "name": "stdout",
     "output_type": "stream",
     "text": [
      "❌ Download error for 20230604: 429 Client Error: Too Many Requests for url: https://oasis.caiso.com/oasisapi/SingleZip?resultformat=6&queryname=PRC_LMP&version=12&market_run_id=DAM&startdatetime=20230604T08%3A00-0000&enddatetime=20230604T08%3A00-0000&grp_type=ALL\n"
     ]
    },
    {
     "name": "stderr",
     "output_type": "stream",
     "text": [
      "CAISO Parallel:  43%|██████████▍             | 521/1201 [01:29<01:46,  6.40it/s]"
     ]
    },
    {
     "name": "stdout",
     "output_type": "stream",
     "text": [
      "❌ Download error for 20230606: 429 Client Error: Too Many Requests for url: https://oasis.caiso.com/oasisapi/SingleZip?resultformat=6&queryname=PRC_LMP&version=12&market_run_id=DAM&startdatetime=20230606T08%3A00-0000&enddatetime=20230606T08%3A00-0000&grp_type=ALL❌ Download error for 20230605: 429 Client Error: Too Many Requests for url: https://oasis.caiso.com/oasisapi/SingleZip?resultformat=6&queryname=PRC_LMP&version=12&market_run_id=DAM&startdatetime=20230605T08%3A00-0000&enddatetime=20230605T08%3A00-0000&grp_type=ALL\n",
      "\n",
      "❌ Download error for 20230607: 429 Client Error: Too Many Requests for url: https://oasis.caiso.com/oasisapi/SingleZip?resultformat=6&queryname=PRC_LMP&version=12&market_run_id=DAM&startdatetime=20230607T08%3A00-0000&enddatetime=20230607T08%3A00-0000&grp_type=ALL\n"
     ]
    },
    {
     "name": "stderr",
     "output_type": "stream",
     "text": [
      "CAISO Parallel:  44%|██████████▍             | 523/1201 [01:30<02:08,  5.30it/s]"
     ]
    },
    {
     "name": "stdout",
     "output_type": "stream",
     "text": [
      "❌ Download error for 20230609: 429 Client Error: Too Many Requests for url: https://oasis.caiso.com/oasisapi/SingleZip?resultformat=6&queryname=PRC_LMP&version=12&market_run_id=DAM&startdatetime=20230609T08%3A00-0000&enddatetime=20230609T08%3A00-0000&grp_type=ALL\n",
      "❌ Download error for 20230610: 429 Client Error: Too Many Requests for url: https://oasis.caiso.com/oasisapi/SingleZip?resultformat=6&queryname=PRC_LMP&version=12&market_run_id=DAM&startdatetime=20230610T08%3A00-0000&enddatetime=20230610T08%3A00-0000&grp_type=ALL\n"
     ]
    },
    {
     "name": "stderr",
     "output_type": "stream",
     "text": [
      "CAISO Parallel:  44%|██████████▍             | 525/1201 [01:30<02:00,  5.60it/s]"
     ]
    },
    {
     "name": "stdout",
     "output_type": "stream",
     "text": [
      "❌ Download error for 20230612: 429 Client Error: Too Many Requests for url: https://oasis.caiso.com/oasisapi/SingleZip?resultformat=6&queryname=PRC_LMP&version=12&market_run_id=DAM&startdatetime=20230612T08%3A00-0000&enddatetime=20230612T08%3A00-0000&grp_type=ALL❌ Download error for 20230611: 429 Client Error: Too Many Requests for url: https://oasis.caiso.com/oasisapi/SingleZip?resultformat=6&queryname=PRC_LMP&version=12&market_run_id=DAM&startdatetime=20230611T08%3A00-0000&enddatetime=20230611T08%3A00-0000&grp_type=ALL\n",
      "\n"
     ]
    },
    {
     "name": "stderr",
     "output_type": "stream",
     "text": [
      "CAISO Parallel:  44%|██████████▌             | 528/1201 [01:31<01:56,  5.79it/s]"
     ]
    },
    {
     "name": "stdout",
     "output_type": "stream",
     "text": [
      "❌ Download error for 20230613: 429 Client Error: Too Many Requests for url: https://oasis.caiso.com/oasisapi/SingleZip?resultformat=6&queryname=PRC_LMP&version=12&market_run_id=DAM&startdatetime=20230613T08%3A00-0000&enddatetime=20230613T08%3A00-0000&grp_type=ALL\n",
      "❌ Download error for 20230614: 429 Client Error: Too Many Requests for url: https://oasis.caiso.com/oasisapi/SingleZip?resultformat=6&queryname=PRC_LMP&version=12&market_run_id=DAM&startdatetime=20230614T08%3A00-0000&enddatetime=20230614T08%3A00-0000&grp_type=ALL\n"
     ]
    },
    {
     "name": "stderr",
     "output_type": "stream",
     "text": [
      "CAISO Parallel:  44%|██████████▌             | 529/1201 [01:31<02:01,  5.54it/s]"
     ]
    },
    {
     "name": "stdout",
     "output_type": "stream",
     "text": [
      "❌ Download error for 20230616: 429 Client Error: Too Many Requests for url: https://oasis.caiso.com/oasisapi/SingleZip?resultformat=6&queryname=PRC_LMP&version=12&market_run_id=DAM&startdatetime=20230616T08%3A00-0000&enddatetime=20230616T08%3A00-0000&grp_type=ALL❌ Download error for 20230615: 429 Client Error: Too Many Requests for url: https://oasis.caiso.com/oasisapi/SingleZip?resultformat=6&queryname=PRC_LMP&version=12&market_run_id=DAM&startdatetime=20230615T08%3A00-0000&enddatetime=20230615T08%3A00-0000&grp_type=ALL\n",
      "\n"
     ]
    },
    {
     "name": "stderr",
     "output_type": "stream",
     "text": [
      "CAISO Parallel:  44%|██████████▌             | 531/1201 [01:31<02:07,  5.24it/s]"
     ]
    },
    {
     "name": "stdout",
     "output_type": "stream",
     "text": [
      "❌ Download error for 20230617: 429 Client Error: Too Many Requests for url: https://oasis.caiso.com/oasisapi/SingleZip?resultformat=6&queryname=PRC_LMP&version=12&market_run_id=DAM&startdatetime=20230617T08%3A00-0000&enddatetime=20230617T08%3A00-0000&grp_type=ALL\n",
      "❌ Download error for 20230618: 429 Client Error: Too Many Requests for url: https://oasis.caiso.com/oasisapi/SingleZip?resultformat=6&queryname=PRC_LMP&version=12&market_run_id=DAM&startdatetime=20230618T08%3A00-0000&enddatetime=20230618T08%3A00-0000&grp_type=ALL\n"
     ]
    },
    {
     "name": "stderr",
     "output_type": "stream",
     "text": [
      "CAISO Parallel:  44%|██████████▋             | 533/1201 [01:32<01:58,  5.61it/s]"
     ]
    },
    {
     "name": "stdout",
     "output_type": "stream",
     "text": [
      "❌ Download error for 20230620: 429 Client Error: Too Many Requests for url: https://oasis.caiso.com/oasisapi/SingleZip?resultformat=6&queryname=PRC_LMP&version=12&market_run_id=DAM&startdatetime=20230620T08%3A00-0000&enddatetime=20230620T08%3A00-0000&grp_type=ALL❌ Download error for 20230619: 429 Client Error: Too Many Requests for url: https://oasis.caiso.com/oasisapi/SingleZip?resultformat=6&queryname=PRC_LMP&version=12&market_run_id=DAM&startdatetime=20230619T08%3A00-0000&enddatetime=20230619T08%3A00-0000&grp_type=ALL\n",
      "\n"
     ]
    },
    {
     "name": "stderr",
     "output_type": "stream",
     "text": [
      "CAISO Parallel:  45%|██████████▋             | 535/1201 [01:32<01:56,  5.69it/s]"
     ]
    },
    {
     "name": "stdout",
     "output_type": "stream",
     "text": [
      "❌ Download error for 20230621: 429 Client Error: Too Many Requests for url: https://oasis.caiso.com/oasisapi/SingleZip?resultformat=6&queryname=PRC_LMP&version=12&market_run_id=DAM&startdatetime=20230621T08%3A00-0000&enddatetime=20230621T08%3A00-0000&grp_type=ALL\n",
      "❌ Download error for 20230622: 429 Client Error: Too Many Requests for url: https://oasis.caiso.com/oasisapi/SingleZip?resultformat=6&queryname=PRC_LMP&version=12&market_run_id=DAM&startdatetime=20230622T08%3A00-0000&enddatetime=20230622T08%3A00-0000&grp_type=ALL\n"
     ]
    },
    {
     "name": "stderr",
     "output_type": "stream",
     "text": [
      "CAISO Parallel:  45%|██████████▋             | 537/1201 [01:32<01:50,  6.01it/s]"
     ]
    },
    {
     "name": "stdout",
     "output_type": "stream",
     "text": [
      "❌ Download error for 20230623: 429 Client Error: Too Many Requests for url: https://oasis.caiso.com/oasisapi/SingleZip?resultformat=6&queryname=PRC_LMP&version=12&market_run_id=DAM&startdatetime=20230623T08%3A00-0000&enddatetime=20230623T08%3A00-0000&grp_type=ALL❌ Download error for 20230624: 429 Client Error: Too Many Requests for url: https://oasis.caiso.com/oasisapi/SingleZip?resultformat=6&queryname=PRC_LMP&version=12&market_run_id=DAM&startdatetime=20230624T08%3A00-0000&enddatetime=20230624T08%3A00-0000&grp_type=ALL\n",
      "\n"
     ]
    },
    {
     "name": "stderr",
     "output_type": "stream",
     "text": [
      "CAISO Parallel:  45%|██████████▊             | 539/1201 [01:33<01:51,  5.93it/s]"
     ]
    },
    {
     "name": "stdout",
     "output_type": "stream",
     "text": [
      "❌ Download error for 20230625: 429 Client Error: Too Many Requests for url: https://oasis.caiso.com/oasisapi/SingleZip?resultformat=6&queryname=PRC_LMP&version=12&market_run_id=DAM&startdatetime=20230625T08%3A00-0000&enddatetime=20230625T08%3A00-0000&grp_type=ALL\n",
      "❌ Download error for 20230626: 429 Client Error: Too Many Requests for url: https://oasis.caiso.com/oasisapi/SingleZip?resultformat=6&queryname=PRC_LMP&version=12&market_run_id=DAM&startdatetime=20230626T08%3A00-0000&enddatetime=20230626T08%3A00-0000&grp_type=ALL\n"
     ]
    },
    {
     "name": "stderr",
     "output_type": "stream",
     "text": [
      "CAISO Parallel:  45%|██████████▊             | 541/1201 [01:33<01:46,  6.21it/s]"
     ]
    },
    {
     "name": "stdout",
     "output_type": "stream",
     "text": [
      "❌ Download error for 20230627: 429 Client Error: Too Many Requests for url: https://oasis.caiso.com/oasisapi/SingleZip?resultformat=6&queryname=PRC_LMP&version=12&market_run_id=DAM&startdatetime=20230627T08%3A00-0000&enddatetime=20230627T08%3A00-0000&grp_type=ALL❌ Download error for 20230628: 429 Client Error: Too Many Requests for url: https://oasis.caiso.com/oasisapi/SingleZip?resultformat=6&queryname=PRC_LMP&version=12&market_run_id=DAM&startdatetime=20230628T08%3A00-0000&enddatetime=20230628T08%3A00-0000&grp_type=ALL\n",
      "\n"
     ]
    },
    {
     "name": "stderr",
     "output_type": "stream",
     "text": [
      "CAISO Parallel:  45%|██████████▊             | 543/1201 [01:33<01:49,  5.99it/s]"
     ]
    },
    {
     "name": "stdout",
     "output_type": "stream",
     "text": [
      "❌ Download error for 20230629: 429 Client Error: Too Many Requests for url: https://oasis.caiso.com/oasisapi/SingleZip?resultformat=6&queryname=PRC_LMP&version=12&market_run_id=DAM&startdatetime=20230629T08%3A00-0000&enddatetime=20230629T08%3A00-0000&grp_type=ALL\n",
      "❌ Download error for 20230630: 429 Client Error: Too Many Requests for url: https://oasis.caiso.com/oasisapi/SingleZip?resultformat=6&queryname=PRC_LMP&version=12&market_run_id=DAM&startdatetime=20230630T08%3A00-0000&enddatetime=20230630T08%3A00-0000&grp_type=ALL\n"
     ]
    },
    {
     "name": "stderr",
     "output_type": "stream",
     "text": [
      "CAISO Parallel:  45%|██████████▉             | 545/1201 [01:34<01:43,  6.31it/s]"
     ]
    },
    {
     "name": "stdout",
     "output_type": "stream",
     "text": [
      "❌ Download error for 20230701: 429 Client Error: Too Many Requests for url: https://oasis.caiso.com/oasisapi/SingleZip?resultformat=6&queryname=PRC_LMP&version=12&market_run_id=DAM&startdatetime=20230701T08%3A00-0000&enddatetime=20230701T08%3A00-0000&grp_type=ALL❌ Download error for 20230702: 429 Client Error: Too Many Requests for url: https://oasis.caiso.com/oasisapi/SingleZip?resultformat=6&queryname=PRC_LMP&version=12&market_run_id=DAM&startdatetime=20230702T08%3A00-0000&enddatetime=20230702T08%3A00-0000&grp_type=ALL\n",
      "\n"
     ]
    },
    {
     "name": "stderr",
     "output_type": "stream",
     "text": [
      "CAISO Parallel:  46%|██████████▉             | 547/1201 [01:34<01:47,  6.06it/s]"
     ]
    },
    {
     "name": "stdout",
     "output_type": "stream",
     "text": [
      "❌ Download error for 20230703: 429 Client Error: Too Many Requests for url: https://oasis.caiso.com/oasisapi/SingleZip?resultformat=6&queryname=PRC_LMP&version=12&market_run_id=DAM&startdatetime=20230703T08%3A00-0000&enddatetime=20230703T08%3A00-0000&grp_type=ALL\n",
      "❌ Download error for 20230704: 429 Client Error: Too Many Requests for url: https://oasis.caiso.com/oasisapi/SingleZip?resultformat=6&queryname=PRC_LMP&version=12&market_run_id=DAM&startdatetime=20230704T08%3A00-0000&enddatetime=20230704T08%3A00-0000&grp_type=ALL\n"
     ]
    },
    {
     "name": "stderr",
     "output_type": "stream",
     "text": [
      "CAISO Parallel:  46%|██████████▉             | 549/1201 [01:34<01:43,  6.33it/s]"
     ]
    },
    {
     "name": "stdout",
     "output_type": "stream",
     "text": [
      "❌ Download error for 20230705: 429 Client Error: Too Many Requests for url: https://oasis.caiso.com/oasisapi/SingleZip?resultformat=6&queryname=PRC_LMP&version=12&market_run_id=DAM&startdatetime=20230705T08%3A00-0000&enddatetime=20230705T08%3A00-0000&grp_type=ALL❌ Download error for 20230706: 429 Client Error: Too Many Requests for url: https://oasis.caiso.com/oasisapi/SingleZip?resultformat=6&queryname=PRC_LMP&version=12&market_run_id=DAM&startdatetime=20230706T08%3A00-0000&enddatetime=20230706T08%3A00-0000&grp_type=ALL\n",
      "\n"
     ]
    },
    {
     "name": "stderr",
     "output_type": "stream",
     "text": [
      "CAISO Parallel:  46%|███████████             | 552/1201 [01:35<01:32,  7.02it/s]"
     ]
    },
    {
     "name": "stdout",
     "output_type": "stream",
     "text": [
      "❌ Download error for 20230707: 429 Client Error: Too Many Requests for url: https://oasis.caiso.com/oasisapi/SingleZip?resultformat=6&queryname=PRC_LMP&version=12&market_run_id=DAM&startdatetime=20230707T08%3A00-0000&enddatetime=20230707T08%3A00-0000&grp_type=ALL\n",
      "❌ Download error for 20230708: 429 Client Error: Too Many Requests for url: https://oasis.caiso.com/oasisapi/SingleZip?resultformat=6&queryname=PRC_LMP&version=12&market_run_id=DAM&startdatetime=20230708T08%3A00-0000&enddatetime=20230708T08%3A00-0000&grp_type=ALL\n"
     ]
    },
    {
     "name": "stderr",
     "output_type": "stream",
     "text": [
      "CAISO Parallel:  46%|███████████             | 554/1201 [01:35<01:31,  7.03it/s]"
     ]
    },
    {
     "name": "stdout",
     "output_type": "stream",
     "text": [
      "❌ Download error for 20230709: 429 Client Error: Too Many Requests for url: https://oasis.caiso.com/oasisapi/SingleZip?resultformat=6&queryname=PRC_LMP&version=12&market_run_id=DAM&startdatetime=20230709T08%3A00-0000&enddatetime=20230709T08%3A00-0000&grp_type=ALL❌ Download error for 20230711: 429 Client Error: Too Many Requests for url: https://oasis.caiso.com/oasisapi/SingleZip?resultformat=6&queryname=PRC_LMP&version=12&market_run_id=DAM&startdatetime=20230711T08%3A00-0000&enddatetime=20230711T08%3A00-0000&grp_type=ALL\n",
      "❌ Download error for 20230710: 429 Client Error: Too Many Requests for url: https://oasis.caiso.com/oasisapi/SingleZip?resultformat=6&queryname=PRC_LMP&version=12&market_run_id=DAM&startdatetime=20230710T08%3A00-0000&enddatetime=20230710T08%3A00-0000&grp_type=ALL\n",
      "\n"
     ]
    },
    {
     "name": "stderr",
     "output_type": "stream",
     "text": [
      "CAISO Parallel:  46%|███████████▏            | 557/1201 [01:35<01:26,  7.46it/s]"
     ]
    },
    {
     "name": "stdout",
     "output_type": "stream",
     "text": [
      "❌ Download error for 20230712: 429 Client Error: Too Many Requests for url: https://oasis.caiso.com/oasisapi/SingleZip?resultformat=6&queryname=PRC_LMP&version=12&market_run_id=DAM&startdatetime=20230712T08%3A00-0000&enddatetime=20230712T08%3A00-0000&grp_type=ALL\n",
      "❌ Download error for 20230713: 429 Client Error: Too Many Requests for url: https://oasis.caiso.com/oasisapi/SingleZip?resultformat=6&queryname=PRC_LMP&version=12&market_run_id=DAM&startdatetime=20230713T08%3A00-0000&enddatetime=20230713T08%3A00-0000&grp_type=ALL\n"
     ]
    },
    {
     "name": "stderr",
     "output_type": "stream",
     "text": [
      "CAISO Parallel:  47%|███████████▏            | 559/1201 [01:36<01:27,  7.38it/s]"
     ]
    },
    {
     "name": "stdout",
     "output_type": "stream",
     "text": [
      "❌ Download error for 20230714: 429 Client Error: Too Many Requests for url: https://oasis.caiso.com/oasisapi/SingleZip?resultformat=6&queryname=PRC_LMP&version=12&market_run_id=DAM&startdatetime=20230714T08%3A00-0000&enddatetime=20230714T08%3A00-0000&grp_type=ALL❌ Download error for 20230715: 429 Client Error: Too Many Requests for url: https://oasis.caiso.com/oasisapi/SingleZip?resultformat=6&queryname=PRC_LMP&version=12&market_run_id=DAM&startdatetime=20230715T08%3A00-0000&enddatetime=20230715T08%3A00-0000&grp_type=ALL\n",
      "\n"
     ]
    },
    {
     "name": "stderr",
     "output_type": "stream",
     "text": [
      "CAISO Parallel:  47%|███████████▏            | 561/1201 [01:36<01:34,  6.77it/s]"
     ]
    },
    {
     "name": "stdout",
     "output_type": "stream",
     "text": [
      "❌ Download error for 20230717: 429 Client Error: Too Many Requests for url: https://oasis.caiso.com/oasisapi/SingleZip?resultformat=6&queryname=PRC_LMP&version=12&market_run_id=DAM&startdatetime=20230717T08%3A00-0000&enddatetime=20230717T08%3A00-0000&grp_type=ALL\n",
      "❌ Download error for 20230718: 429 Client Error: Too Many Requests for url: https://oasis.caiso.com/oasisapi/SingleZip?resultformat=6&queryname=PRC_LMP&version=12&market_run_id=DAM&startdatetime=20230718T08%3A00-0000&enddatetime=20230718T08%3A00-0000&grp_type=ALL\n"
     ]
    },
    {
     "name": "stderr",
     "output_type": "stream",
     "text": [
      "CAISO Parallel:  47%|███████████▎            | 563/1201 [01:36<01:32,  6.88it/s]"
     ]
    },
    {
     "name": "stdout",
     "output_type": "stream",
     "text": [
      "❌ Download error for 20230720: 429 Client Error: Too Many Requests for url: https://oasis.caiso.com/oasisapi/SingleZip?resultformat=6&queryname=PRC_LMP&version=12&market_run_id=DAM&startdatetime=20230720T08%3A00-0000&enddatetime=20230720T08%3A00-0000&grp_type=ALL\n",
      "❌ Download error for 20230719: 429 Client Error: Too Many Requests for url: https://oasis.caiso.com/oasisapi/SingleZip?resultformat=6&queryname=PRC_LMP&version=12&market_run_id=DAM&startdatetime=20230719T08%3A00-0000&enddatetime=20230719T08%3A00-0000&grp_type=ALL\n"
     ]
    },
    {
     "name": "stderr",
     "output_type": "stream",
     "text": [
      "CAISO Parallel:  47%|███████████▎            | 565/1201 [01:37<01:39,  6.42it/s]"
     ]
    },
    {
     "name": "stdout",
     "output_type": "stream",
     "text": [
      "❌ Download error for 20230721: 429 Client Error: Too Many Requests for url: https://oasis.caiso.com/oasisapi/SingleZip?resultformat=6&queryname=PRC_LMP&version=12&market_run_id=DAM&startdatetime=20230721T08%3A00-0000&enddatetime=20230721T08%3A00-0000&grp_type=ALL\n",
      "❌ Download error for 20230722: 429 Client Error: Too Many Requests for url: https://oasis.caiso.com/oasisapi/SingleZip?resultformat=6&queryname=PRC_LMP&version=12&market_run_id=DAM&startdatetime=20230722T08%3A00-0000&enddatetime=20230722T08%3A00-0000&grp_type=ALL\n"
     ]
    },
    {
     "name": "stderr",
     "output_type": "stream",
     "text": [
      "CAISO Parallel:  47%|███████████▎            | 567/1201 [01:37<01:34,  6.71it/s]"
     ]
    },
    {
     "name": "stdout",
     "output_type": "stream",
     "text": [
      "❌ Download error for 20230723: 429 Client Error: Too Many Requests for url: https://oasis.caiso.com/oasisapi/SingleZip?resultformat=6&queryname=PRC_LMP&version=12&market_run_id=DAM&startdatetime=20230723T08%3A00-0000&enddatetime=20230723T08%3A00-0000&grp_type=ALL\n",
      "❌ Download error for 20230724: 429 Client Error: Too Many Requests for url: https://oasis.caiso.com/oasisapi/SingleZip?resultformat=6&queryname=PRC_LMP&version=12&market_run_id=DAM&startdatetime=20230724T08%3A00-0000&enddatetime=20230724T08%3A00-0000&grp_type=ALL\n"
     ]
    },
    {
     "name": "stderr",
     "output_type": "stream",
     "text": [
      "CAISO Parallel:  47%|███████████▎            | 569/1201 [01:37<01:41,  6.22it/s]"
     ]
    },
    {
     "name": "stdout",
     "output_type": "stream",
     "text": [
      "❌ Download error for 20230725: 429 Client Error: Too Many Requests for url: https://oasis.caiso.com/oasisapi/SingleZip?resultformat=6&queryname=PRC_LMP&version=12&market_run_id=DAM&startdatetime=20230725T08%3A00-0000&enddatetime=20230725T08%3A00-0000&grp_type=ALL\n",
      "❌ Download error for 20230726: 429 Client Error: Too Many Requests for url: https://oasis.caiso.com/oasisapi/SingleZip?resultformat=6&queryname=PRC_LMP&version=12&market_run_id=DAM&startdatetime=20230726T08%3A00-0000&enddatetime=20230726T08%3A00-0000&grp_type=ALL\n"
     ]
    },
    {
     "name": "stderr",
     "output_type": "stream",
     "text": [
      "CAISO Parallel:  48%|███████████▍            | 571/1201 [01:37<01:35,  6.58it/s]"
     ]
    },
    {
     "name": "stdout",
     "output_type": "stream",
     "text": [
      "❌ Download error for 20230727: 429 Client Error: Too Many Requests for url: https://oasis.caiso.com/oasisapi/SingleZip?resultformat=6&queryname=PRC_LMP&version=12&market_run_id=DAM&startdatetime=20230727T08%3A00-0000&enddatetime=20230727T08%3A00-0000&grp_type=ALL\n",
      "❌ Download error for 20230728: 429 Client Error: Too Many Requests for url: https://oasis.caiso.com/oasisapi/SingleZip?resultformat=6&queryname=PRC_LMP&version=12&market_run_id=DAM&startdatetime=20230728T08%3A00-0000&enddatetime=20230728T08%3A00-0000&grp_type=ALL\n"
     ]
    },
    {
     "name": "stderr",
     "output_type": "stream",
     "text": [
      "CAISO Parallel:  48%|███████████▍            | 573/1201 [01:38<01:43,  6.07it/s]"
     ]
    },
    {
     "name": "stdout",
     "output_type": "stream",
     "text": [
      "❌ Download error for 20230729: 429 Client Error: Too Many Requests for url: https://oasis.caiso.com/oasisapi/SingleZip?resultformat=6&queryname=PRC_LMP&version=12&market_run_id=DAM&startdatetime=20230729T08%3A00-0000&enddatetime=20230729T08%3A00-0000&grp_type=ALL\n",
      "❌ Download error for 20230730: 429 Client Error: Too Many Requests for url: https://oasis.caiso.com/oasisapi/SingleZip?resultformat=6&queryname=PRC_LMP&version=12&market_run_id=DAM&startdatetime=20230730T08%3A00-0000&enddatetime=20230730T08%3A00-0000&grp_type=ALL\n"
     ]
    },
    {
     "name": "stderr",
     "output_type": "stream",
     "text": [
      "CAISO Parallel:  48%|███████████▍            | 575/1201 [01:38<01:35,  6.58it/s]"
     ]
    },
    {
     "name": "stdout",
     "output_type": "stream",
     "text": [
      "❌ Download error for 20230801: 429 Client Error: Too Many Requests for url: https://oasis.caiso.com/oasisapi/SingleZip?resultformat=6&queryname=PRC_LMP&version=12&market_run_id=DAM&startdatetime=20230801T08%3A00-0000&enddatetime=20230801T08%3A00-0000&grp_type=ALL❌ Download error for 20230731: 429 Client Error: Too Many Requests for url: https://oasis.caiso.com/oasisapi/SingleZip?resultformat=6&queryname=PRC_LMP&version=12&market_run_id=DAM&startdatetime=20230731T08%3A00-0000&enddatetime=20230731T08%3A00-0000&grp_type=ALL\n",
      "\n"
     ]
    },
    {
     "name": "stderr",
     "output_type": "stream",
     "text": [
      "CAISO Parallel:  48%|███████████▌            | 577/1201 [01:38<01:44,  5.98it/s]"
     ]
    },
    {
     "name": "stdout",
     "output_type": "stream",
     "text": [
      "❌ Download error for 20230802: 429 Client Error: Too Many Requests for url: https://oasis.caiso.com/oasisapi/SingleZip?resultformat=6&queryname=PRC_LMP&version=12&market_run_id=DAM&startdatetime=20230802T08%3A00-0000&enddatetime=20230802T08%3A00-0000&grp_type=ALL❌ Download error for 20230803: 429 Client Error: Too Many Requests for url: https://oasis.caiso.com/oasisapi/SingleZip?resultformat=6&queryname=PRC_LMP&version=12&market_run_id=DAM&startdatetime=20230803T08%3A00-0000&enddatetime=20230803T08%3A00-0000&grp_type=ALL\n",
      "\n"
     ]
    },
    {
     "name": "stderr",
     "output_type": "stream",
     "text": [
      "CAISO Parallel:  48%|███████████▌            | 579/1201 [01:39<01:34,  6.61it/s]"
     ]
    },
    {
     "name": "stdout",
     "output_type": "stream",
     "text": [
      "❌ Download error for 20230805: 429 Client Error: Too Many Requests for url: https://oasis.caiso.com/oasisapi/SingleZip?resultformat=6&queryname=PRC_LMP&version=12&market_run_id=DAM&startdatetime=20230805T08%3A00-0000&enddatetime=20230805T08%3A00-0000&grp_type=ALL❌ Download error for 20230804: 429 Client Error: Too Many Requests for url: https://oasis.caiso.com/oasisapi/SingleZip?resultformat=6&queryname=PRC_LMP&version=12&market_run_id=DAM&startdatetime=20230804T08%3A00-0000&enddatetime=20230804T08%3A00-0000&grp_type=ALL\n",
      "\n"
     ]
    },
    {
     "name": "stderr",
     "output_type": "stream",
     "text": [
      "CAISO Parallel:  48%|███████████▌            | 581/1201 [01:39<01:43,  5.98it/s]"
     ]
    },
    {
     "name": "stdout",
     "output_type": "stream",
     "text": [
      "❌ Download error for 20230806: 429 Client Error: Too Many Requests for url: https://oasis.caiso.com/oasisapi/SingleZip?resultformat=6&queryname=PRC_LMP&version=12&market_run_id=DAM&startdatetime=20230806T08%3A00-0000&enddatetime=20230806T08%3A00-0000&grp_type=ALL❌ Download error for 20230807: 429 Client Error: Too Many Requests for url: https://oasis.caiso.com/oasisapi/SingleZip?resultformat=6&queryname=PRC_LMP&version=12&market_run_id=DAM&startdatetime=20230807T08%3A00-0000&enddatetime=20230807T08%3A00-0000&grp_type=ALL\n",
      "\n"
     ]
    },
    {
     "name": "stderr",
     "output_type": "stream",
     "text": [
      "CAISO Parallel:  49%|███████████▋            | 583/1201 [01:39<01:32,  6.65it/s]"
     ]
    },
    {
     "name": "stdout",
     "output_type": "stream",
     "text": [
      "❌ Download error for 20230809: 429 Client Error: Too Many Requests for url: https://oasis.caiso.com/oasisapi/SingleZip?resultformat=6&queryname=PRC_LMP&version=12&market_run_id=DAM&startdatetime=20230809T08%3A00-0000&enddatetime=20230809T08%3A00-0000&grp_type=ALL❌ Download error for 20230808: 429 Client Error: Too Many Requests for url: https://oasis.caiso.com/oasisapi/SingleZip?resultformat=6&queryname=PRC_LMP&version=12&market_run_id=DAM&startdatetime=20230808T08%3A00-0000&enddatetime=20230808T08%3A00-0000&grp_type=ALL\n",
      "\n"
     ]
    },
    {
     "name": "stderr",
     "output_type": "stream",
     "text": [
      "CAISO Parallel:  49%|███████████▋            | 587/1201 [01:40<01:25,  7.20it/s]"
     ]
    },
    {
     "name": "stdout",
     "output_type": "stream",
     "text": [
      "❌ Download error for 20230810: 429 Client Error: Too Many Requests for url: https://oasis.caiso.com/oasisapi/SingleZip?resultformat=6&queryname=PRC_LMP&version=12&market_run_id=DAM&startdatetime=20230810T08%3A00-0000&enddatetime=20230810T08%3A00-0000&grp_type=ALL❌ Download error for 20230811: 429 Client Error: Too Many Requests for url: https://oasis.caiso.com/oasisapi/SingleZip?resultformat=6&queryname=PRC_LMP&version=12&market_run_id=DAM&startdatetime=20230811T08%3A00-0000&enddatetime=20230811T08%3A00-0000&grp_type=ALL\n",
      "\n"
     ]
    },
    {
     "name": "stderr",
     "output_type": "stream",
     "text": [
      "CAISO Parallel:  49%|███████████▊            | 589/1201 [01:40<01:08,  8.90it/s]"
     ]
    },
    {
     "name": "stdout",
     "output_type": "stream",
     "text": [
      "❌ Download error for 20230812: 429 Client Error: Too Many Requests for url: https://oasis.caiso.com/oasisapi/SingleZip?resultformat=6&queryname=PRC_LMP&version=12&market_run_id=DAM&startdatetime=20230812T08%3A00-0000&enddatetime=20230812T08%3A00-0000&grp_type=ALL\n",
      "❌ Download error for 20230813: 429 Client Error: Too Many Requests for url: https://oasis.caiso.com/oasisapi/SingleZip?resultformat=6&queryname=PRC_LMP&version=12&market_run_id=DAM&startdatetime=20230813T08%3A00-0000&enddatetime=20230813T08%3A00-0000&grp_type=ALL\n"
     ]
    },
    {
     "name": "stderr",
     "output_type": "stream",
     "text": [
      "CAISO Parallel:  49%|███████████▊            | 592/1201 [01:41<01:24,  7.19it/s]"
     ]
    },
    {
     "name": "stdout",
     "output_type": "stream",
     "text": [
      "❌ Download error for 20230814: 429 Client Error: Too Many Requests for url: https://oasis.caiso.com/oasisapi/SingleZip?resultformat=6&queryname=PRC_LMP&version=12&market_run_id=DAM&startdatetime=20230814T08%3A00-0000&enddatetime=20230814T08%3A00-0000&grp_type=ALL❌ Download error for 20230815: 429 Client Error: Too Many Requests for url: https://oasis.caiso.com/oasisapi/SingleZip?resultformat=6&queryname=PRC_LMP&version=12&market_run_id=DAM&startdatetime=20230815T08%3A00-0000&enddatetime=20230815T08%3A00-0000&grp_type=ALL\n",
      "\n",
      "❌ Download error for 20230816: 429 Client Error: Too Many Requests for url: https://oasis.caiso.com/oasisapi/SingleZip?resultformat=6&queryname=PRC_LMP&version=12&market_run_id=DAM&startdatetime=20230816T08%3A00-0000&enddatetime=20230816T08%3A00-0000&grp_type=ALL\n",
      "❌ Download error for 20230817: 429 Client Error: Too Many Requests for url: https://oasis.caiso.com/oasisapi/SingleZip?resultformat=6&queryname=PRC_LMP&version=12&market_run_id=DAM&startdatetime=20230817T08%3A00-0000&enddatetime=20230817T08%3A00-0000&grp_type=ALL\n",
      "❌ Download error for 20230818: 429 Client Error: Too Many Requests for url: https://oasis.caiso.com/oasisapi/SingleZip?resultformat=6&queryname=PRC_LMP&version=12&market_run_id=DAM&startdatetime=20230818T08%3A00-0000&enddatetime=20230818T08%3A00-0000&grp_type=ALL\n"
     ]
    },
    {
     "name": "stderr",
     "output_type": "stream",
     "text": [
      "CAISO Parallel:  50%|███████████▉            | 597/1201 [01:41<01:17,  7.77it/s]"
     ]
    },
    {
     "name": "stdout",
     "output_type": "stream",
     "text": [
      "❌ Download error for 20230819: 429 Client Error: Too Many Requests for url: https://oasis.caiso.com/oasisapi/SingleZip?resultformat=6&queryname=PRC_LMP&version=12&market_run_id=DAM&startdatetime=20230819T08%3A00-0000&enddatetime=20230819T08%3A00-0000&grp_type=ALL❌ Download error for 20230820: 429 Client Error: Too Many Requests for url: https://oasis.caiso.com/oasisapi/SingleZip?resultformat=6&queryname=PRC_LMP&version=12&market_run_id=DAM&startdatetime=20230820T08%3A00-0000&enddatetime=20230820T08%3A00-0000&grp_type=ALL\n",
      "\n",
      "❌ Download error for 20230821: 429 Client Error: Too Many Requests for url: https://oasis.caiso.com/oasisapi/SingleZip?resultformat=6&queryname=PRC_LMP&version=12&market_run_id=DAM&startdatetime=20230821T08%3A00-0000&enddatetime=20230821T08%3A00-0000&grp_type=ALL\n",
      "❌ Download error for 20230822: 429 Client Error: Too Many Requests for url: https://oasis.caiso.com/oasisapi/SingleZip?resultformat=6&queryname=PRC_LMP&version=12&market_run_id=DAM&startdatetime=20230822T08%3A00-0000&enddatetime=20230822T08%3A00-0000&grp_type=ALL\n",
      "❌ Download error for 20230823: 429 Client Error: Too Many Requests for url: https://oasis.caiso.com/oasisapi/SingleZip?resultformat=6&queryname=PRC_LMP&version=12&market_run_id=DAM&startdatetime=20230823T08%3A00-0000&enddatetime=20230823T08%3A00-0000&grp_type=ALL\n"
     ]
    },
    {
     "name": "stderr",
     "output_type": "stream",
     "text": [
      "CAISO Parallel:  50%|████████████            | 601/1201 [01:42<01:27,  6.89it/s]"
     ]
    },
    {
     "name": "stdout",
     "output_type": "stream",
     "text": [
      "❌ Download error for 20230825: 429 Client Error: Too Many Requests for url: https://oasis.caiso.com/oasisapi/SingleZip?resultformat=6&queryname=PRC_LMP&version=12&market_run_id=DAM&startdatetime=20230825T08%3A00-0000&enddatetime=20230825T08%3A00-0000&grp_type=ALL\n",
      "❌ Download error for 20230826: 429 Client Error: Too Many Requests for url: https://oasis.caiso.com/oasisapi/SingleZip?resultformat=6&queryname=PRC_LMP&version=12&market_run_id=DAM&startdatetime=20230826T08%3A00-0000&enddatetime=20230826T08%3A00-0000&grp_type=ALL\n",
      "❌ Download error for 20230827: 429 Client Error: Too Many Requests for url: https://oasis.caiso.com/oasisapi/SingleZip?resultformat=6&queryname=PRC_LMP&version=12&market_run_id=DAM&startdatetime=20230827T08%3A00-0000&enddatetime=20230827T08%3A00-0000&grp_type=ALL\n",
      "❌ Download error for 20230828: 429 Client Error: Too Many Requests for url: https://oasis.caiso.com/oasisapi/SingleZip?resultformat=6&queryname=PRC_LMP&version=12&market_run_id=DAM&startdatetime=20230828T08%3A00-0000&enddatetime=20230828T08%3A00-0000&grp_type=ALL\n"
     ]
    },
    {
     "name": "stderr",
     "output_type": "stream",
     "text": [
      "CAISO Parallel:  50%|████████████            | 605/1201 [01:42<01:31,  6.51it/s]"
     ]
    },
    {
     "name": "stdout",
     "output_type": "stream",
     "text": [
      "❌ Download error for 20230829: 429 Client Error: Too Many Requests for url: https://oasis.caiso.com/oasisapi/SingleZip?resultformat=6&queryname=PRC_LMP&version=12&market_run_id=DAM&startdatetime=20230829T08%3A00-0000&enddatetime=20230829T08%3A00-0000&grp_type=ALL\n",
      "❌ Download error for 20230830: 429 Client Error: Too Many Requests for url: https://oasis.caiso.com/oasisapi/SingleZip?resultformat=6&queryname=PRC_LMP&version=12&market_run_id=DAM&startdatetime=20230830T08%3A00-0000&enddatetime=20230830T08%3A00-0000&grp_type=ALL\n",
      "❌ Download error for 20230901: 429 Client Error: Too Many Requests for url: https://oasis.caiso.com/oasisapi/SingleZip?resultformat=6&queryname=PRC_LMP&version=12&market_run_id=DAM&startdatetime=20230901T08%3A00-0000&enddatetime=20230901T08%3A00-0000&grp_type=ALL\n",
      "❌ Download error for 20230831: 429 Client Error: Too Many Requests for url: https://oasis.caiso.com/oasisapi/SingleZip?resultformat=6&queryname=PRC_LMP&version=12&market_run_id=DAM&startdatetime=20230831T08%3A00-0000&enddatetime=20230831T08%3A00-0000&grp_type=ALL\n"
     ]
    },
    {
     "name": "stderr",
     "output_type": "stream",
     "text": [
      "CAISO Parallel:  51%|████████████▏           | 609/1201 [01:43<01:32,  6.39it/s]"
     ]
    },
    {
     "name": "stdout",
     "output_type": "stream",
     "text": [
      "❌ Download error for 20230902: 429 Client Error: Too Many Requests for url: https://oasis.caiso.com/oasisapi/SingleZip?resultformat=6&queryname=PRC_LMP&version=12&market_run_id=DAM&startdatetime=20230902T08%3A00-0000&enddatetime=20230902T08%3A00-0000&grp_type=ALL\n",
      "❌ Download error for 20230903: 429 Client Error: Too Many Requests for url: https://oasis.caiso.com/oasisapi/SingleZip?resultformat=6&queryname=PRC_LMP&version=12&market_run_id=DAM&startdatetime=20230903T08%3A00-0000&enddatetime=20230903T08%3A00-0000&grp_type=ALL\n",
      "❌ Download error for 20230905: 429 Client Error: Too Many Requests for url: https://oasis.caiso.com/oasisapi/SingleZip?resultformat=6&queryname=PRC_LMP&version=12&market_run_id=DAM&startdatetime=20230905T08%3A00-0000&enddatetime=20230905T08%3A00-0000&grp_type=ALL❌ Download error for 20230904: 429 Client Error: Too Many Requests for url: https://oasis.caiso.com/oasisapi/SingleZip?resultformat=6&queryname=PRC_LMP&version=12&market_run_id=DAM&startdatetime=20230904T08%3A00-0000&enddatetime=20230904T08%3A00-0000&grp_type=ALL\n",
      "\n"
     ]
    },
    {
     "name": "stderr",
     "output_type": "stream",
     "text": [
      "CAISO Parallel:  51%|████████████▏           | 613/1201 [01:44<01:33,  6.32it/s]"
     ]
    },
    {
     "name": "stdout",
     "output_type": "stream",
     "text": [
      "❌ Download error for 20230906: 429 Client Error: Too Many Requests for url: https://oasis.caiso.com/oasisapi/SingleZip?resultformat=6&queryname=PRC_LMP&version=12&market_run_id=DAM&startdatetime=20230906T08%3A00-0000&enddatetime=20230906T08%3A00-0000&grp_type=ALL\n",
      "❌ Download error for 20230907: 429 Client Error: Too Many Requests for url: https://oasis.caiso.com/oasisapi/SingleZip?resultformat=6&queryname=PRC_LMP&version=12&market_run_id=DAM&startdatetime=20230907T08%3A00-0000&enddatetime=20230907T08%3A00-0000&grp_type=ALL\n",
      "❌ Download error for 20230908: 429 Client Error: Too Many Requests for url: https://oasis.caiso.com/oasisapi/SingleZip?resultformat=6&queryname=PRC_LMP&version=12&market_run_id=DAM&startdatetime=20230908T08%3A00-0000&enddatetime=20230908T08%3A00-0000&grp_type=ALL\n",
      "❌ Download error for 20230909: 429 Client Error: Too Many Requests for url: https://oasis.caiso.com/oasisapi/SingleZip?resultformat=6&queryname=PRC_LMP&version=12&market_run_id=DAM&startdatetime=20230909T08%3A00-0000&enddatetime=20230909T08%3A00-0000&grp_type=ALL\n"
     ]
    },
    {
     "name": "stderr",
     "output_type": "stream",
     "text": [
      "CAISO Parallel:  51%|████████████▎           | 617/1201 [01:44<01:32,  6.28it/s]"
     ]
    },
    {
     "name": "stdout",
     "output_type": "stream",
     "text": [
      "❌ Download error for 20230910: 429 Client Error: Too Many Requests for url: https://oasis.caiso.com/oasisapi/SingleZip?resultformat=6&queryname=PRC_LMP&version=12&market_run_id=DAM&startdatetime=20230910T08%3A00-0000&enddatetime=20230910T08%3A00-0000&grp_type=ALL\n",
      "❌ Download error for 20230911: 429 Client Error: Too Many Requests for url: https://oasis.caiso.com/oasisapi/SingleZip?resultformat=6&queryname=PRC_LMP&version=12&market_run_id=DAM&startdatetime=20230911T08%3A00-0000&enddatetime=20230911T08%3A00-0000&grp_type=ALL\n",
      "❌ Download error for 20230912: 429 Client Error: Too Many Requests for url: https://oasis.caiso.com/oasisapi/SingleZip?resultformat=6&queryname=PRC_LMP&version=12&market_run_id=DAM&startdatetime=20230912T08%3A00-0000&enddatetime=20230912T08%3A00-0000&grp_type=ALL\n",
      "❌ Download error for 20230913: 429 Client Error: Too Many Requests for url: https://oasis.caiso.com/oasisapi/SingleZip?resultformat=6&queryname=PRC_LMP&version=12&market_run_id=DAM&startdatetime=20230913T08%3A00-0000&enddatetime=20230913T08%3A00-0000&grp_type=ALL\n"
     ]
    },
    {
     "name": "stderr",
     "output_type": "stream",
     "text": [
      "CAISO Parallel:  52%|████████████▍           | 621/1201 [01:45<01:32,  6.27it/s]"
     ]
    },
    {
     "name": "stdout",
     "output_type": "stream",
     "text": [
      "❌ Download error for 20230914: 429 Client Error: Too Many Requests for url: https://oasis.caiso.com/oasisapi/SingleZip?resultformat=6&queryname=PRC_LMP&version=12&market_run_id=DAM&startdatetime=20230914T08%3A00-0000&enddatetime=20230914T08%3A00-0000&grp_type=ALL\n",
      "❌ Download error for 20230915: 429 Client Error: Too Many Requests for url: https://oasis.caiso.com/oasisapi/SingleZip?resultformat=6&queryname=PRC_LMP&version=12&market_run_id=DAM&startdatetime=20230915T08%3A00-0000&enddatetime=20230915T08%3A00-0000&grp_type=ALL\n",
      "❌ Download error for 20230916: 429 Client Error: Too Many Requests for url: https://oasis.caiso.com/oasisapi/SingleZip?resultformat=6&queryname=PRC_LMP&version=12&market_run_id=DAM&startdatetime=20230916T08%3A00-0000&enddatetime=20230916T08%3A00-0000&grp_type=ALL❌ Download error for 20230917: 429 Client Error: Too Many Requests for url: https://oasis.caiso.com/oasisapi/SingleZip?resultformat=6&queryname=PRC_LMP&version=12&market_run_id=DAM&startdatetime=20230917T08%3A00-0000&enddatetime=20230917T08%3A00-0000&grp_type=ALL\n",
      "\n"
     ]
    },
    {
     "name": "stderr",
     "output_type": "stream",
     "text": [
      "CAISO Parallel:  52%|████████████▌           | 626/1201 [01:46<01:18,  7.34it/s]"
     ]
    },
    {
     "name": "stdout",
     "output_type": "stream",
     "text": [
      "❌ Download error for 20230918: 429 Client Error: Too Many Requests for url: https://oasis.caiso.com/oasisapi/SingleZip?resultformat=6&queryname=PRC_LMP&version=12&market_run_id=DAM&startdatetime=20230918T08%3A00-0000&enddatetime=20230918T08%3A00-0000&grp_type=ALL\n",
      "❌ Download error for 20230919: 429 Client Error: Too Many Requests for url: https://oasis.caiso.com/oasisapi/SingleZip?resultformat=6&queryname=PRC_LMP&version=12&market_run_id=DAM&startdatetime=20230919T08%3A00-0000&enddatetime=20230919T08%3A00-0000&grp_type=ALL\n",
      "❌ Download error for 20230920: 429 Client Error: Too Many Requests for url: https://oasis.caiso.com/oasisapi/SingleZip?resultformat=6&queryname=PRC_LMP&version=12&market_run_id=DAM&startdatetime=20230920T08%3A00-0000&enddatetime=20230920T08%3A00-0000&grp_type=ALL❌ Download error for 20230921: 429 Client Error: Too Many Requests for url: https://oasis.caiso.com/oasisapi/SingleZip?resultformat=6&queryname=PRC_LMP&version=12&market_run_id=DAM&startdatetime=20230921T08%3A00-0000&enddatetime=20230921T08%3A00-0000&grp_type=ALL\n",
      "\n"
     ]
    },
    {
     "name": "stderr",
     "output_type": "stream",
     "text": [
      "CAISO Parallel:  53%|████████████▌           | 631/1201 [01:46<01:12,  7.82it/s]"
     ]
    },
    {
     "name": "stdout",
     "output_type": "stream",
     "text": [
      "❌ Download error for 20230922: 429 Client Error: Too Many Requests for url: https://oasis.caiso.com/oasisapi/SingleZip?resultformat=6&queryname=PRC_LMP&version=12&market_run_id=DAM&startdatetime=20230922T08%3A00-0000&enddatetime=20230922T08%3A00-0000&grp_type=ALL❌ Download error for 20230923: 429 Client Error: Too Many Requests for url: https://oasis.caiso.com/oasisapi/SingleZip?resultformat=6&queryname=PRC_LMP&version=12&market_run_id=DAM&startdatetime=20230923T08%3A00-0000&enddatetime=20230923T08%3A00-0000&grp_type=ALL\n",
      "\n",
      "❌ Download error for 20230924: 429 Client Error: Too Many Requests for url: https://oasis.caiso.com/oasisapi/SingleZip?resultformat=6&queryname=PRC_LMP&version=12&market_run_id=DAM&startdatetime=20230924T08%3A00-0000&enddatetime=20230924T08%3A00-0000&grp_type=ALL\n",
      "❌ Download error for 20230925: 429 Client Error: Too Many Requests for url: https://oasis.caiso.com/oasisapi/SingleZip?resultformat=6&queryname=PRC_LMP&version=12&market_run_id=DAM&startdatetime=20230925T08%3A00-0000&enddatetime=20230925T08%3A00-0000&grp_type=ALL❌ Download error for 20230926: 429 Client Error: Too Many Requests for url: https://oasis.caiso.com/oasisapi/SingleZip?resultformat=6&queryname=PRC_LMP&version=12&market_run_id=DAM&startdatetime=20230926T08%3A00-0000&enddatetime=20230926T08%3A00-0000&grp_type=ALL\n",
      "\n"
     ]
    },
    {
     "name": "stderr",
     "output_type": "stream",
     "text": [
      "CAISO Parallel:  53%|████████████▋           | 636/1201 [01:47<01:10,  8.01it/s]"
     ]
    },
    {
     "name": "stdout",
     "output_type": "stream",
     "text": [
      "❌ Download error for 20230927: 429 Client Error: Too Many Requests for url: https://oasis.caiso.com/oasisapi/SingleZip?resultformat=6&queryname=PRC_LMP&version=12&market_run_id=DAM&startdatetime=20230927T08%3A00-0000&enddatetime=20230927T08%3A00-0000&grp_type=ALL\n",
      "❌ Download error for 20230928: 429 Client Error: Too Many Requests for url: https://oasis.caiso.com/oasisapi/SingleZip?resultformat=6&queryname=PRC_LMP&version=12&market_run_id=DAM&startdatetime=20230928T08%3A00-0000&enddatetime=20230928T08%3A00-0000&grp_type=ALL\n",
      "❌ Download error for 20230929: 429 Client Error: Too Many Requests for url: https://oasis.caiso.com/oasisapi/SingleZip?resultformat=6&queryname=PRC_LMP&version=12&market_run_id=DAM&startdatetime=20230929T08%3A00-0000&enddatetime=20230929T08%3A00-0000&grp_type=ALL\n",
      "❌ Download error for 20230930: 429 Client Error: Too Many Requests for url: https://oasis.caiso.com/oasisapi/SingleZip?resultformat=6&queryname=PRC_LMP&version=12&market_run_id=DAM&startdatetime=20230930T08%3A00-0000&enddatetime=20230930T08%3A00-0000&grp_type=ALL\n",
      "❌ Download error for 20231001: 429 Client Error: Too Many Requests for url: https://oasis.caiso.com/oasisapi/SingleZip?resultformat=6&queryname=PRC_LMP&version=12&market_run_id=DAM&startdatetime=20231001T08%3A00-0000&enddatetime=20231001T08%3A00-0000&grp_type=ALL\n"
     ]
    },
    {
     "name": "stderr",
     "output_type": "stream",
     "text": [
      "CAISO Parallel:  53%|████████████▊           | 639/1201 [01:47<01:17,  7.28it/s]"
     ]
    },
    {
     "name": "stdout",
     "output_type": "stream",
     "text": [
      "❌ Download error for 20231002: 429 Client Error: Too Many Requests for url: https://oasis.caiso.com/oasisapi/SingleZip?resultformat=6&queryname=PRC_LMP&version=12&market_run_id=DAM&startdatetime=20231002T08%3A00-0000&enddatetime=20231002T08%3A00-0000&grp_type=ALL\n",
      "❌ Download error for 20231003: 429 Client Error: Too Many Requests for url: https://oasis.caiso.com/oasisapi/SingleZip?resultformat=6&queryname=PRC_LMP&version=12&market_run_id=DAM&startdatetime=20231003T08%3A00-0000&enddatetime=20231003T08%3A00-0000&grp_type=ALL\n"
     ]
    },
    {
     "name": "stderr",
     "output_type": "stream",
     "text": [
      "CAISO Parallel:  53%|████████████▊           | 641/1201 [01:48<01:12,  7.75it/s]"
     ]
    },
    {
     "name": "stdout",
     "output_type": "stream",
     "text": [
      "❌ Download error for 20231006: 429 Client Error: Too Many Requests for url: https://oasis.caiso.com/oasisapi/SingleZip?resultformat=6&queryname=PRC_LMP&version=12&market_run_id=DAM&startdatetime=20231006T08%3A00-0000&enddatetime=20231006T08%3A00-0000&grp_type=ALL❌ Download error for 20231005: 429 Client Error: Too Many Requests for url: https://oasis.caiso.com/oasisapi/SingleZip?resultformat=6&queryname=PRC_LMP&version=12&market_run_id=DAM&startdatetime=20231005T08%3A00-0000&enddatetime=20231005T08%3A00-0000&grp_type=ALL\n",
      "\n"
     ]
    },
    {
     "name": "stderr",
     "output_type": "stream",
     "text": [
      "CAISO Parallel:  54%|████████████▊           | 643/1201 [01:48<01:24,  6.61it/s]"
     ]
    },
    {
     "name": "stdout",
     "output_type": "stream",
     "text": [
      "❌ Download error for 20231007: 429 Client Error: Too Many Requests for url: https://oasis.caiso.com/oasisapi/SingleZip?resultformat=6&queryname=PRC_LMP&version=12&market_run_id=DAM&startdatetime=20231007T08%3A00-0000&enddatetime=20231007T08%3A00-0000&grp_type=ALL\n",
      "❌ Download error for 20231008: 429 Client Error: Too Many Requests for url: https://oasis.caiso.com/oasisapi/SingleZip?resultformat=6&queryname=PRC_LMP&version=12&market_run_id=DAM&startdatetime=20231008T08%3A00-0000&enddatetime=20231008T08%3A00-0000&grp_type=ALL\n"
     ]
    },
    {
     "name": "stderr",
     "output_type": "stream",
     "text": [
      "CAISO Parallel:  54%|████████████▉           | 645/1201 [01:48<01:17,  7.21it/s]"
     ]
    },
    {
     "name": "stdout",
     "output_type": "stream",
     "text": [
      "❌ Download error for 20231009: 429 Client Error: Too Many Requests for url: https://oasis.caiso.com/oasisapi/SingleZip?resultformat=6&queryname=PRC_LMP&version=12&market_run_id=DAM&startdatetime=20231009T08%3A00-0000&enddatetime=20231009T08%3A00-0000&grp_type=ALL\n",
      "❌ Download error for 20231010: 429 Client Error: Too Many Requests for url: https://oasis.caiso.com/oasisapi/SingleZip?resultformat=6&queryname=PRC_LMP&version=12&market_run_id=DAM&startdatetime=20231010T08%3A00-0000&enddatetime=20231010T08%3A00-0000&grp_type=ALL\n"
     ]
    },
    {
     "name": "stderr",
     "output_type": "stream",
     "text": [
      "CAISO Parallel:  54%|████████████▉           | 647/1201 [01:49<01:29,  6.22it/s]"
     ]
    },
    {
     "name": "stdout",
     "output_type": "stream",
     "text": [
      "❌ Download error for 20231011: 429 Client Error: Too Many Requests for url: https://oasis.caiso.com/oasisapi/SingleZip?resultformat=6&queryname=PRC_LMP&version=12&market_run_id=DAM&startdatetime=20231011T08%3A00-0000&enddatetime=20231011T08%3A00-0000&grp_type=ALL❌ Download error for 20231012: 429 Client Error: Too Many Requests for url: https://oasis.caiso.com/oasisapi/SingleZip?resultformat=6&queryname=PRC_LMP&version=12&market_run_id=DAM&startdatetime=20231012T08%3A00-0000&enddatetime=20231012T08%3A00-0000&grp_type=ALL\n",
      "\n"
     ]
    },
    {
     "name": "stderr",
     "output_type": "stream",
     "text": [
      "CAISO Parallel:  54%|████████████▉           | 649/1201 [01:49<01:19,  6.94it/s]"
     ]
    },
    {
     "name": "stdout",
     "output_type": "stream",
     "text": [
      "❌ Download error for 20231013: 429 Client Error: Too Many Requests for url: https://oasis.caiso.com/oasisapi/SingleZip?resultformat=6&queryname=PRC_LMP&version=12&market_run_id=DAM&startdatetime=20231013T08%3A00-0000&enddatetime=20231013T08%3A00-0000&grp_type=ALL\n",
      "❌ Download error for 20231014: 429 Client Error: Too Many Requests for url: https://oasis.caiso.com/oasisapi/SingleZip?resultformat=6&queryname=PRC_LMP&version=12&market_run_id=DAM&startdatetime=20231014T08%3A00-0000&enddatetime=20231014T08%3A00-0000&grp_type=ALL\n"
     ]
    },
    {
     "name": "stderr",
     "output_type": "stream",
     "text": [
      "CAISO Parallel:  54%|█████████████           | 651/1201 [01:49<01:30,  6.06it/s]"
     ]
    },
    {
     "name": "stdout",
     "output_type": "stream",
     "text": [
      "❌ Download error for 20231016: 429 Client Error: Too Many Requests for url: https://oasis.caiso.com/oasisapi/SingleZip?resultformat=6&queryname=PRC_LMP&version=12&market_run_id=DAM&startdatetime=20231016T08%3A00-0000&enddatetime=20231016T08%3A00-0000&grp_type=ALL\n",
      "❌ Download error for 20231015: 429 Client Error: Too Many Requests for url: https://oasis.caiso.com/oasisapi/SingleZip?resultformat=6&queryname=PRC_LMP&version=12&market_run_id=DAM&startdatetime=20231015T08%3A00-0000&enddatetime=20231015T08%3A00-0000&grp_type=ALL\n"
     ]
    },
    {
     "name": "stderr",
     "output_type": "stream",
     "text": [
      "CAISO Parallel:  54%|█████████████           | 653/1201 [01:50<01:20,  6.84it/s]"
     ]
    },
    {
     "name": "stdout",
     "output_type": "stream",
     "text": [
      "❌ Download error for 20231017: 429 Client Error: Too Many Requests for url: https://oasis.caiso.com/oasisapi/SingleZip?resultformat=6&queryname=PRC_LMP&version=12&market_run_id=DAM&startdatetime=20231017T08%3A00-0000&enddatetime=20231017T08%3A00-0000&grp_type=ALL\n",
      "❌ Download error for 20231018: 429 Client Error: Too Many Requests for url: https://oasis.caiso.com/oasisapi/SingleZip?resultformat=6&queryname=PRC_LMP&version=12&market_run_id=DAM&startdatetime=20231018T08%3A00-0000&enddatetime=20231018T08%3A00-0000&grp_type=ALL\n"
     ]
    },
    {
     "name": "stderr",
     "output_type": "stream",
     "text": [
      "CAISO Parallel:  55%|█████████████           | 655/1201 [01:50<01:31,  6.00it/s]"
     ]
    },
    {
     "name": "stdout",
     "output_type": "stream",
     "text": [
      "❌ Download error for 20231019: 429 Client Error: Too Many Requests for url: https://oasis.caiso.com/oasisapi/SingleZip?resultformat=6&queryname=PRC_LMP&version=12&market_run_id=DAM&startdatetime=20231019T08%3A00-0000&enddatetime=20231019T08%3A00-0000&grp_type=ALL❌ Download error for 20231020: 429 Client Error: Too Many Requests for url: https://oasis.caiso.com/oasisapi/SingleZip?resultformat=6&queryname=PRC_LMP&version=12&market_run_id=DAM&startdatetime=20231020T08%3A00-0000&enddatetime=20231020T08%3A00-0000&grp_type=ALL\n",
      "\n"
     ]
    },
    {
     "name": "stderr",
     "output_type": "stream",
     "text": [
      "CAISO Parallel:  55%|█████████████▏          | 657/1201 [01:50<01:20,  6.74it/s]"
     ]
    },
    {
     "name": "stdout",
     "output_type": "stream",
     "text": [
      "❌ Download error for 20231022: 429 Client Error: Too Many Requests for url: https://oasis.caiso.com/oasisapi/SingleZip?resultformat=6&queryname=PRC_LMP&version=12&market_run_id=DAM&startdatetime=20231022T08%3A00-0000&enddatetime=20231022T08%3A00-0000&grp_type=ALL\n",
      "❌ Download error for 20231021: 429 Client Error: Too Many Requests for url: https://oasis.caiso.com/oasisapi/SingleZip?resultformat=6&queryname=PRC_LMP&version=12&market_run_id=DAM&startdatetime=20231021T08%3A00-0000&enddatetime=20231021T08%3A00-0000&grp_type=ALL\n"
     ]
    },
    {
     "name": "stderr",
     "output_type": "stream",
     "text": [
      "CAISO Parallel:  55%|█████████████▏          | 659/1201 [01:51<01:32,  5.89it/s]"
     ]
    },
    {
     "name": "stdout",
     "output_type": "stream",
     "text": [
      "❌ Download error for 20231024: 429 Client Error: Too Many Requests for url: https://oasis.caiso.com/oasisapi/SingleZip?resultformat=6&queryname=PRC_LMP&version=12&market_run_id=DAM&startdatetime=20231024T08%3A00-0000&enddatetime=20231024T08%3A00-0000&grp_type=ALL\n",
      "❌ Download error for 20231023: 429 Client Error: Too Many Requests for url: https://oasis.caiso.com/oasisapi/SingleZip?resultformat=6&queryname=PRC_LMP&version=12&market_run_id=DAM&startdatetime=20231023T08%3A00-0000&enddatetime=20231023T08%3A00-0000&grp_type=ALL\n"
     ]
    },
    {
     "name": "stderr",
     "output_type": "stream",
     "text": [
      "CAISO Parallel:  55%|█████████████▏          | 661/1201 [01:51<01:21,  6.66it/s]"
     ]
    },
    {
     "name": "stdout",
     "output_type": "stream",
     "text": [
      "❌ Download error for 20231026: 429 Client Error: Too Many Requests for url: https://oasis.caiso.com/oasisapi/SingleZip?resultformat=6&queryname=PRC_LMP&version=12&market_run_id=DAM&startdatetime=20231026T08%3A00-0000&enddatetime=20231026T08%3A00-0000&grp_type=ALL❌ Download error for 20231025: 429 Client Error: Too Many Requests for url: https://oasis.caiso.com/oasisapi/SingleZip?resultformat=6&queryname=PRC_LMP&version=12&market_run_id=DAM&startdatetime=20231025T08%3A00-0000&enddatetime=20231025T08%3A00-0000&grp_type=ALL\n",
      "\n"
     ]
    },
    {
     "name": "stderr",
     "output_type": "stream",
     "text": [
      "CAISO Parallel:  55%|█████████████▏          | 663/1201 [01:51<01:31,  5.88it/s]"
     ]
    },
    {
     "name": "stdout",
     "output_type": "stream",
     "text": [
      "❌ Download error for 20231028: 429 Client Error: Too Many Requests for url: https://oasis.caiso.com/oasisapi/SingleZip?resultformat=6&queryname=PRC_LMP&version=12&market_run_id=DAM&startdatetime=20231028T08%3A00-0000&enddatetime=20231028T08%3A00-0000&grp_type=ALL❌ Download error for 20231027: 429 Client Error: Too Many Requests for url: https://oasis.caiso.com/oasisapi/SingleZip?resultformat=6&queryname=PRC_LMP&version=12&market_run_id=DAM&startdatetime=20231027T08%3A00-0000&enddatetime=20231027T08%3A00-0000&grp_type=ALL\n",
      "\n"
     ]
    },
    {
     "name": "stderr",
     "output_type": "stream",
     "text": [
      "CAISO Parallel:  55%|█████████████▎          | 665/1201 [01:51<01:20,  6.67it/s]"
     ]
    },
    {
     "name": "stdout",
     "output_type": "stream",
     "text": [
      "❌ Download error for 20231029: 429 Client Error: Too Many Requests for url: https://oasis.caiso.com/oasisapi/SingleZip?resultformat=6&queryname=PRC_LMP&version=12&market_run_id=DAM&startdatetime=20231029T08%3A00-0000&enddatetime=20231029T08%3A00-0000&grp_type=ALL❌ Download error for 20231030: 429 Client Error: Too Many Requests for url: https://oasis.caiso.com/oasisapi/SingleZip?resultformat=6&queryname=PRC_LMP&version=12&market_run_id=DAM&startdatetime=20231030T08%3A00-0000&enddatetime=20231030T08%3A00-0000&grp_type=ALL\n",
      "\n"
     ]
    },
    {
     "name": "stderr",
     "output_type": "stream",
     "text": [
      "CAISO Parallel:  56%|█████████████▎          | 667/1201 [01:52<01:30,  5.89it/s]"
     ]
    },
    {
     "name": "stdout",
     "output_type": "stream",
     "text": [
      "❌ Download error for 20231031: 429 Client Error: Too Many Requests for url: https://oasis.caiso.com/oasisapi/SingleZip?resultformat=6&queryname=PRC_LMP&version=12&market_run_id=DAM&startdatetime=20231031T08%3A00-0000&enddatetime=20231031T08%3A00-0000&grp_type=ALL❌ Download error for 20231101: 429 Client Error: Too Many Requests for url: https://oasis.caiso.com/oasisapi/SingleZip?resultformat=6&queryname=PRC_LMP&version=12&market_run_id=DAM&startdatetime=20231101T08%3A00-0000&enddatetime=20231101T08%3A00-0000&grp_type=ALL\n",
      "\n"
     ]
    },
    {
     "name": "stderr",
     "output_type": "stream",
     "text": [
      "CAISO Parallel:  56%|█████████████▎          | 669/1201 [01:52<01:20,  6.62it/s]"
     ]
    },
    {
     "name": "stdout",
     "output_type": "stream",
     "text": [
      "❌ Download error for 20231103: 429 Client Error: Too Many Requests for url: https://oasis.caiso.com/oasisapi/SingleZip?resultformat=6&queryname=PRC_LMP&version=12&market_run_id=DAM&startdatetime=20231103T08%3A00-0000&enddatetime=20231103T08%3A00-0000&grp_type=ALL\n",
      "❌ Download error for 20231102: 429 Client Error: Too Many Requests for url: https://oasis.caiso.com/oasisapi/SingleZip?resultformat=6&queryname=PRC_LMP&version=12&market_run_id=DAM&startdatetime=20231102T08%3A00-0000&enddatetime=20231102T08%3A00-0000&grp_type=ALL\n"
     ]
    },
    {
     "name": "stderr",
     "output_type": "stream",
     "text": [
      "CAISO Parallel:  56%|█████████████▍          | 671/1201 [01:53<01:29,  5.90it/s]"
     ]
    },
    {
     "name": "stdout",
     "output_type": "stream",
     "text": [
      "❌ Download error for 20231104: 429 Client Error: Too Many Requests for url: https://oasis.caiso.com/oasisapi/SingleZip?resultformat=6&queryname=PRC_LMP&version=12&market_run_id=DAM&startdatetime=20231104T08%3A00-0000&enddatetime=20231104T08%3A00-0000&grp_type=ALL\n",
      "❌ Download error for 20231105: 429 Client Error: Too Many Requests for url: https://oasis.caiso.com/oasisapi/SingleZip?resultformat=6&queryname=PRC_LMP&version=12&market_run_id=DAM&startdatetime=20231105T08%3A00-0000&enddatetime=20231105T08%3A00-0000&grp_type=ALL\n"
     ]
    },
    {
     "name": "stderr",
     "output_type": "stream",
     "text": [
      "CAISO Parallel:  56%|█████████████▍          | 673/1201 [01:53<01:19,  6.63it/s]"
     ]
    },
    {
     "name": "stdout",
     "output_type": "stream",
     "text": [
      "❌ Download error for 20231106: 429 Client Error: Too Many Requests for url: https://oasis.caiso.com/oasisapi/SingleZip?resultformat=6&queryname=PRC_LMP&version=12&market_run_id=DAM&startdatetime=20231106T08%3A00-0000&enddatetime=20231106T08%3A00-0000&grp_type=ALL❌ Download error for 20231107: 429 Client Error: Too Many Requests for url: https://oasis.caiso.com/oasisapi/SingleZip?resultformat=6&queryname=PRC_LMP&version=12&market_run_id=DAM&startdatetime=20231107T08%3A00-0000&enddatetime=20231107T08%3A00-0000&grp_type=ALL\n",
      "\n"
     ]
    },
    {
     "name": "stderr",
     "output_type": "stream",
     "text": [
      "CAISO Parallel:  56%|█████████████▍          | 675/1201 [01:53<01:29,  5.90it/s]"
     ]
    },
    {
     "name": "stdout",
     "output_type": "stream",
     "text": [
      "❌ Download error for 20231109: 429 Client Error: Too Many Requests for url: https://oasis.caiso.com/oasisapi/SingleZip?resultformat=6&queryname=PRC_LMP&version=12&market_run_id=DAM&startdatetime=20231109T08%3A00-0000&enddatetime=20231109T08%3A00-0000&grp_type=ALL\n",
      "❌ Download error for 20231108: 429 Client Error: Too Many Requests for url: https://oasis.caiso.com/oasisapi/SingleZip?resultformat=6&queryname=PRC_LMP&version=12&market_run_id=DAM&startdatetime=20231108T08%3A00-0000&enddatetime=20231108T08%3A00-0000&grp_type=ALL\n"
     ]
    },
    {
     "name": "stderr",
     "output_type": "stream",
     "text": [
      "CAISO Parallel:  56%|█████████████▌          | 677/1201 [01:53<01:19,  6.63it/s]"
     ]
    },
    {
     "name": "stdout",
     "output_type": "stream",
     "text": [
      "❌ Download error for 20231110: 429 Client Error: Too Many Requests for url: https://oasis.caiso.com/oasisapi/SingleZip?resultformat=6&queryname=PRC_LMP&version=12&market_run_id=DAM&startdatetime=20231110T08%3A00-0000&enddatetime=20231110T08%3A00-0000&grp_type=ALL\n",
      "❌ Download error for 20231111: 429 Client Error: Too Many Requests for url: https://oasis.caiso.com/oasisapi/SingleZip?resultformat=6&queryname=PRC_LMP&version=12&market_run_id=DAM&startdatetime=20231111T08%3A00-0000&enddatetime=20231111T08%3A00-0000&grp_type=ALL\n"
     ]
    },
    {
     "name": "stderr",
     "output_type": "stream",
     "text": [
      "CAISO Parallel:  57%|█████████████▌          | 679/1201 [01:54<01:28,  5.90it/s]"
     ]
    },
    {
     "name": "stdout",
     "output_type": "stream",
     "text": [
      "❌ Download error for 20231113: 429 Client Error: Too Many Requests for url: https://oasis.caiso.com/oasisapi/SingleZip?resultformat=6&queryname=PRC_LMP&version=12&market_run_id=DAM&startdatetime=20231113T08%3A00-0000&enddatetime=20231113T08%3A00-0000&grp_type=ALL\n"
     ]
    },
    {
     "name": "stderr",
     "output_type": "stream",
     "text": [
      "CAISO Parallel:  57%|█████████████▌          | 680/1201 [01:54<01:34,  5.49it/s]"
     ]
    },
    {
     "name": "stdout",
     "output_type": "stream",
     "text": [
      "❌ Download error for 20231115: 429 Client Error: Too Many Requests for url: https://oasis.caiso.com/oasisapi/SingleZip?resultformat=6&queryname=PRC_LMP&version=12&market_run_id=DAM&startdatetime=20231115T08%3A00-0000&enddatetime=20231115T08%3A00-0000&grp_type=ALL❌ Download error for 20231114: 429 Client Error: Too Many Requests for url: https://oasis.caiso.com/oasisapi/SingleZip?resultformat=6&queryname=PRC_LMP&version=12&market_run_id=DAM&startdatetime=20231114T08%3A00-0000&enddatetime=20231114T08%3A00-0000&grp_type=ALL\n",
      "\n"
     ]
    },
    {
     "name": "stderr",
     "output_type": "stream",
     "text": [
      "CAISO Parallel:  57%|█████████████▋          | 683/1201 [01:54<01:25,  6.05it/s]"
     ]
    },
    {
     "name": "stdout",
     "output_type": "stream",
     "text": [
      "❌ Download error for 20231116: 429 Client Error: Too Many Requests for url: https://oasis.caiso.com/oasisapi/SingleZip?resultformat=6&queryname=PRC_LMP&version=12&market_run_id=DAM&startdatetime=20231116T08%3A00-0000&enddatetime=20231116T08%3A00-0000&grp_type=ALL\n"
     ]
    },
    {
     "name": "stderr",
     "output_type": "stream",
     "text": [
      "CAISO Parallel:  57%|█████████████▋          | 684/1201 [01:55<01:29,  5.79it/s]"
     ]
    },
    {
     "name": "stdout",
     "output_type": "stream",
     "text": [
      "❌ Download error for 20231117: 429 Client Error: Too Many Requests for url: https://oasis.caiso.com/oasisapi/SingleZip?resultformat=6&queryname=PRC_LMP&version=12&market_run_id=DAM&startdatetime=20231117T08%3A00-0000&enddatetime=20231117T08%3A00-0000&grp_type=ALL❌ Download error for 20231118: 429 Client Error: Too Many Requests for url: https://oasis.caiso.com/oasisapi/SingleZip?resultformat=6&queryname=PRC_LMP&version=12&market_run_id=DAM&startdatetime=20231118T08%3A00-0000&enddatetime=20231118T08%3A00-0000&grp_type=ALL\n",
      "\n",
      "❌ Download error for 20231119: 429 Client Error: Too Many Requests for url: https://oasis.caiso.com/oasisapi/SingleZip?resultformat=6&queryname=PRC_LMP&version=12&market_run_id=DAM&startdatetime=20231119T08%3A00-0000&enddatetime=20231119T08%3A00-0000&grp_type=ALL\n"
     ]
    },
    {
     "name": "stderr",
     "output_type": "stream",
     "text": [
      "CAISO Parallel:  57%|█████████████▋          | 687/1201 [01:55<01:23,  6.18it/s]"
     ]
    },
    {
     "name": "stdout",
     "output_type": "stream",
     "text": [
      "❌ Download error for 20231120: 429 Client Error: Too Many Requests for url: https://oasis.caiso.com/oasisapi/SingleZip?resultformat=6&queryname=PRC_LMP&version=12&market_run_id=DAM&startdatetime=20231120T08%3A00-0000&enddatetime=20231120T08%3A00-0000&grp_type=ALL\n"
     ]
    },
    {
     "name": "stderr",
     "output_type": "stream",
     "text": [
      "CAISO Parallel:  57%|█████████████▋          | 688/1201 [01:55<01:27,  5.88it/s]"
     ]
    },
    {
     "name": "stdout",
     "output_type": "stream",
     "text": [
      "❌ Download error for 20231122: 429 Client Error: Too Many Requests for url: https://oasis.caiso.com/oasisapi/SingleZip?resultformat=6&queryname=PRC_LMP&version=12&market_run_id=DAM&startdatetime=20231122T08%3A00-0000&enddatetime=20231122T08%3A00-0000&grp_type=ALL\n",
      "❌ Download error for 20231121: 429 Client Error: Too Many Requests for url: https://oasis.caiso.com/oasisapi/SingleZip?resultformat=6&queryname=PRC_LMP&version=12&market_run_id=DAM&startdatetime=20231121T08%3A00-0000&enddatetime=20231121T08%3A00-0000&grp_type=ALL\n",
      "❌ Download error for 20231123: 429 Client Error: Too Many Requests for url: https://oasis.caiso.com/oasisapi/SingleZip?resultformat=6&queryname=PRC_LMP&version=12&market_run_id=DAM&startdatetime=20231123T08%3A00-0000&enddatetime=20231123T08%3A00-0000&grp_type=ALL\n"
     ]
    },
    {
     "name": "stderr",
     "output_type": "stream",
     "text": [
      "CAISO Parallel:  58%|█████████████▊          | 691/1201 [01:56<01:21,  6.25it/s]"
     ]
    },
    {
     "name": "stdout",
     "output_type": "stream",
     "text": [
      "❌ Download error for 20231124: 429 Client Error: Too Many Requests for url: https://oasis.caiso.com/oasisapi/SingleZip?resultformat=6&queryname=PRC_LMP&version=12&market_run_id=DAM&startdatetime=20231124T08%3A00-0000&enddatetime=20231124T08%3A00-0000&grp_type=ALL\n"
     ]
    },
    {
     "name": "stderr",
     "output_type": "stream",
     "text": [
      "CAISO Parallel:  58%|█████████████▊          | 692/1201 [01:56<01:25,  5.94it/s]"
     ]
    },
    {
     "name": "stdout",
     "output_type": "stream",
     "text": [
      "❌ Download error for 20231127: 429 Client Error: Too Many Requests for url: https://oasis.caiso.com/oasisapi/SingleZip?resultformat=6&queryname=PRC_LMP&version=12&market_run_id=DAM&startdatetime=20231127T08%3A00-0000&enddatetime=20231127T08%3A00-0000&grp_type=ALL❌ Download error for 20231125: 429 Client Error: Too Many Requests for url: https://oasis.caiso.com/oasisapi/SingleZip?resultformat=6&queryname=PRC_LMP&version=12&market_run_id=DAM&startdatetime=20231125T08%3A00-0000&enddatetime=20231125T08%3A00-0000&grp_type=ALL\n",
      "❌ Download error for 20231126: 429 Client Error: Too Many Requests for url: https://oasis.caiso.com/oasisapi/SingleZip?resultformat=6&queryname=PRC_LMP&version=12&market_run_id=DAM&startdatetime=20231126T08%3A00-0000&enddatetime=20231126T08%3A00-0000&grp_type=ALL\n",
      "\n"
     ]
    },
    {
     "name": "stderr",
     "output_type": "stream",
     "text": [
      "CAISO Parallel:  58%|█████████████▉          | 696/1201 [01:57<01:19,  6.34it/s]"
     ]
    },
    {
     "name": "stdout",
     "output_type": "stream",
     "text": [
      "❌ Download error for 20231128: 429 Client Error: Too Many Requests for url: https://oasis.caiso.com/oasisapi/SingleZip?resultformat=6&queryname=PRC_LMP&version=12&market_run_id=DAM&startdatetime=20231128T08%3A00-0000&enddatetime=20231128T08%3A00-0000&grp_type=ALL\n",
      "❌ Download error for 20231201: 429 Client Error: Too Many Requests for url: https://oasis.caiso.com/oasisapi/SingleZip?resultformat=6&queryname=PRC_LMP&version=12&market_run_id=DAM&startdatetime=20231201T08%3A00-0000&enddatetime=20231201T08%3A00-0000&grp_type=ALL\n",
      "❌ Download error for 20231129: 429 Client Error: Too Many Requests for url: https://oasis.caiso.com/oasisapi/SingleZip?resultformat=6&queryname=PRC_LMP&version=12&market_run_id=DAM&startdatetime=20231129T08%3A00-0000&enddatetime=20231129T08%3A00-0000&grp_type=ALL\n",
      "❌ Download error for 20231130: 429 Client Error: Too Many Requests for url: https://oasis.caiso.com/oasisapi/SingleZip?resultformat=6&queryname=PRC_LMP&version=12&market_run_id=DAM&startdatetime=20231130T08%3A00-0000&enddatetime=20231130T08%3A00-0000&grp_type=ALL\n"
     ]
    },
    {
     "name": "stderr",
     "output_type": "stream",
     "text": [
      "CAISO Parallel:  58%|██████████████          | 701/1201 [01:57<01:10,  7.07it/s]"
     ]
    },
    {
     "name": "stdout",
     "output_type": "stream",
     "text": [
      "❌ Download error for 20231202: 429 Client Error: Too Many Requests for url: https://oasis.caiso.com/oasisapi/SingleZip?resultformat=6&queryname=PRC_LMP&version=12&market_run_id=DAM&startdatetime=20231202T08%3A00-0000&enddatetime=20231202T08%3A00-0000&grp_type=ALL\n",
      "❌ Download error for 20231203: 429 Client Error: Too Many Requests for url: https://oasis.caiso.com/oasisapi/SingleZip?resultformat=6&queryname=PRC_LMP&version=12&market_run_id=DAM&startdatetime=20231203T08%3A00-0000&enddatetime=20231203T08%3A00-0000&grp_type=ALL\n",
      "❌ Download error for 20231204: 429 Client Error: Too Many Requests for url: https://oasis.caiso.com/oasisapi/SingleZip?resultformat=6&queryname=PRC_LMP&version=12&market_run_id=DAM&startdatetime=20231204T08%3A00-0000&enddatetime=20231204T08%3A00-0000&grp_type=ALL\n",
      "❌ Download error for 20231206: 429 Client Error: Too Many Requests for url: https://oasis.caiso.com/oasisapi/SingleZip?resultformat=6&queryname=PRC_LMP&version=12&market_run_id=DAM&startdatetime=20231206T08%3A00-0000&enddatetime=20231206T08%3A00-0000&grp_type=ALL\n",
      "❌ Download error for 20231205: 429 Client Error: Too Many Requests for url: https://oasis.caiso.com/oasisapi/SingleZip?resultformat=6&queryname=PRC_LMP&version=12&market_run_id=DAM&startdatetime=20231205T08%3A00-0000&enddatetime=20231205T08%3A00-0000&grp_type=ALL\n"
     ]
    },
    {
     "name": "stderr",
     "output_type": "stream",
     "text": [
      "CAISO Parallel:  59%|██████████████          | 706/1201 [01:58<01:07,  7.37it/s]"
     ]
    },
    {
     "name": "stdout",
     "output_type": "stream",
     "text": [
      "❌ Download error for 20231207: 429 Client Error: Too Many Requests for url: https://oasis.caiso.com/oasisapi/SingleZip?resultformat=6&queryname=PRC_LMP&version=12&market_run_id=DAM&startdatetime=20231207T08%3A00-0000&enddatetime=20231207T08%3A00-0000&grp_type=ALL\n",
      "❌ Download error for 20231208: 429 Client Error: Too Many Requests for url: https://oasis.caiso.com/oasisapi/SingleZip?resultformat=6&queryname=PRC_LMP&version=12&market_run_id=DAM&startdatetime=20231208T08%3A00-0000&enddatetime=20231208T08%3A00-0000&grp_type=ALL\n",
      "❌ Download error for 20231209: 429 Client Error: Too Many Requests for url: https://oasis.caiso.com/oasisapi/SingleZip?resultformat=6&queryname=PRC_LMP&version=12&market_run_id=DAM&startdatetime=20231209T08%3A00-0000&enddatetime=20231209T08%3A00-0000&grp_type=ALL\n",
      "❌ Download error for 20231210: 429 Client Error: Too Many Requests for url: https://oasis.caiso.com/oasisapi/SingleZip?resultformat=6&queryname=PRC_LMP&version=12&market_run_id=DAM&startdatetime=20231210T08%3A00-0000&enddatetime=20231210T08%3A00-0000&grp_type=ALL❌ Download error for 20231211: 429 Client Error: Too Many Requests for url: https://oasis.caiso.com/oasisapi/SingleZip?resultformat=6&queryname=PRC_LMP&version=12&market_run_id=DAM&startdatetime=20231211T08%3A00-0000&enddatetime=20231211T08%3A00-0000&grp_type=ALL\n",
      "\n"
     ]
    },
    {
     "name": "stderr",
     "output_type": "stream",
     "text": [
      "CAISO Parallel:  59%|██████████████▏         | 711/1201 [01:59<01:05,  7.52it/s]"
     ]
    },
    {
     "name": "stdout",
     "output_type": "stream",
     "text": [
      "❌ Download error for 20231212: 429 Client Error: Too Many Requests for url: https://oasis.caiso.com/oasisapi/SingleZip?resultformat=6&queryname=PRC_LMP&version=12&market_run_id=DAM&startdatetime=20231212T08%3A00-0000&enddatetime=20231212T08%3A00-0000&grp_type=ALL\n",
      "❌ Download error for 20231213: 429 Client Error: Too Many Requests for url: https://oasis.caiso.com/oasisapi/SingleZip?resultformat=6&queryname=PRC_LMP&version=12&market_run_id=DAM&startdatetime=20231213T08%3A00-0000&enddatetime=20231213T08%3A00-0000&grp_type=ALL\n",
      "❌ Download error for 20231214: 429 Client Error: Too Many Requests for url: https://oasis.caiso.com/oasisapi/SingleZip?resultformat=6&queryname=PRC_LMP&version=12&market_run_id=DAM&startdatetime=20231214T08%3A00-0000&enddatetime=20231214T08%3A00-0000&grp_type=ALL\n",
      "❌ Download error for 20231216: 429 Client Error: Too Many Requests for url: https://oasis.caiso.com/oasisapi/SingleZip?resultformat=6&queryname=PRC_LMP&version=12&market_run_id=DAM&startdatetime=20231216T08%3A00-0000&enddatetime=20231216T08%3A00-0000&grp_type=ALL❌ Download error for 20231215: 429 Client Error: Too Many Requests for url: https://oasis.caiso.com/oasisapi/SingleZip?resultformat=6&queryname=PRC_LMP&version=12&market_run_id=DAM&startdatetime=20231215T08%3A00-0000&enddatetime=20231215T08%3A00-0000&grp_type=ALL\n",
      "\n"
     ]
    },
    {
     "name": "stderr",
     "output_type": "stream",
     "text": [
      "CAISO Parallel:  60%|██████████████▎         | 716/1201 [01:59<01:03,  7.58it/s]"
     ]
    },
    {
     "name": "stdout",
     "output_type": "stream",
     "text": [
      "❌ Download error for 20231217: 429 Client Error: Too Many Requests for url: https://oasis.caiso.com/oasisapi/SingleZip?resultformat=6&queryname=PRC_LMP&version=12&market_run_id=DAM&startdatetime=20231217T08%3A00-0000&enddatetime=20231217T08%3A00-0000&grp_type=ALL\n",
      "❌ Download error for 20231218: 429 Client Error: Too Many Requests for url: https://oasis.caiso.com/oasisapi/SingleZip?resultformat=6&queryname=PRC_LMP&version=12&market_run_id=DAM&startdatetime=20231218T08%3A00-0000&enddatetime=20231218T08%3A00-0000&grp_type=ALL\n",
      "❌ Download error for 20231219: 429 Client Error: Too Many Requests for url: https://oasis.caiso.com/oasisapi/SingleZip?resultformat=6&queryname=PRC_LMP&version=12&market_run_id=DAM&startdatetime=20231219T08%3A00-0000&enddatetime=20231219T08%3A00-0000&grp_type=ALL\n",
      "❌ Download error for 20231220: 429 Client Error: Too Many Requests for url: https://oasis.caiso.com/oasisapi/SingleZip?resultformat=6&queryname=PRC_LMP&version=12&market_run_id=DAM&startdatetime=20231220T08%3A00-0000&enddatetime=20231220T08%3A00-0000&grp_type=ALL\n",
      "❌ Download error for 20231221: 429 Client Error: Too Many Requests for url: https://oasis.caiso.com/oasisapi/SingleZip?resultformat=6&queryname=PRC_LMP&version=12&market_run_id=DAM&startdatetime=20231221T08%3A00-0000&enddatetime=20231221T08%3A00-0000&grp_type=ALL\n"
     ]
    },
    {
     "name": "stderr",
     "output_type": "stream",
     "text": [
      "CAISO Parallel:  60%|██████████████▍         | 720/1201 [02:00<01:09,  6.93it/s]"
     ]
    },
    {
     "name": "stdout",
     "output_type": "stream",
     "text": [
      "❌ Download error for 20231223: 429 Client Error: Too Many Requests for url: https://oasis.caiso.com/oasisapi/SingleZip?resultformat=6&queryname=PRC_LMP&version=12&market_run_id=DAM&startdatetime=20231223T08%3A00-0000&enddatetime=20231223T08%3A00-0000&grp_type=ALL\n",
      "❌ Download error for 20231225: 429 Client Error: Too Many Requests for url: https://oasis.caiso.com/oasisapi/SingleZip?resultformat=6&queryname=PRC_LMP&version=12&market_run_id=DAM&startdatetime=20231225T08%3A00-0000&enddatetime=20231225T08%3A00-0000&grp_type=ALL\n",
      "❌ Download error for 20231224: 429 Client Error: Too Many Requests for url: https://oasis.caiso.com/oasisapi/SingleZip?resultformat=6&queryname=PRC_LMP&version=12&market_run_id=DAM&startdatetime=20231224T08%3A00-0000&enddatetime=20231224T08%3A00-0000&grp_type=ALL\n",
      "❌ Download error for 20231226: 429 Client Error: Too Many Requests for url: https://oasis.caiso.com/oasisapi/SingleZip?resultformat=6&queryname=PRC_LMP&version=12&market_run_id=DAM&startdatetime=20231226T08%3A00-0000&enddatetime=20231226T08%3A00-0000&grp_type=ALL\n"
     ]
    },
    {
     "name": "stderr",
     "output_type": "stream",
     "text": [
      "CAISO Parallel:  60%|██████████████▍         | 724/1201 [02:00<01:12,  6.58it/s]"
     ]
    },
    {
     "name": "stdout",
     "output_type": "stream",
     "text": [
      "❌ Download error for 20231227: 429 Client Error: Too Many Requests for url: https://oasis.caiso.com/oasisapi/SingleZip?resultformat=6&queryname=PRC_LMP&version=12&market_run_id=DAM&startdatetime=20231227T08%3A00-0000&enddatetime=20231227T08%3A00-0000&grp_type=ALL\n",
      "❌ Download error for 20231228: 429 Client Error: Too Many Requests for url: https://oasis.caiso.com/oasisapi/SingleZip?resultformat=6&queryname=PRC_LMP&version=12&market_run_id=DAM&startdatetime=20231228T08%3A00-0000&enddatetime=20231228T08%3A00-0000&grp_type=ALL\n",
      "❌ Download error for 20231229: 429 Client Error: Too Many Requests for url: https://oasis.caiso.com/oasisapi/SingleZip?resultformat=6&queryname=PRC_LMP&version=12&market_run_id=DAM&startdatetime=20231229T08%3A00-0000&enddatetime=20231229T08%3A00-0000&grp_type=ALL\n",
      "❌ Download error for 20231230: 429 Client Error: Too Many Requests for url: https://oasis.caiso.com/oasisapi/SingleZip?resultformat=6&queryname=PRC_LMP&version=12&market_run_id=DAM&startdatetime=20231230T08%3A00-0000&enddatetime=20231230T08%3A00-0000&grp_type=ALL\n"
     ]
    },
    {
     "name": "stderr",
     "output_type": "stream",
     "text": [
      "CAISO Parallel:  61%|██████████████▌         | 728/1201 [02:01<01:13,  6.46it/s]"
     ]
    },
    {
     "name": "stdout",
     "output_type": "stream",
     "text": [
      "❌ Download error for 20231231: 429 Client Error: Too Many Requests for url: https://oasis.caiso.com/oasisapi/SingleZip?resultformat=6&queryname=PRC_LMP&version=12&market_run_id=DAM&startdatetime=20231231T08%3A00-0000&enddatetime=20231231T08%3A00-0000&grp_type=ALL\n",
      "❌ Download error for 20240102: 429 Client Error: Too Many Requests for url: https://oasis.caiso.com/oasisapi/SingleZip?resultformat=6&queryname=PRC_LMP&version=12&market_run_id=DAM&startdatetime=20240102T08%3A00-0000&enddatetime=20240102T08%3A00-0000&grp_type=ALL\n",
      "❌ Download error for 20240101: 429 Client Error: Too Many Requests for url: https://oasis.caiso.com/oasisapi/SingleZip?resultformat=6&queryname=PRC_LMP&version=12&market_run_id=DAM&startdatetime=20240101T08%3A00-0000&enddatetime=20240101T08%3A00-0000&grp_type=ALL\n",
      "❌ Download error for 20240103: 429 Client Error: Too Many Requests for url: https://oasis.caiso.com/oasisapi/SingleZip?resultformat=6&queryname=PRC_LMP&version=12&market_run_id=DAM&startdatetime=20240103T08%3A00-0000&enddatetime=20240103T08%3A00-0000&grp_type=ALL\n"
     ]
    },
    {
     "name": "stderr",
     "output_type": "stream",
     "text": [
      "CAISO Parallel:  61%|██████████████▋         | 732/1201 [02:02<01:13,  6.37it/s]"
     ]
    },
    {
     "name": "stdout",
     "output_type": "stream",
     "text": [
      "❌ Download error for 20240104: 429 Client Error: Too Many Requests for url: https://oasis.caiso.com/oasisapi/SingleZip?resultformat=6&queryname=PRC_LMP&version=12&market_run_id=DAM&startdatetime=20240104T08%3A00-0000&enddatetime=20240104T08%3A00-0000&grp_type=ALL\n",
      "❌ Download error for 20240105: 429 Client Error: Too Many Requests for url: https://oasis.caiso.com/oasisapi/SingleZip?resultformat=6&queryname=PRC_LMP&version=12&market_run_id=DAM&startdatetime=20240105T08%3A00-0000&enddatetime=20240105T08%3A00-0000&grp_type=ALL\n",
      "❌ Download error for 20240106: 429 Client Error: Too Many Requests for url: https://oasis.caiso.com/oasisapi/SingleZip?resultformat=6&queryname=PRC_LMP&version=12&market_run_id=DAM&startdatetime=20240106T08%3A00-0000&enddatetime=20240106T08%3A00-0000&grp_type=ALL\n",
      "❌ Download error for 20240107: 429 Client Error: Too Many Requests for url: https://oasis.caiso.com/oasisapi/SingleZip?resultformat=6&queryname=PRC_LMP&version=12&market_run_id=DAM&startdatetime=20240107T08%3A00-0000&enddatetime=20240107T08%3A00-0000&grp_type=ALL\n"
     ]
    },
    {
     "name": "stderr",
     "output_type": "stream",
     "text": [
      "CAISO Parallel:  61%|██████████████▋         | 736/1201 [02:02<01:13,  6.31it/s]"
     ]
    },
    {
     "name": "stdout",
     "output_type": "stream",
     "text": [
      "❌ Download error for 20240108: 429 Client Error: Too Many Requests for url: https://oasis.caiso.com/oasisapi/SingleZip?resultformat=6&queryname=PRC_LMP&version=12&market_run_id=DAM&startdatetime=20240108T08%3A00-0000&enddatetime=20240108T08%3A00-0000&grp_type=ALL\n",
      "❌ Download error for 20240110: 429 Client Error: Too Many Requests for url: https://oasis.caiso.com/oasisapi/SingleZip?resultformat=6&queryname=PRC_LMP&version=12&market_run_id=DAM&startdatetime=20240110T08%3A00-0000&enddatetime=20240110T08%3A00-0000&grp_type=ALL\n",
      "❌ Download error for 20240111: 429 Client Error: Too Many Requests for url: https://oasis.caiso.com/oasisapi/SingleZip?resultformat=6&queryname=PRC_LMP&version=12&market_run_id=DAM&startdatetime=20240111T08%3A00-0000&enddatetime=20240111T08%3A00-0000&grp_type=ALL\n",
      "❌ Download error for 20240109: 429 Client Error: Too Many Requests for url: https://oasis.caiso.com/oasisapi/SingleZip?resultformat=6&queryname=PRC_LMP&version=12&market_run_id=DAM&startdatetime=20240109T08%3A00-0000&enddatetime=20240109T08%3A00-0000&grp_type=ALL\n"
     ]
    },
    {
     "name": "stderr",
     "output_type": "stream",
     "text": [
      "CAISO Parallel:  62%|██████████████▊         | 743/1201 [02:03<00:57,  8.01it/s]"
     ]
    },
    {
     "name": "stdout",
     "output_type": "stream",
     "text": [
      "❌ Download error for 20240112: 429 Client Error: Too Many Requests for url: https://oasis.caiso.com/oasisapi/SingleZip?resultformat=6&queryname=PRC_LMP&version=12&market_run_id=DAM&startdatetime=20240112T08%3A00-0000&enddatetime=20240112T08%3A00-0000&grp_type=ALL\n",
      "❌ Download error for 20240114: 429 Client Error: Too Many Requests for url: https://oasis.caiso.com/oasisapi/SingleZip?resultformat=6&queryname=PRC_LMP&version=12&market_run_id=DAM&startdatetime=20240114T08%3A00-0000&enddatetime=20240114T08%3A00-0000&grp_type=ALL\n",
      "❌ Download error for 20240115: 429 Client Error: Too Many Requests for url: https://oasis.caiso.com/oasisapi/SingleZip?resultformat=6&queryname=PRC_LMP&version=12&market_run_id=DAM&startdatetime=20240115T08%3A00-0000&enddatetime=20240115T08%3A00-0000&grp_type=ALL\n",
      "❌ Download error for 20240113: 429 Client Error: Too Many Requests for url: https://oasis.caiso.com/oasisapi/SingleZip?resultformat=6&queryname=PRC_LMP&version=12&market_run_id=DAM&startdatetime=20240113T08%3A00-0000&enddatetime=20240113T08%3A00-0000&grp_type=ALL\n"
     ]
    },
    {
     "name": "stderr",
     "output_type": "stream",
     "text": [
      "CAISO Parallel:  62%|██████████████▉         | 749/1201 [02:04<00:48,  9.30it/s]"
     ]
    },
    {
     "name": "stdout",
     "output_type": "stream",
     "text": [
      "❌ Download error for 20240116: 429 Client Error: Too Many Requests for url: https://oasis.caiso.com/oasisapi/SingleZip?resultformat=6&queryname=PRC_LMP&version=12&market_run_id=DAM&startdatetime=20240116T08%3A00-0000&enddatetime=20240116T08%3A00-0000&grp_type=ALL\n",
      "❌ Download error for 20240117: 429 Client Error: Too Many Requests for url: https://oasis.caiso.com/oasisapi/SingleZip?resultformat=6&queryname=PRC_LMP&version=12&market_run_id=DAM&startdatetime=20240117T08%3A00-0000&enddatetime=20240117T08%3A00-0000&grp_type=ALL\n",
      "❌ Download error for 20240119: 429 Client Error: Too Many Requests for url: https://oasis.caiso.com/oasisapi/SingleZip?resultformat=6&queryname=PRC_LMP&version=12&market_run_id=DAM&startdatetime=20240119T08%3A00-0000&enddatetime=20240119T08%3A00-0000&grp_type=ALL\n",
      "❌ Download error for 20240118: 429 Client Error: Too Many Requests for url: https://oasis.caiso.com/oasisapi/SingleZip?resultformat=6&queryname=PRC_LMP&version=12&market_run_id=DAM&startdatetime=20240118T08%3A00-0000&enddatetime=20240118T08%3A00-0000&grp_type=ALL\n",
      "❌ Download error for 20240120: 429 Client Error: Too Many Requests for url: https://oasis.caiso.com/oasisapi/SingleZip?resultformat=6&queryname=PRC_LMP&version=12&market_run_id=DAM&startdatetime=20240120T08%3A00-0000&enddatetime=20240120T08%3A00-0000&grp_type=ALL\n"
     ]
    },
    {
     "name": "stderr",
     "output_type": "stream",
     "text": [
      "CAISO Parallel:  63%|███████████████         | 751/1201 [02:04<01:04,  6.97it/s]"
     ]
    },
    {
     "name": "stdout",
     "output_type": "stream",
     "text": [
      "❌ Download error for 20240121: 429 Client Error: Too Many Requests for url: https://oasis.caiso.com/oasisapi/SingleZip?resultformat=6&queryname=PRC_LMP&version=12&market_run_id=DAM&startdatetime=20240121T08%3A00-0000&enddatetime=20240121T08%3A00-0000&grp_type=ALL\n",
      "❌ Download error for 20240122: 429 Client Error: Too Many Requests for url: https://oasis.caiso.com/oasisapi/SingleZip?resultformat=6&queryname=PRC_LMP&version=12&market_run_id=DAM&startdatetime=20240122T08%3A00-0000&enddatetime=20240122T08%3A00-0000&grp_type=ALL\n",
      "❌ Download error for 20240125: 429 Client Error: Too Many Requests for url: https://oasis.caiso.com/oasisapi/SingleZip?resultformat=6&queryname=PRC_LMP&version=12&market_run_id=DAM&startdatetime=20240125T08%3A00-0000&enddatetime=20240125T08%3A00-0000&grp_type=ALL\n",
      "❌ Download error for 20240123: 429 Client Error: Too Many Requests for url: https://oasis.caiso.com/oasisapi/SingleZip?resultformat=6&queryname=PRC_LMP&version=12&market_run_id=DAM&startdatetime=20240123T08%3A00-0000&enddatetime=20240123T08%3A00-0000&grp_type=ALL\n",
      "❌ Download error for 20240124: 429 Client Error: Too Many Requests for url: https://oasis.caiso.com/oasisapi/SingleZip?resultformat=6&queryname=PRC_LMP&version=12&market_run_id=DAM&startdatetime=20240124T08%3A00-0000&enddatetime=20240124T08%3A00-0000&grp_type=ALL\n"
     ]
    },
    {
     "name": "stderr",
     "output_type": "stream",
     "text": [
      "CAISO Parallel:  63%|███████████████▏        | 757/1201 [02:05<00:56,  7.84it/s]"
     ]
    },
    {
     "name": "stdout",
     "output_type": "stream",
     "text": [
      "❌ Download error for 20240126: 429 Client Error: Too Many Requests for url: https://oasis.caiso.com/oasisapi/SingleZip?resultformat=6&queryname=PRC_LMP&version=12&market_run_id=DAM&startdatetime=20240126T08%3A00-0000&enddatetime=20240126T08%3A00-0000&grp_type=ALL\n",
      "❌ Download error for 20240127: 429 Client Error: Too Many Requests for url: https://oasis.caiso.com/oasisapi/SingleZip?resultformat=6&queryname=PRC_LMP&version=12&market_run_id=DAM&startdatetime=20240127T08%3A00-0000&enddatetime=20240127T08%3A00-0000&grp_type=ALL\n",
      "❌ Download error for 20240129: 429 Client Error: Too Many Requests for url: https://oasis.caiso.com/oasisapi/SingleZip?resultformat=6&queryname=PRC_LMP&version=12&market_run_id=DAM&startdatetime=20240129T08%3A00-0000&enddatetime=20240129T08%3A00-0000&grp_type=ALL\n",
      "❌ Download error for 20240128: 429 Client Error: Too Many Requests for url: https://oasis.caiso.com/oasisapi/SingleZip?resultformat=6&queryname=PRC_LMP&version=12&market_run_id=DAM&startdatetime=20240128T08%3A00-0000&enddatetime=20240128T08%3A00-0000&grp_type=ALL\n",
      "❌ Download error for 20240130: 429 Client Error: Too Many Requests for url: https://oasis.caiso.com/oasisapi/SingleZip?resultformat=6&queryname=PRC_LMP&version=12&market_run_id=DAM&startdatetime=20240130T08%3A00-0000&enddatetime=20240130T08%3A00-0000&grp_type=ALL\n"
     ]
    },
    {
     "name": "stderr",
     "output_type": "stream",
     "text": [
      "CAISO Parallel:  63%|███████████████▏        | 760/1201 [02:06<01:04,  6.87it/s]"
     ]
    },
    {
     "name": "stdout",
     "output_type": "stream",
     "text": [
      "❌ Download error for 20240201: 429 Client Error: Too Many Requests for url: https://oasis.caiso.com/oasisapi/SingleZip?resultformat=6&queryname=PRC_LMP&version=12&market_run_id=DAM&startdatetime=20240201T08%3A00-0000&enddatetime=20240201T08%3A00-0000&grp_type=ALL\n",
      "❌ Download error for 20240202: 429 Client Error: Too Many Requests for url: https://oasis.caiso.com/oasisapi/SingleZip?resultformat=6&queryname=PRC_LMP&version=12&market_run_id=DAM&startdatetime=20240202T08%3A00-0000&enddatetime=20240202T08%3A00-0000&grp_type=ALL\n",
      "❌ Download error for 20240203: 429 Client Error: Too Many Requests for url: https://oasis.caiso.com/oasisapi/SingleZip?resultformat=6&queryname=PRC_LMP&version=12&market_run_id=DAM&startdatetime=20240203T08%3A00-0000&enddatetime=20240203T08%3A00-0000&grp_type=ALL\n",
      "❌ Download error for 20240204: 429 Client Error: Too Many Requests for url: https://oasis.caiso.com/oasisapi/SingleZip?resultformat=6&queryname=PRC_LMP&version=12&market_run_id=DAM&startdatetime=20240204T08%3A00-0000&enddatetime=20240204T08%3A00-0000&grp_type=ALL\n"
     ]
    },
    {
     "name": "stderr",
     "output_type": "stream",
     "text": [
      "CAISO Parallel:  64%|███████████████▎        | 765/1201 [02:06<01:04,  6.71it/s]"
     ]
    },
    {
     "name": "stdout",
     "output_type": "stream",
     "text": [
      "❌ Download error for 20240205: 429 Client Error: Too Many Requests for url: https://oasis.caiso.com/oasisapi/SingleZip?resultformat=6&queryname=PRC_LMP&version=12&market_run_id=DAM&startdatetime=20240205T08%3A00-0000&enddatetime=20240205T08%3A00-0000&grp_type=ALL\n",
      "❌ Download error for 20240206: 429 Client Error: Too Many Requests for url: https://oasis.caiso.com/oasisapi/SingleZip?resultformat=6&queryname=PRC_LMP&version=12&market_run_id=DAM&startdatetime=20240206T08%3A00-0000&enddatetime=20240206T08%3A00-0000&grp_type=ALL\n",
      "❌ Download error for 20240208: 429 Client Error: Too Many Requests for url: https://oasis.caiso.com/oasisapi/SingleZip?resultformat=6&queryname=PRC_LMP&version=12&market_run_id=DAM&startdatetime=20240208T08%3A00-0000&enddatetime=20240208T08%3A00-0000&grp_type=ALL\n",
      "❌ Download error for 20240207: 429 Client Error: Too Many Requests for url: https://oasis.caiso.com/oasisapi/SingleZip?resultformat=6&queryname=PRC_LMP&version=12&market_run_id=DAM&startdatetime=20240207T08%3A00-0000&enddatetime=20240207T08%3A00-0000&grp_type=ALL\n"
     ]
    },
    {
     "name": "stderr",
     "output_type": "stream",
     "text": [
      "CAISO Parallel:  64%|███████████████▎        | 769/1201 [02:07<01:05,  6.63it/s]"
     ]
    },
    {
     "name": "stdout",
     "output_type": "stream",
     "text": [
      "❌ Download error for 20240209: 429 Client Error: Too Many Requests for url: https://oasis.caiso.com/oasisapi/SingleZip?resultformat=6&queryname=PRC_LMP&version=12&market_run_id=DAM&startdatetime=20240209T08%3A00-0000&enddatetime=20240209T08%3A00-0000&grp_type=ALL\n",
      "❌ Download error for 20240211: 429 Client Error: Too Many Requests for url: https://oasis.caiso.com/oasisapi/SingleZip?resultformat=6&queryname=PRC_LMP&version=12&market_run_id=DAM&startdatetime=20240211T08%3A00-0000&enddatetime=20240211T08%3A00-0000&grp_type=ALL\n",
      "❌ Download error for 20240212: 429 Client Error: Too Many Requests for url: https://oasis.caiso.com/oasisapi/SingleZip?resultformat=6&queryname=PRC_LMP&version=12&market_run_id=DAM&startdatetime=20240212T08%3A00-0000&enddatetime=20240212T08%3A00-0000&grp_type=ALL\n",
      "❌ Download error for 20240210: 429 Client Error: Too Many Requests for url: https://oasis.caiso.com/oasisapi/SingleZip?resultformat=6&queryname=PRC_LMP&version=12&market_run_id=DAM&startdatetime=20240210T08%3A00-0000&enddatetime=20240210T08%3A00-0000&grp_type=ALL\n"
     ]
    },
    {
     "name": "stderr",
     "output_type": "stream",
     "text": [
      "CAISO Parallel:  64%|███████████████▍        | 773/1201 [02:08<01:04,  6.61it/s]"
     ]
    },
    {
     "name": "stdout",
     "output_type": "stream",
     "text": [
      "❌ Download error for 20240213: 429 Client Error: Too Many Requests for url: https://oasis.caiso.com/oasisapi/SingleZip?resultformat=6&queryname=PRC_LMP&version=12&market_run_id=DAM&startdatetime=20240213T08%3A00-0000&enddatetime=20240213T08%3A00-0000&grp_type=ALL\n",
      "❌ Download error for 20240214: 429 Client Error: Too Many Requests for url: https://oasis.caiso.com/oasisapi/SingleZip?resultformat=6&queryname=PRC_LMP&version=12&market_run_id=DAM&startdatetime=20240214T08%3A00-0000&enddatetime=20240214T08%3A00-0000&grp_type=ALL\n",
      "❌ Download error for 20240216: 429 Client Error: Too Many Requests for url: https://oasis.caiso.com/oasisapi/SingleZip?resultformat=6&queryname=PRC_LMP&version=12&market_run_id=DAM&startdatetime=20240216T08%3A00-0000&enddatetime=20240216T08%3A00-0000&grp_type=ALL\n",
      "❌ Download error for 20240215: 429 Client Error: Too Many Requests for url: https://oasis.caiso.com/oasisapi/SingleZip?resultformat=6&queryname=PRC_LMP&version=12&market_run_id=DAM&startdatetime=20240215T08%3A00-0000&enddatetime=20240215T08%3A00-0000&grp_type=ALL\n"
     ]
    },
    {
     "name": "stderr",
     "output_type": "stream",
     "text": [
      "CAISO Parallel:  65%|███████████████▌        | 777/1201 [02:08<01:05,  6.49it/s]"
     ]
    },
    {
     "name": "stdout",
     "output_type": "stream",
     "text": [
      "❌ Download error for 20240217: 429 Client Error: Too Many Requests for url: https://oasis.caiso.com/oasisapi/SingleZip?resultformat=6&queryname=PRC_LMP&version=12&market_run_id=DAM&startdatetime=20240217T08%3A00-0000&enddatetime=20240217T08%3A00-0000&grp_type=ALL\n",
      "❌ Download error for 20240219: 429 Client Error: Too Many Requests for url: https://oasis.caiso.com/oasisapi/SingleZip?resultformat=6&queryname=PRC_LMP&version=12&market_run_id=DAM&startdatetime=20240219T08%3A00-0000&enddatetime=20240219T08%3A00-0000&grp_type=ALL\n",
      "❌ Download error for 20240220: 429 Client Error: Too Many Requests for url: https://oasis.caiso.com/oasisapi/SingleZip?resultformat=6&queryname=PRC_LMP&version=12&market_run_id=DAM&startdatetime=20240220T08%3A00-0000&enddatetime=20240220T08%3A00-0000&grp_type=ALL\n",
      "❌ Download error for 20240218: 429 Client Error: Too Many Requests for url: https://oasis.caiso.com/oasisapi/SingleZip?resultformat=6&queryname=PRC_LMP&version=12&market_run_id=DAM&startdatetime=20240218T08%3A00-0000&enddatetime=20240218T08%3A00-0000&grp_type=ALL\n"
     ]
    },
    {
     "name": "stderr",
     "output_type": "stream",
     "text": [
      "CAISO Parallel:  65%|███████████████▋        | 782/1201 [02:09<00:56,  7.41it/s]"
     ]
    },
    {
     "name": "stdout",
     "output_type": "stream",
     "text": [
      "❌ Download error for 20240221: 429 Client Error: Too Many Requests for url: https://oasis.caiso.com/oasisapi/SingleZip?resultformat=6&queryname=PRC_LMP&version=12&market_run_id=DAM&startdatetime=20240221T08%3A00-0000&enddatetime=20240221T08%3A00-0000&grp_type=ALL\n",
      "❌ Download error for 20240224: 429 Client Error: Too Many Requests for url: https://oasis.caiso.com/oasisapi/SingleZip?resultformat=6&queryname=PRC_LMP&version=12&market_run_id=DAM&startdatetime=20240224T08%3A00-0000&enddatetime=20240224T08%3A00-0000&grp_type=ALL\n",
      "❌ Download error for 20240223: 429 Client Error: Too Many Requests for url: https://oasis.caiso.com/oasisapi/SingleZip?resultformat=6&queryname=PRC_LMP&version=12&market_run_id=DAM&startdatetime=20240223T08%3A00-0000&enddatetime=20240223T08%3A00-0000&grp_type=ALL\n",
      "❌ Download error for 20240222: 429 Client Error: Too Many Requests for url: https://oasis.caiso.com/oasisapi/SingleZip?resultformat=6&queryname=PRC_LMP&version=12&market_run_id=DAM&startdatetime=20240222T08%3A00-0000&enddatetime=20240222T08%3A00-0000&grp_type=ALL\n"
     ]
    },
    {
     "name": "stderr",
     "output_type": "stream",
     "text": [
      "CAISO Parallel:  65%|███████████████▋        | 785/1201 [02:10<01:06,  6.27it/s]"
     ]
    },
    {
     "name": "stdout",
     "output_type": "stream",
     "text": [
      "❌ Download error for 20240225: 429 Client Error: Too Many Requests for url: https://oasis.caiso.com/oasisapi/SingleZip?resultformat=6&queryname=PRC_LMP&version=12&market_run_id=DAM&startdatetime=20240225T08%3A00-0000&enddatetime=20240225T08%3A00-0000&grp_type=ALL\n",
      "❌ Download error for 20240226: 429 Client Error: Too Many Requests for url: https://oasis.caiso.com/oasisapi/SingleZip?resultformat=6&queryname=PRC_LMP&version=12&market_run_id=DAM&startdatetime=20240226T08%3A00-0000&enddatetime=20240226T08%3A00-0000&grp_type=ALL\n",
      "❌ Download error for 20240228: 429 Client Error: Too Many Requests for url: https://oasis.caiso.com/oasisapi/SingleZip?resultformat=6&queryname=PRC_LMP&version=12&market_run_id=DAM&startdatetime=20240228T08%3A00-0000&enddatetime=20240228T08%3A00-0000&grp_type=ALL\n",
      "❌ Download error for 20240227: 429 Client Error: Too Many Requests for url: https://oasis.caiso.com/oasisapi/SingleZip?resultformat=6&queryname=PRC_LMP&version=12&market_run_id=DAM&startdatetime=20240227T08%3A00-0000&enddatetime=20240227T08%3A00-0000&grp_type=ALL\n"
     ]
    },
    {
     "name": "stderr",
     "output_type": "stream",
     "text": [
      "CAISO Parallel:  66%|███████████████▊        | 790/1201 [02:10<01:00,  6.75it/s]"
     ]
    },
    {
     "name": "stdout",
     "output_type": "stream",
     "text": [
      "❌ Download error for 20240229: 429 Client Error: Too Many Requests for url: https://oasis.caiso.com/oasisapi/SingleZip?resultformat=6&queryname=PRC_LMP&version=12&market_run_id=DAM&startdatetime=20240229T08%3A00-0000&enddatetime=20240229T08%3A00-0000&grp_type=ALL\n",
      "❌ Download error for 20240302: 429 Client Error: Too Many Requests for url: https://oasis.caiso.com/oasisapi/SingleZip?resultformat=6&queryname=PRC_LMP&version=12&market_run_id=DAM&startdatetime=20240302T08%3A00-0000&enddatetime=20240302T08%3A00-0000&grp_type=ALL\n",
      "❌ Download error for 20240301: 429 Client Error: Too Many Requests for url: https://oasis.caiso.com/oasisapi/SingleZip?resultformat=6&queryname=PRC_LMP&version=12&market_run_id=DAM&startdatetime=20240301T08%3A00-0000&enddatetime=20240301T08%3A00-0000&grp_type=ALL\n",
      "❌ Download error for 20240303: 429 Client Error: Too Many Requests for url: https://oasis.caiso.com/oasisapi/SingleZip?resultformat=6&queryname=PRC_LMP&version=12&market_run_id=DAM&startdatetime=20240303T08%3A00-0000&enddatetime=20240303T08%3A00-0000&grp_type=ALL\n"
     ]
    },
    {
     "name": "stderr",
     "output_type": "stream",
     "text": [
      "CAISO Parallel:  66%|███████████████▊        | 793/1201 [02:10<00:48,  8.45it/s]"
     ]
    },
    {
     "name": "stdout",
     "output_type": "stream",
     "text": [
      "❌ Download error for 20240304: 429 Client Error: Too Many Requests for url: https://oasis.caiso.com/oasisapi/SingleZip?resultformat=6&queryname=PRC_LMP&version=12&market_run_id=DAM&startdatetime=20240304T08%3A00-0000&enddatetime=20240304T08%3A00-0000&grp_type=ALL\n"
     ]
    },
    {
     "name": "stderr",
     "output_type": "stream",
     "text": [
      "CAISO Parallel:  66%|███████████████▉        | 795/1201 [02:11<00:58,  6.91it/s]"
     ]
    },
    {
     "name": "stdout",
     "output_type": "stream",
     "text": [
      "❌ Download error for 20240305: 429 Client Error: Too Many Requests for url: https://oasis.caiso.com/oasisapi/SingleZip?resultformat=6&queryname=PRC_LMP&version=12&market_run_id=DAM&startdatetime=20240305T08%3A00-0000&enddatetime=20240305T08%3A00-0000&grp_type=ALL\n",
      "❌ Download error for 20240306: 429 Client Error: Too Many Requests for url: https://oasis.caiso.com/oasisapi/SingleZip?resultformat=6&queryname=PRC_LMP&version=12&market_run_id=DAM&startdatetime=20240306T08%3A00-0000&enddatetime=20240306T08%3A00-0000&grp_type=ALL\n",
      "❌ Download error for 20240307: 429 Client Error: Too Many Requests for url: https://oasis.caiso.com/oasisapi/SingleZip?resultformat=6&queryname=PRC_LMP&version=12&market_run_id=DAM&startdatetime=20240307T08%3A00-0000&enddatetime=20240307T08%3A00-0000&grp_type=ALL\n",
      "❌ Download error for 20240308: 429 Client Error: Too Many Requests for url: https://oasis.caiso.com/oasisapi/SingleZip?resultformat=6&queryname=PRC_LMP&version=12&market_run_id=DAM&startdatetime=20240308T08%3A00-0000&enddatetime=20240308T08%3A00-0000&grp_type=ALL\n"
     ]
    },
    {
     "name": "stderr",
     "output_type": "stream",
     "text": [
      "CAISO Parallel:  66%|███████████████▉        | 798/1201 [02:11<00:47,  8.54it/s]"
     ]
    },
    {
     "name": "stdout",
     "output_type": "stream",
     "text": [
      "❌ Download error for 20240309: 429 Client Error: Too Many Requests for url: https://oasis.caiso.com/oasisapi/SingleZip?resultformat=6&queryname=PRC_LMP&version=12&market_run_id=DAM&startdatetime=20240309T08%3A00-0000&enddatetime=20240309T08%3A00-0000&grp_type=ALL\n"
     ]
    },
    {
     "name": "stderr",
     "output_type": "stream",
     "text": [
      "CAISO Parallel:  67%|███████████████▉        | 800/1201 [02:11<00:57,  7.03it/s]"
     ]
    },
    {
     "name": "stdout",
     "output_type": "stream",
     "text": [
      "❌ Download error for 20240310: 429 Client Error: Too Many Requests for url: https://oasis.caiso.com/oasisapi/SingleZip?resultformat=6&queryname=PRC_LMP&version=12&market_run_id=DAM&startdatetime=20240310T08%3A00-0000&enddatetime=20240310T08%3A00-0000&grp_type=ALL\n",
      "❌ Download error for 20240312: 429 Client Error: Too Many Requests for url: https://oasis.caiso.com/oasisapi/SingleZip?resultformat=6&queryname=PRC_LMP&version=12&market_run_id=DAM&startdatetime=20240312T08%3A00-0000&enddatetime=20240312T08%3A00-0000&grp_type=ALL\n",
      "❌ Download error for 20240311: 429 Client Error: Too Many Requests for url: https://oasis.caiso.com/oasisapi/SingleZip?resultformat=6&queryname=PRC_LMP&version=12&market_run_id=DAM&startdatetime=20240311T08%3A00-0000&enddatetime=20240311T08%3A00-0000&grp_type=ALL\n",
      "❌ Download error for 20240313: 429 Client Error: Too Many Requests for url: https://oasis.caiso.com/oasisapi/SingleZip?resultformat=6&queryname=PRC_LMP&version=12&market_run_id=DAM&startdatetime=20240313T08%3A00-0000&enddatetime=20240313T08%3A00-0000&grp_type=ALL\n"
     ]
    },
    {
     "name": "stderr",
     "output_type": "stream",
     "text": [
      "CAISO Parallel:  67%|████████████████        | 803/1201 [02:12<01:03,  6.29it/s]"
     ]
    },
    {
     "name": "stdout",
     "output_type": "stream",
     "text": [
      "❌ Download error for 20240315: 429 Client Error: Too Many Requests for url: https://oasis.caiso.com/oasisapi/SingleZip?resultformat=6&queryname=PRC_LMP&version=12&market_run_id=DAM&startdatetime=20240315T08%3A00-0000&enddatetime=20240315T08%3A00-0000&grp_type=ALL\n",
      "❌ Download error for 20240317: 429 Client Error: Too Many Requests for url: https://oasis.caiso.com/oasisapi/SingleZip?resultformat=6&queryname=PRC_LMP&version=12&market_run_id=DAM&startdatetime=20240317T08%3A00-0000&enddatetime=20240317T08%3A00-0000&grp_type=ALL\n",
      "❌ Download error for 20240316: 429 Client Error: Too Many Requests for url: https://oasis.caiso.com/oasisapi/SingleZip?resultformat=6&queryname=PRC_LMP&version=12&market_run_id=DAM&startdatetime=20240316T08%3A00-0000&enddatetime=20240316T08%3A00-0000&grp_type=ALL\n",
      "❌ Download error for 20240318: 429 Client Error: Too Many Requests for url: https://oasis.caiso.com/oasisapi/SingleZip?resultformat=6&queryname=PRC_LMP&version=12&market_run_id=DAM&startdatetime=20240318T08%3A00-0000&enddatetime=20240318T08%3A00-0000&grp_type=ALL\n"
     ]
    },
    {
     "name": "stderr",
     "output_type": "stream",
     "text": [
      "CAISO Parallel:  67%|████████████████▏       | 807/1201 [02:13<01:03,  6.24it/s]"
     ]
    },
    {
     "name": "stdout",
     "output_type": "stream",
     "text": [
      "❌ Download error for 20240319: 429 Client Error: Too Many Requests for url: https://oasis.caiso.com/oasisapi/SingleZip?resultformat=6&queryname=PRC_LMP&version=12&market_run_id=DAM&startdatetime=20240319T08%3A00-0000&enddatetime=20240319T08%3A00-0000&grp_type=ALL\n",
      "❌ Download error for 20240322: 429 Client Error: Too Many Requests for url: https://oasis.caiso.com/oasisapi/SingleZip?resultformat=6&queryname=PRC_LMP&version=12&market_run_id=DAM&startdatetime=20240322T08%3A00-0000&enddatetime=20240322T08%3A00-0000&grp_type=ALL\n",
      "❌ Download error for 20240321: 429 Client Error: Too Many Requests for url: https://oasis.caiso.com/oasisapi/SingleZip?resultformat=6&queryname=PRC_LMP&version=12&market_run_id=DAM&startdatetime=20240321T08%3A00-0000&enddatetime=20240321T08%3A00-0000&grp_type=ALL\n",
      "❌ Download error for 20240320: 429 Client Error: Too Many Requests for url: https://oasis.caiso.com/oasisapi/SingleZip?resultformat=6&queryname=PRC_LMP&version=12&market_run_id=DAM&startdatetime=20240320T08%3A00-0000&enddatetime=20240320T08%3A00-0000&grp_type=ALL\n"
     ]
    },
    {
     "name": "stderr",
     "output_type": "stream",
     "text": [
      "CAISO Parallel:  68%|████████████████▏       | 811/1201 [02:13<01:02,  6.20it/s]"
     ]
    },
    {
     "name": "stdout",
     "output_type": "stream",
     "text": [
      "❌ Download error for 20240323: 429 Client Error: Too Many Requests for url: https://oasis.caiso.com/oasisapi/SingleZip?resultformat=6&queryname=PRC_LMP&version=12&market_run_id=DAM&startdatetime=20240323T08%3A00-0000&enddatetime=20240323T08%3A00-0000&grp_type=ALL\n",
      "❌ Download error for 20240325: 429 Client Error: Too Many Requests for url: https://oasis.caiso.com/oasisapi/SingleZip?resultformat=6&queryname=PRC_LMP&version=12&market_run_id=DAM&startdatetime=20240325T08%3A00-0000&enddatetime=20240325T08%3A00-0000&grp_type=ALL\n",
      "❌ Download error for 20240324: 429 Client Error: Too Many Requests for url: https://oasis.caiso.com/oasisapi/SingleZip?resultformat=6&queryname=PRC_LMP&version=12&market_run_id=DAM&startdatetime=20240324T08%3A00-0000&enddatetime=20240324T08%3A00-0000&grp_type=ALL\n",
      "❌ Download error for 20240326: 429 Client Error: Too Many Requests for url: https://oasis.caiso.com/oasisapi/SingleZip?resultformat=6&queryname=PRC_LMP&version=12&market_run_id=DAM&startdatetime=20240326T08%3A00-0000&enddatetime=20240326T08%3A00-0000&grp_type=ALL\n"
     ]
    },
    {
     "name": "stderr",
     "output_type": "stream",
     "text": [
      "CAISO Parallel:  68%|████████████████▎       | 815/1201 [02:14<01:01,  6.24it/s]"
     ]
    },
    {
     "name": "stdout",
     "output_type": "stream",
     "text": [
      "❌ Download error for 20240327: 429 Client Error: Too Many Requests for url: https://oasis.caiso.com/oasisapi/SingleZip?resultformat=6&queryname=PRC_LMP&version=12&market_run_id=DAM&startdatetime=20240327T08%3A00-0000&enddatetime=20240327T08%3A00-0000&grp_type=ALL\n",
      "❌ Download error for 20240330: 429 Client Error: Too Many Requests for url: https://oasis.caiso.com/oasisapi/SingleZip?resultformat=6&queryname=PRC_LMP&version=12&market_run_id=DAM&startdatetime=20240330T08%3A00-0000&enddatetime=20240330T08%3A00-0000&grp_type=ALL\n",
      "❌ Download error for 20240329: 429 Client Error: Too Many Requests for url: https://oasis.caiso.com/oasisapi/SingleZip?resultformat=6&queryname=PRC_LMP&version=12&market_run_id=DAM&startdatetime=20240329T08%3A00-0000&enddatetime=20240329T08%3A00-0000&grp_type=ALL\n",
      "❌ Download error for 20240328: 429 Client Error: Too Many Requests for url: https://oasis.caiso.com/oasisapi/SingleZip?resultformat=6&queryname=PRC_LMP&version=12&market_run_id=DAM&startdatetime=20240328T08%3A00-0000&enddatetime=20240328T08%3A00-0000&grp_type=ALL\n"
     ]
    },
    {
     "name": "stderr",
     "output_type": "stream",
     "text": [
      "CAISO Parallel:  68%|████████████████▍       | 820/1201 [02:15<00:55,  6.82it/s]"
     ]
    },
    {
     "name": "stdout",
     "output_type": "stream",
     "text": [
      "❌ Download error for 20240331: 429 Client Error: Too Many Requests for url: https://oasis.caiso.com/oasisapi/SingleZip?resultformat=6&queryname=PRC_LMP&version=12&market_run_id=DAM&startdatetime=20240331T08%3A00-0000&enddatetime=20240331T08%3A00-0000&grp_type=ALL\n",
      "❌ Download error for 20240402: 429 Client Error: Too Many Requests for url: https://oasis.caiso.com/oasisapi/SingleZip?resultformat=6&queryname=PRC_LMP&version=12&market_run_id=DAM&startdatetime=20240402T08%3A00-0000&enddatetime=20240402T08%3A00-0000&grp_type=ALL\n",
      "❌ Download error for 20240403: 429 Client Error: Too Many Requests for url: https://oasis.caiso.com/oasisapi/SingleZip?resultformat=6&queryname=PRC_LMP&version=12&market_run_id=DAM&startdatetime=20240403T08%3A00-0000&enddatetime=20240403T08%3A00-0000&grp_type=ALL\n",
      "❌ Download error for 20240401: 429 Client Error: Too Many Requests for url: https://oasis.caiso.com/oasisapi/SingleZip?resultformat=6&queryname=PRC_LMP&version=12&market_run_id=DAM&startdatetime=20240401T08%3A00-0000&enddatetime=20240401T08%3A00-0000&grp_type=ALL\n"
     ]
    },
    {
     "name": "stderr",
     "output_type": "stream",
     "text": [
      "CAISO Parallel:  69%|████████████████▍       | 825/1201 [02:15<00:52,  7.17it/s]"
     ]
    },
    {
     "name": "stdout",
     "output_type": "stream",
     "text": [
      "❌ Download error for 20240404: 429 Client Error: Too Many Requests for url: https://oasis.caiso.com/oasisapi/SingleZip?resultformat=6&queryname=PRC_LMP&version=12&market_run_id=DAM&startdatetime=20240404T08%3A00-0000&enddatetime=20240404T08%3A00-0000&grp_type=ALL\n",
      "❌ Download error for 20240405: 429 Client Error: Too Many Requests for url: https://oasis.caiso.com/oasisapi/SingleZip?resultformat=6&queryname=PRC_LMP&version=12&market_run_id=DAM&startdatetime=20240405T08%3A00-0000&enddatetime=20240405T08%3A00-0000&grp_type=ALL\n",
      "❌ Download error for 20240406: 429 Client Error: Too Many Requests for url: https://oasis.caiso.com/oasisapi/SingleZip?resultformat=6&queryname=PRC_LMP&version=12&market_run_id=DAM&startdatetime=20240406T08%3A00-0000&enddatetime=20240406T08%3A00-0000&grp_type=ALL\n",
      "❌ Download error for 20240408: 429 Client Error: Too Many Requests for url: https://oasis.caiso.com/oasisapi/SingleZip?resultformat=6&queryname=PRC_LMP&version=12&market_run_id=DAM&startdatetime=20240408T08%3A00-0000&enddatetime=20240408T08%3A00-0000&grp_type=ALL\n",
      "❌ Download error for 20240407: 429 Client Error: Too Many Requests for url: https://oasis.caiso.com/oasisapi/SingleZip?resultformat=6&queryname=PRC_LMP&version=12&market_run_id=DAM&startdatetime=20240407T08%3A00-0000&enddatetime=20240407T08%3A00-0000&grp_type=ALL\n"
     ]
    },
    {
     "name": "stderr",
     "output_type": "stream",
     "text": [
      "CAISO Parallel:  69%|████████████████▌       | 830/1201 [02:16<00:49,  7.45it/s]"
     ]
    },
    {
     "name": "stdout",
     "output_type": "stream",
     "text": [
      "❌ Download error for 20240409: 429 Client Error: Too Many Requests for url: https://oasis.caiso.com/oasisapi/SingleZip?resultformat=6&queryname=PRC_LMP&version=12&market_run_id=DAM&startdatetime=20240409T08%3A00-0000&enddatetime=20240409T08%3A00-0000&grp_type=ALL\n",
      "❌ Download error for 20240410: 429 Client Error: Too Many Requests for url: https://oasis.caiso.com/oasisapi/SingleZip?resultformat=6&queryname=PRC_LMP&version=12&market_run_id=DAM&startdatetime=20240410T08%3A00-0000&enddatetime=20240410T08%3A00-0000&grp_type=ALL\n",
      "❌ Download error for 20240411: 429 Client Error: Too Many Requests for url: https://oasis.caiso.com/oasisapi/SingleZip?resultformat=6&queryname=PRC_LMP&version=12&market_run_id=DAM&startdatetime=20240411T08%3A00-0000&enddatetime=20240411T08%3A00-0000&grp_type=ALL\n",
      "❌ Download error for 20240412: 429 Client Error: Too Many Requests for url: https://oasis.caiso.com/oasisapi/SingleZip?resultformat=6&queryname=PRC_LMP&version=12&market_run_id=DAM&startdatetime=20240412T08%3A00-0000&enddatetime=20240412T08%3A00-0000&grp_type=ALL\n",
      "❌ Download error for 20240413: 429 Client Error: Too Many Requests for url: https://oasis.caiso.com/oasisapi/SingleZip?resultformat=6&queryname=PRC_LMP&version=12&market_run_id=DAM&startdatetime=20240413T08%3A00-0000&enddatetime=20240413T08%3A00-0000&grp_type=ALL\n"
     ]
    },
    {
     "name": "stderr",
     "output_type": "stream",
     "text": [
      "CAISO Parallel:  70%|████████████████▋       | 835/1201 [02:17<00:48,  7.61it/s]"
     ]
    },
    {
     "name": "stdout",
     "output_type": "stream",
     "text": [
      "❌ Download error for 20240414: 429 Client Error: Too Many Requests for url: https://oasis.caiso.com/oasisapi/SingleZip?resultformat=6&queryname=PRC_LMP&version=12&market_run_id=DAM&startdatetime=20240414T08%3A00-0000&enddatetime=20240414T08%3A00-0000&grp_type=ALL\n",
      "❌ Download error for 20240415: 429 Client Error: Too Many Requests for url: https://oasis.caiso.com/oasisapi/SingleZip?resultformat=6&queryname=PRC_LMP&version=12&market_run_id=DAM&startdatetime=20240415T08%3A00-0000&enddatetime=20240415T08%3A00-0000&grp_type=ALL\n",
      "❌ Download error for 20240417: 429 Client Error: Too Many Requests for url: https://oasis.caiso.com/oasisapi/SingleZip?resultformat=6&queryname=PRC_LMP&version=12&market_run_id=DAM&startdatetime=20240417T08%3A00-0000&enddatetime=20240417T08%3A00-0000&grp_type=ALL\n",
      "❌ Download error for 20240418: 429 Client Error: Too Many Requests for url: https://oasis.caiso.com/oasisapi/SingleZip?resultformat=6&queryname=PRC_LMP&version=12&market_run_id=DAM&startdatetime=20240418T08%3A00-0000&enddatetime=20240418T08%3A00-0000&grp_type=ALL\n",
      "❌ Download error for 20240416: 429 Client Error: Too Many Requests for url: https://oasis.caiso.com/oasisapi/SingleZip?resultformat=6&queryname=PRC_LMP&version=12&market_run_id=DAM&startdatetime=20240416T08%3A00-0000&enddatetime=20240416T08%3A00-0000&grp_type=ALL\n"
     ]
    },
    {
     "name": "stderr",
     "output_type": "stream",
     "text": [
      "CAISO Parallel:  70%|████████████████▊       | 840/1201 [02:17<00:47,  7.67it/s]"
     ]
    },
    {
     "name": "stdout",
     "output_type": "stream",
     "text": [
      "❌ Download error for 20240419: 429 Client Error: Too Many Requests for url: https://oasis.caiso.com/oasisapi/SingleZip?resultformat=6&queryname=PRC_LMP&version=12&market_run_id=DAM&startdatetime=20240419T08%3A00-0000&enddatetime=20240419T08%3A00-0000&grp_type=ALL\n",
      "❌ Download error for 20240420: 429 Client Error: Too Many Requests for url: https://oasis.caiso.com/oasisapi/SingleZip?resultformat=6&queryname=PRC_LMP&version=12&market_run_id=DAM&startdatetime=20240420T08%3A00-0000&enddatetime=20240420T08%3A00-0000&grp_type=ALL\n",
      "❌ Download error for 20240421: 429 Client Error: Too Many Requests for url: https://oasis.caiso.com/oasisapi/SingleZip?resultformat=6&queryname=PRC_LMP&version=12&market_run_id=DAM&startdatetime=20240421T08%3A00-0000&enddatetime=20240421T08%3A00-0000&grp_type=ALL\n",
      "❌ Download error for 20240423: 429 Client Error: Too Many Requests for url: https://oasis.caiso.com/oasisapi/SingleZip?resultformat=6&queryname=PRC_LMP&version=12&market_run_id=DAM&startdatetime=20240423T08%3A00-0000&enddatetime=20240423T08%3A00-0000&grp_type=ALL\n",
      "❌ Download error for 20240422: 429 Client Error: Too Many Requests for url: https://oasis.caiso.com/oasisapi/SingleZip?resultformat=6&queryname=PRC_LMP&version=12&market_run_id=DAM&startdatetime=20240422T08%3A00-0000&enddatetime=20240422T08%3A00-0000&grp_type=ALL\n"
     ]
    },
    {
     "name": "stderr",
     "output_type": "stream",
     "text": [
      "CAISO Parallel:  70%|████████████████▊       | 844/1201 [02:18<00:51,  6.96it/s]"
     ]
    },
    {
     "name": "stdout",
     "output_type": "stream",
     "text": [
      "❌ Download error for 20240425: 429 Client Error: Too Many Requests for url: https://oasis.caiso.com/oasisapi/SingleZip?resultformat=6&queryname=PRC_LMP&version=12&market_run_id=DAM&startdatetime=20240425T08%3A00-0000&enddatetime=20240425T08%3A00-0000&grp_type=ALL\n",
      "❌ Download error for 20240426: 429 Client Error: Too Many Requests for url: https://oasis.caiso.com/oasisapi/SingleZip?resultformat=6&queryname=PRC_LMP&version=12&market_run_id=DAM&startdatetime=20240426T08%3A00-0000&enddatetime=20240426T08%3A00-0000&grp_type=ALL\n",
      "❌ Download error for 20240428: 429 Client Error: Too Many Requests for url: https://oasis.caiso.com/oasisapi/SingleZip?resultformat=6&queryname=PRC_LMP&version=12&market_run_id=DAM&startdatetime=20240428T08%3A00-0000&enddatetime=20240428T08%3A00-0000&grp_type=ALL\n",
      "❌ Download error for 20240427: 429 Client Error: Too Many Requests for url: https://oasis.caiso.com/oasisapi/SingleZip?resultformat=6&queryname=PRC_LMP&version=12&market_run_id=DAM&startdatetime=20240427T08%3A00-0000&enddatetime=20240427T08%3A00-0000&grp_type=ALL\n"
     ]
    },
    {
     "name": "stderr",
     "output_type": "stream",
     "text": [
      "CAISO Parallel:  71%|████████████████▉       | 848/1201 [02:18<00:52,  6.68it/s]"
     ]
    },
    {
     "name": "stdout",
     "output_type": "stream",
     "text": [
      "❌ Download error for 20240429: 429 Client Error: Too Many Requests for url: https://oasis.caiso.com/oasisapi/SingleZip?resultformat=6&queryname=PRC_LMP&version=12&market_run_id=DAM&startdatetime=20240429T08%3A00-0000&enddatetime=20240429T08%3A00-0000&grp_type=ALL\n",
      "❌ Download error for 20240502: 429 Client Error: Too Many Requests for url: https://oasis.caiso.com/oasisapi/SingleZip?resultformat=6&queryname=PRC_LMP&version=12&market_run_id=DAM&startdatetime=20240502T08%3A00-0000&enddatetime=20240502T08%3A00-0000&grp_type=ALL\n",
      "❌ Download error for 20240501: 429 Client Error: Too Many Requests for url: https://oasis.caiso.com/oasisapi/SingleZip?resultformat=6&queryname=PRC_LMP&version=12&market_run_id=DAM&startdatetime=20240501T08%3A00-0000&enddatetime=20240501T08%3A00-0000&grp_type=ALL\n",
      "❌ Download error for 20240430: 429 Client Error: Too Many Requests for url: https://oasis.caiso.com/oasisapi/SingleZip?resultformat=6&queryname=PRC_LMP&version=12&market_run_id=DAM&startdatetime=20240430T08%3A00-0000&enddatetime=20240430T08%3A00-0000&grp_type=ALL\n"
     ]
    },
    {
     "name": "stderr",
     "output_type": "stream",
     "text": [
      "CAISO Parallel:  71%|█████████████████       | 852/1201 [02:19<00:53,  6.52it/s]"
     ]
    },
    {
     "name": "stdout",
     "output_type": "stream",
     "text": [
      "❌ Download error for 20240503: 429 Client Error: Too Many Requests for url: https://oasis.caiso.com/oasisapi/SingleZip?resultformat=6&queryname=PRC_LMP&version=12&market_run_id=DAM&startdatetime=20240503T08%3A00-0000&enddatetime=20240503T08%3A00-0000&grp_type=ALL\n",
      "❌ Download error for 20240504: 429 Client Error: Too Many Requests for url: https://oasis.caiso.com/oasisapi/SingleZip?resultformat=6&queryname=PRC_LMP&version=12&market_run_id=DAM&startdatetime=20240504T08%3A00-0000&enddatetime=20240504T08%3A00-0000&grp_type=ALL\n",
      "❌ Download error for 20240505: 429 Client Error: Too Many Requests for url: https://oasis.caiso.com/oasisapi/SingleZip?resultformat=6&queryname=PRC_LMP&version=12&market_run_id=DAM&startdatetime=20240505T08%3A00-0000&enddatetime=20240505T08%3A00-0000&grp_type=ALL\n",
      "❌ Download error for 20240506: 429 Client Error: Too Many Requests for url: https://oasis.caiso.com/oasisapi/SingleZip?resultformat=6&queryname=PRC_LMP&version=12&market_run_id=DAM&startdatetime=20240506T08%3A00-0000&enddatetime=20240506T08%3A00-0000&grp_type=ALL\n"
     ]
    },
    {
     "name": "stderr",
     "output_type": "stream",
     "text": [
      "CAISO Parallel:  71%|█████████████████       | 856/1201 [02:20<00:53,  6.48it/s]"
     ]
    },
    {
     "name": "stdout",
     "output_type": "stream",
     "text": [
      "❌ Download error for 20240507: 429 Client Error: Too Many Requests for url: https://oasis.caiso.com/oasisapi/SingleZip?resultformat=6&queryname=PRC_LMP&version=12&market_run_id=DAM&startdatetime=20240507T08%3A00-0000&enddatetime=20240507T08%3A00-0000&grp_type=ALL\n",
      "❌ Download error for 20240508: 429 Client Error: Too Many Requests for url: https://oasis.caiso.com/oasisapi/SingleZip?resultformat=6&queryname=PRC_LMP&version=12&market_run_id=DAM&startdatetime=20240508T08%3A00-0000&enddatetime=20240508T08%3A00-0000&grp_type=ALL\n",
      "❌ Download error for 20240510: 429 Client Error: Too Many Requests for url: https://oasis.caiso.com/oasisapi/SingleZip?resultformat=6&queryname=PRC_LMP&version=12&market_run_id=DAM&startdatetime=20240510T08%3A00-0000&enddatetime=20240510T08%3A00-0000&grp_type=ALL\n",
      "❌ Download error for 20240509: 429 Client Error: Too Many Requests for url: https://oasis.caiso.com/oasisapi/SingleZip?resultformat=6&queryname=PRC_LMP&version=12&market_run_id=DAM&startdatetime=20240509T08%3A00-0000&enddatetime=20240509T08%3A00-0000&grp_type=ALL\n"
     ]
    },
    {
     "name": "stderr",
     "output_type": "stream",
     "text": [
      "CAISO Parallel:  72%|█████████████████▏      | 860/1201 [02:20<00:53,  6.37it/s]"
     ]
    },
    {
     "name": "stdout",
     "output_type": "stream",
     "text": [
      "❌ Download error for 20240511: 429 Client Error: Too Many Requests for url: https://oasis.caiso.com/oasisapi/SingleZip?resultformat=6&queryname=PRC_LMP&version=12&market_run_id=DAM&startdatetime=20240511T08%3A00-0000&enddatetime=20240511T08%3A00-0000&grp_type=ALL\n",
      "❌ Download error for 20240513: 429 Client Error: Too Many Requests for url: https://oasis.caiso.com/oasisapi/SingleZip?resultformat=6&queryname=PRC_LMP&version=12&market_run_id=DAM&startdatetime=20240513T08%3A00-0000&enddatetime=20240513T08%3A00-0000&grp_type=ALL\n",
      "❌ Download error for 20240514: 429 Client Error: Too Many Requests for url: https://oasis.caiso.com/oasisapi/SingleZip?resultformat=6&queryname=PRC_LMP&version=12&market_run_id=DAM&startdatetime=20240514T08%3A00-0000&enddatetime=20240514T08%3A00-0000&grp_type=ALL\n",
      "❌ Download error for 20240512: 429 Client Error: Too Many Requests for url: https://oasis.caiso.com/oasisapi/SingleZip?resultformat=6&queryname=PRC_LMP&version=12&market_run_id=DAM&startdatetime=20240512T08%3A00-0000&enddatetime=20240512T08%3A00-0000&grp_type=ALL\n"
     ]
    },
    {
     "name": "stderr",
     "output_type": "stream",
     "text": [
      "CAISO Parallel:  72%|█████████████████▎      | 864/1201 [02:21<00:53,  6.32it/s]"
     ]
    },
    {
     "name": "stdout",
     "output_type": "stream",
     "text": [
      "❌ Download error for 20240515: 429 Client Error: Too Many Requests for url: https://oasis.caiso.com/oasisapi/SingleZip?resultformat=6&queryname=PRC_LMP&version=12&market_run_id=DAM&startdatetime=20240515T08%3A00-0000&enddatetime=20240515T08%3A00-0000&grp_type=ALL\n",
      "❌ Download error for 20240518: 429 Client Error: Too Many Requests for url: https://oasis.caiso.com/oasisapi/SingleZip?resultformat=6&queryname=PRC_LMP&version=12&market_run_id=DAM&startdatetime=20240518T08%3A00-0000&enddatetime=20240518T08%3A00-0000&grp_type=ALL\n",
      "❌ Download error for 20240516: 429 Client Error: Too Many Requests for url: https://oasis.caiso.com/oasisapi/SingleZip?resultformat=6&queryname=PRC_LMP&version=12&market_run_id=DAM&startdatetime=20240516T08%3A00-0000&enddatetime=20240516T08%3A00-0000&grp_type=ALL\n",
      "❌ Download error for 20240517: 429 Client Error: Too Many Requests for url: https://oasis.caiso.com/oasisapi/SingleZip?resultformat=6&queryname=PRC_LMP&version=12&market_run_id=DAM&startdatetime=20240517T08%3A00-0000&enddatetime=20240517T08%3A00-0000&grp_type=ALL\n"
     ]
    },
    {
     "name": "stderr",
     "output_type": "stream",
     "text": [
      "CAISO Parallel:  72%|█████████████████▎      | 868/1201 [02:22<00:52,  6.31it/s]"
     ]
    },
    {
     "name": "stdout",
     "output_type": "stream",
     "text": [
      "❌ Download error for 20240519: 429 Client Error: Too Many Requests for url: https://oasis.caiso.com/oasisapi/SingleZip?resultformat=6&queryname=PRC_LMP&version=12&market_run_id=DAM&startdatetime=20240519T08%3A00-0000&enddatetime=20240519T08%3A00-0000&grp_type=ALL\n",
      "❌ Download error for 20240521: 429 Client Error: Too Many Requests for url: https://oasis.caiso.com/oasisapi/SingleZip?resultformat=6&queryname=PRC_LMP&version=12&market_run_id=DAM&startdatetime=20240521T08%3A00-0000&enddatetime=20240521T08%3A00-0000&grp_type=ALL\n",
      "❌ Download error for 20240522: 429 Client Error: Too Many Requests for url: https://oasis.caiso.com/oasisapi/SingleZip?resultformat=6&queryname=PRC_LMP&version=12&market_run_id=DAM&startdatetime=20240522T08%3A00-0000&enddatetime=20240522T08%3A00-0000&grp_type=ALL\n",
      "❌ Download error for 20240520: 429 Client Error: Too Many Requests for url: https://oasis.caiso.com/oasisapi/SingleZip?resultformat=6&queryname=PRC_LMP&version=12&market_run_id=DAM&startdatetime=20240520T08%3A00-0000&enddatetime=20240520T08%3A00-0000&grp_type=ALL\n"
     ]
    },
    {
     "name": "stderr",
     "output_type": "stream",
     "text": [
      "CAISO Parallel:  73%|█████████████████▍      | 872/1201 [02:22<00:52,  6.30it/s]"
     ]
    },
    {
     "name": "stdout",
     "output_type": "stream",
     "text": [
      "❌ Download error for 20240523: 429 Client Error: Too Many Requests for url: https://oasis.caiso.com/oasisapi/SingleZip?resultformat=6&queryname=PRC_LMP&version=12&market_run_id=DAM&startdatetime=20240523T08%3A00-0000&enddatetime=20240523T08%3A00-0000&grp_type=ALL\n",
      "❌ Download error for 20240525: 429 Client Error: Too Many Requests for url: https://oasis.caiso.com/oasisapi/SingleZip?resultformat=6&queryname=PRC_LMP&version=12&market_run_id=DAM&startdatetime=20240525T08%3A00-0000&enddatetime=20240525T08%3A00-0000&grp_type=ALL\n",
      "❌ Download error for 20240524: 429 Client Error: Too Many Requests for url: https://oasis.caiso.com/oasisapi/SingleZip?resultformat=6&queryname=PRC_LMP&version=12&market_run_id=DAM&startdatetime=20240524T08%3A00-0000&enddatetime=20240524T08%3A00-0000&grp_type=ALL\n",
      "❌ Download error for 20240526: 429 Client Error: Too Many Requests for url: https://oasis.caiso.com/oasisapi/SingleZip?resultformat=6&queryname=PRC_LMP&version=12&market_run_id=DAM&startdatetime=20240526T08%3A00-0000&enddatetime=20240526T08%3A00-0000&grp_type=ALL\n"
     ]
    },
    {
     "name": "stderr",
     "output_type": "stream",
     "text": [
      "CAISO Parallel:  73%|█████████████████▌      | 876/1201 [02:23<00:51,  6.30it/s]"
     ]
    },
    {
     "name": "stdout",
     "output_type": "stream",
     "text": [
      "❌ Download error for 20240527: 429 Client Error: Too Many Requests for url: https://oasis.caiso.com/oasisapi/SingleZip?resultformat=6&queryname=PRC_LMP&version=12&market_run_id=DAM&startdatetime=20240527T08%3A00-0000&enddatetime=20240527T08%3A00-0000&grp_type=ALL❌ Download error for 20240528: 429 Client Error: Too Many Requests for url: https://oasis.caiso.com/oasisapi/SingleZip?resultformat=6&queryname=PRC_LMP&version=12&market_run_id=DAM&startdatetime=20240528T08%3A00-0000&enddatetime=20240528T08%3A00-0000&grp_type=ALL\n",
      "\n",
      "❌ Download error for 20240530: 429 Client Error: Too Many Requests for url: https://oasis.caiso.com/oasisapi/SingleZip?resultformat=6&queryname=PRC_LMP&version=12&market_run_id=DAM&startdatetime=20240530T08%3A00-0000&enddatetime=20240530T08%3A00-0000&grp_type=ALL\n",
      "❌ Download error for 20240529: 429 Client Error: Too Many Requests for url: https://oasis.caiso.com/oasisapi/SingleZip?resultformat=6&queryname=PRC_LMP&version=12&market_run_id=DAM&startdatetime=20240529T08%3A00-0000&enddatetime=20240529T08%3A00-0000&grp_type=ALL\n"
     ]
    },
    {
     "name": "stderr",
     "output_type": "stream",
     "text": [
      "CAISO Parallel:  73%|█████████████████▌      | 881/1201 [02:24<00:47,  6.68it/s]"
     ]
    },
    {
     "name": "stdout",
     "output_type": "stream",
     "text": [
      "❌ Download error for 20240603: 429 Client Error: Too Many Requests for url: https://oasis.caiso.com/oasisapi/SingleZip?resultformat=6&queryname=PRC_LMP&version=12&market_run_id=DAM&startdatetime=20240603T08%3A00-0000&enddatetime=20240603T08%3A00-0000&grp_type=ALL❌ Download error for 20240531: 429 Client Error: Too Many Requests for url: https://oasis.caiso.com/oasisapi/SingleZip?resultformat=6&queryname=PRC_LMP&version=12&market_run_id=DAM&startdatetime=20240531T08%3A00-0000&enddatetime=20240531T08%3A00-0000&grp_type=ALL\n",
      "\n",
      "❌ Download error for 20240601: 429 Client Error: Too Many Requests for url: https://oasis.caiso.com/oasisapi/SingleZip?resultformat=6&queryname=PRC_LMP&version=12&market_run_id=DAM&startdatetime=20240601T08%3A00-0000&enddatetime=20240601T08%3A00-0000&grp_type=ALL\n",
      "❌ Download error for 20240604: 429 Client Error: Too Many Requests for url: https://oasis.caiso.com/oasisapi/SingleZip?resultformat=6&queryname=PRC_LMP&version=12&market_run_id=DAM&startdatetime=20240604T08%3A00-0000&enddatetime=20240604T08%3A00-0000&grp_type=ALL\n"
     ]
    },
    {
     "name": "stderr",
     "output_type": "stream",
     "text": [
      "CAISO Parallel:  74%|█████████████████▋      | 885/1201 [02:24<00:48,  6.58it/s]"
     ]
    },
    {
     "name": "stdout",
     "output_type": "stream",
     "text": [
      "❌ Download error for 20240605: 429 Client Error: Too Many Requests for url: https://oasis.caiso.com/oasisapi/SingleZip?resultformat=6&queryname=PRC_LMP&version=12&market_run_id=DAM&startdatetime=20240605T08%3A00-0000&enddatetime=20240605T08%3A00-0000&grp_type=ALL\n",
      "❌ Download error for 20240606: 429 Client Error: Too Many Requests for url: https://oasis.caiso.com/oasisapi/SingleZip?resultformat=6&queryname=PRC_LMP&version=12&market_run_id=DAM&startdatetime=20240606T08%3A00-0000&enddatetime=20240606T08%3A00-0000&grp_type=ALL\n",
      "❌ Download error for 20240607: 429 Client Error: Too Many Requests for url: https://oasis.caiso.com/oasisapi/SingleZip?resultformat=6&queryname=PRC_LMP&version=12&market_run_id=DAM&startdatetime=20240607T08%3A00-0000&enddatetime=20240607T08%3A00-0000&grp_type=ALL\n",
      "❌ Download error for 20240608: 429 Client Error: Too Many Requests for url: https://oasis.caiso.com/oasisapi/SingleZip?resultformat=6&queryname=PRC_LMP&version=12&market_run_id=DAM&startdatetime=20240608T08%3A00-0000&enddatetime=20240608T08%3A00-0000&grp_type=ALL\n"
     ]
    },
    {
     "name": "stderr",
     "output_type": "stream",
     "text": [
      "CAISO Parallel:  74%|█████████████████▊      | 889/1201 [02:25<00:48,  6.45it/s]"
     ]
    },
    {
     "name": "stdout",
     "output_type": "stream",
     "text": [
      "❌ Download error for 20240610: 429 Client Error: Too Many Requests for url: https://oasis.caiso.com/oasisapi/SingleZip?resultformat=6&queryname=PRC_LMP&version=12&market_run_id=DAM&startdatetime=20240610T08%3A00-0000&enddatetime=20240610T08%3A00-0000&grp_type=ALL❌ Download error for 20240609: 429 Client Error: Too Many Requests for url: https://oasis.caiso.com/oasisapi/SingleZip?resultformat=6&queryname=PRC_LMP&version=12&market_run_id=DAM&startdatetime=20240609T08%3A00-0000&enddatetime=20240609T08%3A00-0000&grp_type=ALL\n",
      "\n",
      "❌ Download error for 20240611: 429 Client Error: Too Many Requests for url: https://oasis.caiso.com/oasisapi/SingleZip?resultformat=6&queryname=PRC_LMP&version=12&market_run_id=DAM&startdatetime=20240611T08%3A00-0000&enddatetime=20240611T08%3A00-0000&grp_type=ALL\n",
      "❌ Download error for 20240612: 429 Client Error: Too Many Requests for url: https://oasis.caiso.com/oasisapi/SingleZip?resultformat=6&queryname=PRC_LMP&version=12&market_run_id=DAM&startdatetime=20240612T08%3A00-0000&enddatetime=20240612T08%3A00-0000&grp_type=ALL\n"
     ]
    },
    {
     "name": "stderr",
     "output_type": "stream",
     "text": [
      "CAISO Parallel:  74%|█████████████████▊      | 893/1201 [02:26<00:48,  6.39it/s]"
     ]
    },
    {
     "name": "stdout",
     "output_type": "stream",
     "text": [
      "❌ Download error for 20240613: 429 Client Error: Too Many Requests for url: https://oasis.caiso.com/oasisapi/SingleZip?resultformat=6&queryname=PRC_LMP&version=12&market_run_id=DAM&startdatetime=20240613T08%3A00-0000&enddatetime=20240613T08%3A00-0000&grp_type=ALL❌ Download error for 20240615: 429 Client Error: Too Many Requests for url: https://oasis.caiso.com/oasisapi/SingleZip?resultformat=6&queryname=PRC_LMP&version=12&market_run_id=DAM&startdatetime=20240615T08%3A00-0000&enddatetime=20240615T08%3A00-0000&grp_type=ALL\n",
      "❌ Download error for 20240614: 429 Client Error: Too Many Requests for url: https://oasis.caiso.com/oasisapi/SingleZip?resultformat=6&queryname=PRC_LMP&version=12&market_run_id=DAM&startdatetime=20240614T08%3A00-0000&enddatetime=20240614T08%3A00-0000&grp_type=ALL\n",
      "\n",
      "❌ Download error for 20240616: 429 Client Error: Too Many Requests for url: https://oasis.caiso.com/oasisapi/SingleZip?resultformat=6&queryname=PRC_LMP&version=12&market_run_id=DAM&startdatetime=20240616T08%3A00-0000&enddatetime=20240616T08%3A00-0000&grp_type=ALL\n"
     ]
    },
    {
     "name": "stderr",
     "output_type": "stream",
     "text": [
      "CAISO Parallel:  75%|█████████████████▉      | 897/1201 [02:26<00:48,  6.32it/s]"
     ]
    },
    {
     "name": "stdout",
     "output_type": "stream",
     "text": [
      "❌ Download error for 20240618: 429 Client Error: Too Many Requests for url: https://oasis.caiso.com/oasisapi/SingleZip?resultformat=6&queryname=PRC_LMP&version=12&market_run_id=DAM&startdatetime=20240618T08%3A00-0000&enddatetime=20240618T08%3A00-0000&grp_type=ALL\n",
      "❌ Download error for 20240619: 429 Client Error: Too Many Requests for url: https://oasis.caiso.com/oasisapi/SingleZip?resultformat=6&queryname=PRC_LMP&version=12&market_run_id=DAM&startdatetime=20240619T08%3A00-0000&enddatetime=20240619T08%3A00-0000&grp_type=ALL\n",
      "❌ Download error for 20240617: 429 Client Error: Too Many Requests for url: https://oasis.caiso.com/oasisapi/SingleZip?resultformat=6&queryname=PRC_LMP&version=12&market_run_id=DAM&startdatetime=20240617T08%3A00-0000&enddatetime=20240617T08%3A00-0000&grp_type=ALL\n",
      "❌ Download error for 20240620: 429 Client Error: Too Many Requests for url: https://oasis.caiso.com/oasisapi/SingleZip?resultformat=6&queryname=PRC_LMP&version=12&market_run_id=DAM&startdatetime=20240620T08%3A00-0000&enddatetime=20240620T08%3A00-0000&grp_type=ALL\n"
     ]
    },
    {
     "name": "stderr",
     "output_type": "stream",
     "text": [
      "CAISO Parallel:  75%|██████████████████      | 901/1201 [02:27<00:47,  6.30it/s]"
     ]
    },
    {
     "name": "stdout",
     "output_type": "stream",
     "text": [
      "❌ Download error for 20240623: 429 Client Error: Too Many Requests for url: https://oasis.caiso.com/oasisapi/SingleZip?resultformat=6&queryname=PRC_LMP&version=12&market_run_id=DAM&startdatetime=20240623T08%3A00-0000&enddatetime=20240623T08%3A00-0000&grp_type=ALL\n",
      "❌ Download error for 20240622: 429 Client Error: Too Many Requests for url: https://oasis.caiso.com/oasisapi/SingleZip?resultformat=6&queryname=PRC_LMP&version=12&market_run_id=DAM&startdatetime=20240622T08%3A00-0000&enddatetime=20240622T08%3A00-0000&grp_type=ALL\n",
      "❌ Download error for 20240621: 429 Client Error: Too Many Requests for url: https://oasis.caiso.com/oasisapi/SingleZip?resultformat=6&queryname=PRC_LMP&version=12&market_run_id=DAM&startdatetime=20240621T08%3A00-0000&enddatetime=20240621T08%3A00-0000&grp_type=ALL\n",
      "❌ Download error for 20240624: 429 Client Error: Too Many Requests for url: https://oasis.caiso.com/oasisapi/SingleZip?resultformat=6&queryname=PRC_LMP&version=12&market_run_id=DAM&startdatetime=20240624T08%3A00-0000&enddatetime=20240624T08%3A00-0000&grp_type=ALL\n"
     ]
    },
    {
     "name": "stderr",
     "output_type": "stream",
     "text": [
      "CAISO Parallel:  75%|██████████████████      | 905/1201 [02:27<00:47,  6.29it/s]"
     ]
    },
    {
     "name": "stdout",
     "output_type": "stream",
     "text": [
      "❌ Download error for 20240627: 429 Client Error: Too Many Requests for url: https://oasis.caiso.com/oasisapi/SingleZip?resultformat=6&queryname=PRC_LMP&version=12&market_run_id=DAM&startdatetime=20240627T08%3A00-0000&enddatetime=20240627T08%3A00-0000&grp_type=ALL❌ Download error for 20240625: 429 Client Error: Too Many Requests for url: https://oasis.caiso.com/oasisapi/SingleZip?resultformat=6&queryname=PRC_LMP&version=12&market_run_id=DAM&startdatetime=20240625T08%3A00-0000&enddatetime=20240625T08%3A00-0000&grp_type=ALL\n",
      "\n",
      "❌ Download error for 20240626: 429 Client Error: Too Many Requests for url: https://oasis.caiso.com/oasisapi/SingleZip?resultformat=6&queryname=PRC_LMP&version=12&market_run_id=DAM&startdatetime=20240626T08%3A00-0000&enddatetime=20240626T08%3A00-0000&grp_type=ALL\n",
      "❌ Download error for 20240628: 429 Client Error: Too Many Requests for url: https://oasis.caiso.com/oasisapi/SingleZip?resultformat=6&queryname=PRC_LMP&version=12&market_run_id=DAM&startdatetime=20240628T08%3A00-0000&enddatetime=20240628T08%3A00-0000&grp_type=ALL\n"
     ]
    },
    {
     "name": "stderr",
     "output_type": "stream",
     "text": [
      "CAISO Parallel:  76%|██████████████████▏     | 909/1201 [02:28<00:46,  6.25it/s]"
     ]
    },
    {
     "name": "stdout",
     "output_type": "stream",
     "text": [
      "❌ Download error for 20240701: 429 Client Error: Too Many Requests for url: https://oasis.caiso.com/oasisapi/SingleZip?resultformat=6&queryname=PRC_LMP&version=12&market_run_id=DAM&startdatetime=20240701T08%3A00-0000&enddatetime=20240701T08%3A00-0000&grp_type=ALL❌ Download error for 20240629: 429 Client Error: Too Many Requests for url: https://oasis.caiso.com/oasisapi/SingleZip?resultformat=6&queryname=PRC_LMP&version=12&market_run_id=DAM&startdatetime=20240629T08%3A00-0000&enddatetime=20240629T08%3A00-0000&grp_type=ALL\n",
      "❌ Download error for 20240630: 429 Client Error: Too Many Requests for url: https://oasis.caiso.com/oasisapi/SingleZip?resultformat=6&queryname=PRC_LMP&version=12&market_run_id=DAM&startdatetime=20240630T08%3A00-0000&enddatetime=20240630T08%3A00-0000&grp_type=ALL\n",
      "\n",
      "❌ Download error for 20240702: 429 Client Error: Too Many Requests for url: https://oasis.caiso.com/oasisapi/SingleZip?resultformat=6&queryname=PRC_LMP&version=12&market_run_id=DAM&startdatetime=20240702T08%3A00-0000&enddatetime=20240702T08%3A00-0000&grp_type=ALL\n"
     ]
    },
    {
     "name": "stderr",
     "output_type": "stream",
     "text": [
      "CAISO Parallel:  76%|██████████████████▏     | 913/1201 [02:29<00:46,  6.23it/s]"
     ]
    },
    {
     "name": "stdout",
     "output_type": "stream",
     "text": [
      "❌ Download error for 20240706: 429 Client Error: Too Many Requests for url: https://oasis.caiso.com/oasisapi/SingleZip?resultformat=6&queryname=PRC_LMP&version=12&market_run_id=DAM&startdatetime=20240706T08%3A00-0000&enddatetime=20240706T08%3A00-0000&grp_type=ALL❌ Download error for 20240705: 429 Client Error: Too Many Requests for url: https://oasis.caiso.com/oasisapi/SingleZip?resultformat=6&queryname=PRC_LMP&version=12&market_run_id=DAM&startdatetime=20240705T08%3A00-0000&enddatetime=20240705T08%3A00-0000&grp_type=ALL\n",
      "\n",
      "❌ Download error for 20240703: 429 Client Error: Too Many Requests for url: https://oasis.caiso.com/oasisapi/SingleZip?resultformat=6&queryname=PRC_LMP&version=12&market_run_id=DAM&startdatetime=20240703T08%3A00-0000&enddatetime=20240703T08%3A00-0000&grp_type=ALL\n",
      "❌ Download error for 20240704: 429 Client Error: Too Many Requests for url: https://oasis.caiso.com/oasisapi/SingleZip?resultformat=6&queryname=PRC_LMP&version=12&market_run_id=DAM&startdatetime=20240704T08%3A00-0000&enddatetime=20240704T08%3A00-0000&grp_type=ALL\n"
     ]
    },
    {
     "name": "stderr",
     "output_type": "stream",
     "text": [
      "CAISO Parallel:  76%|██████████████████▎     | 917/1201 [02:29<00:45,  6.20it/s]"
     ]
    },
    {
     "name": "stdout",
     "output_type": "stream",
     "text": [
      "❌ Download error for 20240708: 429 Client Error: Too Many Requests for url: https://oasis.caiso.com/oasisapi/SingleZip?resultformat=6&queryname=PRC_LMP&version=12&market_run_id=DAM&startdatetime=20240708T08%3A00-0000&enddatetime=20240708T08%3A00-0000&grp_type=ALL❌ Download error for 20240709: 429 Client Error: Too Many Requests for url: https://oasis.caiso.com/oasisapi/SingleZip?resultformat=6&queryname=PRC_LMP&version=12&market_run_id=DAM&startdatetime=20240709T08%3A00-0000&enddatetime=20240709T08%3A00-0000&grp_type=ALL\n",
      "❌ Download error for 20240707: 429 Client Error: Too Many Requests for url: https://oasis.caiso.com/oasisapi/SingleZip?resultformat=6&queryname=PRC_LMP&version=12&market_run_id=DAM&startdatetime=20240707T08%3A00-0000&enddatetime=20240707T08%3A00-0000&grp_type=ALL\n",
      "\n",
      "❌ Download error for 20240710: 429 Client Error: Too Many Requests for url: https://oasis.caiso.com/oasisapi/SingleZip?resultformat=6&queryname=PRC_LMP&version=12&market_run_id=DAM&startdatetime=20240710T08%3A00-0000&enddatetime=20240710T08%3A00-0000&grp_type=ALL\n"
     ]
    },
    {
     "name": "stderr",
     "output_type": "stream",
     "text": [
      "CAISO Parallel:  77%|██████████████████▍     | 921/1201 [02:30<00:45,  6.20it/s]"
     ]
    },
    {
     "name": "stdout",
     "output_type": "stream",
     "text": [
      "❌ Download error for 20240714: 429 Client Error: Too Many Requests for url: https://oasis.caiso.com/oasisapi/SingleZip?resultformat=6&queryname=PRC_LMP&version=12&market_run_id=DAM&startdatetime=20240714T08%3A00-0000&enddatetime=20240714T08%3A00-0000&grp_type=ALL❌ Download error for 20240712: 429 Client Error: Too Many Requests for url: https://oasis.caiso.com/oasisapi/SingleZip?resultformat=6&queryname=PRC_LMP&version=12&market_run_id=DAM&startdatetime=20240712T08%3A00-0000&enddatetime=20240712T08%3A00-0000&grp_type=ALL\n",
      "❌ Download error for 20240713: 429 Client Error: Too Many Requests for url: https://oasis.caiso.com/oasisapi/SingleZip?resultformat=6&queryname=PRC_LMP&version=12&market_run_id=DAM&startdatetime=20240713T08%3A00-0000&enddatetime=20240713T08%3A00-0000&grp_type=ALL\n",
      "\n"
     ]
    },
    {
     "name": "stderr",
     "output_type": "stream",
     "text": [
      "CAISO Parallel:  77%|██████████████████▍     | 924/1201 [02:31<00:48,  5.72it/s]"
     ]
    },
    {
     "name": "stdout",
     "output_type": "stream",
     "text": [
      "❌ Download error for 20240715: 429 Client Error: Too Many Requests for url: https://oasis.caiso.com/oasisapi/SingleZip?resultformat=6&queryname=PRC_LMP&version=12&market_run_id=DAM&startdatetime=20240715T08%3A00-0000&enddatetime=20240715T08%3A00-0000&grp_type=ALL❌ Download error for 20240717: 429 Client Error: Too Many Requests for url: https://oasis.caiso.com/oasisapi/SingleZip?resultformat=6&queryname=PRC_LMP&version=12&market_run_id=DAM&startdatetime=20240717T08%3A00-0000&enddatetime=20240717T08%3A00-0000&grp_type=ALL\n",
      "❌ Download error for 20240716: 429 Client Error: Too Many Requests for url: https://oasis.caiso.com/oasisapi/SingleZip?resultformat=6&queryname=PRC_LMP&version=12&market_run_id=DAM&startdatetime=20240716T08%3A00-0000&enddatetime=20240716T08%3A00-0000&grp_type=ALL\n",
      "\n"
     ]
    },
    {
     "name": "stderr",
     "output_type": "stream",
     "text": [
      "CAISO Parallel:  77%|██████████████████▌     | 928/1201 [02:31<00:46,  5.86it/s]"
     ]
    },
    {
     "name": "stdout",
     "output_type": "stream",
     "text": [
      "❌ Download error for 20240719: 429 Client Error: Too Many Requests for url: https://oasis.caiso.com/oasisapi/SingleZip?resultformat=6&queryname=PRC_LMP&version=12&market_run_id=DAM&startdatetime=20240719T08%3A00-0000&enddatetime=20240719T08%3A00-0000&grp_type=ALL❌ Download error for 20240720: 429 Client Error: Too Many Requests for url: https://oasis.caiso.com/oasisapi/SingleZip?resultformat=6&queryname=PRC_LMP&version=12&market_run_id=DAM&startdatetime=20240720T08%3A00-0000&enddatetime=20240720T08%3A00-0000&grp_type=ALL\n",
      "\n",
      "❌ Download error for 20240718: 429 Client Error: Too Many Requests for url: https://oasis.caiso.com/oasisapi/SingleZip?resultformat=6&queryname=PRC_LMP&version=12&market_run_id=DAM&startdatetime=20240718T08%3A00-0000&enddatetime=20240718T08%3A00-0000&grp_type=ALL\n"
     ]
    },
    {
     "name": "stderr",
     "output_type": "stream",
     "text": [
      "CAISO Parallel:  78%|██████████████████▌     | 931/1201 [02:32<00:43,  6.16it/s]"
     ]
    },
    {
     "name": "stdout",
     "output_type": "stream",
     "text": [
      "❌ Download error for 20240721: 429 Client Error: Too Many Requests for url: https://oasis.caiso.com/oasisapi/SingleZip?resultformat=6&queryname=PRC_LMP&version=12&market_run_id=DAM&startdatetime=20240721T08%3A00-0000&enddatetime=20240721T08%3A00-0000&grp_type=ALL\n"
     ]
    },
    {
     "name": "stderr",
     "output_type": "stream",
     "text": [
      "CAISO Parallel:  78%|██████████████████▌     | 932/1201 [02:32<00:45,  5.92it/s]"
     ]
    },
    {
     "name": "stdout",
     "output_type": "stream",
     "text": [
      "❌ Download error for 20240722: 429 Client Error: Too Many Requests for url: https://oasis.caiso.com/oasisapi/SingleZip?resultformat=6&queryname=PRC_LMP&version=12&market_run_id=DAM&startdatetime=20240722T08%3A00-0000&enddatetime=20240722T08%3A00-0000&grp_type=ALL❌ Download error for 20240723: 429 Client Error: Too Many Requests for url: https://oasis.caiso.com/oasisapi/SingleZip?resultformat=6&queryname=PRC_LMP&version=12&market_run_id=DAM&startdatetime=20240723T08%3A00-0000&enddatetime=20240723T08%3A00-0000&grp_type=ALL\n",
      "\n",
      "❌ Download error for 20240724: 429 Client Error: Too Many Requests for url: https://oasis.caiso.com/oasisapi/SingleZip?resultformat=6&queryname=PRC_LMP&version=12&market_run_id=DAM&startdatetime=20240724T08%3A00-0000&enddatetime=20240724T08%3A00-0000&grp_type=ALL\n"
     ]
    },
    {
     "name": "stderr",
     "output_type": "stream",
     "text": [
      "CAISO Parallel:  78%|██████████████████▋     | 935/1201 [02:32<00:42,  6.27it/s]"
     ]
    },
    {
     "name": "stdout",
     "output_type": "stream",
     "text": [
      "❌ Download error for 20240725: 429 Client Error: Too Many Requests for url: https://oasis.caiso.com/oasisapi/SingleZip?resultformat=6&queryname=PRC_LMP&version=12&market_run_id=DAM&startdatetime=20240725T08%3A00-0000&enddatetime=20240725T08%3A00-0000&grp_type=ALL\n"
     ]
    },
    {
     "name": "stderr",
     "output_type": "stream",
     "text": [
      "CAISO Parallel:  78%|██████████████████▋     | 936/1201 [02:33<00:44,  6.00it/s]"
     ]
    },
    {
     "name": "stdout",
     "output_type": "stream",
     "text": [
      "❌ Download error for 20240727: 429 Client Error: Too Many Requests for url: https://oasis.caiso.com/oasisapi/SingleZip?resultformat=6&queryname=PRC_LMP&version=12&market_run_id=DAM&startdatetime=20240727T08%3A00-0000&enddatetime=20240727T08%3A00-0000&grp_type=ALL❌ Download error for 20240726: 429 Client Error: Too Many Requests for url: https://oasis.caiso.com/oasisapi/SingleZip?resultformat=6&queryname=PRC_LMP&version=12&market_run_id=DAM&startdatetime=20240726T08%3A00-0000&enddatetime=20240726T08%3A00-0000&grp_type=ALL\n",
      "\n",
      "❌ Download error for 20240728: 429 Client Error: Too Many Requests for url: https://oasis.caiso.com/oasisapi/SingleZip?resultformat=6&queryname=PRC_LMP&version=12&market_run_id=DAM&startdatetime=20240728T08%3A00-0000&enddatetime=20240728T08%3A00-0000&grp_type=ALL\n"
     ]
    },
    {
     "name": "stderr",
     "output_type": "stream",
     "text": [
      "CAISO Parallel:  78%|██████████████████▊     | 939/1201 [02:33<00:41,  6.33it/s]"
     ]
    },
    {
     "name": "stdout",
     "output_type": "stream",
     "text": [
      "❌ Download error for 20240729: 429 Client Error: Too Many Requests for url: https://oasis.caiso.com/oasisapi/SingleZip?resultformat=6&queryname=PRC_LMP&version=12&market_run_id=DAM&startdatetime=20240729T08%3A00-0000&enddatetime=20240729T08%3A00-0000&grp_type=ALL\n"
     ]
    },
    {
     "name": "stderr",
     "output_type": "stream",
     "text": [
      "CAISO Parallel:  78%|██████████████████▊     | 940/1201 [02:33<00:43,  6.02it/s]"
     ]
    },
    {
     "name": "stdout",
     "output_type": "stream",
     "text": [
      "❌ Download error for 20240731: 429 Client Error: Too Many Requests for url: https://oasis.caiso.com/oasisapi/SingleZip?resultformat=6&queryname=PRC_LMP&version=12&market_run_id=DAM&startdatetime=20240731T08%3A00-0000&enddatetime=20240731T08%3A00-0000&grp_type=ALL❌ Download error for 20240801: 429 Client Error: Too Many Requests for url: https://oasis.caiso.com/oasisapi/SingleZip?resultformat=6&queryname=PRC_LMP&version=12&market_run_id=DAM&startdatetime=20240801T08%3A00-0000&enddatetime=20240801T08%3A00-0000&grp_type=ALL\n",
      "❌ Download error for 20240730: 429 Client Error: Too Many Requests for url: https://oasis.caiso.com/oasisapi/SingleZip?resultformat=6&queryname=PRC_LMP&version=12&market_run_id=DAM&startdatetime=20240730T08%3A00-0000&enddatetime=20240730T08%3A00-0000&grp_type=ALL\n",
      "\n"
     ]
    },
    {
     "name": "stderr",
     "output_type": "stream",
     "text": [
      "CAISO Parallel:  79%|██████████████████▊     | 943/1201 [02:34<00:40,  6.35it/s]"
     ]
    },
    {
     "name": "stdout",
     "output_type": "stream",
     "text": [
      "❌ Download error for 20240802: 429 Client Error: Too Many Requests for url: https://oasis.caiso.com/oasisapi/SingleZip?resultformat=6&queryname=PRC_LMP&version=12&market_run_id=DAM&startdatetime=20240802T08%3A00-0000&enddatetime=20240802T08%3A00-0000&grp_type=ALL\n"
     ]
    },
    {
     "name": "stderr",
     "output_type": "stream",
     "text": [
      "CAISO Parallel:  79%|██████████████████▊     | 944/1201 [02:34<00:42,  5.99it/s]"
     ]
    },
    {
     "name": "stdout",
     "output_type": "stream",
     "text": [
      "❌ Download error for 20240805: 429 Client Error: Too Many Requests for url: https://oasis.caiso.com/oasisapi/SingleZip?resultformat=6&queryname=PRC_LMP&version=12&market_run_id=DAM&startdatetime=20240805T08%3A00-0000&enddatetime=20240805T08%3A00-0000&grp_type=ALL❌ Download error for 20240803: 429 Client Error: Too Many Requests for url: https://oasis.caiso.com/oasisapi/SingleZip?resultformat=6&queryname=PRC_LMP&version=12&market_run_id=DAM&startdatetime=20240803T08%3A00-0000&enddatetime=20240803T08%3A00-0000&grp_type=ALL\n",
      "❌ Download error for 20240804: 429 Client Error: Too Many Requests for url: https://oasis.caiso.com/oasisapi/SingleZip?resultformat=6&queryname=PRC_LMP&version=12&market_run_id=DAM&startdatetime=20240804T08%3A00-0000&enddatetime=20240804T08%3A00-0000&grp_type=ALL\n",
      "\n"
     ]
    },
    {
     "name": "stderr",
     "output_type": "stream",
     "text": [
      "CAISO Parallel:  79%|██████████████████▉     | 948/1201 [02:34<00:39,  6.46it/s]"
     ]
    },
    {
     "name": "stdout",
     "output_type": "stream",
     "text": [
      "❌ Download error for 20240806: 429 Client Error: Too Many Requests for url: https://oasis.caiso.com/oasisapi/SingleZip?resultformat=6&queryname=PRC_LMP&version=12&market_run_id=DAM&startdatetime=20240806T08%3A00-0000&enddatetime=20240806T08%3A00-0000&grp_type=ALL\n",
      "❌ Download error for 20240809: 429 Client Error: Too Many Requests for url: https://oasis.caiso.com/oasisapi/SingleZip?resultformat=6&queryname=PRC_LMP&version=12&market_run_id=DAM&startdatetime=20240809T08%3A00-0000&enddatetime=20240809T08%3A00-0000&grp_type=ALL❌ Download error for 20240808: 429 Client Error: Too Many Requests for url: https://oasis.caiso.com/oasisapi/SingleZip?resultformat=6&queryname=PRC_LMP&version=12&market_run_id=DAM&startdatetime=20240808T08%3A00-0000&enddatetime=20240808T08%3A00-0000&grp_type=ALL\n",
      "❌ Download error for 20240807: 429 Client Error: Too Many Requests for url: https://oasis.caiso.com/oasisapi/SingleZip?resultformat=6&queryname=PRC_LMP&version=12&market_run_id=DAM&startdatetime=20240807T08%3A00-0000&enddatetime=20240807T08%3A00-0000&grp_type=ALL\n",
      "\n"
     ]
    },
    {
     "name": "stderr",
     "output_type": "stream",
     "text": [
      "CAISO Parallel:  79%|███████████████████     | 953/1201 [02:35<00:34,  7.11it/s]"
     ]
    },
    {
     "name": "stdout",
     "output_type": "stream",
     "text": [
      "❌ Download error for 20240810: 429 Client Error: Too Many Requests for url: https://oasis.caiso.com/oasisapi/SingleZip?resultformat=6&queryname=PRC_LMP&version=12&market_run_id=DAM&startdatetime=20240810T08%3A00-0000&enddatetime=20240810T08%3A00-0000&grp_type=ALL\n",
      "❌ Download error for 20240811: 429 Client Error: Too Many Requests for url: https://oasis.caiso.com/oasisapi/SingleZip?resultformat=6&queryname=PRC_LMP&version=12&market_run_id=DAM&startdatetime=20240811T08%3A00-0000&enddatetime=20240811T08%3A00-0000&grp_type=ALL\n",
      "❌ Download error for 20240813: 429 Client Error: Too Many Requests for url: https://oasis.caiso.com/oasisapi/SingleZip?resultformat=6&queryname=PRC_LMP&version=12&market_run_id=DAM&startdatetime=20240813T08%3A00-0000&enddatetime=20240813T08%3A00-0000&grp_type=ALL❌ Download error for 20240814: 429 Client Error: Too Many Requests for url: https://oasis.caiso.com/oasisapi/SingleZip?resultformat=6&queryname=PRC_LMP&version=12&market_run_id=DAM&startdatetime=20240814T08%3A00-0000&enddatetime=20240814T08%3A00-0000&grp_type=ALL\n",
      "\n",
      "❌ Download error for 20240812: 429 Client Error: Too Many Requests for url: https://oasis.caiso.com/oasisapi/SingleZip?resultformat=6&queryname=PRC_LMP&version=12&market_run_id=DAM&startdatetime=20240812T08%3A00-0000&enddatetime=20240812T08%3A00-0000&grp_type=ALL\n"
     ]
    },
    {
     "name": "stderr",
     "output_type": "stream",
     "text": [
      "CAISO Parallel:  80%|███████████████████     | 957/1201 [02:36<00:36,  6.68it/s]"
     ]
    },
    {
     "name": "stdout",
     "output_type": "stream",
     "text": [
      "❌ Download error for 20240816: 429 Client Error: Too Many Requests for url: https://oasis.caiso.com/oasisapi/SingleZip?resultformat=6&queryname=PRC_LMP&version=12&market_run_id=DAM&startdatetime=20240816T08%3A00-0000&enddatetime=20240816T08%3A00-0000&grp_type=ALL\n",
      "❌ Download error for 20240817: 429 Client Error: Too Many Requests for url: https://oasis.caiso.com/oasisapi/SingleZip?resultformat=6&queryname=PRC_LMP&version=12&market_run_id=DAM&startdatetime=20240817T08%3A00-0000&enddatetime=20240817T08%3A00-0000&grp_type=ALL\n",
      "❌ Download error for 20240819: 429 Client Error: Too Many Requests for url: https://oasis.caiso.com/oasisapi/SingleZip?resultformat=6&queryname=PRC_LMP&version=12&market_run_id=DAM&startdatetime=20240819T08%3A00-0000&enddatetime=20240819T08%3A00-0000&grp_type=ALL\n",
      "❌ Download error for 20240818: 429 Client Error: Too Many Requests for url: https://oasis.caiso.com/oasisapi/SingleZip?resultformat=6&queryname=PRC_LMP&version=12&market_run_id=DAM&startdatetime=20240818T08%3A00-0000&enddatetime=20240818T08%3A00-0000&grp_type=ALL\n"
     ]
    },
    {
     "name": "stderr",
     "output_type": "stream",
     "text": [
      "CAISO Parallel:  80%|███████████████████▏    | 961/1201 [02:36<00:36,  6.52it/s]"
     ]
    },
    {
     "name": "stdout",
     "output_type": "stream",
     "text": [
      "❌ Download error for 20240820: 429 Client Error: Too Many Requests for url: https://oasis.caiso.com/oasisapi/SingleZip?resultformat=6&queryname=PRC_LMP&version=12&market_run_id=DAM&startdatetime=20240820T08%3A00-0000&enddatetime=20240820T08%3A00-0000&grp_type=ALL\n",
      "❌ Download error for 20240822: 429 Client Error: Too Many Requests for url: https://oasis.caiso.com/oasisapi/SingleZip?resultformat=6&queryname=PRC_LMP&version=12&market_run_id=DAM&startdatetime=20240822T08%3A00-0000&enddatetime=20240822T08%3A00-0000&grp_type=ALL\n",
      "❌ Download error for 20240821: 429 Client Error: Too Many Requests for url: https://oasis.caiso.com/oasisapi/SingleZip?resultformat=6&queryname=PRC_LMP&version=12&market_run_id=DAM&startdatetime=20240821T08%3A00-0000&enddatetime=20240821T08%3A00-0000&grp_type=ALL\n",
      "❌ Download error for 20240823: 429 Client Error: Too Many Requests for url: https://oasis.caiso.com/oasisapi/SingleZip?resultformat=6&queryname=PRC_LMP&version=12&market_run_id=DAM&startdatetime=20240823T08%3A00-0000&enddatetime=20240823T08%3A00-0000&grp_type=ALL\n"
     ]
    },
    {
     "name": "stderr",
     "output_type": "stream",
     "text": [
      "CAISO Parallel:  80%|███████████████████▎    | 965/1201 [02:37<00:36,  6.42it/s]"
     ]
    },
    {
     "name": "stdout",
     "output_type": "stream",
     "text": [
      "❌ Download error for 20240824: 429 Client Error: Too Many Requests for url: https://oasis.caiso.com/oasisapi/SingleZip?resultformat=6&queryname=PRC_LMP&version=12&market_run_id=DAM&startdatetime=20240824T08%3A00-0000&enddatetime=20240824T08%3A00-0000&grp_type=ALL\n",
      "❌ Download error for 20240826: 429 Client Error: Too Many Requests for url: https://oasis.caiso.com/oasisapi/SingleZip?resultformat=6&queryname=PRC_LMP&version=12&market_run_id=DAM&startdatetime=20240826T08%3A00-0000&enddatetime=20240826T08%3A00-0000&grp_type=ALL\n",
      "❌ Download error for 20240827: 429 Client Error: Too Many Requests for url: https://oasis.caiso.com/oasisapi/SingleZip?resultformat=6&queryname=PRC_LMP&version=12&market_run_id=DAM&startdatetime=20240827T08%3A00-0000&enddatetime=20240827T08%3A00-0000&grp_type=ALL\n",
      "❌ Download error for 20240825: 429 Client Error: Too Many Requests for url: https://oasis.caiso.com/oasisapi/SingleZip?resultformat=6&queryname=PRC_LMP&version=12&market_run_id=DAM&startdatetime=20240825T08%3A00-0000&enddatetime=20240825T08%3A00-0000&grp_type=ALL\n"
     ]
    },
    {
     "name": "stderr",
     "output_type": "stream",
     "text": [
      "CAISO Parallel:  81%|███████████████████▎    | 969/1201 [02:38<00:36,  6.38it/s]"
     ]
    },
    {
     "name": "stdout",
     "output_type": "stream",
     "text": [
      "❌ Download error for 20240828: 429 Client Error: Too Many Requests for url: https://oasis.caiso.com/oasisapi/SingleZip?resultformat=6&queryname=PRC_LMP&version=12&market_run_id=DAM&startdatetime=20240828T08%3A00-0000&enddatetime=20240828T08%3A00-0000&grp_type=ALL\n",
      "❌ Download error for 20240830: 429 Client Error: Too Many Requests for url: https://oasis.caiso.com/oasisapi/SingleZip?resultformat=6&queryname=PRC_LMP&version=12&market_run_id=DAM&startdatetime=20240830T08%3A00-0000&enddatetime=20240830T08%3A00-0000&grp_type=ALL\n",
      "❌ Download error for 20240829: 429 Client Error: Too Many Requests for url: https://oasis.caiso.com/oasisapi/SingleZip?resultformat=6&queryname=PRC_LMP&version=12&market_run_id=DAM&startdatetime=20240829T08%3A00-0000&enddatetime=20240829T08%3A00-0000&grp_type=ALL\n",
      "❌ Download error for 20240831: 429 Client Error: Too Many Requests for url: https://oasis.caiso.com/oasisapi/SingleZip?resultformat=6&queryname=PRC_LMP&version=12&market_run_id=DAM&startdatetime=20240831T08%3A00-0000&enddatetime=20240831T08%3A00-0000&grp_type=ALL\n"
     ]
    },
    {
     "name": "stderr",
     "output_type": "stream",
     "text": [
      "CAISO Parallel:  81%|███████████████████▍    | 973/1201 [02:38<00:35,  6.36it/s]"
     ]
    },
    {
     "name": "stdout",
     "output_type": "stream",
     "text": [
      "❌ Download error for 20240901: 429 Client Error: Too Many Requests for url: https://oasis.caiso.com/oasisapi/SingleZip?resultformat=6&queryname=PRC_LMP&version=12&market_run_id=DAM&startdatetime=20240901T08%3A00-0000&enddatetime=20240901T08%3A00-0000&grp_type=ALL\n",
      "❌ Download error for 20240904: 429 Client Error: Too Many Requests for url: https://oasis.caiso.com/oasisapi/SingleZip?resultformat=6&queryname=PRC_LMP&version=12&market_run_id=DAM&startdatetime=20240904T08%3A00-0000&enddatetime=20240904T08%3A00-0000&grp_type=ALL\n",
      "❌ Download error for 20240903: 429 Client Error: Too Many Requests for url: https://oasis.caiso.com/oasisapi/SingleZip?resultformat=6&queryname=PRC_LMP&version=12&market_run_id=DAM&startdatetime=20240903T08%3A00-0000&enddatetime=20240903T08%3A00-0000&grp_type=ALL\n",
      "❌ Download error for 20240902: 429 Client Error: Too Many Requests for url: https://oasis.caiso.com/oasisapi/SingleZip?resultformat=6&queryname=PRC_LMP&version=12&market_run_id=DAM&startdatetime=20240902T08%3A00-0000&enddatetime=20240902T08%3A00-0000&grp_type=ALL\n"
     ]
    },
    {
     "name": "stderr",
     "output_type": "stream",
     "text": [
      "CAISO Parallel:  81%|███████████████████▌    | 977/1201 [02:39<00:35,  6.32it/s]"
     ]
    },
    {
     "name": "stdout",
     "output_type": "stream",
     "text": [
      "❌ Download error for 20240905: 429 Client Error: Too Many Requests for url: https://oasis.caiso.com/oasisapi/SingleZip?resultformat=6&queryname=PRC_LMP&version=12&market_run_id=DAM&startdatetime=20240905T08%3A00-0000&enddatetime=20240905T08%3A00-0000&grp_type=ALL\n",
      "❌ Download error for 20240908: 429 Client Error: Too Many Requests for url: https://oasis.caiso.com/oasisapi/SingleZip?resultformat=6&queryname=PRC_LMP&version=12&market_run_id=DAM&startdatetime=20240908T08%3A00-0000&enddatetime=20240908T08%3A00-0000&grp_type=ALL\n",
      "❌ Download error for 20240906: 429 Client Error: Too Many Requests for url: https://oasis.caiso.com/oasisapi/SingleZip?resultformat=6&queryname=PRC_LMP&version=12&market_run_id=DAM&startdatetime=20240906T08%3A00-0000&enddatetime=20240906T08%3A00-0000&grp_type=ALL\n",
      "❌ Download error for 20240907: 429 Client Error: Too Many Requests for url: https://oasis.caiso.com/oasisapi/SingleZip?resultformat=6&queryname=PRC_LMP&version=12&market_run_id=DAM&startdatetime=20240907T08%3A00-0000&enddatetime=20240907T08%3A00-0000&grp_type=ALL\n"
     ]
    },
    {
     "name": "stderr",
     "output_type": "stream",
     "text": [
      "CAISO Parallel:  82%|███████████████████▌    | 981/1201 [02:40<00:34,  6.32it/s]"
     ]
    },
    {
     "name": "stdout",
     "output_type": "stream",
     "text": [
      "❌ Download error for 20240909: 429 Client Error: Too Many Requests for url: https://oasis.caiso.com/oasisapi/SingleZip?resultformat=6&queryname=PRC_LMP&version=12&market_run_id=DAM&startdatetime=20240909T08%3A00-0000&enddatetime=20240909T08%3A00-0000&grp_type=ALL\n",
      "❌ Download error for 20240911: 429 Client Error: Too Many Requests for url: https://oasis.caiso.com/oasisapi/SingleZip?resultformat=6&queryname=PRC_LMP&version=12&market_run_id=DAM&startdatetime=20240911T08%3A00-0000&enddatetime=20240911T08%3A00-0000&grp_type=ALL\n",
      "❌ Download error for 20240910: 429 Client Error: Too Many Requests for url: https://oasis.caiso.com/oasisapi/SingleZip?resultformat=6&queryname=PRC_LMP&version=12&market_run_id=DAM&startdatetime=20240910T08%3A00-0000&enddatetime=20240910T08%3A00-0000&grp_type=ALL\n",
      "❌ Download error for 20240912: 429 Client Error: Too Many Requests for url: https://oasis.caiso.com/oasisapi/SingleZip?resultformat=6&queryname=PRC_LMP&version=12&market_run_id=DAM&startdatetime=20240912T08%3A00-0000&enddatetime=20240912T08%3A00-0000&grp_type=ALL\n"
     ]
    },
    {
     "name": "stderr",
     "output_type": "stream",
     "text": [
      "CAISO Parallel:  82%|███████████████████▋    | 985/1201 [02:40<00:34,  6.28it/s]"
     ]
    },
    {
     "name": "stdout",
     "output_type": "stream",
     "text": [
      "❌ Download error for 20240913: 429 Client Error: Too Many Requests for url: https://oasis.caiso.com/oasisapi/SingleZip?resultformat=6&queryname=PRC_LMP&version=12&market_run_id=DAM&startdatetime=20240913T08%3A00-0000&enddatetime=20240913T08%3A00-0000&grp_type=ALL\n",
      "❌ Download error for 20240916: 429 Client Error: Too Many Requests for url: https://oasis.caiso.com/oasisapi/SingleZip?resultformat=6&queryname=PRC_LMP&version=12&market_run_id=DAM&startdatetime=20240916T08%3A00-0000&enddatetime=20240916T08%3A00-0000&grp_type=ALL\n",
      "❌ Download error for 20240914: 429 Client Error: Too Many Requests for url: https://oasis.caiso.com/oasisapi/SingleZip?resultformat=6&queryname=PRC_LMP&version=12&market_run_id=DAM&startdatetime=20240914T08%3A00-0000&enddatetime=20240914T08%3A00-0000&grp_type=ALL\n",
      "❌ Download error for 20240915: 429 Client Error: Too Many Requests for url: https://oasis.caiso.com/oasisapi/SingleZip?resultformat=6&queryname=PRC_LMP&version=12&market_run_id=DAM&startdatetime=20240915T08%3A00-0000&enddatetime=20240915T08%3A00-0000&grp_type=ALL\n"
     ]
    },
    {
     "name": "stderr",
     "output_type": "stream",
     "text": [
      "CAISO Parallel:  82%|███████████████████▊    | 990/1201 [02:41<00:31,  6.77it/s]"
     ]
    },
    {
     "name": "stdout",
     "output_type": "stream",
     "text": [
      "❌ Download error for 20240917: 429 Client Error: Too Many Requests for url: https://oasis.caiso.com/oasisapi/SingleZip?resultformat=6&queryname=PRC_LMP&version=12&market_run_id=DAM&startdatetime=20240917T08%3A00-0000&enddatetime=20240917T08%3A00-0000&grp_type=ALL\n",
      "❌ Download error for 20240919: 429 Client Error: Too Many Requests for url: https://oasis.caiso.com/oasisapi/SingleZip?resultformat=6&queryname=PRC_LMP&version=12&market_run_id=DAM&startdatetime=20240919T08%3A00-0000&enddatetime=20240919T08%3A00-0000&grp_type=ALL\n",
      "❌ Download error for 20240920: 429 Client Error: Too Many Requests for url: https://oasis.caiso.com/oasisapi/SingleZip?resultformat=6&queryname=PRC_LMP&version=12&market_run_id=DAM&startdatetime=20240920T08%3A00-0000&enddatetime=20240920T08%3A00-0000&grp_type=ALL\n",
      "❌ Download error for 20240918: 429 Client Error: Too Many Requests for url: https://oasis.caiso.com/oasisapi/SingleZip?resultformat=6&queryname=PRC_LMP&version=12&market_run_id=DAM&startdatetime=20240918T08%3A00-0000&enddatetime=20240918T08%3A00-0000&grp_type=ALL\n"
     ]
    },
    {
     "name": "stderr",
     "output_type": "stream",
     "text": [
      "CAISO Parallel:  83%|███████████████████▉    | 995/1201 [02:41<00:28,  7.12it/s]"
     ]
    },
    {
     "name": "stdout",
     "output_type": "stream",
     "text": [
      "❌ Download error for 20240921: 429 Client Error: Too Many Requests for url: https://oasis.caiso.com/oasisapi/SingleZip?resultformat=6&queryname=PRC_LMP&version=12&market_run_id=DAM&startdatetime=20240921T08%3A00-0000&enddatetime=20240921T08%3A00-0000&grp_type=ALL\n",
      "❌ Download error for 20240922: 429 Client Error: Too Many Requests for url: https://oasis.caiso.com/oasisapi/SingleZip?resultformat=6&queryname=PRC_LMP&version=12&market_run_id=DAM&startdatetime=20240922T08%3A00-0000&enddatetime=20240922T08%3A00-0000&grp_type=ALL\n"
     ]
    },
    {
     "name": "stderr",
     "output_type": "stream",
     "text": [
      "CAISO Parallel:  83%|███████████████████▉    | 997/1201 [02:42<00:26,  7.77it/s]"
     ]
    },
    {
     "name": "stdout",
     "output_type": "stream",
     "text": [
      "❌ Download error for 20240925: 429 Client Error: Too Many Requests for url: https://oasis.caiso.com/oasisapi/SingleZip?resultformat=6&queryname=PRC_LMP&version=12&market_run_id=DAM&startdatetime=20240925T08%3A00-0000&enddatetime=20240925T08%3A00-0000&grp_type=ALL\n",
      "❌ Download error for 20240923: 429 Client Error: Too Many Requests for url: https://oasis.caiso.com/oasisapi/GroupZip?groupid=DAM_LMP_GRP&startdatetime=20240923T08:00-0000&resultformat=6&version=12\n"
     ]
    },
    {
     "name": "stderr",
     "output_type": "stream",
     "text": [
      "CAISO Parallel:  83%|███████████████████▉    | 999/1201 [02:42<00:31,  6.44it/s]"
     ]
    },
    {
     "name": "stdout",
     "output_type": "stream",
     "text": [
      "❌ Download error for 20240926: 429 Client Error: Too Many Requests for url: https://oasis.caiso.com/oasisapi/SingleZip?resultformat=6&queryname=PRC_LMP&version=12&market_run_id=DAM&startdatetime=20240926T08%3A00-0000&enddatetime=20240926T08%3A00-0000&grp_type=ALL\n",
      "❌ Download error for 20240927: 429 Client Error: Too Many Requests for url: https://oasis.caiso.com/oasisapi/SingleZip?resultformat=6&queryname=PRC_LMP&version=12&market_run_id=DAM&startdatetime=20240927T08%3A00-0000&enddatetime=20240927T08%3A00-0000&grp_type=ALL\n"
     ]
    },
    {
     "name": "stderr",
     "output_type": "stream",
     "text": [
      "CAISO Parallel:  83%|███████████████████▏   | 1001/1201 [02:42<00:26,  7.48it/s]"
     ]
    },
    {
     "name": "stdout",
     "output_type": "stream",
     "text": [
      "❌ Download error for 20240928: 429 Client Error: Too Many Requests for url: https://oasis.caiso.com/oasisapi/SingleZip?resultformat=6&queryname=PRC_LMP&version=12&market_run_id=DAM&startdatetime=20240928T08%3A00-0000&enddatetime=20240928T08%3A00-0000&grp_type=ALL\n",
      "❌ Download error for 20240929: 429 Client Error: Too Many Requests for url: https://oasis.caiso.com/oasisapi/SingleZip?resultformat=6&queryname=PRC_LMP&version=12&market_run_id=DAM&startdatetime=20240929T08%3A00-0000&enddatetime=20240929T08%3A00-0000&grp_type=ALL\n"
     ]
    },
    {
     "name": "stderr",
     "output_type": "stream",
     "text": [
      "CAISO Parallel:  84%|███████████████████▏   | 1003/1201 [02:43<00:32,  6.07it/s]"
     ]
    },
    {
     "name": "stdout",
     "output_type": "stream",
     "text": [
      "❌ Download error for 20240930: 429 Client Error: Too Many Requests for url: https://oasis.caiso.com/oasisapi/SingleZip?resultformat=6&queryname=PRC_LMP&version=12&market_run_id=DAM&startdatetime=20240930T08%3A00-0000&enddatetime=20240930T08%3A00-0000&grp_type=ALL\n",
      "❌ Download error for 20241001: 429 Client Error: Too Many Requests for url: https://oasis.caiso.com/oasisapi/SingleZip?resultformat=6&queryname=PRC_LMP&version=12&market_run_id=DAM&startdatetime=20241001T08%3A00-0000&enddatetime=20241001T08%3A00-0000&grp_type=ALL\n"
     ]
    },
    {
     "name": "stderr",
     "output_type": "stream",
     "text": [
      "CAISO Parallel:  84%|███████████████████▏   | 1005/1201 [02:43<00:26,  7.27it/s]"
     ]
    },
    {
     "name": "stdout",
     "output_type": "stream",
     "text": [
      "❌ Download error for 20241002: 429 Client Error: Too Many Requests for url: https://oasis.caiso.com/oasisapi/SingleZip?resultformat=6&queryname=PRC_LMP&version=12&market_run_id=DAM&startdatetime=20241002T08%3A00-0000&enddatetime=20241002T08%3A00-0000&grp_type=ALL\n",
      "❌ Download error for 20241003: 429 Client Error: Too Many Requests for url: https://oasis.caiso.com/oasisapi/SingleZip?resultformat=6&queryname=PRC_LMP&version=12&market_run_id=DAM&startdatetime=20241003T08%3A00-0000&enddatetime=20241003T08%3A00-0000&grp_type=ALL\n"
     ]
    },
    {
     "name": "stderr",
     "output_type": "stream",
     "text": [
      "CAISO Parallel:  84%|███████████████████▎   | 1007/1201 [02:43<00:32,  5.98it/s]"
     ]
    },
    {
     "name": "stdout",
     "output_type": "stream",
     "text": [
      "❌ Download error for 20241004: 429 Client Error: Too Many Requests for url: https://oasis.caiso.com/oasisapi/SingleZip?resultformat=6&queryname=PRC_LMP&version=12&market_run_id=DAM&startdatetime=20241004T08%3A00-0000&enddatetime=20241004T08%3A00-0000&grp_type=ALL\n",
      "❌ Download error for 20241005: 429 Client Error: Too Many Requests for url: https://oasis.caiso.com/oasisapi/SingleZip?resultformat=6&queryname=PRC_LMP&version=12&market_run_id=DAM&startdatetime=20241005T08%3A00-0000&enddatetime=20241005T08%3A00-0000&grp_type=ALL\n"
     ]
    },
    {
     "name": "stderr",
     "output_type": "stream",
     "text": [
      "CAISO Parallel:  84%|███████████████████▎   | 1009/1201 [02:44<00:26,  7.21it/s]"
     ]
    },
    {
     "name": "stdout",
     "output_type": "stream",
     "text": [
      "❌ Download error for 20241006: 429 Client Error: Too Many Requests for url: https://oasis.caiso.com/oasisapi/SingleZip?resultformat=6&queryname=PRC_LMP&version=12&market_run_id=DAM&startdatetime=20241006T08%3A00-0000&enddatetime=20241006T08%3A00-0000&grp_type=ALL\n",
      "❌ Download error for 20241007: 429 Client Error: Too Many Requests for url: https://oasis.caiso.com/oasisapi/SingleZip?resultformat=6&queryname=PRC_LMP&version=12&market_run_id=DAM&startdatetime=20241007T08%3A00-0000&enddatetime=20241007T08%3A00-0000&grp_type=ALL\n"
     ]
    },
    {
     "name": "stderr",
     "output_type": "stream",
     "text": [
      "CAISO Parallel:  84%|███████████████████▎   | 1011/1201 [02:44<00:32,  5.90it/s]"
     ]
    },
    {
     "name": "stdout",
     "output_type": "stream",
     "text": [
      "❌ Download error for 20241008: 429 Client Error: Too Many Requests for url: https://oasis.caiso.com/oasisapi/SingleZip?resultformat=6&queryname=PRC_LMP&version=12&market_run_id=DAM&startdatetime=20241008T08%3A00-0000&enddatetime=20241008T08%3A00-0000&grp_type=ALL\n",
      "❌ Download error for 20241009: 429 Client Error: Too Many Requests for url: https://oasis.caiso.com/oasisapi/SingleZip?resultformat=6&queryname=PRC_LMP&version=12&market_run_id=DAM&startdatetime=20241009T08%3A00-0000&enddatetime=20241009T08%3A00-0000&grp_type=ALL\n"
     ]
    },
    {
     "name": "stderr",
     "output_type": "stream",
     "text": [
      "CAISO Parallel:  84%|███████████████████▍   | 1013/1201 [02:44<00:26,  7.23it/s]"
     ]
    },
    {
     "name": "stdout",
     "output_type": "stream",
     "text": [
      "❌ Download error for 20241010: 429 Client Error: Too Many Requests for url: https://oasis.caiso.com/oasisapi/SingleZip?resultformat=6&queryname=PRC_LMP&version=12&market_run_id=DAM&startdatetime=20241010T08%3A00-0000&enddatetime=20241010T08%3A00-0000&grp_type=ALL\n",
      "❌ Download error for 20241011: 429 Client Error: Too Many Requests for url: https://oasis.caiso.com/oasisapi/SingleZip?resultformat=6&queryname=PRC_LMP&version=12&market_run_id=DAM&startdatetime=20241011T08%3A00-0000&enddatetime=20241011T08%3A00-0000&grp_type=ALL\n"
     ]
    },
    {
     "name": "stderr",
     "output_type": "stream",
     "text": [
      "CAISO Parallel:  85%|███████████████████▍   | 1015/1201 [02:45<00:31,  5.90it/s]"
     ]
    },
    {
     "name": "stdout",
     "output_type": "stream",
     "text": [
      "❌ Download error for 20241012: 429 Client Error: Too Many Requests for url: https://oasis.caiso.com/oasisapi/SingleZip?resultformat=6&queryname=PRC_LMP&version=12&market_run_id=DAM&startdatetime=20241012T08%3A00-0000&enddatetime=20241012T08%3A00-0000&grp_type=ALL\n",
      "❌ Download error for 20241013: 429 Client Error: Too Many Requests for url: https://oasis.caiso.com/oasisapi/SingleZip?resultformat=6&queryname=PRC_LMP&version=12&market_run_id=DAM&startdatetime=20241013T08%3A00-0000&enddatetime=20241013T08%3A00-0000&grp_type=ALL\n"
     ]
    },
    {
     "name": "stderr",
     "output_type": "stream",
     "text": [
      "CAISO Parallel:  85%|███████████████████▍   | 1017/1201 [02:45<00:25,  7.27it/s]"
     ]
    },
    {
     "name": "stdout",
     "output_type": "stream",
     "text": [
      "❌ Download error for 20241014: 429 Client Error: Too Many Requests for url: https://oasis.caiso.com/oasisapi/SingleZip?resultformat=6&queryname=PRC_LMP&version=12&market_run_id=DAM&startdatetime=20241014T08%3A00-0000&enddatetime=20241014T08%3A00-0000&grp_type=ALL\n",
      "❌ Download error for 20241015: 429 Client Error: Too Many Requests for url: https://oasis.caiso.com/oasisapi/SingleZip?resultformat=6&queryname=PRC_LMP&version=12&market_run_id=DAM&startdatetime=20241015T08%3A00-0000&enddatetime=20241015T08%3A00-0000&grp_type=ALL\n"
     ]
    },
    {
     "name": "stderr",
     "output_type": "stream",
     "text": [
      "CAISO Parallel:  85%|███████████████████▌   | 1019/1201 [02:45<00:31,  5.83it/s]"
     ]
    },
    {
     "name": "stdout",
     "output_type": "stream",
     "text": [
      "❌ Download error for 20241016: 429 Client Error: Too Many Requests for url: https://oasis.caiso.com/oasisapi/SingleZip?resultformat=6&queryname=PRC_LMP&version=12&market_run_id=DAM&startdatetime=20241016T08%3A00-0000&enddatetime=20241016T08%3A00-0000&grp_type=ALL\n",
      "❌ Download error for 20241017: 429 Client Error: Too Many Requests for url: https://oasis.caiso.com/oasisapi/SingleZip?resultformat=6&queryname=PRC_LMP&version=12&market_run_id=DAM&startdatetime=20241017T08%3A00-0000&enddatetime=20241017T08%3A00-0000&grp_type=ALL\n"
     ]
    },
    {
     "name": "stderr",
     "output_type": "stream",
     "text": [
      "CAISO Parallel:  85%|███████████████████▌   | 1021/1201 [02:45<00:25,  7.16it/s]"
     ]
    },
    {
     "name": "stdout",
     "output_type": "stream",
     "text": [
      "❌ Download error for 20241018: 429 Client Error: Too Many Requests for url: https://oasis.caiso.com/oasisapi/SingleZip?resultformat=6&queryname=PRC_LMP&version=12&market_run_id=DAM&startdatetime=20241018T08%3A00-0000&enddatetime=20241018T08%3A00-0000&grp_type=ALL\n",
      "❌ Download error for 20241019: 429 Client Error: Too Many Requests for url: https://oasis.caiso.com/oasisapi/SingleZip?resultformat=6&queryname=PRC_LMP&version=12&market_run_id=DAM&startdatetime=20241019T08%3A00-0000&enddatetime=20241019T08%3A00-0000&grp_type=ALL\n"
     ]
    },
    {
     "name": "stderr",
     "output_type": "stream",
     "text": [
      "CAISO Parallel:  85%|███████████████████▌   | 1023/1201 [02:46<00:30,  5.79it/s]"
     ]
    },
    {
     "name": "stdout",
     "output_type": "stream",
     "text": [
      "❌ Download error for 20241020: 429 Client Error: Too Many Requests for url: https://oasis.caiso.com/oasisapi/SingleZip?resultformat=6&queryname=PRC_LMP&version=12&market_run_id=DAM&startdatetime=20241020T08%3A00-0000&enddatetime=20241020T08%3A00-0000&grp_type=ALL\n",
      "❌ Download error for 20241021: 429 Client Error: Too Many Requests for url: https://oasis.caiso.com/oasisapi/SingleZip?resultformat=6&queryname=PRC_LMP&version=12&market_run_id=DAM&startdatetime=20241021T08%3A00-0000&enddatetime=20241021T08%3A00-0000&grp_type=ALL\n"
     ]
    },
    {
     "name": "stderr",
     "output_type": "stream",
     "text": [
      "CAISO Parallel:  85%|███████████████████▋   | 1025/1201 [02:46<00:24,  7.17it/s]"
     ]
    },
    {
     "name": "stdout",
     "output_type": "stream",
     "text": [
      "❌ Download error for 20241022: 429 Client Error: Too Many Requests for url: https://oasis.caiso.com/oasisapi/SingleZip?resultformat=6&queryname=PRC_LMP&version=12&market_run_id=DAM&startdatetime=20241022T08%3A00-0000&enddatetime=20241022T08%3A00-0000&grp_type=ALL\n",
      "❌ Download error for 20241023: 429 Client Error: Too Many Requests for url: https://oasis.caiso.com/oasisapi/SingleZip?resultformat=6&queryname=PRC_LMP&version=12&market_run_id=DAM&startdatetime=20241023T08%3A00-0000&enddatetime=20241023T08%3A00-0000&grp_type=ALL\n"
     ]
    },
    {
     "name": "stderr",
     "output_type": "stream",
     "text": [
      "CAISO Parallel:  86%|███████████████████▋   | 1027/1201 [02:47<00:28,  6.15it/s]"
     ]
    },
    {
     "name": "stdout",
     "output_type": "stream",
     "text": [
      "❌ Download error for 20241024: 429 Client Error: Too Many Requests for url: https://oasis.caiso.com/oasisapi/SingleZip?resultformat=6&queryname=PRC_LMP&version=12&market_run_id=DAM&startdatetime=20241024T08%3A00-0000&enddatetime=20241024T08%3A00-0000&grp_type=ALL\n",
      "❌ Download error for 20241025: 429 Client Error: Too Many Requests for url: https://oasis.caiso.com/oasisapi/SingleZip?resultformat=6&queryname=PRC_LMP&version=12&market_run_id=DAM&startdatetime=20241025T08%3A00-0000&enddatetime=20241025T08%3A00-0000&grp_type=ALL\n"
     ]
    },
    {
     "name": "stderr",
     "output_type": "stream",
     "text": [
      "CAISO Parallel:  86%|███████████████████▋   | 1030/1201 [02:47<00:19,  8.58it/s]"
     ]
    },
    {
     "name": "stdout",
     "output_type": "stream",
     "text": [
      "❌ Download error for 20241026: 429 Client Error: Too Many Requests for url: https://oasis.caiso.com/oasisapi/SingleZip?resultformat=6&queryname=PRC_LMP&version=12&market_run_id=DAM&startdatetime=20241026T08%3A00-0000&enddatetime=20241026T08%3A00-0000&grp_type=ALL\n",
      "❌ Download error for 20241027: 429 Client Error: Too Many Requests for url: https://oasis.caiso.com/oasisapi/SingleZip?resultformat=6&queryname=PRC_LMP&version=12&market_run_id=DAM&startdatetime=20241027T08%3A00-0000&enddatetime=20241027T08%3A00-0000&grp_type=ALL\n"
     ]
    },
    {
     "name": "stderr",
     "output_type": "stream",
     "text": [
      "CAISO Parallel:  86%|███████████████████▊   | 1032/1201 [02:47<00:24,  6.77it/s]"
     ]
    },
    {
     "name": "stdout",
     "output_type": "stream",
     "text": [
      "❌ Download error for 20241028: 429 Client Error: Too Many Requests for url: https://oasis.caiso.com/oasisapi/SingleZip?resultformat=6&queryname=PRC_LMP&version=12&market_run_id=DAM&startdatetime=20241028T08%3A00-0000&enddatetime=20241028T08%3A00-0000&grp_type=ALL\n",
      "❌ Download error for 20241029: 429 Client Error: Too Many Requests for url: https://oasis.caiso.com/oasisapi/SingleZip?resultformat=6&queryname=PRC_LMP&version=12&market_run_id=DAM&startdatetime=20241029T08%3A00-0000&enddatetime=20241029T08%3A00-0000&grp_type=ALL\n",
      "❌ Download error for 20241030: 429 Client Error: Too Many Requests for url: https://oasis.caiso.com/oasisapi/SingleZip?resultformat=6&queryname=PRC_LMP&version=12&market_run_id=DAM&startdatetime=20241030T08%3A00-0000&enddatetime=20241030T08%3A00-0000&grp_type=ALL\n"
     ]
    },
    {
     "name": "stderr",
     "output_type": "stream",
     "text": [
      "CAISO Parallel:  86%|███████████████████▊   | 1035/1201 [02:47<00:18,  8.97it/s]"
     ]
    },
    {
     "name": "stdout",
     "output_type": "stream",
     "text": [
      "❌ Download error for 20241031: 429 Client Error: Too Many Requests for url: https://oasis.caiso.com/oasisapi/SingleZip?resultformat=6&queryname=PRC_LMP&version=12&market_run_id=DAM&startdatetime=20241031T08%3A00-0000&enddatetime=20241031T08%3A00-0000&grp_type=ALL\n",
      "❌ Download error for 20241101: 429 Client Error: Too Many Requests for url: https://oasis.caiso.com/oasisapi/SingleZip?resultformat=6&queryname=PRC_LMP&version=12&market_run_id=DAM&startdatetime=20241101T08%3A00-0000&enddatetime=20241101T08%3A00-0000&grp_type=ALL\n"
     ]
    },
    {
     "name": "stderr",
     "output_type": "stream",
     "text": [
      "CAISO Parallel:  86%|███████████████████▊   | 1036/1201 [02:48<00:28,  5.87it/s]"
     ]
    },
    {
     "name": "stdout",
     "output_type": "stream",
     "text": [
      "❌ Download error for 20241103: 429 Client Error: Too Many Requests for url: https://oasis.caiso.com/oasisapi/SingleZip?resultformat=6&queryname=PRC_LMP&version=12&market_run_id=DAM&startdatetime=20241103T08%3A00-0000&enddatetime=20241103T08%3A00-0000&grp_type=ALL\n",
      "❌ Download error for 20241104: 429 Client Error: Too Many Requests for url: https://oasis.caiso.com/oasisapi/SingleZip?resultformat=6&queryname=PRC_LMP&version=12&market_run_id=DAM&startdatetime=20241104T08%3A00-0000&enddatetime=20241104T08%3A00-0000&grp_type=ALL\n",
      "❌ Download error for 20241105: 429 Client Error: Too Many Requests for url: https://oasis.caiso.com/oasisapi/SingleZip?resultformat=6&queryname=PRC_LMP&version=12&market_run_id=DAM&startdatetime=20241105T08%3A00-0000&enddatetime=20241105T08%3A00-0000&grp_type=ALL\n"
     ]
    },
    {
     "name": "stderr",
     "output_type": "stream",
     "text": [
      "CAISO Parallel:  87%|███████████████████▉   | 1039/1201 [02:48<00:20,  7.93it/s]"
     ]
    },
    {
     "name": "stdout",
     "output_type": "stream",
     "text": [
      "❌ Download error for 20241106: 429 Client Error: Too Many Requests for url: https://oasis.caiso.com/oasisapi/SingleZip?resultformat=6&queryname=PRC_LMP&version=12&market_run_id=DAM&startdatetime=20241106T08%3A00-0000&enddatetime=20241106T08%3A00-0000&grp_type=ALL\n"
     ]
    },
    {
     "name": "stderr",
     "output_type": "stream",
     "text": [
      "CAISO Parallel:  87%|███████████████████▉   | 1040/1201 [02:48<00:28,  5.60it/s]"
     ]
    },
    {
     "name": "stdout",
     "output_type": "stream",
     "text": [
      "❌ Download error for 20241107: 429 Client Error: Too Many Requests for url: https://oasis.caiso.com/oasisapi/SingleZip?resultformat=6&queryname=PRC_LMP&version=12&market_run_id=DAM&startdatetime=20241107T08%3A00-0000&enddatetime=20241107T08%3A00-0000&grp_type=ALL❌ Download error for 20241108: 429 Client Error: Too Many Requests for url: https://oasis.caiso.com/oasisapi/SingleZip?resultformat=6&queryname=PRC_LMP&version=12&market_run_id=DAM&startdatetime=20241108T08%3A00-0000&enddatetime=20241108T08%3A00-0000&grp_type=ALL\n",
      "\n",
      "❌ Download error for 20241109: 429 Client Error: Too Many Requests for url: https://oasis.caiso.com/oasisapi/SingleZip?resultformat=6&queryname=PRC_LMP&version=12&market_run_id=DAM&startdatetime=20241109T08%3A00-0000&enddatetime=20241109T08%3A00-0000&grp_type=ALL\n"
     ]
    },
    {
     "name": "stderr",
     "output_type": "stream",
     "text": [
      "CAISO Parallel:  87%|███████████████████▉   | 1043/1201 [02:49<00:20,  7.59it/s]"
     ]
    },
    {
     "name": "stdout",
     "output_type": "stream",
     "text": [
      "❌ Download error for 20241110: 429 Client Error: Too Many Requests for url: https://oasis.caiso.com/oasisapi/SingleZip?resultformat=6&queryname=PRC_LMP&version=12&market_run_id=DAM&startdatetime=20241110T08%3A00-0000&enddatetime=20241110T08%3A00-0000&grp_type=ALL\n"
     ]
    },
    {
     "name": "stderr",
     "output_type": "stream",
     "text": [
      "CAISO Parallel:  87%|███████████████████▉   | 1044/1201 [02:49<00:28,  5.49it/s]"
     ]
    },
    {
     "name": "stdout",
     "output_type": "stream",
     "text": [
      "❌ Download error for 20241112: 429 Client Error: Too Many Requests for url: https://oasis.caiso.com/oasisapi/SingleZip?resultformat=6&queryname=PRC_LMP&version=12&market_run_id=DAM&startdatetime=20241112T08%3A00-0000&enddatetime=20241112T08%3A00-0000&grp_type=ALL❌ Download error for 20241111: 429 Client Error: Too Many Requests for url: https://oasis.caiso.com/oasisapi/SingleZip?resultformat=6&queryname=PRC_LMP&version=12&market_run_id=DAM&startdatetime=20241111T08%3A00-0000&enddatetime=20241111T08%3A00-0000&grp_type=ALL\n",
      "\n",
      "❌ Download error for 20241113: 429 Client Error: Too Many Requests for url: https://oasis.caiso.com/oasisapi/SingleZip?resultformat=6&queryname=PRC_LMP&version=12&market_run_id=DAM&startdatetime=20241113T08%3A00-0000&enddatetime=20241113T08%3A00-0000&grp_type=ALL\n"
     ]
    },
    {
     "name": "stderr",
     "output_type": "stream",
     "text": [
      "CAISO Parallel:  87%|████████████████████   | 1047/1201 [02:49<00:20,  7.43it/s]"
     ]
    },
    {
     "name": "stdout",
     "output_type": "stream",
     "text": [
      "❌ Download error for 20241114: 429 Client Error: Too Many Requests for url: https://oasis.caiso.com/oasisapi/SingleZip?resultformat=6&queryname=PRC_LMP&version=12&market_run_id=DAM&startdatetime=20241114T08%3A00-0000&enddatetime=20241114T08%3A00-0000&grp_type=ALL\n"
     ]
    },
    {
     "name": "stderr",
     "output_type": "stream",
     "text": [
      "CAISO Parallel:  87%|████████████████████   | 1048/1201 [02:50<00:27,  5.47it/s]"
     ]
    },
    {
     "name": "stdout",
     "output_type": "stream",
     "text": [
      "❌ Download error for 20241116: 429 Client Error: Too Many Requests for url: https://oasis.caiso.com/oasisapi/SingleZip?resultformat=6&queryname=PRC_LMP&version=12&market_run_id=DAM&startdatetime=20241116T08%3A00-0000&enddatetime=20241116T08%3A00-0000&grp_type=ALL❌ Download error for 20241115: 429 Client Error: Too Many Requests for url: https://oasis.caiso.com/oasisapi/SingleZip?resultformat=6&queryname=PRC_LMP&version=12&market_run_id=DAM&startdatetime=20241115T08%3A00-0000&enddatetime=20241115T08%3A00-0000&grp_type=ALL\n",
      "\n",
      "❌ Download error for 20241117: 429 Client Error: Too Many Requests for url: https://oasis.caiso.com/oasisapi/SingleZip?resultformat=6&queryname=PRC_LMP&version=12&market_run_id=DAM&startdatetime=20241117T08%3A00-0000&enddatetime=20241117T08%3A00-0000&grp_type=ALL\n"
     ]
    },
    {
     "name": "stderr",
     "output_type": "stream",
     "text": [
      "CAISO Parallel:  88%|████████████████████▏  | 1051/1201 [02:50<00:20,  7.40it/s]"
     ]
    },
    {
     "name": "stdout",
     "output_type": "stream",
     "text": [
      "❌ Download error for 20241118: 429 Client Error: Too Many Requests for url: https://oasis.caiso.com/oasisapi/SingleZip?resultformat=6&queryname=PRC_LMP&version=12&market_run_id=DAM&startdatetime=20241118T08%3A00-0000&enddatetime=20241118T08%3A00-0000&grp_type=ALL\n"
     ]
    },
    {
     "name": "stderr",
     "output_type": "stream",
     "text": [
      "CAISO Parallel:  88%|████████████████████▏  | 1052/1201 [02:50<00:27,  5.46it/s]"
     ]
    },
    {
     "name": "stdout",
     "output_type": "stream",
     "text": [
      "❌ Download error for 20241119: 429 Client Error: Too Many Requests for url: https://oasis.caiso.com/oasisapi/SingleZip?resultformat=6&queryname=PRC_LMP&version=12&market_run_id=DAM&startdatetime=20241119T08%3A00-0000&enddatetime=20241119T08%3A00-0000&grp_type=ALL❌ Download error for 20241120: 429 Client Error: Too Many Requests for url: https://oasis.caiso.com/oasisapi/SingleZip?resultformat=6&queryname=PRC_LMP&version=12&market_run_id=DAM&startdatetime=20241120T08%3A00-0000&enddatetime=20241120T08%3A00-0000&grp_type=ALL\n",
      "\n",
      "❌ Download error for 20241121: 429 Client Error: Too Many Requests for url: https://oasis.caiso.com/oasisapi/SingleZip?resultformat=6&queryname=PRC_LMP&version=12&market_run_id=DAM&startdatetime=20241121T08%3A00-0000&enddatetime=20241121T08%3A00-0000&grp_type=ALL\n"
     ]
    },
    {
     "name": "stderr",
     "output_type": "stream",
     "text": [
      "CAISO Parallel:  88%|████████████████████▏  | 1055/1201 [02:51<00:19,  7.34it/s]"
     ]
    },
    {
     "name": "stdout",
     "output_type": "stream",
     "text": [
      "❌ Download error for 20241122: 429 Client Error: Too Many Requests for url: https://oasis.caiso.com/oasisapi/SingleZip?resultformat=6&queryname=PRC_LMP&version=12&market_run_id=DAM&startdatetime=20241122T08%3A00-0000&enddatetime=20241122T08%3A00-0000&grp_type=ALL\n"
     ]
    },
    {
     "name": "stderr",
     "output_type": "stream",
     "text": [
      "CAISO Parallel:  88%|████████████████████▏  | 1056/1201 [02:51<00:26,  5.44it/s]"
     ]
    },
    {
     "name": "stdout",
     "output_type": "stream",
     "text": [
      "❌ Download error for 20241124: 429 Client Error: Too Many Requests for url: https://oasis.caiso.com/oasisapi/SingleZip?resultformat=6&queryname=PRC_LMP&version=12&market_run_id=DAM&startdatetime=20241124T08%3A00-0000&enddatetime=20241124T08%3A00-0000&grp_type=ALL❌ Download error for 20241123: 429 Client Error: Too Many Requests for url: https://oasis.caiso.com/oasisapi/SingleZip?resultformat=6&queryname=PRC_LMP&version=12&market_run_id=DAM&startdatetime=20241123T08%3A00-0000&enddatetime=20241123T08%3A00-0000&grp_type=ALL\n",
      "\n",
      "❌ Download error for 20241125: 429 Client Error: Too Many Requests for url: https://oasis.caiso.com/oasisapi/SingleZip?resultformat=6&queryname=PRC_LMP&version=12&market_run_id=DAM&startdatetime=20241125T08%3A00-0000&enddatetime=20241125T08%3A00-0000&grp_type=ALL\n"
     ]
    },
    {
     "name": "stderr",
     "output_type": "stream",
     "text": [
      "CAISO Parallel:  88%|████████████████████▎  | 1059/1201 [02:51<00:19,  7.25it/s]"
     ]
    },
    {
     "name": "stdout",
     "output_type": "stream",
     "text": [
      "❌ Download error for 20241126: 429 Client Error: Too Many Requests for url: https://oasis.caiso.com/oasisapi/SingleZip?resultformat=6&queryname=PRC_LMP&version=12&market_run_id=DAM&startdatetime=20241126T08%3A00-0000&enddatetime=20241126T08%3A00-0000&grp_type=ALL\n"
     ]
    },
    {
     "name": "stderr",
     "output_type": "stream",
     "text": [
      "CAISO Parallel:  88%|████████████████████▎  | 1060/1201 [02:52<00:26,  5.41it/s]"
     ]
    },
    {
     "name": "stdout",
     "output_type": "stream",
     "text": [
      "❌ Download error for 20241127: 429 Client Error: Too Many Requests for url: https://oasis.caiso.com/oasisapi/SingleZip?resultformat=6&queryname=PRC_LMP&version=12&market_run_id=DAM&startdatetime=20241127T08%3A00-0000&enddatetime=20241127T08%3A00-0000&grp_type=ALL\n",
      "❌ Download error for 20241128: 429 Client Error: Too Many Requests for url: https://oasis.caiso.com/oasisapi/SingleZip?resultformat=6&queryname=PRC_LMP&version=12&market_run_id=DAM&startdatetime=20241128T08%3A00-0000&enddatetime=20241128T08%3A00-0000&grp_type=ALL\n",
      "❌ Download error for 20241129: 429 Client Error: Too Many Requests for url: https://oasis.caiso.com/oasisapi/SingleZip?resultformat=6&queryname=PRC_LMP&version=12&market_run_id=DAM&startdatetime=20241129T08%3A00-0000&enddatetime=20241129T08%3A00-0000&grp_type=ALL\n"
     ]
    },
    {
     "name": "stderr",
     "output_type": "stream",
     "text": [
      "CAISO Parallel:  89%|████████████████████▍  | 1064/1201 [02:52<00:18,  7.26it/s]"
     ]
    },
    {
     "name": "stdout",
     "output_type": "stream",
     "text": [
      "❌ Download error for 20241130: 429 Client Error: Too Many Requests for url: https://oasis.caiso.com/oasisapi/SingleZip?resultformat=6&queryname=PRC_LMP&version=12&market_run_id=DAM&startdatetime=20241130T08%3A00-0000&enddatetime=20241130T08%3A00-0000&grp_type=ALL\n"
     ]
    },
    {
     "name": "stderr",
     "output_type": "stream",
     "text": [
      "CAISO Parallel:  89%|████████████████████▍  | 1065/1201 [02:52<00:22,  6.09it/s]"
     ]
    },
    {
     "name": "stdout",
     "output_type": "stream",
     "text": [
      "❌ Download error for 20241201: 429 Client Error: Too Many Requests for url: https://oasis.caiso.com/oasisapi/SingleZip?resultformat=6&queryname=PRC_LMP&version=12&market_run_id=DAM&startdatetime=20241201T08%3A00-0000&enddatetime=20241201T08%3A00-0000&grp_type=ALL\n",
      "❌ Download error for 20241202: 429 Client Error: Too Many Requests for url: https://oasis.caiso.com/oasisapi/SingleZip?resultformat=6&queryname=PRC_LMP&version=12&market_run_id=DAM&startdatetime=20241202T08%3A00-0000&enddatetime=20241202T08%3A00-0000&grp_type=ALL\n",
      "❌ Download error for 20241203: 429 Client Error: Too Many Requests for url: https://oasis.caiso.com/oasisapi/SingleZip?resultformat=6&queryname=PRC_LMP&version=12&market_run_id=DAM&startdatetime=20241203T08%3A00-0000&enddatetime=20241203T08%3A00-0000&grp_type=ALL\n"
     ]
    },
    {
     "name": "stderr",
     "output_type": "stream",
     "text": [
      "CAISO Parallel:  89%|████████████████████▍  | 1069/1201 [02:53<00:16,  7.87it/s]"
     ]
    },
    {
     "name": "stdout",
     "output_type": "stream",
     "text": [
      "❌ Download error for 20241204: 429 Client Error: Too Many Requests for url: https://oasis.caiso.com/oasisapi/SingleZip?resultformat=6&queryname=PRC_LMP&version=12&market_run_id=DAM&startdatetime=20241204T08%3A00-0000&enddatetime=20241204T08%3A00-0000&grp_type=ALL\n",
      "❌ Download error for 20241205: 429 Client Error: Too Many Requests for url: https://oasis.caiso.com/oasisapi/SingleZip?resultformat=6&queryname=PRC_LMP&version=12&market_run_id=DAM&startdatetime=20241205T08%3A00-0000&enddatetime=20241205T08%3A00-0000&grp_type=ALL\n"
     ]
    },
    {
     "name": "stderr",
     "output_type": "stream",
     "text": [
      "CAISO Parallel:  89%|████████████████████▌  | 1072/1201 [02:53<00:15,  8.30it/s]"
     ]
    },
    {
     "name": "stdout",
     "output_type": "stream",
     "text": [
      "❌ Download error for 20241207: 429 Client Error: Too Many Requests for url: https://oasis.caiso.com/oasisapi/SingleZip?resultformat=6&queryname=PRC_LMP&version=12&market_run_id=DAM&startdatetime=20241207T08%3A00-0000&enddatetime=20241207T08%3A00-0000&grp_type=ALL❌ Download error for 20241206: 429 Client Error: Too Many Requests for url: https://oasis.caiso.com/oasisapi/SingleZip?resultformat=6&queryname=PRC_LMP&version=12&market_run_id=DAM&startdatetime=20241206T08%3A00-0000&enddatetime=20241206T08%3A00-0000&grp_type=ALL\n",
      "\n",
      "❌ Download error for 20241208: 429 Client Error: Too Many Requests for url: https://oasis.caiso.com/oasisapi/SingleZip?resultformat=6&queryname=PRC_LMP&version=12&market_run_id=DAM&startdatetime=20241208T08%3A00-0000&enddatetime=20241208T08%3A00-0000&grp_type=ALL\n",
      "❌ Download error for 20241209: 429 Client Error: Too Many Requests for url: https://oasis.caiso.com/oasisapi/SingleZip?resultformat=6&queryname=PRC_LMP&version=12&market_run_id=DAM&startdatetime=20241209T08%3A00-0000&enddatetime=20241209T08%3A00-0000&grp_type=ALL\n"
     ]
    },
    {
     "name": "stderr",
     "output_type": "stream",
     "text": [
      "CAISO Parallel:  89%|████████████████████▌  | 1074/1201 [02:53<00:15,  7.97it/s]"
     ]
    },
    {
     "name": "stdout",
     "output_type": "stream",
     "text": [
      "❌ Download error for 20241210: 429 Client Error: Too Many Requests for url: https://oasis.caiso.com/oasisapi/SingleZip?resultformat=6&queryname=PRC_LMP&version=12&market_run_id=DAM&startdatetime=20241210T08%3A00-0000&enddatetime=20241210T08%3A00-0000&grp_type=ALL\n"
     ]
    },
    {
     "name": "stderr",
     "output_type": "stream",
     "text": [
      "CAISO Parallel:  90%|████████████████████▌  | 1076/1201 [02:54<00:17,  6.99it/s]"
     ]
    },
    {
     "name": "stdout",
     "output_type": "stream",
     "text": [
      "❌ Download error for 20241212: 429 Client Error: Too Many Requests for url: https://oasis.caiso.com/oasisapi/SingleZip?resultformat=6&queryname=PRC_LMP&version=12&market_run_id=DAM&startdatetime=20241212T08%3A00-0000&enddatetime=20241212T08%3A00-0000&grp_type=ALL\n",
      "❌ Download error for 20241213: 429 Client Error: Too Many Requests for url: https://oasis.caiso.com/oasisapi/SingleZip?resultformat=6&queryname=PRC_LMP&version=12&market_run_id=DAM&startdatetime=20241213T08%3A00-0000&enddatetime=20241213T08%3A00-0000&grp_type=ALL\n",
      "❌ Download error for 20241214: 429 Client Error: Too Many Requests for url: https://oasis.caiso.com/oasisapi/SingleZip?resultformat=6&queryname=PRC_LMP&version=12&market_run_id=DAM&startdatetime=20241214T08%3A00-0000&enddatetime=20241214T08%3A00-0000&grp_type=ALL\n"
     ]
    },
    {
     "name": "stderr",
     "output_type": "stream",
     "text": [
      "CAISO Parallel:  90%|████████████████████▋  | 1078/1201 [02:54<00:16,  7.25it/s]"
     ]
    },
    {
     "name": "stdout",
     "output_type": "stream",
     "text": [
      "❌ Download error for 20241215: 429 Client Error: Too Many Requests for url: https://oasis.caiso.com/oasisapi/SingleZip?resultformat=6&queryname=PRC_LMP&version=12&market_run_id=DAM&startdatetime=20241215T08%3A00-0000&enddatetime=20241215T08%3A00-0000&grp_type=ALL\n"
     ]
    },
    {
     "name": "stderr",
     "output_type": "stream",
     "text": [
      "CAISO Parallel:  90%|████████████████████▋  | 1080/1201 [02:54<00:18,  6.62it/s]"
     ]
    },
    {
     "name": "stdout",
     "output_type": "stream",
     "text": [
      "❌ Download error for 20241216: 429 Client Error: Too Many Requests for url: https://oasis.caiso.com/oasisapi/SingleZip?resultformat=6&queryname=PRC_LMP&version=12&market_run_id=DAM&startdatetime=20241216T08%3A00-0000&enddatetime=20241216T08%3A00-0000&grp_type=ALL\n",
      "❌ Download error for 20241217: 429 Client Error: Too Many Requests for url: https://oasis.caiso.com/oasisapi/SingleZip?resultformat=6&queryname=PRC_LMP&version=12&market_run_id=DAM&startdatetime=20241217T08%3A00-0000&enddatetime=20241217T08%3A00-0000&grp_type=ALL\n",
      "❌ Download error for 20241218: 429 Client Error: Too Many Requests for url: https://oasis.caiso.com/oasisapi/SingleZip?resultformat=6&queryname=PRC_LMP&version=12&market_run_id=DAM&startdatetime=20241218T08%3A00-0000&enddatetime=20241218T08%3A00-0000&grp_type=ALL\n"
     ]
    },
    {
     "name": "stderr",
     "output_type": "stream",
     "text": [
      "CAISO Parallel:  90%|████████████████████▋  | 1082/1201 [02:55<00:17,  6.94it/s]"
     ]
    },
    {
     "name": "stdout",
     "output_type": "stream",
     "text": [
      "❌ Download error for 20241219: 429 Client Error: Too Many Requests for url: https://oasis.caiso.com/oasisapi/SingleZip?resultformat=6&queryname=PRC_LMP&version=12&market_run_id=DAM&startdatetime=20241219T08%3A00-0000&enddatetime=20241219T08%3A00-0000&grp_type=ALL\n"
     ]
    },
    {
     "name": "stderr",
     "output_type": "stream",
     "text": [
      "CAISO Parallel:  90%|████████████████████▊  | 1085/1201 [02:55<00:16,  7.13it/s]"
     ]
    },
    {
     "name": "stdout",
     "output_type": "stream",
     "text": [
      "❌ Download error for 20241220: 429 Client Error: Too Many Requests for url: https://oasis.caiso.com/oasisapi/SingleZip?resultformat=6&queryname=PRC_LMP&version=12&market_run_id=DAM&startdatetime=20241220T08%3A00-0000&enddatetime=20241220T08%3A00-0000&grp_type=ALL\n",
      "❌ Download error for 20241221: 429 Client Error: Too Many Requests for url: https://oasis.caiso.com/oasisapi/SingleZip?resultformat=6&queryname=PRC_LMP&version=12&market_run_id=DAM&startdatetime=20241221T08%3A00-0000&enddatetime=20241221T08%3A00-0000&grp_type=ALL\n",
      "❌ Download error for 20241222: 429 Client Error: Too Many Requests for url: https://oasis.caiso.com/oasisapi/SingleZip?resultformat=6&queryname=PRC_LMP&version=12&market_run_id=DAM&startdatetime=20241222T08%3A00-0000&enddatetime=20241222T08%3A00-0000&grp_type=ALL\n"
     ]
    },
    {
     "name": "stderr",
     "output_type": "stream",
     "text": [
      "CAISO Parallel:  90%|████████████████████▊  | 1086/1201 [02:55<00:17,  6.62it/s]"
     ]
    },
    {
     "name": "stdout",
     "output_type": "stream",
     "text": [
      "❌ Download error for 20241223: 429 Client Error: Too Many Requests for url: https://oasis.caiso.com/oasisapi/SingleZip?resultformat=6&queryname=PRC_LMP&version=12&market_run_id=DAM&startdatetime=20241223T08%3A00-0000&enddatetime=20241223T08%3A00-0000&grp_type=ALL\n"
     ]
    },
    {
     "name": "stderr",
     "output_type": "stream",
     "text": [
      "CAISO Parallel:  91%|████████████████████▊  | 1089/1201 [02:56<00:15,  7.08it/s]"
     ]
    },
    {
     "name": "stdout",
     "output_type": "stream",
     "text": [
      "❌ Download error for 20241224: 429 Client Error: Too Many Requests for url: https://oasis.caiso.com/oasisapi/SingleZip?resultformat=6&queryname=PRC_LMP&version=12&market_run_id=DAM&startdatetime=20241224T08%3A00-0000&enddatetime=20241224T08%3A00-0000&grp_type=ALL\n",
      "❌ Download error for 20241225: 429 Client Error: Too Many Requests for url: https://oasis.caiso.com/oasisapi/SingleZip?resultformat=6&queryname=PRC_LMP&version=12&market_run_id=DAM&startdatetime=20241225T08%3A00-0000&enddatetime=20241225T08%3A00-0000&grp_type=ALL\n",
      "❌ Download error for 20241226: 429 Client Error: Too Many Requests for url: https://oasis.caiso.com/oasisapi/SingleZip?resultformat=6&queryname=PRC_LMP&version=12&market_run_id=DAM&startdatetime=20241226T08%3A00-0000&enddatetime=20241226T08%3A00-0000&grp_type=ALL\n"
     ]
    },
    {
     "name": "stderr",
     "output_type": "stream",
     "text": [
      "CAISO Parallel:  91%|████████████████████▊  | 1090/1201 [02:56<00:17,  6.45it/s]"
     ]
    },
    {
     "name": "stdout",
     "output_type": "stream",
     "text": [
      "❌ Download error for 20241227: 429 Client Error: Too Many Requests for url: https://oasis.caiso.com/oasisapi/SingleZip?resultformat=6&queryname=PRC_LMP&version=12&market_run_id=DAM&startdatetime=20241227T08%3A00-0000&enddatetime=20241227T08%3A00-0000&grp_type=ALL\n"
     ]
    },
    {
     "name": "stderr",
     "output_type": "stream",
     "text": [
      "CAISO Parallel:  91%|████████████████████▉  | 1093/1201 [02:56<00:15,  7.08it/s]"
     ]
    },
    {
     "name": "stdout",
     "output_type": "stream",
     "text": [
      "❌ Download error for 20241228: 429 Client Error: Too Many Requests for url: https://oasis.caiso.com/oasisapi/SingleZip?resultformat=6&queryname=PRC_LMP&version=12&market_run_id=DAM&startdatetime=20241228T08%3A00-0000&enddatetime=20241228T08%3A00-0000&grp_type=ALL\n",
      "❌ Download error for 20241229: 429 Client Error: Too Many Requests for url: https://oasis.caiso.com/oasisapi/SingleZip?resultformat=6&queryname=PRC_LMP&version=12&market_run_id=DAM&startdatetime=20241229T08%3A00-0000&enddatetime=20241229T08%3A00-0000&grp_type=ALL\n",
      "❌ Download error for 20241230: 429 Client Error: Too Many Requests for url: https://oasis.caiso.com/oasisapi/SingleZip?resultformat=6&queryname=PRC_LMP&version=12&market_run_id=DAM&startdatetime=20241230T08%3A00-0000&enddatetime=20241230T08%3A00-0000&grp_type=ALL\n"
     ]
    },
    {
     "name": "stderr",
     "output_type": "stream",
     "text": [
      "CAISO Parallel:  91%|████████████████████▉  | 1094/1201 [02:56<00:16,  6.35it/s]"
     ]
    },
    {
     "name": "stdout",
     "output_type": "stream",
     "text": [
      "❌ Download error for 20241231: 429 Client Error: Too Many Requests for url: https://oasis.caiso.com/oasisapi/SingleZip?resultformat=6&queryname=PRC_LMP&version=12&market_run_id=DAM&startdatetime=20241231T08%3A00-0000&enddatetime=20241231T08%3A00-0000&grp_type=ALL\n"
     ]
    },
    {
     "name": "stderr",
     "output_type": "stream",
     "text": [
      "CAISO Parallel:  91%|█████████████████████  | 1097/1201 [02:57<00:14,  7.12it/s]"
     ]
    },
    {
     "name": "stdout",
     "output_type": "stream",
     "text": [
      "❌ Download error for 20250101: 429 Client Error: Too Many Requests for url: https://oasis.caiso.com/oasisapi/SingleZip?resultformat=6&queryname=PRC_LMP&version=12&market_run_id=DAM&startdatetime=20250101T08%3A00-0000&enddatetime=20250101T08%3A00-0000&grp_type=ALL\n",
      "❌ Download error for 20250102: 429 Client Error: Too Many Requests for url: https://oasis.caiso.com/oasisapi/SingleZip?resultformat=6&queryname=PRC_LMP&version=12&market_run_id=DAM&startdatetime=20250102T08%3A00-0000&enddatetime=20250102T08%3A00-0000&grp_type=ALL\n",
      "❌ Download error for 20250103: 429 Client Error: Too Many Requests for url: https://oasis.caiso.com/oasisapi/SingleZip?resultformat=6&queryname=PRC_LMP&version=12&market_run_id=DAM&startdatetime=20250103T08%3A00-0000&enddatetime=20250103T08%3A00-0000&grp_type=ALL\n"
     ]
    },
    {
     "name": "stderr",
     "output_type": "stream",
     "text": [
      "CAISO Parallel:  91%|█████████████████████  | 1098/1201 [02:57<00:16,  6.34it/s]"
     ]
    },
    {
     "name": "stdout",
     "output_type": "stream",
     "text": [
      "❌ Download error for 20250104: 429 Client Error: Too Many Requests for url: https://oasis.caiso.com/oasisapi/SingleZip?resultformat=6&queryname=PRC_LMP&version=12&market_run_id=DAM&startdatetime=20250104T08%3A00-0000&enddatetime=20250104T08%3A00-0000&grp_type=ALL\n"
     ]
    },
    {
     "name": "stderr",
     "output_type": "stream",
     "text": [
      "CAISO Parallel:  92%|█████████████████████  | 1101/1201 [02:58<00:14,  7.01it/s]"
     ]
    },
    {
     "name": "stdout",
     "output_type": "stream",
     "text": [
      "❌ Download error for 20250105: 429 Client Error: Too Many Requests for url: https://oasis.caiso.com/oasisapi/SingleZip?resultformat=6&queryname=PRC_LMP&version=12&market_run_id=DAM&startdatetime=20250105T08%3A00-0000&enddatetime=20250105T08%3A00-0000&grp_type=ALL\n",
      "❌ Download error for 20250106: 429 Client Error: Too Many Requests for url: https://oasis.caiso.com/oasisapi/SingleZip?resultformat=6&queryname=PRC_LMP&version=12&market_run_id=DAM&startdatetime=20250106T08%3A00-0000&enddatetime=20250106T08%3A00-0000&grp_type=ALL\n",
      "❌ Download error for 20250107: 429 Client Error: Too Many Requests for url: https://oasis.caiso.com/oasisapi/SingleZip?resultformat=6&queryname=PRC_LMP&version=12&market_run_id=DAM&startdatetime=20250107T08%3A00-0000&enddatetime=20250107T08%3A00-0000&grp_type=ALL\n"
     ]
    },
    {
     "name": "stderr",
     "output_type": "stream",
     "text": [
      "CAISO Parallel:  92%|█████████████████████  | 1102/1201 [02:58<00:15,  6.40it/s]"
     ]
    },
    {
     "name": "stdout",
     "output_type": "stream",
     "text": [
      "❌ Download error for 20250108: 429 Client Error: Too Many Requests for url: https://oasis.caiso.com/oasisapi/SingleZip?resultformat=6&queryname=PRC_LMP&version=12&market_run_id=DAM&startdatetime=20250108T08%3A00-0000&enddatetime=20250108T08%3A00-0000&grp_type=ALL\n"
     ]
    },
    {
     "name": "stderr",
     "output_type": "stream",
     "text": [
      "CAISO Parallel:  92%|█████████████████████▏ | 1104/1201 [02:58<00:15,  6.09it/s]"
     ]
    },
    {
     "name": "stdout",
     "output_type": "stream",
     "text": [
      "❌ Download error for 20250109: 429 Client Error: Too Many Requests for url: https://oasis.caiso.com/oasisapi/SingleZip?resultformat=6&queryname=PRC_LMP&version=12&market_run_id=DAM&startdatetime=20250109T08%3A00-0000&enddatetime=20250109T08%3A00-0000&grp_type=ALL\n",
      "❌ Download error for 20250110: 429 Client Error: Too Many Requests for url: https://oasis.caiso.com/oasisapi/SingleZip?resultformat=6&queryname=PRC_LMP&version=12&market_run_id=DAM&startdatetime=20250110T08%3A00-0000&enddatetime=20250110T08%3A00-0000&grp_type=ALL\n",
      "❌ Download error for 20250111: 429 Client Error: Too Many Requests for url: https://oasis.caiso.com/oasisapi/SingleZip?resultformat=6&queryname=PRC_LMP&version=12&market_run_id=DAM&startdatetime=20250111T08%3A00-0000&enddatetime=20250111T08%3A00-0000&grp_type=ALL\n"
     ]
    },
    {
     "name": "stderr",
     "output_type": "stream",
     "text": [
      "CAISO Parallel:  92%|█████████████████████▏ | 1106/1201 [02:58<00:14,  6.73it/s]"
     ]
    },
    {
     "name": "stdout",
     "output_type": "stream",
     "text": [
      "❌ Download error for 20250112: 429 Client Error: Too Many Requests for url: https://oasis.caiso.com/oasisapi/SingleZip?resultformat=6&queryname=PRC_LMP&version=12&market_run_id=DAM&startdatetime=20250112T08%3A00-0000&enddatetime=20250112T08%3A00-0000&grp_type=ALL\n"
     ]
    },
    {
     "name": "stderr",
     "output_type": "stream",
     "text": [
      "CAISO Parallel:  92%|█████████████████████▏ | 1108/1201 [02:59<00:15,  6.19it/s]"
     ]
    },
    {
     "name": "stdout",
     "output_type": "stream",
     "text": [
      "❌ Download error for 20250113: 429 Client Error: Too Many Requests for url: https://oasis.caiso.com/oasisapi/SingleZip?resultformat=6&queryname=PRC_LMP&version=12&market_run_id=DAM&startdatetime=20250113T08%3A00-0000&enddatetime=20250113T08%3A00-0000&grp_type=ALL\n",
      "❌ Download error for 20250114: 429 Client Error: Too Many Requests for url: https://oasis.caiso.com/oasisapi/SingleZip?resultformat=6&queryname=PRC_LMP&version=12&market_run_id=DAM&startdatetime=20250114T08%3A00-0000&enddatetime=20250114T08%3A00-0000&grp_type=ALL\n",
      "❌ Download error for 20250115: 429 Client Error: Too Many Requests for url: https://oasis.caiso.com/oasisapi/SingleZip?resultformat=6&queryname=PRC_LMP&version=12&market_run_id=DAM&startdatetime=20250115T08%3A00-0000&enddatetime=20250115T08%3A00-0000&grp_type=ALL\n"
     ]
    },
    {
     "name": "stderr",
     "output_type": "stream",
     "text": [
      "CAISO Parallel:  92%|█████████████████████▎ | 1110/1201 [02:59<00:13,  6.78it/s]"
     ]
    },
    {
     "name": "stdout",
     "output_type": "stream",
     "text": [
      "❌ Download error for 20250116: 429 Client Error: Too Many Requests for url: https://oasis.caiso.com/oasisapi/SingleZip?resultformat=6&queryname=PRC_LMP&version=12&market_run_id=DAM&startdatetime=20250116T08%3A00-0000&enddatetime=20250116T08%3A00-0000&grp_type=ALL\n"
     ]
    },
    {
     "name": "stderr",
     "output_type": "stream",
     "text": [
      "CAISO Parallel:  93%|█████████████████████▎ | 1113/1201 [02:59<00:11,  7.33it/s]"
     ]
    },
    {
     "name": "stdout",
     "output_type": "stream",
     "text": [
      "❌ Download error for 20250117: 429 Client Error: Too Many Requests for url: https://oasis.caiso.com/oasisapi/SingleZip?resultformat=6&queryname=PRC_LMP&version=12&market_run_id=DAM&startdatetime=20250117T08%3A00-0000&enddatetime=20250117T08%3A00-0000&grp_type=ALL\n",
      "❌ Download error for 20250118: 429 Client Error: Too Many Requests for url: https://oasis.caiso.com/oasisapi/SingleZip?resultformat=6&queryname=PRC_LMP&version=12&market_run_id=DAM&startdatetime=20250118T08%3A00-0000&enddatetime=20250118T08%3A00-0000&grp_type=ALL\n",
      "❌ Download error for 20250119: 429 Client Error: Too Many Requests for url: https://oasis.caiso.com/oasisapi/SingleZip?resultformat=6&queryname=PRC_LMP&version=12&market_run_id=DAM&startdatetime=20250119T08%3A00-0000&enddatetime=20250119T08%3A00-0000&grp_type=ALL\n"
     ]
    },
    {
     "name": "stderr",
     "output_type": "stream",
     "text": [
      "CAISO Parallel:  93%|█████████████████████▎ | 1115/1201 [03:00<00:11,  7.45it/s]"
     ]
    },
    {
     "name": "stdout",
     "output_type": "stream",
     "text": [
      "❌ Download error for 20250120: 429 Client Error: Too Many Requests for url: https://oasis.caiso.com/oasisapi/SingleZip?resultformat=6&queryname=PRC_LMP&version=12&market_run_id=DAM&startdatetime=20250120T08%3A00-0000&enddatetime=20250120T08%3A00-0000&grp_type=ALL\n"
     ]
    },
    {
     "name": "stderr",
     "output_type": "stream",
     "text": [
      "CAISO Parallel:  93%|█████████████████████▍ | 1117/1201 [03:00<00:12,  6.48it/s]"
     ]
    },
    {
     "name": "stdout",
     "output_type": "stream",
     "text": [
      "❌ Download error for 20250122: 429 Client Error: Too Many Requests for url: https://oasis.caiso.com/oasisapi/SingleZip?resultformat=6&queryname=PRC_LMP&version=12&market_run_id=DAM&startdatetime=20250122T08%3A00-0000&enddatetime=20250122T08%3A00-0000&grp_type=ALL\n",
      "❌ Download error for 20250123: 429 Client Error: Too Many Requests for url: https://oasis.caiso.com/oasisapi/SingleZip?resultformat=6&queryname=PRC_LMP&version=12&market_run_id=DAM&startdatetime=20250123T08%3A00-0000&enddatetime=20250123T08%3A00-0000&grp_type=ALL\n",
      "❌ Download error for 20250124: 429 Client Error: Too Many Requests for url: https://oasis.caiso.com/oasisapi/SingleZip?resultformat=6&queryname=PRC_LMP&version=12&market_run_id=DAM&startdatetime=20250124T08%3A00-0000&enddatetime=20250124T08%3A00-0000&grp_type=ALL\n"
     ]
    },
    {
     "name": "stderr",
     "output_type": "stream",
     "text": [
      "CAISO Parallel:  93%|█████████████████████▍ | 1119/1201 [03:00<00:11,  6.85it/s]"
     ]
    },
    {
     "name": "stdout",
     "output_type": "stream",
     "text": [
      "❌ Download error for 20250125: 429 Client Error: Too Many Requests for url: https://oasis.caiso.com/oasisapi/SingleZip?resultformat=6&queryname=PRC_LMP&version=12&market_run_id=DAM&startdatetime=20250125T08%3A00-0000&enddatetime=20250125T08%3A00-0000&grp_type=ALL\n"
     ]
    },
    {
     "name": "stderr",
     "output_type": "stream",
     "text": [
      "CAISO Parallel:  93%|█████████████████████▍ | 1121/1201 [03:01<00:13,  5.92it/s]"
     ]
    },
    {
     "name": "stdout",
     "output_type": "stream",
     "text": [
      "❌ Download error for 20250126: 429 Client Error: Too Many Requests for url: https://oasis.caiso.com/oasisapi/SingleZip?resultformat=6&queryname=PRC_LMP&version=12&market_run_id=DAM&startdatetime=20250126T08%3A00-0000&enddatetime=20250126T08%3A00-0000&grp_type=ALL\n",
      "❌ Download error for 20250127: 429 Client Error: Too Many Requests for url: https://oasis.caiso.com/oasisapi/SingleZip?resultformat=6&queryname=PRC_LMP&version=12&market_run_id=DAM&startdatetime=20250127T08%3A00-0000&enddatetime=20250127T08%3A00-0000&grp_type=ALL\n",
      "❌ Download error for 20250128: 429 Client Error: Too Many Requests for url: https://oasis.caiso.com/oasisapi/SingleZip?resultformat=6&queryname=PRC_LMP&version=12&market_run_id=DAM&startdatetime=20250128T08%3A00-0000&enddatetime=20250128T08%3A00-0000&grp_type=ALL\n"
     ]
    },
    {
     "name": "stderr",
     "output_type": "stream",
     "text": [
      "CAISO Parallel:  94%|█████████████████████▌ | 1123/1201 [03:01<00:11,  6.77it/s]"
     ]
    },
    {
     "name": "stdout",
     "output_type": "stream",
     "text": [
      "❌ Download error for 20250129: 429 Client Error: Too Many Requests for url: https://oasis.caiso.com/oasisapi/SingleZip?resultformat=6&queryname=PRC_LMP&version=12&market_run_id=DAM&startdatetime=20250129T08%3A00-0000&enddatetime=20250129T08%3A00-0000&grp_type=ALL\n"
     ]
    },
    {
     "name": "stderr",
     "output_type": "stream",
     "text": [
      "CAISO Parallel:  94%|█████████████████████▌ | 1125/1201 [03:01<00:12,  5.97it/s]"
     ]
    },
    {
     "name": "stdout",
     "output_type": "stream",
     "text": [
      "❌ Download error for 20250130: 429 Client Error: Too Many Requests for url: https://oasis.caiso.com/oasisapi/SingleZip?resultformat=6&queryname=PRC_LMP&version=12&market_run_id=DAM&startdatetime=20250130T08%3A00-0000&enddatetime=20250130T08%3A00-0000&grp_type=ALL\n",
      "❌ Download error for 20250131: 429 Client Error: Too Many Requests for url: https://oasis.caiso.com/oasisapi/SingleZip?resultformat=6&queryname=PRC_LMP&version=12&market_run_id=DAM&startdatetime=20250131T08%3A00-0000&enddatetime=20250131T08%3A00-0000&grp_type=ALL\n",
      "❌ Download error for 20250201: 429 Client Error: Too Many Requests for url: https://oasis.caiso.com/oasisapi/SingleZip?resultformat=6&queryname=PRC_LMP&version=12&market_run_id=DAM&startdatetime=20250201T08%3A00-0000&enddatetime=20250201T08%3A00-0000&grp_type=ALL\n"
     ]
    },
    {
     "name": "stderr",
     "output_type": "stream",
     "text": [
      "CAISO Parallel:  94%|█████████████████████▌ | 1127/1201 [03:02<00:10,  6.96it/s]"
     ]
    },
    {
     "name": "stdout",
     "output_type": "stream",
     "text": [
      "❌ Download error for 20250202: 429 Client Error: Too Many Requests for url: https://oasis.caiso.com/oasisapi/SingleZip?resultformat=6&queryname=PRC_LMP&version=12&market_run_id=DAM&startdatetime=20250202T08%3A00-0000&enddatetime=20250202T08%3A00-0000&grp_type=ALL\n"
     ]
    },
    {
     "name": "stderr",
     "output_type": "stream",
     "text": [
      "CAISO Parallel:  94%|█████████████████████▌ | 1129/1201 [03:02<00:11,  6.00it/s]"
     ]
    },
    {
     "name": "stdout",
     "output_type": "stream",
     "text": [
      "❌ Download error for 20250203: 429 Client Error: Too Many Requests for url: https://oasis.caiso.com/oasisapi/SingleZip?resultformat=6&queryname=PRC_LMP&version=12&market_run_id=DAM&startdatetime=20250203T08%3A00-0000&enddatetime=20250203T08%3A00-0000&grp_type=ALL\n",
      "❌ Download error for 20250204: 429 Client Error: Too Many Requests for url: https://oasis.caiso.com/oasisapi/SingleZip?resultformat=6&queryname=PRC_LMP&version=12&market_run_id=DAM&startdatetime=20250204T08%3A00-0000&enddatetime=20250204T08%3A00-0000&grp_type=ALL\n",
      "❌ Download error for 20250205: 429 Client Error: Too Many Requests for url: https://oasis.caiso.com/oasisapi/SingleZip?resultformat=6&queryname=PRC_LMP&version=12&market_run_id=DAM&startdatetime=20250205T08%3A00-0000&enddatetime=20250205T08%3A00-0000&grp_type=ALL\n"
     ]
    },
    {
     "name": "stderr",
     "output_type": "stream",
     "text": [
      "CAISO Parallel:  94%|█████████████████████▋ | 1131/1201 [03:02<00:09,  7.01it/s]"
     ]
    },
    {
     "name": "stdout",
     "output_type": "stream",
     "text": [
      "❌ Download error for 20250206: 429 Client Error: Too Many Requests for url: https://oasis.caiso.com/oasisapi/SingleZip?resultformat=6&queryname=PRC_LMP&version=12&market_run_id=DAM&startdatetime=20250206T08%3A00-0000&enddatetime=20250206T08%3A00-0000&grp_type=ALL\n"
     ]
    },
    {
     "name": "stderr",
     "output_type": "stream",
     "text": [
      "CAISO Parallel:  94%|█████████████████████▋ | 1133/1201 [03:03<00:11,  5.98it/s]"
     ]
    },
    {
     "name": "stdout",
     "output_type": "stream",
     "text": [
      "❌ Download error for 20250207: 429 Client Error: Too Many Requests for url: https://oasis.caiso.com/oasisapi/SingleZip?resultformat=6&queryname=PRC_LMP&version=12&market_run_id=DAM&startdatetime=20250207T08%3A00-0000&enddatetime=20250207T08%3A00-0000&grp_type=ALL\n",
      "❌ Download error for 20250208: 429 Client Error: Too Many Requests for url: https://oasis.caiso.com/oasisapi/SingleZip?resultformat=6&queryname=PRC_LMP&version=12&market_run_id=DAM&startdatetime=20250208T08%3A00-0000&enddatetime=20250208T08%3A00-0000&grp_type=ALL\n",
      "❌ Download error for 20250209: 429 Client Error: Too Many Requests for url: https://oasis.caiso.com/oasisapi/SingleZip?resultformat=6&queryname=PRC_LMP&version=12&market_run_id=DAM&startdatetime=20250209T08%3A00-0000&enddatetime=20250209T08%3A00-0000&grp_type=ALL\n"
     ]
    },
    {
     "name": "stderr",
     "output_type": "stream",
     "text": [
      "CAISO Parallel:  95%|█████████████████████▋ | 1135/1201 [03:03<00:10,  6.06it/s]"
     ]
    },
    {
     "name": "stdout",
     "output_type": "stream",
     "text": [
      "❌ Download error for 20250210: 429 Client Error: Too Many Requests for url: https://oasis.caiso.com/oasisapi/SingleZip?resultformat=6&queryname=PRC_LMP&version=12&market_run_id=DAM&startdatetime=20250210T08%3A00-0000&enddatetime=20250210T08%3A00-0000&grp_type=ALL\n"
     ]
    },
    {
     "name": "stderr",
     "output_type": "stream",
     "text": [
      "CAISO Parallel:  95%|█████████████████████▊ | 1137/1201 [03:03<00:10,  6.22it/s]"
     ]
    },
    {
     "name": "stdout",
     "output_type": "stream",
     "text": [
      "❌ Download error for 20250211: 429 Client Error: Too Many Requests for url: https://oasis.caiso.com/oasisapi/SingleZip?resultformat=6&queryname=PRC_LMP&version=12&market_run_id=DAM&startdatetime=20250211T08%3A00-0000&enddatetime=20250211T08%3A00-0000&grp_type=ALL\n",
      "❌ Download error for 20250212: 429 Client Error: Too Many Requests for url: https://oasis.caiso.com/oasisapi/SingleZip?resultformat=6&queryname=PRC_LMP&version=12&market_run_id=DAM&startdatetime=20250212T08%3A00-0000&enddatetime=20250212T08%3A00-0000&grp_type=ALL\n",
      "❌ Download error for 20250213: 429 Client Error: Too Many Requests for url: https://oasis.caiso.com/oasisapi/SingleZip?resultformat=6&queryname=PRC_LMP&version=12&market_run_id=DAM&startdatetime=20250213T08%3A00-0000&enddatetime=20250213T08%3A00-0000&grp_type=ALL\n"
     ]
    },
    {
     "name": "stderr",
     "output_type": "stream",
     "text": [
      "CAISO Parallel:  95%|█████████████████████▊ | 1140/1201 [03:04<00:10,  5.83it/s]"
     ]
    },
    {
     "name": "stdout",
     "output_type": "stream",
     "text": [
      "❌ Download error for 20250214: 429 Client Error: Too Many Requests for url: https://oasis.caiso.com/oasisapi/SingleZip?resultformat=6&queryname=PRC_LMP&version=12&market_run_id=DAM&startdatetime=20250214T08%3A00-0000&enddatetime=20250214T08%3A00-0000&grp_type=ALL\n"
     ]
    },
    {
     "name": "stderr",
     "output_type": "stream",
     "text": [
      "CAISO Parallel:  95%|█████████████████████▊ | 1142/1201 [03:04<00:07,  8.03it/s]"
     ]
    },
    {
     "name": "stdout",
     "output_type": "stream",
     "text": [
      "❌ Download error for 20250215: 429 Client Error: Too Many Requests for url: https://oasis.caiso.com/oasisapi/SingleZip?resultformat=6&queryname=PRC_LMP&version=12&market_run_id=DAM&startdatetime=20250215T08%3A00-0000&enddatetime=20250215T08%3A00-0000&grp_type=ALL\n",
      "❌ Download error for 20250216: 429 Client Error: Too Many Requests for url: https://oasis.caiso.com/oasisapi/SingleZip?resultformat=6&queryname=PRC_LMP&version=12&market_run_id=DAM&startdatetime=20250216T08%3A00-0000&enddatetime=20250216T08%3A00-0000&grp_type=ALL\n",
      "❌ Download error for 20250217: 429 Client Error: Too Many Requests for url: https://oasis.caiso.com/oasisapi/SingleZip?resultformat=6&queryname=PRC_LMP&version=12&market_run_id=DAM&startdatetime=20250217T08%3A00-0000&enddatetime=20250217T08%3A00-0000&grp_type=ALL\n"
     ]
    },
    {
     "name": "stderr",
     "output_type": "stream",
     "text": [
      "CAISO Parallel:  95%|█████████████████████▉ | 1144/1201 [03:04<00:07,  7.21it/s]"
     ]
    },
    {
     "name": "stdout",
     "output_type": "stream",
     "text": [
      "❌ Download error for 20250218: 429 Client Error: Too Many Requests for url: https://oasis.caiso.com/oasisapi/SingleZip?resultformat=6&queryname=PRC_LMP&version=12&market_run_id=DAM&startdatetime=20250218T08%3A00-0000&enddatetime=20250218T08%3A00-0000&grp_type=ALL\n"
     ]
    },
    {
     "name": "stderr",
     "output_type": "stream",
     "text": [
      "CAISO Parallel:  96%|█████████████████████▉ | 1147/1201 [03:05<00:06,  8.71it/s]"
     ]
    },
    {
     "name": "stdout",
     "output_type": "stream",
     "text": [
      "❌ Download error for 20250219: 429 Client Error: Too Many Requests for url: https://oasis.caiso.com/oasisapi/SingleZip?resultformat=6&queryname=PRC_LMP&version=12&market_run_id=DAM&startdatetime=20250219T08%3A00-0000&enddatetime=20250219T08%3A00-0000&grp_type=ALL\n",
      "❌ Download error for 20250220: 429 Client Error: Too Many Requests for url: https://oasis.caiso.com/oasisapi/SingleZip?resultformat=6&queryname=PRC_LMP&version=12&market_run_id=DAM&startdatetime=20250220T08%3A00-0000&enddatetime=20250220T08%3A00-0000&grp_type=ALL\n",
      "❌ Download error for 20250221: 429 Client Error: Too Many Requests for url: https://oasis.caiso.com/oasisapi/SingleZip?resultformat=6&queryname=PRC_LMP&version=12&market_run_id=DAM&startdatetime=20250221T08%3A00-0000&enddatetime=20250221T08%3A00-0000&grp_type=ALL\n",
      "❌ Download error for 20250222: 429 Client Error: Too Many Requests for url: https://oasis.caiso.com/oasisapi/SingleZip?resultformat=6&queryname=PRC_LMP&version=12&market_run_id=DAM&startdatetime=20250222T08%3A00-0000&enddatetime=20250222T08%3A00-0000&grp_type=ALL\n"
     ]
    },
    {
     "name": "stderr",
     "output_type": "stream",
     "text": [
      "CAISO Parallel:  96%|██████████████████████ | 1149/1201 [03:05<00:06,  7.62it/s]"
     ]
    },
    {
     "name": "stdout",
     "output_type": "stream",
     "text": [
      "❌ Download error for 20250223: 429 Client Error: Too Many Requests for url: https://oasis.caiso.com/oasisapi/SingleZip?resultformat=6&queryname=PRC_LMP&version=12&market_run_id=DAM&startdatetime=20250223T08%3A00-0000&enddatetime=20250223T08%3A00-0000&grp_type=ALL\n"
     ]
    },
    {
     "name": "stderr",
     "output_type": "stream",
     "text": [
      "CAISO Parallel:  96%|██████████████████████ | 1152/1201 [03:05<00:05,  8.68it/s]"
     ]
    },
    {
     "name": "stdout",
     "output_type": "stream",
     "text": [
      "❌ Download error for 20250225: 429 Client Error: Too Many Requests for url: https://oasis.caiso.com/oasisapi/SingleZip?resultformat=6&queryname=PRC_LMP&version=12&market_run_id=DAM&startdatetime=20250225T08%3A00-0000&enddatetime=20250225T08%3A00-0000&grp_type=ALL\n",
      "❌ Download error for 20250224: 429 Client Error: Too Many Requests for url: https://oasis.caiso.com/oasisapi/SingleZip?resultformat=6&queryname=PRC_LMP&version=12&market_run_id=DAM&startdatetime=20250224T08%3A00-0000&enddatetime=20250224T08%3A00-0000&grp_type=ALL\n",
      "❌ Download error for 20250226: 429 Client Error: Too Many Requests for url: https://oasis.caiso.com/oasisapi/SingleZip?resultformat=6&queryname=PRC_LMP&version=12&market_run_id=DAM&startdatetime=20250226T08%3A00-0000&enddatetime=20250226T08%3A00-0000&grp_type=ALL\n",
      "❌ Download error for 20250227: 429 Client Error: Too Many Requests for url: https://oasis.caiso.com/oasisapi/SingleZip?resultformat=6&queryname=PRC_LMP&version=12&market_run_id=DAM&startdatetime=20250227T08%3A00-0000&enddatetime=20250227T08%3A00-0000&grp_type=ALL\n"
     ]
    },
    {
     "name": "stderr",
     "output_type": "stream",
     "text": [
      "CAISO Parallel:  96%|██████████████████████▏| 1156/1201 [03:06<00:05,  7.68it/s]"
     ]
    },
    {
     "name": "stdout",
     "output_type": "stream",
     "text": [
      "❌ Download error for 20250302: 429 Client Error: Too Many Requests for url: https://oasis.caiso.com/oasisapi/SingleZip?resultformat=6&queryname=PRC_LMP&version=12&market_run_id=DAM&startdatetime=20250302T08%3A00-0000&enddatetime=20250302T08%3A00-0000&grp_type=ALL\n",
      "❌ Download error for 20250301: 429 Client Error: Too Many Requests for url: https://oasis.caiso.com/oasisapi/SingleZip?resultformat=6&queryname=PRC_LMP&version=12&market_run_id=DAM&startdatetime=20250301T08%3A00-0000&enddatetime=20250301T08%3A00-0000&grp_type=ALL\n",
      "❌ Download error for 20250304: 429 Client Error: Too Many Requests for url: https://oasis.caiso.com/oasisapi/SingleZip?resultformat=6&queryname=PRC_LMP&version=12&market_run_id=DAM&startdatetime=20250304T08%3A00-0000&enddatetime=20250304T08%3A00-0000&grp_type=ALL\n",
      "❌ Download error for 20250303: 429 Client Error: Too Many Requests for url: https://oasis.caiso.com/oasisapi/SingleZip?resultformat=6&queryname=PRC_LMP&version=12&market_run_id=DAM&startdatetime=20250303T08%3A00-0000&enddatetime=20250303T08%3A00-0000&grp_type=ALL\n"
     ]
    },
    {
     "name": "stderr",
     "output_type": "stream",
     "text": [
      "CAISO Parallel:  97%|██████████████████████▏| 1160/1201 [03:07<00:05,  7.23it/s]"
     ]
    },
    {
     "name": "stdout",
     "output_type": "stream",
     "text": [
      "❌ Download error for 20250305: 429 Client Error: Too Many Requests for url: https://oasis.caiso.com/oasisapi/SingleZip?resultformat=6&queryname=PRC_LMP&version=12&market_run_id=DAM&startdatetime=20250305T08%3A00-0000&enddatetime=20250305T08%3A00-0000&grp_type=ALL\n",
      "❌ Download error for 20250306: 429 Client Error: Too Many Requests for url: https://oasis.caiso.com/oasisapi/SingleZip?resultformat=6&queryname=PRC_LMP&version=12&market_run_id=DAM&startdatetime=20250306T08%3A00-0000&enddatetime=20250306T08%3A00-0000&grp_type=ALL\n",
      "❌ Download error for 20250308: 429 Client Error: Too Many Requests for url: https://oasis.caiso.com/oasisapi/SingleZip?resultformat=6&queryname=PRC_LMP&version=12&market_run_id=DAM&startdatetime=20250308T08%3A00-0000&enddatetime=20250308T08%3A00-0000&grp_type=ALL\n",
      "❌ Download error for 20250307: 429 Client Error: Too Many Requests for url: https://oasis.caiso.com/oasisapi/SingleZip?resultformat=6&queryname=PRC_LMP&version=12&market_run_id=DAM&startdatetime=20250307T08%3A00-0000&enddatetime=20250307T08%3A00-0000&grp_type=ALL\n"
     ]
    },
    {
     "name": "stderr",
     "output_type": "stream",
     "text": [
      "CAISO Parallel:  97%|██████████████████████▎| 1164/1201 [03:07<00:05,  7.15it/s]"
     ]
    },
    {
     "name": "stdout",
     "output_type": "stream",
     "text": [
      "❌ Download error for 20250309: 429 Client Error: Too Many Requests for url: https://oasis.caiso.com/oasisapi/SingleZip?resultformat=6&queryname=PRC_LMP&version=12&market_run_id=DAM&startdatetime=20250309T08%3A00-0000&enddatetime=20250309T08%3A00-0000&grp_type=ALL❌ Download error for 20250310: 429 Client Error: Too Many Requests for url: https://oasis.caiso.com/oasisapi/SingleZip?resultformat=6&queryname=PRC_LMP&version=12&market_run_id=DAM&startdatetime=20250310T08%3A00-0000&enddatetime=20250310T08%3A00-0000&grp_type=ALL\n",
      "\n",
      "❌ Download error for 20250311: 429 Client Error: Too Many Requests for url: https://oasis.caiso.com/oasisapi/SingleZip?resultformat=6&queryname=PRC_LMP&version=12&market_run_id=DAM&startdatetime=20250311T08%3A00-0000&enddatetime=20250311T08%3A00-0000&grp_type=ALL\n",
      "❌ Download error for 20250312: 429 Client Error: Too Many Requests for url: https://oasis.caiso.com/oasisapi/SingleZip?resultformat=6&queryname=PRC_LMP&version=12&market_run_id=DAM&startdatetime=20250312T08%3A00-0000&enddatetime=20250312T08%3A00-0000&grp_type=ALL\n"
     ]
    },
    {
     "name": "stderr",
     "output_type": "stream",
     "text": [
      "CAISO Parallel:  97%|██████████████████████▎| 1168/1201 [03:08<00:04,  7.09it/s]"
     ]
    },
    {
     "name": "stdout",
     "output_type": "stream",
     "text": [
      "❌ Download error for 20250314: 429 Client Error: Too Many Requests for url: https://oasis.caiso.com/oasisapi/SingleZip?resultformat=6&queryname=PRC_LMP&version=12&market_run_id=DAM&startdatetime=20250314T08%3A00-0000&enddatetime=20250314T08%3A00-0000&grp_type=ALL❌ Download error for 20250313: 429 Client Error: Too Many Requests for url: https://oasis.caiso.com/oasisapi/SingleZip?resultformat=6&queryname=PRC_LMP&version=12&market_run_id=DAM&startdatetime=20250313T08%3A00-0000&enddatetime=20250313T08%3A00-0000&grp_type=ALL\n",
      "\n",
      "❌ Download error for 20250316: 429 Client Error: Too Many Requests for url: https://oasis.caiso.com/oasisapi/SingleZip?resultformat=6&queryname=PRC_LMP&version=12&market_run_id=DAM&startdatetime=20250316T08%3A00-0000&enddatetime=20250316T08%3A00-0000&grp_type=ALL\n",
      "❌ Download error for 20250315: 429 Client Error: Too Many Requests for url: https://oasis.caiso.com/oasisapi/SingleZip?resultformat=6&queryname=PRC_LMP&version=12&market_run_id=DAM&startdatetime=20250315T08%3A00-0000&enddatetime=20250315T08%3A00-0000&grp_type=ALL\n"
     ]
    },
    {
     "name": "stderr",
     "output_type": "stream",
     "text": [
      "CAISO Parallel:  98%|██████████████████████▍| 1172/1201 [03:08<00:04,  7.06it/s]"
     ]
    },
    {
     "name": "stdout",
     "output_type": "stream",
     "text": [
      "❌ Download error for 20250317: 429 Client Error: Too Many Requests for url: https://oasis.caiso.com/oasisapi/SingleZip?resultformat=6&queryname=PRC_LMP&version=12&market_run_id=DAM&startdatetime=20250317T08%3A00-0000&enddatetime=20250317T08%3A00-0000&grp_type=ALL❌ Download error for 20250318: 429 Client Error: Too Many Requests for url: https://oasis.caiso.com/oasisapi/SingleZip?resultformat=6&queryname=PRC_LMP&version=12&market_run_id=DAM&startdatetime=20250318T08%3A00-0000&enddatetime=20250318T08%3A00-0000&grp_type=ALL\n",
      "\n",
      "❌ Download error for 20250320: 429 Client Error: Too Many Requests for url: https://oasis.caiso.com/oasisapi/SingleZip?resultformat=6&queryname=PRC_LMP&version=12&market_run_id=DAM&startdatetime=20250320T08%3A00-0000&enddatetime=20250320T08%3A00-0000&grp_type=ALL\n",
      "❌ Download error for 20250319: 429 Client Error: Too Many Requests for url: https://oasis.caiso.com/oasisapi/SingleZip?resultformat=6&queryname=PRC_LMP&version=12&market_run_id=DAM&startdatetime=20250319T08%3A00-0000&enddatetime=20250319T08%3A00-0000&grp_type=ALL\n"
     ]
    },
    {
     "name": "stderr",
     "output_type": "stream",
     "text": [
      "CAISO Parallel:  98%|██████████████████████▌| 1176/1201 [03:09<00:03,  7.06it/s]"
     ]
    },
    {
     "name": "stdout",
     "output_type": "stream",
     "text": [
      "❌ Download error for 20250322: 429 Client Error: Too Many Requests for url: https://oasis.caiso.com/oasisapi/SingleZip?resultformat=6&queryname=PRC_LMP&version=12&market_run_id=DAM&startdatetime=20250322T08%3A00-0000&enddatetime=20250322T08%3A00-0000&grp_type=ALL❌ Download error for 20250321: 429 Client Error: Too Many Requests for url: https://oasis.caiso.com/oasisapi/SingleZip?resultformat=6&queryname=PRC_LMP&version=12&market_run_id=DAM&startdatetime=20250321T08%3A00-0000&enddatetime=20250321T08%3A00-0000&grp_type=ALL\n",
      "\n",
      "❌ Download error for 20250323: 429 Client Error: Too Many Requests for url: https://oasis.caiso.com/oasisapi/SingleZip?resultformat=6&queryname=PRC_LMP&version=12&market_run_id=DAM&startdatetime=20250323T08%3A00-0000&enddatetime=20250323T08%3A00-0000&grp_type=ALL\n",
      "❌ Download error for 20250324: 429 Client Error: Too Many Requests for url: https://oasis.caiso.com/oasisapi/SingleZip?resultformat=6&queryname=PRC_LMP&version=12&market_run_id=DAM&startdatetime=20250324T08%3A00-0000&enddatetime=20250324T08%3A00-0000&grp_type=ALL\n"
     ]
    },
    {
     "name": "stderr",
     "output_type": "stream",
     "text": [
      "CAISO Parallel:  98%|██████████████████████▌| 1180/1201 [03:10<00:02,  7.33it/s]"
     ]
    },
    {
     "name": "stdout",
     "output_type": "stream",
     "text": [
      "❌ Download error for 20250326: 429 Client Error: Too Many Requests for url: https://oasis.caiso.com/oasisapi/SingleZip?resultformat=6&queryname=PRC_LMP&version=12&market_run_id=DAM&startdatetime=20250326T08%3A00-0000&enddatetime=20250326T08%3A00-0000&grp_type=ALL\n",
      "❌ Download error for 20250325: 429 Client Error: Too Many Requests for url: https://oasis.caiso.com/oasisapi/SingleZip?resultformat=6&queryname=PRC_LMP&version=12&market_run_id=DAM&startdatetime=20250325T08%3A00-0000&enddatetime=20250325T08%3A00-0000&grp_type=ALL\n",
      "❌ Download error for 20250328: 429 Client Error: Too Many Requests for url: https://oasis.caiso.com/oasisapi/SingleZip?resultformat=6&queryname=PRC_LMP&version=12&market_run_id=DAM&startdatetime=20250328T08%3A00-0000&enddatetime=20250328T08%3A00-0000&grp_type=ALL\n",
      "❌ Download error for 20250327: 429 Client Error: Too Many Requests for url: https://oasis.caiso.com/oasisapi/SingleZip?resultformat=6&queryname=PRC_LMP&version=12&market_run_id=DAM&startdatetime=20250327T08%3A00-0000&enddatetime=20250327T08%3A00-0000&grp_type=ALL\n"
     ]
    },
    {
     "name": "stderr",
     "output_type": "stream",
     "text": [
      "CAISO Parallel:  99%|██████████████████████▋| 1184/1201 [03:10<00:02,  6.89it/s]"
     ]
    },
    {
     "name": "stdout",
     "output_type": "stream",
     "text": [
      "❌ Download error for 20250329: 429 Client Error: Too Many Requests for url: https://oasis.caiso.com/oasisapi/SingleZip?resultformat=6&queryname=PRC_LMP&version=12&market_run_id=DAM&startdatetime=20250329T08%3A00-0000&enddatetime=20250329T08%3A00-0000&grp_type=ALL\n",
      "❌ Download error for 20250330: 429 Client Error: Too Many Requests for url: https://oasis.caiso.com/oasisapi/SingleZip?resultformat=6&queryname=PRC_LMP&version=12&market_run_id=DAM&startdatetime=20250330T08%3A00-0000&enddatetime=20250330T08%3A00-0000&grp_type=ALL\n",
      "❌ Download error for 20250331: 429 Client Error: Too Many Requests for url: https://oasis.caiso.com/oasisapi/SingleZip?resultformat=6&queryname=PRC_LMP&version=12&market_run_id=DAM&startdatetime=20250331T08%3A00-0000&enddatetime=20250331T08%3A00-0000&grp_type=ALL\n"
     ]
    },
    {
     "name": "stderr",
     "output_type": "stream",
     "text": [
      "CAISO Parallel:  99%|██████████████████████▋| 1186/1201 [03:10<00:01,  8.56it/s]"
     ]
    },
    {
     "name": "stdout",
     "output_type": "stream",
     "text": [
      "❌ Download error for 20250401: 429 Client Error: Too Many Requests for url: https://oasis.caiso.com/oasisapi/SingleZip?resultformat=6&queryname=PRC_LMP&version=12&market_run_id=DAM&startdatetime=20250401T08%3A00-0000&enddatetime=20250401T08%3A00-0000&grp_type=ALL❌ Download error for 20250402: 429 Client Error: Too Many Requests for url: https://oasis.caiso.com/oasisapi/SingleZip?resultformat=6&queryname=PRC_LMP&version=12&market_run_id=DAM&startdatetime=20250402T08%3A00-0000&enddatetime=20250402T08%3A00-0000&grp_type=ALL\n",
      "\n"
     ]
    },
    {
     "name": "stderr",
     "output_type": "stream",
     "text": [
      "CAISO Parallel:  99%|██████████████████████▊| 1189/1201 [03:11<00:01,  6.98it/s]"
     ]
    },
    {
     "name": "stdout",
     "output_type": "stream",
     "text": [
      "❌ Download error for 20250403: 429 Client Error: Too Many Requests for url: https://oasis.caiso.com/oasisapi/SingleZip?resultformat=6&queryname=PRC_LMP&version=12&market_run_id=DAM&startdatetime=20250403T08%3A00-0000&enddatetime=20250403T08%3A00-0000&grp_type=ALL\n",
      "❌ Download error for 20250404: 429 Client Error: Too Many Requests for url: https://oasis.caiso.com/oasisapi/SingleZip?resultformat=6&queryname=PRC_LMP&version=12&market_run_id=DAM&startdatetime=20250404T08%3A00-0000&enddatetime=20250404T08%3A00-0000&grp_type=ALL\n",
      "❌ Download error for 20250405: 429 Client Error: Too Many Requests for url: https://oasis.caiso.com/oasisapi/SingleZip?resultformat=6&queryname=PRC_LMP&version=12&market_run_id=DAM&startdatetime=20250405T08%3A00-0000&enddatetime=20250405T08%3A00-0000&grp_type=ALL\n"
     ]
    },
    {
     "name": "stderr",
     "output_type": "stream",
     "text": [
      "CAISO Parallel:  99%|██████████████████████▊| 1192/1201 [03:11<00:00, 10.40it/s]"
     ]
    },
    {
     "name": "stdout",
     "output_type": "stream",
     "text": [
      "❌ Download error for 20250407: 429 Client Error: Too Many Requests for url: https://oasis.caiso.com/oasisapi/SingleZip?resultformat=6&queryname=PRC_LMP&version=12&market_run_id=DAM&startdatetime=20250407T08%3A00-0000&enddatetime=20250407T08%3A00-0000&grp_type=ALL\n",
      "❌ Download error for 20250406: 429 Client Error: Too Many Requests for url: https://oasis.caiso.com/oasisapi/SingleZip?resultformat=6&queryname=PRC_LMP&version=12&market_run_id=DAM&startdatetime=20250406T08%3A00-0000&enddatetime=20250406T08%3A00-0000&grp_type=ALL\n"
     ]
    },
    {
     "name": "stderr",
     "output_type": "stream",
     "text": [
      "CAISO Parallel:  99%|██████████████████████▊| 1194/1201 [03:12<00:01,  6.79it/s]"
     ]
    },
    {
     "name": "stdout",
     "output_type": "stream",
     "text": [
      "❌ Download error for 20250408: 429 Client Error: Too Many Requests for url: https://oasis.caiso.com/oasisapi/SingleZip?resultformat=6&queryname=PRC_LMP&version=12&market_run_id=DAM&startdatetime=20250408T08%3A00-0000&enddatetime=20250408T08%3A00-0000&grp_type=ALL\n",
      "❌ Download error for 20250410: 429 Client Error: Too Many Requests for url: https://oasis.caiso.com/oasisapi/SingleZip?resultformat=6&queryname=PRC_LMP&version=12&market_run_id=DAM&startdatetime=20250410T08%3A00-0000&enddatetime=20250410T08%3A00-0000&grp_type=ALL\n"
     ]
    },
    {
     "name": "stderr",
     "output_type": "stream",
     "text": [
      "CAISO Parallel: 100%|██████████████████████▉| 1196/1201 [03:12<00:00,  8.36it/s]"
     ]
    },
    {
     "name": "stdout",
     "output_type": "stream",
     "text": [
      "❌ Download error for 20250411: 429 Client Error: Too Many Requests for url: https://oasis.caiso.com/oasisapi/SingleZip?resultformat=6&queryname=PRC_LMP&version=12&market_run_id=DAM&startdatetime=20250411T08%3A00-0000&enddatetime=20250411T08%3A00-0000&grp_type=ALL\n",
      "❌ Download error for 20250412: 429 Client Error: Too Many Requests for url: https://oasis.caiso.com/oasisapi/SingleZip?resultformat=6&queryname=PRC_LMP&version=12&market_run_id=DAM&startdatetime=20250412T08%3A00-0000&enddatetime=20250412T08%3A00-0000&grp_type=ALL\n"
     ]
    },
    {
     "name": "stderr",
     "output_type": "stream",
     "text": [
      "CAISO Parallel: 100%|██████████████████████▉| 1198/1201 [03:12<00:00,  6.13it/s]"
     ]
    },
    {
     "name": "stdout",
     "output_type": "stream",
     "text": [
      "❌ Download error for 20250413: 429 Client Error: Too Many Requests for url: https://oasis.caiso.com/oasisapi/SingleZip?resultformat=6&queryname=PRC_LMP&version=12&market_run_id=DAM&startdatetime=20250413T08%3A00-0000&enddatetime=20250413T08%3A00-0000&grp_type=ALL\n",
      "❌ Download error for 20250414: 429 Client Error: Too Many Requests for url: https://oasis.caiso.com/oasisapi/SingleZip?resultformat=6&queryname=PRC_LMP&version=12&market_run_id=DAM&startdatetime=20250414T08%3A00-0000&enddatetime=20250414T08%3A00-0000&grp_type=ALL\n",
      "❌ Download error for 20250415: 429 Client Error: Too Many Requests for url: https://oasis.caiso.com/oasisapi/SingleZip?resultformat=6&queryname=PRC_LMP&version=12&market_run_id=DAM&startdatetime=20250415T08%3A00-0000&enddatetime=20250415T08%3A00-0000&grp_type=ALL\n"
     ]
    },
    {
     "name": "stderr",
     "output_type": "stream",
     "text": [
      "CAISO Parallel: 100%|███████████████████████| 1201/1201 [03:21<00:00,  5.97it/s]\n"
     ]
    },
    {
     "name": "stdout",
     "output_type": "stream",
     "text": [
      "       INTERVALSTARTTIME_GMT        INTERVALENDTIME_GMT      OPR_DT  OPR_HR  \\\n",
      "0  2022-01-01T08:00:00-00:00  2022-01-01T09:00:00-00:00  2022-01-01       1   \n",
      "1  2022-01-01T16:00:00-00:00  2022-01-01T17:00:00-00:00  2022-01-01       9   \n",
      "2  2022-01-02T05:00:00-00:00  2022-01-02T06:00:00-00:00  2022-01-01      22   \n",
      "3  2022-01-01T22:00:00-00:00  2022-01-01T23:00:00-00:00  2022-01-01      15   \n",
      "4  2022-01-01T15:00:00-00:00  2022-01-01T16:00:00-00:00  2022-01-01       8   \n",
      "\n",
      "   OPR_INTERVAL    NODE_ID_XML        NODE_ID           NODE MARKET_RUN_ID  \\\n",
      "0             0  0096WD_7_N001  0096WD_7_N001  0096WD_7_N001           DAM   \n",
      "1             0  0096WD_7_N001  0096WD_7_N001  0096WD_7_N001           DAM   \n",
      "2             0  0096WD_7_N001  0096WD_7_N001  0096WD_7_N001           DAM   \n",
      "3             0  0096WD_7_N001  0096WD_7_N001  0096WD_7_N001           DAM   \n",
      "4             0  0096WD_7_N001  0096WD_7_N001  0096WD_7_N001           DAM   \n",
      "\n",
      "  LMP_TYPE XML_DATA_ITEM  PNODE_RESMRID GRP_TYPE  POS        MW  GROUP  \n",
      "0      LMP       LMP_PRC  0096WD_7_N001      ALL    1  58.71010      1  \n",
      "1      LMP       LMP_PRC  0096WD_7_N001      ALL    1  53.15619      1  \n",
      "2      LMP       LMP_PRC  0096WD_7_N001      ALL    1  78.62559      1  \n",
      "3      LMP       LMP_PRC  0096WD_7_N001      ALL    1  31.34825      1  \n",
      "4      LMP       LMP_PRC  0096WD_7_N001      ALL    1  75.83383      1  \n"
     ]
    }
   ],
   "source": [
    "import os\n",
    "import io\n",
    "import requests\n",
    "import zipfile\n",
    "import pandas as pd\n",
    "from datetime import datetime, timedelta\n",
    "from tqdm import tqdm\n",
    "from concurrent.futures import ThreadPoolExecutor, as_completed\n",
    "\n",
    "def download_day(date, nodes=None):\n",
    "    \"\"\"Download and extract DAM_LMP CSV for a single day\"\"\"\n",
    "    base_url = \"http://oasis.caiso.com/oasisapi/SingleZip\"\n",
    "    date_str = date.strftime(\"%Y%m%d\")\n",
    "    \n",
    "    params = {\n",
    "        \"resultformat\": \"6\",\n",
    "        \"queryname\": \"PRC_LMP\",\n",
    "        \"version\": \"12\",\n",
    "        \"market_run_id\": \"DAM\",\n",
    "        \"startdatetime\": f\"{date_str}T08:00-0000\",\n",
    "        \"enddatetime\": f\"{date_str}T08:00-0000\",\n",
    "        \"grp_type\": \"ALL\"\n",
    "    }\n",
    "\n",
    "    try:\n",
    "        response = requests.get(base_url, params=params, timeout=60)\n",
    "        response.raise_for_status()\n",
    "    except Exception as e:\n",
    "        print(f\"❌ Download error for {date_str}: {e}\")\n",
    "        return None\n",
    "\n",
    "    try:\n",
    "        with zipfile.ZipFile(io.BytesIO(response.content)) as z:\n",
    "            for name in z.namelist():\n",
    "                if \"DAM_LMP\" in name and name.endswith(\".csv\"):\n",
    "                    with z.open(name) as f:\n",
    "                        df = pd.read_csv(f)\n",
    "                        if nodes is not None:\n",
    "                            df = df[df[\"NODE\"].isin(nodes)]\n",
    "                        return df\n",
    "    except Exception as e:\n",
    "        print(f\"❌ ZIP processing error for {date_str}: {e}\")\n",
    "        return None\n",
    "\n",
    "def fetch_caiso_dam_lmp_parallel(start_date, end_date, nodes=None, max_workers=8):\n",
    "    \"\"\"Parallel downloader for CAISO DAM_LMP data\"\"\"\n",
    "    start_dt = datetime.strptime(start_date, \"%Y-%m-%d\")\n",
    "    end_dt = datetime.strptime(end_date, \"%Y-%m-%d\")\n",
    "    date_list = [start_dt + timedelta(days=i) for i in range((end_dt - start_dt).days + 1)]\n",
    "\n",
    "    all_data = []\n",
    "\n",
    "    with ThreadPoolExecutor(max_workers=max_workers) as executor:\n",
    "        futures = {executor.submit(download_day, date, nodes): date for date in date_list}\n",
    "        for future in tqdm(as_completed(futures), total=len(futures), desc=\"CAISO Parallel\"):\n",
    "            result = future.result()\n",
    "            if result is not None:\n",
    "                all_data.append(result)\n",
    "\n",
    "    return pd.concat(all_data, ignore_index=True) if all_data else pd.DataFrame()\n",
    "\n",
    "# Example usage\n",
    "if __name__ == \"__main__\":\n",
    "    df = fetch_caiso_dam_lmp_parallel(\n",
    "        start_date=\"2023-01-01\",\n",
    "        end_date=\"2024-01-01\",  # Or None for all nodes\n",
    "        max_workers=6  # Tune based on your internet speed / CPU\n",
    "    )\n",
    "\n",
    "    print(df.head())\n",
    "    df.to_csv(\"caiso_dam_lmp_parallel.csv\", index=False)\n"
   ]
  }
 ],
 "metadata": {
  "kernelspec": {
   "display_name": "Python 3 (ipykernel)",
   "language": "python",
   "name": "python3"
  },
  "language_info": {
   "codemirror_mode": {
    "name": "ipython",
    "version": 3
   },
   "file_extension": ".py",
   "mimetype": "text/x-python",
   "name": "python",
   "nbconvert_exporter": "python",
   "pygments_lexer": "ipython3",
   "version": "3.11.8"
  }
 },
 "nbformat": 4,
 "nbformat_minor": 5
}

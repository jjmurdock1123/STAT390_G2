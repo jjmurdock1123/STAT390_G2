{
 "cells": [
  {
   "cell_type": "code",
   "execution_count": 5,
   "id": "65ff07ed-f856-4c35-9fed-fc67d822190a",
   "metadata": {
    "tags": []
   },
   "outputs": [
    {
     "name": "stdout",
     "output_type": "stream",
     "text": [
      "✅ Loaded 3836736 rows.\n",
      "✅ Reformatted file saved to cleaned_caiso_data.csv\n"
     ]
    }
   ],
   "source": [
    "import pandas as pd\n",
    "\n",
    "# Load input file\n",
    "df = pd.read_csv(\"caiso_dam_lmp_parallel.csv\")\n",
    "print(f\"✅ Loaded {len(df)} rows.\")\n",
    "\n",
    "# Create the new formatted dataframe\n",
    "df_new = pd.DataFrame()\n",
    "\n",
    "# Map the columns\n",
    "df_new['timestamp_utc'] = pd.to_datetime(df['INTERVALSTARTTIME_GMT'], errors='coerce')\n",
    "df_new['iso'] = 'CAISO'\n",
    "df_new['Location Name'] = df['NODE']\n",
    "df_new['Location Type'] = 'Node'\n",
    "df_new['LMP'] = df['MW']\n",
    "df_new['MCC'] = pd.NA  # Empty / blank\n",
    "df_new['MLC'] = pd.NA  # Empty / blank\n",
    "\n",
    "# Save the new dataframe\n",
    "df_new.to_csv(\"cleaned_caiso_data.csv\", index=False)\n",
    "print(f\"✅ Reformatted file saved to cleaned_caiso_data.csv\")"
   ]
  },
  {
   "cell_type": "code",
   "execution_count": 6,
   "id": "d1ca4491-3558-4d49-b0b5-e037a42d962e",
   "metadata": {
    "tags": []
   },
   "outputs": [],
   "source": [
    "df = pd.read_csv(\"cleaned_caiso_data.csv\")"
   ]
  },
  {
   "cell_type": "code",
   "execution_count": 10,
   "id": "2fe394f0-4eb0-4bd0-9e03-44168734eba0",
   "metadata": {
    "tags": []
   },
   "outputs": [
    {
     "data": {
      "text/html": [
       "<div>\n",
       "<style scoped>\n",
       "    .dataframe tbody tr th:only-of-type {\n",
       "        vertical-align: middle;\n",
       "    }\n",
       "\n",
       "    .dataframe tbody tr th {\n",
       "        vertical-align: top;\n",
       "    }\n",
       "\n",
       "    .dataframe thead th {\n",
       "        text-align: right;\n",
       "    }\n",
       "</style>\n",
       "<table border=\"1\" class=\"dataframe\">\n",
       "  <thead>\n",
       "    <tr style=\"text-align: right;\">\n",
       "      <th></th>\n",
       "      <th>timestamp_utc</th>\n",
       "      <th>iso</th>\n",
       "      <th>Location Name</th>\n",
       "      <th>Location Type</th>\n",
       "      <th>LMP</th>\n",
       "      <th>MCC</th>\n",
       "      <th>MLC</th>\n",
       "    </tr>\n",
       "  </thead>\n",
       "  <tbody>\n",
       "    <tr>\n",
       "      <th>0</th>\n",
       "      <td>2023-01-05 20:00:00+00:00</td>\n",
       "      <td>CAISO</td>\n",
       "      <td>0096WD_7_N001</td>\n",
       "      <td>Node</td>\n",
       "      <td>168.85721</td>\n",
       "      <td>NaN</td>\n",
       "      <td>NaN</td>\n",
       "    </tr>\n",
       "    <tr>\n",
       "      <th>1</th>\n",
       "      <td>2023-01-05 23:00:00+00:00</td>\n",
       "      <td>CAISO</td>\n",
       "      <td>0096WD_7_N001</td>\n",
       "      <td>Node</td>\n",
       "      <td>185.72755</td>\n",
       "      <td>NaN</td>\n",
       "      <td>NaN</td>\n",
       "    </tr>\n",
       "    <tr>\n",
       "      <th>2</th>\n",
       "      <td>2023-01-05 08:00:00+00:00</td>\n",
       "      <td>CAISO</td>\n",
       "      <td>0096WD_7_N001</td>\n",
       "      <td>Node</td>\n",
       "      <td>154.94614</td>\n",
       "      <td>NaN</td>\n",
       "      <td>NaN</td>\n",
       "    </tr>\n",
       "    <tr>\n",
       "      <th>3</th>\n",
       "      <td>2023-01-06 04:00:00+00:00</td>\n",
       "      <td>CAISO</td>\n",
       "      <td>0096WD_7_N001</td>\n",
       "      <td>Node</td>\n",
       "      <td>196.38504</td>\n",
       "      <td>NaN</td>\n",
       "      <td>NaN</td>\n",
       "    </tr>\n",
       "    <tr>\n",
       "      <th>4</th>\n",
       "      <td>2023-01-06 03:00:00+00:00</td>\n",
       "      <td>CAISO</td>\n",
       "      <td>0096WD_7_N001</td>\n",
       "      <td>Node</td>\n",
       "      <td>200.08688</td>\n",
       "      <td>NaN</td>\n",
       "      <td>NaN</td>\n",
       "    </tr>\n",
       "  </tbody>\n",
       "</table>\n",
       "</div>"
      ],
      "text/plain": [
       "               timestamp_utc    iso  Location Name Location Type        LMP  \\\n",
       "0  2023-01-05 20:00:00+00:00  CAISO  0096WD_7_N001          Node  168.85721   \n",
       "1  2023-01-05 23:00:00+00:00  CAISO  0096WD_7_N001          Node  185.72755   \n",
       "2  2023-01-05 08:00:00+00:00  CAISO  0096WD_7_N001          Node  154.94614   \n",
       "3  2023-01-06 04:00:00+00:00  CAISO  0096WD_7_N001          Node  196.38504   \n",
       "4  2023-01-06 03:00:00+00:00  CAISO  0096WD_7_N001          Node  200.08688   \n",
       "\n",
       "   MCC  MLC  \n",
       "0  NaN  NaN  \n",
       "1  NaN  NaN  \n",
       "2  NaN  NaN  \n",
       "3  NaN  NaN  \n",
       "4  NaN  NaN  "
      ]
     },
     "execution_count": 10,
     "metadata": {},
     "output_type": "execute_result"
    }
   ],
   "source": [
    "df.head()"
   ]
  },
  {
   "cell_type": "code",
   "execution_count": null,
   "id": "d10c3fef-4a60-490f-9c12-f109cc7970ca",
   "metadata": {},
   "outputs": [],
   "source": []
  }
 ],
 "metadata": {
  "kernelspec": {
   "display_name": "Python 3 (ipykernel)",
   "language": "python",
   "name": "python3"
  },
  "language_info": {
   "codemirror_mode": {
    "name": "ipython",
    "version": 3
   },
   "file_extension": ".py",
   "mimetype": "text/x-python",
   "name": "python",
   "nbconvert_exporter": "python",
   "pygments_lexer": "ipython3",
   "version": "3.11.3"
  }
 },
 "nbformat": 4,
 "nbformat_minor": 5
}

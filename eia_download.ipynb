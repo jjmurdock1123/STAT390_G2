{
 "cells": [
  {
   "cell_type": "code",
   "execution_count": 4,
   "id": "e75979b7-38ed-4ed3-87a8-de889299841b",
   "metadata": {},
   "outputs": [
    {
     "name": "stdout",
     "output_type": "stream",
     "text": [
      "Downloaded: ice_electric-2022final.xlsx\n",
      "Downloaded: ice_electric-2023final.xlsx\n",
      "Downloaded: ice_electric-2024final.xlsx\n"
     ]
    }
   ],
   "source": [
    "import requests\n",
    "import os\n",
    "\n",
    "# Define the base URL and the list of file names\n",
    "base_url = \"https://www.eia.gov/electricity/wholesale/xls/archive/\"\n",
    "file_names = [\n",
    "    \"ice_electric-2022final.xlsx\",\n",
    "    \"ice_electric-2023final.xlsx\",\n",
    "    \"ice_electric-2024final.xlsx\"\n",
    "]\n",
    "\n",
    "# Directory where the files will be saved\n",
    "save_dir = 'Wholesale_Pricing_Data'\n",
    "\n",
    "# Loop to download each file\n",
    "for file_name in file_names:\n",
    "    full_url = base_url + file_name\n",
    "    response = requests.get(full_url)\n",
    "\n",
    "    if response.status_code == 200:\n",
    "        file_path = os.path.join(save_dir, file_name)\n",
    "        with open(file_path, \"wb\") as f:\n",
    "            f.write(response.content)\n",
    "        print(f\"Downloaded: {file_name}\")\n",
    "    else:\n",
    "        print(f\"Failed to download: {file_name} (Status code: {response.status_code})\")"
   ]
  }
 ],
 "metadata": {
  "kernelspec": {
   "display_name": "Python [conda env:base] *",
   "language": "python",
   "name": "conda-base-py"
  },
  "language_info": {
   "codemirror_mode": {
    "name": "ipython",
    "version": 3
   },
   "file_extension": ".py",
   "mimetype": "text/x-python",
   "name": "python",
   "nbconvert_exporter": "python",
   "pygments_lexer": "ipython3",
   "version": "3.12.7"
  }
 },
 "nbformat": 4,
 "nbformat_minor": 5
}

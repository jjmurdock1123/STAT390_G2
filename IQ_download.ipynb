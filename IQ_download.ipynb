{
 "cells": [
  {
   "cell_type": "code",
   "execution_count": 1,
   "id": "9feadcc5",
   "metadata": {},
   "outputs": [
    {
     "name": "stderr",
     "output_type": "stream",
     "text": [
      "/var/folders/s5/3y73n7d966b04_w4__8xvr3c0000gn/T/ipykernel_23499/4020531189.py:13: DeprecationWarning: headless property is deprecated, instead use add_argument('--headless') or add_argument('--headless=new')\n",
      "  opts.headless = True\n",
      "/var/folders/s5/3y73n7d966b04_w4__8xvr3c0000gn/T/ipykernel_23499/4020531189.py:14: DeprecationWarning: executable_path has been deprecated, please pass in a Service object\n",
      "  driver = webdriver.Chrome(ChromeDriverManager().install(), options=opts)\n"
     ]
    }
   ],
   "source": [
    "from selenium import webdriver\n",
    "from selenium.webdriver.chrome.options import Options\n",
    "from selenium.webdriver.common.by import By\n",
    "from webdriver_manager.chrome import ChromeDriverManager\n",
    "import requests\n",
    "import time\n",
    "\n",
    "def scrape(month, year):\n",
    "    # Berkeley Lab website\n",
    "    base_url = 'https://emp.lbl.gov/queues'\n",
    "\n",
    "    opts = Options()\n",
    "    opts.headless = True\n",
    "    driver = webdriver.Chrome(ChromeDriverManager().install(), options=opts)\n",
    "\n",
    "    driver.get(base_url)\n",
    "    time.sleep(3)\n",
    "    \n",
    "    # proxy for general file url\n",
    "    file_url = (\n",
    "        'https://emp.lbl.gov/sites/default/files/'\n",
    "        + year + '-' + month +\n",
    "        '/queues_'\n",
    "        + str(int(year)-1) + '_clean_data_r1.xlsx'\n",
    "    )\n",
    "\n",
    "    resp = requests.get(file_url, headers={\n",
    "        \"User-Agent\": \"Mozilla/5.0 (Windows NT 10.0; Win64; x64)\"\n",
    "    })\n",
    "    resp.raise_for_status()\n",
    "\n",
    "    filename = 'queues_' + year + '.xlsx'\n",
    "    with open(filename, 'wb') as f:\n",
    "        f.write(resp.content)\n",
    "\n",
    "if __name__ == \"__main__\":\n",
    "    scrape('04', '2024')"
   ]
  }
 ],
 "metadata": {
  "kernelspec": {
   "display_name": "base",
   "language": "python",
   "name": "python3"
  },
  "language_info": {
   "codemirror_mode": {
    "name": "ipython",
    "version": 3
   },
   "file_extension": ".py",
   "mimetype": "text/x-python",
   "name": "python",
   "nbconvert_exporter": "python",
   "pygments_lexer": "ipython3",
   "version": "3.9.12"
  }
 },
 "nbformat": 4,
 "nbformat_minor": 5
}

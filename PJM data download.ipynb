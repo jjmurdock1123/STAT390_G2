{
 "cells": [
  {
   "cell_type": "code",
   "execution_count": 2,
   "id": "af1b6eb3-89cf-4c70-a3d7-6baaef40c389",
   "metadata": {
    "tags": []
   },
   "outputs": [
    {
     "name": "stdout",
     "output_type": "stream",
     "text": [
      "🌐 Opened PJM site for 2024-03-01...\n",
      "📅 Dates injected.\n",
      "📨 Submitted.\n",
      "❌ Error downloading 2024-03-01: 'NoneType' object has no attribute 'is_displayed'\n"
     ]
    }
   ],
   "source": [
    "import os\n",
    "import time\n",
    "import shutil\n",
    "from selenium import webdriver\n",
    "from selenium.webdriver.chrome.options import Options\n",
    "from selenium.webdriver.common.by import By\n",
    "from selenium.webdriver.support.ui import WebDriverWait\n",
    "from selenium.webdriver.support import expected_conditions as EC\n",
    "\n",
    "def setup_driver(download_dir):\n",
    "    options = Options()\n",
    "    options.add_experimental_option(\"prefs\", {\n",
    "        \"download.default_directory\": os.path.abspath(download_dir),\n",
    "        \"download.prompt_for_download\": False,\n",
    "        \"directory_upgrade\": True,\n",
    "        \"safebrowsing.enabled\": True\n",
    "    })\n",
    "    options.add_argument(\"--start-maximized\")\n",
    "    return webdriver.Chrome(options=options)\n",
    "\n",
    "def download_pjm_lmp_csv_selenium(date, save_dir=\"pjm_data\"):\n",
    "    \"\"\"\n",
    "    Download PJM Day-Ahead Hourly LMPs for a specific date (YYYY-MM-DD) using Selenium.\n",
    "    \"\"\"\n",
    "    os.makedirs(save_dir, exist_ok=True)\n",
    "    driver = setup_driver(save_dir)\n",
    "    wait = WebDriverWait(driver, 60)\n",
    "\n",
    "    try:\n",
    "        driver.get(\"https://dataminer2.pjm.com/feed/da_hrl_lmps\")\n",
    "        print(f\"🌐 Opened PJM site for {date}...\")\n",
    "\n",
    "        # Find the Start Date and End Date inputs\n",
    "        input_fields = wait.until(EC.presence_of_all_elements_located((By.XPATH, \"//input[@type='text']\")))\n",
    "        if len(input_fields) < 2:\n",
    "            raise Exception(\"❌ Could not find date fields.\")\n",
    "\n",
    "        # Set start and end dates via JavaScript\n",
    "        driver.execute_script(f\"\"\"\n",
    "            const inputs = document.querySelectorAll(\"input[type='text']\");\n",
    "            if (inputs.length >= 2) {{\n",
    "                inputs[0].value = '{date}';\n",
    "                inputs[1].value = '{date}';\n",
    "            }}\n",
    "        \"\"\")\n",
    "\n",
    "        print(\"📅 Dates injected.\")\n",
    "\n",
    "        # Click Submit\n",
    "        submit_btn = wait.until(EC.element_to_be_clickable((By.XPATH, \"//button[text()='Submit']\")))\n",
    "        submit_btn.click()\n",
    "        print(\"📨 Submitted.\")\n",
    "\n",
    "        # Click Export\n",
    "        export_btn = wait.until(EC.element_to_be_clickable((By.XPATH, \"//button[text()='Export']\")))\n",
    "        time.sleep(10)\n",
    "        export_btn.click()\n",
    "        print(\"⬇️ Export triggered.\")\n",
    "\n",
    "        # Wait for download to complete and rename the file\n",
    "        for _ in range(60):\n",
    "            for fname in os.listdir(save_dir):\n",
    "                if fname.endswith(\".csv\") and not fname.endswith(\".crdownload\"):\n",
    "                    old_path = os.path.join(save_dir, fname)\n",
    "                    new_path = os.path.join(save_dir, f\"pjm_lmp_{date}.csv\")\n",
    "                    shutil.move(old_path, new_path)\n",
    "                    print(f\"✅ Downloaded and saved as: {new_path}\")\n",
    "                    return new_path\n",
    "            time.sleep(2)\n",
    "\n",
    "        print(\"❌ Download timeout.\")\n",
    "        return None\n",
    "\n",
    "    except Exception as e:\n",
    "        print(f\"❌ Error downloading {date}: {e}\")\n",
    "        return None\n",
    "    finally:\n",
    "        driver.quit()\n",
    "\n",
    "# Example usage\n",
    "if __name__ == \"__main__\":\n",
    "    download_pjm_lmp_csv_selenium(\"2024-03-01\")\n"
   ]
  },
  {
   "cell_type": "code",
   "execution_count": null,
   "id": "b0ea64ac-e840-4442-9a0e-f3d8633d483c",
   "metadata": {},
   "outputs": [],
   "source": []
  }
 ],
 "metadata": {
  "kernelspec": {
   "display_name": "Python 3 (ipykernel)",
   "language": "python",
   "name": "python3"
  },
  "language_info": {
   "codemirror_mode": {
    "name": "ipython",
    "version": 3
   },
   "file_extension": ".py",
   "mimetype": "text/x-python",
   "name": "python",
   "nbconvert_exporter": "python",
   "pygments_lexer": "ipython3",
   "version": "3.11.3"
  }
 },
 "nbformat": 4,
 "nbformat_minor": 5
}

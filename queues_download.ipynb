{
 "cells": [
  {
   "cell_type": "code",
   "execution_count": 13,
   "id": "9feadcc5",
   "metadata": {},
   "outputs": [
    {
     "name": "stderr",
     "output_type": "stream",
     "text": [
      "/var/folders/s5/3y73n7d966b04_w4__8xvr3c0000gn/T/ipykernel_81748/2715277200.py:13: DeprecationWarning: headless property is deprecated, instead use add_argument('--headless') or add_argument('--headless=new')\n",
      "  opts.headless = True\n",
      "/var/folders/s5/3y73n7d966b04_w4__8xvr3c0000gn/T/ipykernel_81748/2715277200.py:14: DeprecationWarning: executable_path has been deprecated, please pass in a Service object\n",
      "  driver = webdriver.Chrome(ChromeDriverManager().install(), options=opts)\n"
     ]
    }
   ],
   "source": [
    "from selenium import webdriver\n",
    "from selenium.webdriver.chrome.options import Options\n",
    "from selenium.webdriver.common.by import By\n",
    "from webdriver_manager.chrome import ChromeDriverManager\n",
    "import requests\n",
    "import time\n",
    "\n",
    "def scrape(month, year):\n",
    "    # Berkeley Lab website\n",
    "    base_url = 'https://emp.lbl.gov/queues'\n",
    "\n",
    "    opts = Options()\n",
    "    opts.headless = True\n",
    "    driver = webdriver.Chrome(ChromeDriverManager().install(), options=opts)\n",
    "\n",
    "    driver.get(base_url)\n",
    "    time.sleep(3)\n",
    "    \n",
    "    # proxy for general file url\n",
    "    file_url = (\n",
    "        'https://emp.lbl.gov/sites/default/files/'\n",
    "        + year + '-' + month +\n",
    "        '/queues_'\n",
    "        + str(int(year)-1) + '_clean_data_r1.xlsx'\n",
    "    )\n",
    "\n",
    "    resp = requests.get(file_url, headers={\n",
    "        \"User-Agent\": \"Mozilla/5.0 (Windows NT 10.0; Win64; x64)\"\n",
    "    })\n",
    "    resp.raise_for_status()\n",
    "\n",
    "    filename = 'queues_' + year + '.xlsx'\n",
    "    with open(filename, 'wb') as f:\n",
    "        f.write(resp.content)\n",
    "\n",
    "if __name__ == \"__main__\":\n",
    "    scrape('04', '2024')"
   ]
  },
  {
   "cell_type": "code",
   "execution_count": 2,
   "id": "a2bafaad",
   "metadata": {},
   "outputs": [
    {
     "name": "stderr",
     "output_type": "stream",
     "text": [
      "/var/folders/s5/3y73n7d966b04_w4__8xvr3c0000gn/T/ipykernel_84333/4248358052.py:16: DeprecationWarning: headless property is deprecated, instead use add_argument('--headless') or add_argument('--headless=new')\n",
      "  opts.headless = True\n",
      "/var/folders/s5/3y73n7d966b04_w4__8xvr3c0000gn/T/ipykernel_84333/4248358052.py:17: DeprecationWarning: executable_path has been deprecated, please pass in a Service object\n",
      "  driver = webdriver.Chrome(ChromeDriverManager().install(), options=opts)\n"
     ]
    },
    {
     "ename": "AttributeError",
     "evalue": "'WebDriver' object has no attribute 'find_element_by_partial_link_text'",
     "output_type": "error",
     "traceback": [
      "\u001b[0;31m---------------------------------------------------------------------------\u001b[0m",
      "\u001b[0;31mAttributeError\u001b[0m                            Traceback (most recent call last)",
      "Input \u001b[0;32mIn [2]\u001b[0m, in \u001b[0;36m<cell line: 19>\u001b[0;34m()\u001b[0m\n\u001b[1;32m     22\u001b[0m time\u001b[38;5;241m.\u001b[39msleep(\u001b[38;5;241m3\u001b[39m)  \u001b[38;5;66;03m# give the page a moment to load\u001b[39;00m\n\u001b[1;32m     24\u001b[0m \u001b[38;5;66;03m# --- 3) Find the link to the Excel file ---\u001b[39;00m\n\u001b[0;32m---> 25\u001b[0m link_el \u001b[38;5;241m=\u001b[39m \u001b[43mdriver\u001b[49m\u001b[38;5;241;43m.\u001b[39;49m\u001b[43mfind_element_by_partial_link_text\u001b[49m(\u001b[38;5;124m\"\u001b[39m\u001b[38;5;124mqueues_2023_clean_data_r1.xlsx\u001b[39m\u001b[38;5;124m\"\u001b[39m)\n\u001b[1;32m     26\u001b[0m file_url \u001b[38;5;241m=\u001b[39m link_el\u001b[38;5;241m.\u001b[39mget_attribute(\u001b[38;5;124m\"\u001b[39m\u001b[38;5;124mhref\u001b[39m\u001b[38;5;124m\"\u001b[39m)\n\u001b[1;32m     27\u001b[0m \u001b[38;5;28mprint\u001b[39m(\u001b[38;5;124m\"\u001b[39m\u001b[38;5;124mFound file URL:\u001b[39m\u001b[38;5;124m\"\u001b[39m, file_url)\n",
      "\u001b[0;31mAttributeError\u001b[0m: 'WebDriver' object has no attribute 'find_element_by_partial_link_text'"
     ]
    }
   ],
   "source": [
    "from selenium import webdriver\n",
    "from selenium.webdriver.chrome.options import Options\n",
    "from webdriver_manager.chrome import ChromeDriverManager\n",
    "import time\n",
    "import requests\n",
    "import os\n",
    "\n",
    "# --- Config ---\n",
    "base_url = \"https://emp.lbl.gov/queues\"\n",
    "download_dir = os.path.abspath(\"downloads\")\n",
    "os.makedirs(download_dir, exist_ok=True)\n",
    "output_filename = \"queues_2023_clean_data_r1.xlsx\"\n",
    "\n",
    "# --- 1) Start headless Chrome with ChromeDriverManager ---\n",
    "opts = Options()\n",
    "opts.headless = True\n",
    "driver = webdriver.Chrome(ChromeDriverManager().install(), options=opts)\n",
    "\n",
    "try:\n",
    "    # --- 2) Load the page and wait briefly for JS to render ---\n",
    "    driver.get(base_url)\n",
    "    time.sleep(3)  # give the page a moment to load\n",
    "\n",
    "    # --- 3) Find the link to the Excel file ---\n",
    "    link_el = driver.find_element_by_partial_link_text(\"queues_2023_clean_data_r1.xlsx\")\n",
    "    file_url = link_el.get_attribute(\"href\")\n",
    "    print(\"Found file URL:\", file_url)\n",
    "\n",
    "finally:\n",
    "    driver.quit()\n",
    "\n",
    "# --- 4) Download via requests ---\n",
    "local_path = os.path.join(download_dir, output_filename)\n",
    "resp = requests.get(file_url, stream=True)\n",
    "resp.raise_for_status()\n",
    "with open(local_path, \"wb\") as f:\n",
    "    for chunk in resp.iter_content(8192):\n",
    "        f.write(chunk)\n",
    "\n",
    "print(f\"✅ Download complete: {local_path}\")"
   ]
  },
  {
   "cell_type": "code",
   "execution_count": null,
   "id": "b0c8c56f",
   "metadata": {},
   "outputs": [],
   "source": []
  }
 ],
 "metadata": {
  "kernelspec": {
   "display_name": "Python 3 (ipykernel)",
   "language": "python",
   "name": "python3"
  },
  "language_info": {
   "codemirror_mode": {
    "name": "ipython",
    "version": 3
   },
   "file_extension": ".py",
   "mimetype": "text/x-python",
   "name": "python",
   "nbconvert_exporter": "python",
   "pygments_lexer": "ipython3",
   "version": "3.9.12"
  }
 },
 "nbformat": 4,
 "nbformat_minor": 5
}

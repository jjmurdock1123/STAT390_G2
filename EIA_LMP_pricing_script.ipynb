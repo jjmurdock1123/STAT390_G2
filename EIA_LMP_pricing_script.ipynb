{
 "cells": [
  {
   "cell_type": "code",
   "execution_count": 23,
   "id": "c15cd1bf-03fe-414d-86c5-3253ae445be4",
   "metadata": {},
   "outputs": [
    {
     "name": "stdin",
     "output_type": "stream",
     "text": [
      "Enter RTO/ISO (e.g., PJM, MISO):  PJM\n",
      "Enter Year (e.g., 2022):  2022\n"
     ]
    },
    {
     "name": "stdout",
     "output_type": "stream",
     "text": [
      "Checking: https://www.eia.gov/electricity/wholesalemarkets/csv/pjm_lmp_da_hr_zones_2022.csv\n",
      "✅ Downloaded and saved: lmp_data/pjm_lmp_da_hr_zones_2022.csv\n",
      "Checking: https://www.eia.gov/electricity/wholesalemarkets/csv/pjm_lmp_da_hr_interfaces_2022.csv\n",
      "✅ Downloaded and saved: lmp_data/pjm_lmp_da_hr_interfaces_2022.csv\n",
      "Checking: https://www.eia.gov/electricity/wholesalemarkets/csv/pjm_lmp_da_hr_hubs_2022.csv\n",
      "✅ Downloaded and saved: lmp_data/pjm_lmp_da_hr_hubs_2022.csv\n"
     ]
    }
   ],
   "source": [
    "import os\n",
    "import requests\n",
    "\n",
    "RTO_ISO_CODES = {\n",
    "    'PJM': 'pjm',\n",
    "    'MISO': 'miso',\n",
    "    'ERCOT': 'ercot',\n",
    "    'CAISO': 'caiso',\n",
    "    'NYISO': 'nyiso',\n",
    "    'ISO-NE': 'isone',\n",
    "    'SPP': 'spp'\n",
    "}\n",
    "\n",
    "# Try all suffixes — EIA commonly uses these\n",
    "SUFFIXES = [\"zones\", \"interfaces\", \"hubs\"]\n",
    "\n",
    "def download_all_lmp_files(rto_iso: str, year: int, save_dir: str = \"lmp_data\"):\n",
    "    \"\"\"\n",
    "    Attempts to download all LMP data files (by suffix) for a given RTO/ISO and year.\n",
    "\n",
    "    Parameters:\n",
    "    - rto_iso (str): ISO name (e.g., 'PJM', 'MISO')\n",
    "    - year (int): Year of the dataset (e.g., 2022)\n",
    "    - save_dir (str): Local directory to save the files\n",
    "    \"\"\"\n",
    "    rto_iso_lower = RTO_ISO_CODES.get(rto_iso.upper())\n",
    "    if not rto_iso_lower:\n",
    "        raise ValueError(f\"Unsupported RTO/ISO: {rto_iso}\")\n",
    "\n",
    "    os.makedirs(save_dir, exist_ok=True)\n",
    "\n",
    "    for suffix in SUFFIXES:\n",
    "        filename = f\"{rto_iso_lower}_lmp_da_hr_{suffix}_{year}.csv\"\n",
    "        url = f\"https://www.eia.gov/electricity/wholesalemarkets/csv/{filename}\"\n",
    "        file_path = os.path.join(save_dir, filename)\n",
    "\n",
    "        print(f\"Checking: {url}\")\n",
    "        response = requests.get(url)\n",
    "        if response.status_code == 200:\n",
    "            with open(file_path, 'wb') as f:\n",
    "                f.write(response.content)\n",
    "            print(f\"✅ Downloaded and saved: {file_path}\")\n",
    "        else:\n",
    "            print(f\"❌ Not found: {url} (status {response.status_code})\")\n",
    "\n",
    "# Example usage\n",
    "if __name__ == \"__main__\":\n",
    "    rto_iso_input = input(\"Enter RTO/ISO (e.g., PJM, MISO): \").strip()\n",
    "    year_input = int(input(\"Enter Year (e.g., 2022): \").strip())\n",
    "\n",
    "    download_all_lmp_files(rto_iso_input, year_input)\n",
    "\n"
   ]
  }
 ],
 "metadata": {
  "kernelspec": {
   "display_name": "Python 3 (ipykernel)",
   "language": "python",
   "name": "python3"
  },
  "language_info": {
   "codemirror_mode": {
    "name": "ipython",
    "version": 3
   },
   "file_extension": ".py",
   "mimetype": "text/x-python",
   "name": "python",
   "nbconvert_exporter": "python",
   "pygments_lexer": "ipython3",
   "version": "3.11.8"
  }
 },
 "nbformat": 4,
 "nbformat_minor": 5
}

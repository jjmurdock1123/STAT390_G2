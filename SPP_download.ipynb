{
 "cells": [
  {
   "cell_type": "code",
   "execution_count": null,
   "id": "c80e2b56-5333-46b8-b644-2296db761dad",
   "metadata": {
    "tags": []
   },
   "outputs": [
    {
     "name": "stdout",
     "output_type": "stream",
     "text": [
      ":globe_with_meridians: Opening SPP LMP Portal...\n",
      ":mag: Searching for: 2024\n",
      ":receipt: Found 1 element(s) with '2024'\n",
      ":mag_right: Trying: <span> → '2024'\n",
      ":white_check_mark: Clicked on: 2024\n",
      ":mag: Searching for: 01\n",
      ":receipt: Found 2 element(s) with '01'\n",
      ":mag_right: Trying: <span> → '01'\n",
      ":white_check_mark: Clicked on: 01\n",
      ":mag: Searching for: DA-LMP-MONTHLY-SL-202401.csv\n",
      ":receipt: Found 1 element(s) with 'DA-LMP-MONTHLY-SL-202401.csv'\n",
      ":mag_right: Trying: <div> → 'DA-LMP-MONTHLY-SL-202401.csv'\n",
      ":white_check_mark: Clicked on: DA-LMP-MONTHLY-SL-202401.csv\n",
      ":hourglass_flowing_sand: Waiting for download: DA-LMP-MONTHLY-SL-202401.csv\n",
      ":white_check_mark: Download complete: DA-LMP-MONTHLY-SL-202401.csv\n"
     ]
    },
    {
     "name": "stdout",
     "output_type": "stream",
     "text": [
      ":mag: Press Enter to quit browser... \n"
     ]
    }
   ],
   "source": [
    "import os\n",
    "import time\n",
    "from selenium import webdriver\n",
    "from selenium.webdriver.chrome.options import Options\n",
    "from selenium.webdriver.common.by import By\n",
    "from selenium.webdriver.support.ui import WebDriverWait\n",
    "from selenium.webdriver.support import expected_conditions as EC\n",
    "def setup_driver(download_dir):\n",
    "    options = Options()\n",
    "    options.add_experimental_option(\"prefs\", {\n",
    "        \"download.default_directory\": os.path.abspath(download_dir),\n",
    "        \"download.prompt_for_download\": False,\n",
    "        \"directory_upgrade\": True,\n",
    "        \"safebrowsing.enabled\": True\n",
    "    })\n",
    "    options.add_argument(\"--start-maximized\")\n",
    "    return webdriver.Chrome(options=options)\n",
    "def click_folder(driver, label_text):\n",
    "    try:\n",
    "        print(f\":mag: Searching for: {label_text}\")\n",
    "        xpath = f\"//*[contains(text(), '{label_text}')]\"\n",
    "        elements = driver.find_elements(By.XPATH, xpath)\n",
    "        print(f\":receipt: Found {len(elements)} element(s) with '{label_text}'\")\n",
    "        for el in elements:\n",
    "            try:\n",
    "                print(f\":mag_right: Trying: <{el.tag_name}> → '{el.text.strip()}'\")\n",
    "                driver.execute_script(\"arguments[0].scrollIntoView(true);\", el)\n",
    "                time.sleep(1)\n",
    "                el.click()\n",
    "                print(f\":white_check_mark: Clicked on: {label_text}\")\n",
    "                return True\n",
    "            except Exception as e:\n",
    "                print(f\":warning: Failed to click: {e}\")\n",
    "        raise Exception(\"No clickable element worked.\")\n",
    "    except Exception as e:\n",
    "        print(f\":x: Failed to click '{label_text}': {e}\")\n",
    "        return False\n",
    "def wait_for_download(download_dir, filename, timeout=120):\n",
    "    print(f\":hourglass_flowing_sand: Waiting for download: {filename}\")\n",
    "    for _ in range(timeout):\n",
    "        files = os.listdir(download_dir)\n",
    "        if filename in files and not filename.endswith(\".crdownload\"):\n",
    "            print(f\":white_check_mark: Download complete: {filename}\")\n",
    "            return True\n",
    "        time.sleep(2)\n",
    "    print(\":x: Download timed out.\")\n",
    "    return False\n",
    "def main():\n",
    "    year = \"2024\"\n",
    "    month = \"01\"\n",
    "    filename = f\"DA-LMP-MONTHLY-SL-{year}{month}.csv\"\n",
    "    download_dir = os.path.join(os.getcwd(), \"spp_downloads\")\n",
    "    os.makedirs(download_dir, exist_ok=True)\n",
    "    driver = setup_driver(download_dir)\n",
    "    try:\n",
    "        print(\":globe_with_meridians: Opening SPP LMP Portal...\")\n",
    "        driver.get(\"https://portal.spp.org/pages/da-lmp-by-location\")\n",
    "        time.sleep(6)\n",
    "        # Step 1: Click year folder\n",
    "        if not click_folder(driver, year):\n",
    "            raise Exception(\":x: Could not open year folder.\")\n",
    "        time.sleep(3)\n",
    "        # Step 2: Click month folder\n",
    "        if not click_folder(driver, month):\n",
    "            raise Exception(\":x: Could not open month folder.\")\n",
    "        time.sleep(3)\n",
    "        # Step 3: Click the CSV file\n",
    "        if not click_folder(driver, filename):\n",
    "            raise Exception(\":x: Could not find or click the CSV file.\")\n",
    "        # Step 4: Wait for download to complete\n",
    "        if not wait_for_download(download_dir, filename):\n",
    "            raise Exception(\":x: File was not downloaded within the timeout.\")\n",
    "    except Exception as e:\n",
    "        print(f\":octagonal_sign: Error: {e}\")\n",
    "    finally:\n",
    "        input(\":mag: Press Enter to quit browser...\")\n",
    "        driver.quit()\n",
    "if __name__ == \"__main__\":\n",
    "    main()\n",
    "    "
   ]
  }
 ],
 "metadata": {
  "kernelspec": {
   "display_name": "base",
   "language": "python",
   "name": "python3"
  },
  "language_info": {
   "codemirror_mode": {
    "name": "ipython",
    "version": 3
   },
   "file_extension": ".py",
   "mimetype": "text/x-python",
   "name": "python",
   "nbconvert_exporter": "python",
   "pygments_lexer": "ipython3",
   "version": "3.9.12"
  }
 },
 "nbformat": 4,
 "nbformat_minor": 5
}
